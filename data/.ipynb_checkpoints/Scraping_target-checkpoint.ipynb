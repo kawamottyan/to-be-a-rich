{
 "cells": [
  {
   "cell_type": "code",
   "execution_count": null,
   "id": "88056993",
   "metadata": {},
   "outputs": [],
   "source": [
    "#スクレイピング\n",
    "import pandas as pd\n",
    "import numpy as np\n",
    "from bs4 import BeautifulSoup\n",
    "\n",
    "from selenium import webdriver\n",
    "from selenium.webdriver.support.ui import Select,WebDriverWait\n",
    "from selenium.webdriver.support import expected_conditions as EC\n",
    "from selenium.webdriver.chrome.options import Options\n",
    "from selenium.webdriver.common.by import By\n",
    "from webdriver_manager.chrome import ChromeDriverManager\n",
    "import re\n",
    "\n",
    "import os\n",
    "import warnings\n",
    "import time\n",
    "import requests\n",
    "\n",
    "from google.cloud import storage"
   ]
  },
  {
   "cell_type": "code",
   "execution_count": null,
   "id": "77bbc49e",
   "metadata": {},
   "outputs": [],
   "source": [
    "race_id_text = 202309011011"
   ]
  },
  {
   "cell_type": "code",
   "execution_count": null,
   "id": "73646703",
   "metadata": {},
   "outputs": [],
   "source": [
    "#date = 2023年3月16日\n",
    "date_text = \"2023年2月12日\""
   ]
  },
  {
   "cell_type": "code",
   "execution_count": null,
   "id": "27c27c8a",
   "metadata": {},
   "outputs": [],
   "source": [
    "driver = webdriver.Chrome(ChromeDriverManager().install())\n",
    "wait = WebDriverWait(driver,3)\n",
    "\n",
    "URL = \"https://race.netkeiba.com/race/shutuba.html?race_id=202309011011&rf=race_list\"\n",
    "driver.get(URL)\n",
    "time.sleep(1)\n",
    "wait.until(EC.presence_of_all_elements_located)"
   ]
  },
  {
   "cell_type": "code",
   "execution_count": null,
   "id": "6cd255b2",
   "metadata": {},
   "outputs": [],
   "source": [
    "race_data_columns=[\n",
    "    'race_id',\n",
    "    'race_round',\n",
    "    'race_title',\n",
    "    'race_course',\n",
    "    'weather',\n",
    "    'ground_status',\n",
    "    'time',\n",
    "    'date',\n",
    "    'where_racecourse',\n",
    "    'total_horse_number',\n",
    "    'frame_number_first',\n",
    "    'horse_number_first',\n",
    "    'frame_number_second',\n",
    "    'horse_number_second',\n",
    "    'frame_number_third',\n",
    "    'horse_number_third',\n",
    "    'tansyo',\n",
    "    'hukusyo_first',\n",
    "    'hukusyo_second',\n",
    "    'hukusyo_third',\n",
    "    'wakuren',\n",
    "    'umaren',\n",
    "    'wide_1_2',\n",
    "    'wide_1_3',\n",
    "    'wide_2_3',\n",
    "    'umatan',\n",
    "    'renhuku3',\n",
    "    'rentan3'\n",
    "    ]\n",
    "\n",
    "horse_data_columns=[\n",
    "    'race_id',\n",
    "    'rank',\n",
    "    'frame_number',\n",
    "    'horse_number',\n",
    "    'horse_id',\n",
    "    'sex_and_age',\n",
    "    'burden_weight',\n",
    "    'rider_id',\n",
    "    'goal_time',\n",
    "    'goal_time_dif',\n",
    "    'time_value',\n",
    "    'half_way_rank',\n",
    "    'last_time',\n",
    "    'odds',\n",
    "    'popular',\n",
    "    'horse_weight',\n",
    "    'tame_time',\n",
    "    'tamer_id',\n",
    "    'owner_id'\n",
    "]"
   ]
  },
  {
   "cell_type": "code",
   "execution_count": null,
   "id": "6945501d",
   "metadata": {
    "scrolled": true
   },
   "outputs": [],
   "source": [
    "race_round = driver.find_elements(By.CLASS_NAME,'RaceNum')\n",
    "race_round_text = [rr.text for rr in race_round]\n",
    "race_round_text = race_round_text[0]\n",
    "race_title = driver.find_elements(By.CLASS_NAME,'RaceName')\n",
    "race_title_text = [rr.text for rr in race_title]\n",
    "race_title_text = race_title_text[0]"
   ]
  },
  {
   "cell_type": "code",
   "execution_count": null,
   "id": "b52cafd0",
   "metadata": {},
   "outputs": [],
   "source": [
    "race_detail1 = driver.find_elements(By.CLASS_NAME,'RaceData01')\n",
    "race_details1_text = [rr.text for rr in race_detail1]\n",
    "#list\n",
    "race_details1_list = race_details1_text[0].split(' / ')\n",
    "#list0\n",
    "time_text = race_details1_list[0].strip(\"発走\")\n",
    "time_text = '発走 : '+time_text\n",
    "#list1\n",
    "race_details1_list1_list = race_details1_list[1].split(' ')\n",
    "#listlist1\n",
    "race_details1_list1_list_text = str(race_details1_list1_list[0])\n",
    "text = race_details1_list1_list_text\n",
    "match = re.search(r'[^\\d]*(\\D)', text)\n",
    "if match:\n",
    "    ground_type_text = match.group(1)\n",
    "else:\n",
    "    ground_type_text = ''\n",
    "\n",
    "text = race_details1_list1_list_text\n",
    "match = re.search(r'\\d+', text)\n",
    "if match:\n",
    "    distance = match.group()\n",
    "else:\n",
    "    distance = ''\n",
    "distance_int = int(distance)\n",
    "\n",
    "text = race_details1_list1_list_text\n",
    "is_obstacle = 1 if text.startswith('障') else 0\n",
    "is_obstacle_int = int(is_obstacle)\n",
    "\n",
    "is_left_right_straight_text = race_details1_list1_list[1].strip(\"()\")\n",
    "#list2\n",
    "weather_text = race_details1_list[2]\n",
    "#list3\n",
    "ground_status_text = race_details1_list[3]"
   ]
  },
  {
   "cell_type": "code",
   "execution_count": null,
   "id": "cb72f99c",
   "metadata": {},
   "outputs": [],
   "source": [
    "race_details2 = driver.find_elements(By.CLASS_NAME,'RaceData02')\n",
    "race_details2_text = [rr.text for rr in race_details2]\n",
    "race_details2_text = re.sub(' +', ' ', race_details2_text[0])\n",
    "race_details2_list = race_details2_text.split(' ')\n",
    "race_details2_list8_str = str(race_details2_list[8])\n",
    "match = re.match(r'^\\d+', race_details2_list8_str)\n",
    "if match:\n",
    "    race_details2_list[8] = match.group()\n",
    "total_horse_number_text = race_details2_list[8]\n",
    "where_racecourse_text = race_details2_list[0]+race_details2_list[1]+race_details2_list[2]"
   ]
  },
  {
   "cell_type": "code",
   "execution_count": null,
   "id": "91942a06",
   "metadata": {},
   "outputs": [],
   "source": [
    "race_data = []\n",
    "race_data.append({\n",
    "        'race_id':race_id_text,\n",
    "        'race_round': race_round_text,\n",
    "        'race_title':race_title_text,\n",
    "        'weather':weather_text,\n",
    "        'ground_status':ground_status_text,\n",
    "        'time':time_text,\n",
    "        'where_racecourse':where_racecourse_text,\n",
    "        'total_horse_number':total_horse_number_text,\n",
    "        'ground_type':ground_type_text,\n",
    "        'is_left_right_straight':is_left_right_straight_text,\n",
    "        'distance':distance_int,\n",
    "        'is_obstacle':is_obstacle_int,     \n",
    "    })\n",
    "\n",
    "# 辞書のリストをDataFrameに変換する\n",
    "race_df = pd.DataFrame(race_data)"
   ]
  },
  {
   "cell_type": "code",
   "execution_count": null,
   "id": "5d23a27f",
   "metadata": {
    "scrolled": true
   },
   "outputs": [],
   "source": [
    "race_df['date'] = date_text"
   ]
  },
  {
   "cell_type": "code",
   "execution_count": null,
   "id": "8bff69c4",
   "metadata": {},
   "outputs": [],
   "source": [
    "race_df"
   ]
  },
  {
   "cell_type": "markdown",
   "id": "21c8c8ad",
   "metadata": {},
   "source": [
    "##### cleaning"
   ]
  },
  {
   "cell_type": "code",
   "execution_count": null,
   "id": "bea2fd31",
   "metadata": {},
   "outputs": [],
   "source": [
    "race_df.info()"
   ]
  },
  {
   "cell_type": "code",
   "execution_count": null,
   "id": "869f45ef",
   "metadata": {},
   "outputs": [],
   "source": [
    "race_df['race_round'] = race_df['race_round'].str.strip('R \\n')"
   ]
  },
  {
   "cell_type": "code",
   "execution_count": null,
   "id": "45846aad",
   "metadata": {},
   "outputs": [],
   "source": [
    "race_df['race_round'] = race_df['race_round'].astype(int)"
   ]
  },
  {
   "cell_type": "code",
   "execution_count": null,
   "id": "99614e9e",
   "metadata": {
    "scrolled": true
   },
   "outputs": [],
   "source": [
    "race_df[\"where_racecourse\"] = race_df[\"where_racecourse\"].str.replace('\\d*回(..)\\d*日目', r'\\1')"
   ]
  },
  {
   "cell_type": "code",
   "execution_count": null,
   "id": "3f3891f0",
   "metadata": {},
   "outputs": [],
   "source": [
    "race_df['weather'] = race_df['weather'].str.strip('天候 :')"
   ]
  },
  {
   "cell_type": "code",
   "execution_count": null,
   "id": "f0c93711",
   "metadata": {},
   "outputs": [],
   "source": [
    "weather_rain = race_df[\"weather\"].str.extract('(小雨|雨)', expand=True)\n",
    "weather_snow = race_df[\"weather\"].str.extract('(小雪|雪)', expand=True)\n",
    "weather_rain.columns ={\"weather_rain\"}\n",
    "weather_snow.columns ={\"weather_snow\"}\n",
    "race_df = pd.concat([race_df, weather_rain], axis=1)\n",
    "race_df = pd.concat([race_df, weather_snow], axis=1)\n",
    "\n",
    "race_df.fillna(value={'weather_rain': 0}, inplace=True)\n",
    "race_df['weather_rain'] = race_df['weather_rain'].replace('小雨', 1)\n",
    "race_df['weather_rain'] = race_df['weather_rain'].replace('雨', 2)\n",
    "race_df.fillna(value={'weather_snow': 0}, inplace=True)\n",
    "race_df['weather_snow'] = race_df['weather_snow'].replace('小雪', 1)\n",
    "race_df['weather_snow'] = race_df['weather_snow'].replace('雪', 2)"
   ]
  },
  {
   "cell_type": "code",
   "execution_count": null,
   "id": "66934589",
   "metadata": {},
   "outputs": [],
   "source": [
    "race_df['ground_status'] = race_df['ground_status'].replace('.*(稍重).*', 4,regex=True)\n",
    "race_df['ground_status'] = race_df['ground_status'].replace('.*(重).*', 3,regex=True)\n",
    "race_df['ground_status'] = race_df['ground_status'].replace('.*(不良).*', 2,regex=True)\n",
    "race_df['ground_status'] = race_df['ground_status'].replace('.*(良).*', 1,regex=True)"
   ]
  },
  {
   "cell_type": "code",
   "execution_count": null,
   "id": "1210a5e0",
   "metadata": {},
   "outputs": [],
   "source": [
    "warnings.filterwarnings('ignore', 'The default value of regex')\n",
    "\n",
    "race_df[\"time\"] = race_df[\"time\"].str.replace('発走 : (\\d\\d):(\\d\\d)(.|\\n)*', r'\\1時\\2分')\n",
    "race_df[\"datetime\"] = race_df[\"date\"] + race_df[\"time\"]\n",
    "race_df[\"datetime\"] = pd.to_datetime(race_df['datetime'], format='%Y年%m月%d日%H時%M分')"
   ]
  },
  {
   "cell_type": "code",
   "execution_count": null,
   "id": "6d7fdbf3",
   "metadata": {},
   "outputs": [],
   "source": [
    "race_df.drop(['time'], axis=1, inplace=True)\n",
    "race_df.drop(['date'], axis=1, inplace=True)"
   ]
  },
  {
   "cell_type": "code",
   "execution_count": null,
   "id": "c68705c3",
   "metadata": {},
   "outputs": [],
   "source": [
    "race_df"
   ]
  },
  {
   "cell_type": "code",
   "execution_count": null,
   "id": "1e539581",
   "metadata": {},
   "outputs": [],
   "source": [
    "race_df.info()"
   ]
  },
  {
   "cell_type": "code",
   "execution_count": null,
   "id": "9b3d4c7d",
   "metadata": {},
   "outputs": [],
   "source": [
    "race_df['total_horse_number'] = race_df['total_horse_number'].astype(int)"
   ]
  },
  {
   "cell_type": "code",
   "execution_count": null,
   "id": "1d75c190",
   "metadata": {},
   "outputs": [],
   "source": [
    "race_df = race_df.drop(['race_title'],axis=1)"
   ]
  },
  {
   "cell_type": "code",
   "execution_count": null,
   "id": "6ad484cf",
   "metadata": {},
   "outputs": [],
   "source": [
    "race_df.to_csv(\"../data/main/target_race_data.csv\", index=False)"
   ]
  },
  {
   "cell_type": "code",
   "execution_count": null,
   "id": "9e58882b",
   "metadata": {},
   "outputs": [],
   "source": [
    "key_name =\"../key/storage_key.json\"\n",
    "bucket_name = \"keiba_csv_upload_bucket\"\n",
    "file_upload = 'target_race_data.csv'\n",
    "file_name = '../data/main/target_race_data.csv'"
   ]
  },
  {
   "cell_type": "code",
   "execution_count": null,
   "id": "02f48395",
   "metadata": {},
   "outputs": [],
   "source": [
    "# 保管したサービスアカウントキーを指定します\n",
    "client = storage.Client.from_service_account_json(key_name)"
   ]
  },
  {
   "cell_type": "code",
   "execution_count": null,
   "id": "6256722c",
   "metadata": {},
   "outputs": [],
   "source": [
    "# 保管したサービスアカウントキーを指定します\n",
    "client = storage.Client.from_service_account_json(key_name)\n",
    "bucket = client.get_bucket(bucket_name)\n",
    "blob = bucket.blob(file_upload)\n",
    "blob.upload_from_filename(file_name)"
   ]
  },
  {
   "cell_type": "markdown",
   "id": "3aa79af8",
   "metadata": {},
   "source": [
    "# horse"
   ]
  },
  {
   "cell_type": "code",
   "execution_count": null,
   "id": "672e64e0",
   "metadata": {},
   "outputs": [],
   "source": [
    "load_url = URL\n",
    "html = requests.get(load_url)\n",
    "soup = BeautifulSoup(html.content, \"html.parser\")"
   ]
  },
  {
   "cell_type": "code",
   "execution_count": null,
   "id": "993cf377",
   "metadata": {},
   "outputs": [],
   "source": [
    "horse_list = []\n",
    "horse_tables = soup.findAll(\"table\", class_=\"RaceTable01\")\n",
    "horse_table = horse_tables[0].findAll('tr', class_=\"HorseList\")"
   ]
  },
  {
   "cell_type": "code",
   "execution_count": null,
   "id": "5d4300ce",
   "metadata": {},
   "outputs": [],
   "source": [
    "result_row  = []\n",
    "horse_list_waku = []\n",
    "horse_list_num = []\n",
    "horse_list_horse_id = []\n",
    "horse_list_agesex = []\n",
    "horse_list_weight = []\n",
    "horse_list_rider_id = []\n",
    "horse_list_stable_id = []\n",
    "horse_list_horseweight = []\n",
    "horse_list_odds = []\n",
    "horse_list_popluar = []\n",
    "for i in range(len(horse_table)):\n",
    "    result_row = horse_table[i].findAll(\"td\")\n",
    "    horse_list_waku.append(result_row[0].get_text())#枠\n",
    "    horse_list_num.append(result_row[1].get_text())#番号\n",
    "    horse_list_horse_id.append(result_row[3].find('a').get('href').split(\"/\")[-1])#馬名\n",
    "    horse_list_agesex.append(result_row[4].get_text())#性別年齢\n",
    "    horse_list_weight.append(result_row[5].get_text())#斤量\n",
    "    horse_list_rider_id.append(result_row[6].find('a').get('href').split(\"/\")[-2])#騎手\n",
    "    horse_list_stable_id.append(result_row[7].find('a').get('href').split(\"/\")[-2])#厩舎\n",
    "    horse_list_horseweight.append(result_row[8].get_text())#馬体重\n",
    "    horse_list_odds.append(result_row[9].get_text())#オッズ\n",
    "    horse_list_popluar.append(result_row[10].get_text())#人気"
   ]
  },
  {
   "cell_type": "code",
   "execution_count": null,
   "id": "a8d8ad5a",
   "metadata": {},
   "outputs": [],
   "source": [
    "horse_data = []\n",
    "for i in range(len(horse_table)):\n",
    "    horse_data.append({\n",
    "            'frame_number':horse_list_waku[i],\n",
    "            'horse_number':horse_list_num[i],\n",
    "            'horse_id':horse_list_horse_id[i],\n",
    "            'sex_and_age':horse_list_agesex[i],\n",
    "            'burden_weight':horse_list_weight[i],\n",
    "            'rider_id':horse_list_rider_id[i],\n",
    "            'tamer_id':horse_list_stable_id[i],\n",
    "            'horse_weight':horse_list_horseweight[i],\n",
    "            'odds':horse_list_odds[i],\n",
    "            'popular':horse_list_popluar[i]\n",
    "        })\n",
    "# 辞書のリストをDataFrameに変換する\n",
    "horse_df = pd.DataFrame(horse_data)\n",
    "horse_df['race_id'] = race_id_text"
   ]
  },
  {
   "cell_type": "code",
   "execution_count": null,
   "id": "8086e6f9",
   "metadata": {},
   "outputs": [],
   "source": [
    "horse_df.info()"
   ]
  },
  {
   "cell_type": "markdown",
   "id": "625852eb",
   "metadata": {},
   "source": [
    "##### Cleaning"
   ]
  },
  {
   "cell_type": "code",
   "execution_count": null,
   "id": "90786184",
   "metadata": {},
   "outputs": [],
   "source": [
    "is_senba = horse_df[\"sex_and_age\"].str.extract('(セ)', expand=True)\n",
    "is_senba.columns ={\"is_senba\"}\n",
    "horse_df = pd.concat([horse_df, is_senba], axis=1)\n",
    "\n",
    "is_mesu = horse_df[\"sex_and_age\"].str.extract('(牝)', expand=True)\n",
    "is_mesu.columns ={\"is_mesu\"}\n",
    "horse_df = pd.concat([horse_df, is_mesu], axis=1)\n",
    "\n",
    "is_osu = horse_df[\"sex_and_age\"].str.extract('(牡)', expand=True)\n",
    "is_osu.columns ={\"is_osu\"}\n",
    "horse_df = pd.concat([horse_df, is_osu], axis=1)"
   ]
  },
  {
   "cell_type": "code",
   "execution_count": null,
   "id": "e200f37b",
   "metadata": {},
   "outputs": [],
   "source": [
    "horse_df.fillna(value={'is_osu': 0}, inplace=True)\n",
    "horse_df['is_osu'] = horse_df['is_osu'].replace('牡', 1)\n",
    "horse_df.fillna(value={'is_mesu': 0}, inplace=True)\n",
    "horse_df['is_mesu'] = horse_df['is_mesu'].replace('牝', 1)\n",
    "horse_df.fillna(value={'is_senba': 0}, inplace=True)\n",
    "horse_df['is_senba'] = horse_df['is_senba'].replace('セ', 1)\n",
    "## 余分な文字を削除\n",
    "horse_df['sex_and_age'] = horse_df['sex_and_age'].str.strip(\"牝牡セ\")\n",
    "horse_df['sex_and_age'] = horse_df['sex_and_age'].astype(int)"
   ]
  },
  {
   "cell_type": "code",
   "execution_count": null,
   "id": "85f17bf7",
   "metadata": {},
   "outputs": [],
   "source": [
    "horse_weight_dif = horse_df[\"horse_weight\"].str.extract('\\(([-|+]?\\d*)\\)', expand=True)\n",
    "horse_weight_dif.columns ={\"horse_weight_dif\"}\n",
    "\n",
    "horse_df = pd.concat([horse_df, horse_weight_dif], axis=1)\n",
    "\n",
    "horse_df['horse_weight'] = horse_df['horse_weight'].replace('\\(([-|+]?\\d*)\\)', '', regex=True)\n",
    "horse_df['horse_weight'] = horse_df['horse_weight'].replace('計不', np.nan)\n",
    "horse_df['horse_weight'] = horse_df['horse_weight'].astype(float)\n",
    "horse_df['horse_weight_dif'] = horse_df['horse_weight_dif'].astype(float)"
   ]
  },
  {
   "cell_type": "code",
   "execution_count": null,
   "id": "bee1de00",
   "metadata": {
    "scrolled": true
   },
   "outputs": [],
   "source": [
    "horse_df"
   ]
  },
  {
   "cell_type": "code",
   "execution_count": null,
   "id": "4b27d54f",
   "metadata": {},
   "outputs": [],
   "source": [
    "horse_df = horse_df.drop(['odds','popular'],axis=1)"
   ]
  },
  {
   "cell_type": "code",
   "execution_count": null,
   "id": "a0f5635d",
   "metadata": {},
   "outputs": [],
   "source": [
    "horse_df = horse_df['frame_number'].astype(int)\n",
    "horse_df = horse_df['horse_number'].astype(int)\n",
    "horse_df = horse_df['sex_and_age'].astype(int)\n",
    "horse_df = horse_df['burden_weight'].astype(int)\n",
    "horse_df = horse_df['horse_weight'].astype(int)\n",
    "horse_df = horse_df['is_senba'].astype(int)\n",
    "horse_df = horse_df['is_mesu'].astype(int)\n",
    "horse_df = horse_df['is_osu'].astype(int)\n",
    "horse_df = horse_df['is_osu'].astype(int)\n",
    "horse_df = horse_df['horse_weight_dif'].astype(int)"
   ]
  },
  {
   "cell_type": "code",
   "execution_count": null,
   "id": "ee64828d",
   "metadata": {},
   "outputs": [],
   "source": [
    "horse.info()"
   ]
  },
  {
   "cell_type": "code",
   "execution_count": null,
   "id": "7452a69a",
   "metadata": {},
   "outputs": [],
   "source": [
    "horse_df"
   ]
  },
  {
   "cell_type": "code",
   "execution_count": null,
   "id": "c7027bef",
   "metadata": {},
   "outputs": [],
   "source": [
    "horse_df.to_csv(\"../data/main/target_horse_data.csv\", index=False)"
   ]
  },
  {
   "cell_type": "code",
   "execution_count": null,
   "id": "904cde6c",
   "metadata": {},
   "outputs": [],
   "source": [
    "key_name =\"../key/storage_key.json\"\n",
    "bucket_name = \"keiba_csv_upload_bucket\"\n",
    "file_upload = 'target_horse_data.csv'\n",
    "file_name = '../data/main/target_horse_data.csv'"
   ]
  },
  {
   "cell_type": "code",
   "execution_count": null,
   "id": "bfa5cef6",
   "metadata": {},
   "outputs": [],
   "source": [
    "# 保管したサービスアカウントキーを指定します\n",
    "client = storage.Client.from_service_account_json(key_name)"
   ]
  },
  {
   "cell_type": "code",
   "execution_count": null,
   "id": "a019586b",
   "metadata": {},
   "outputs": [],
   "source": [
    "# 保管したサービスアカウントキーを指定します\n",
    "client = storage.Client.from_service_account_json(key_name)\n",
    "bucket = client.get_bucket(bucket_name)\n",
    "blob = bucket.blob(file_upload)\n",
    "blob.upload_from_filename(file_name)"
   ]
  },
  {
   "cell_type": "code",
   "execution_count": null,
   "id": "b703b9c3",
   "metadata": {},
   "outputs": [],
   "source": [
    "horse_df.info()"
   ]
  }
 ],
 "metadata": {
  "kernelspec": {
   "display_name": "Python 3 (ipykernel)",
   "language": "python",
   "name": "python3"
  },
  "language_info": {
   "codemirror_mode": {
    "name": "ipython",
    "version": 3
   },
   "file_extension": ".py",
   "mimetype": "text/x-python",
   "name": "python",
   "nbconvert_exporter": "python",
   "pygments_lexer": "ipython3",
   "version": "3.9.16"
  }
 },
 "nbformat": 4,
 "nbformat_minor": 5
}
