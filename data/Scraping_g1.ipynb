{
 "cells": [
  {
   "cell_type": "code",
   "execution_count": 1,
   "id": "77bbc49e",
   "metadata": {},
   "outputs": [],
   "source": [
    "race_id_text = 202309011011"
   ]
  },
  {
   "cell_type": "code",
   "execution_count": 2,
   "id": "88056993",
   "metadata": {},
   "outputs": [],
   "source": [
    "#スクレイピング\n",
    "import pandas as pd\n",
    "import numpy as np\n",
    "from bs4 import BeautifulSoup\n",
    "\n",
    "\n",
    "from selenium import webdriver\n",
    "from selenium.webdriver.support.ui import Select,WebDriverWait\n",
    "from selenium.webdriver.support import expected_conditions as EC\n",
    "from selenium.webdriver.chrome.options import Options\n",
    "from selenium.webdriver.common.by import By\n",
    "from webdriver_manager.chrome import ChromeDriverManager\n",
    "import re\n",
    "\n",
    "import os\n",
    "import time\n",
    "import requests"
   ]
  },
  {
   "cell_type": "code",
   "execution_count": 3,
   "id": "27c27c8a",
   "metadata": {},
   "outputs": [
    {
     "name": "stderr",
     "output_type": "stream",
     "text": [
      "C:\\Users\\kawam\\AppData\\Local\\Temp\\ipykernel_28000\\3764771592.py:1: DeprecationWarning: executable_path has been deprecated, please pass in a Service object\n",
      "  driver = webdriver.Chrome(ChromeDriverManager().install())\n"
     ]
    },
    {
     "data": {
      "text/plain": [
       "<function selenium.webdriver.support.expected_conditions.presence_of_all_elements_located.<locals>._predicate(driver)>"
      ]
     },
     "execution_count": 3,
     "metadata": {},
     "output_type": "execute_result"
    }
   ],
   "source": [
    "driver = webdriver.Chrome(ChromeDriverManager().install())\n",
    "wait = WebDriverWait(driver,3)\n",
    "\n",
    "URL = \"https://race.netkeiba.com/race/shutuba.html?race_id=202309011011&rf=race_list\"\n",
    "driver.get(URL)\n",
    "time.sleep(1)\n",
    "wait.until(EC.presence_of_all_elements_located)"
   ]
  },
  {
   "cell_type": "code",
   "execution_count": 4,
   "id": "6cd255b2",
   "metadata": {},
   "outputs": [],
   "source": [
    "race_data_columns=[\n",
    "    'race_id',\n",
    "    'race_round',\n",
    "    'race_title',\n",
    "    'race_course',\n",
    "    'weather',\n",
    "    'ground_status',\n",
    "    'time',\n",
    "    'date',\n",
    "    'where_racecourse',\n",
    "    'total_horse_number',\n",
    "    'frame_number_first',\n",
    "    'horse_number_first',\n",
    "    'frame_number_second',\n",
    "    'horse_number_second',\n",
    "    'frame_number_third',\n",
    "    'horse_number_third',\n",
    "    'tansyo',\n",
    "    'hukusyo_first',\n",
    "    'hukusyo_second',\n",
    "    'hukusyo_third',\n",
    "    'wakuren',\n",
    "    'umaren',\n",
    "    'wide_1_2',\n",
    "    'wide_1_3',\n",
    "    'wide_2_3',\n",
    "    'umatan',\n",
    "    'renhuku3',\n",
    "    'rentan3'\n",
    "    ]\n",
    "\n",
    "horse_data_columns=[\n",
    "    'race_id',\n",
    "    'rank',\n",
    "    'frame_number',\n",
    "    'horse_number',\n",
    "    'horse_id',\n",
    "    'sex_and_age',\n",
    "    'burden_weight',\n",
    "    'rider_id',\n",
    "    'goal_time',\n",
    "    'goal_time_dif',\n",
    "    'time_value',\n",
    "    'half_way_rank',\n",
    "    'last_time',\n",
    "    'odds',\n",
    "    'popular',\n",
    "    'horse_weight',\n",
    "    'tame_time',\n",
    "    'tamer_id',\n",
    "    'owner_id'\n",
    "]"
   ]
  },
  {
   "cell_type": "code",
   "execution_count": 44,
   "id": "6945501d",
   "metadata": {
    "scrolled": true
   },
   "outputs": [],
   "source": [
    "race_round = driver.find_elements(By.CLASS_NAME,'RaceNum')\n",
    "race_round_text = [rr.text for rr in race_round]\n",
    "race_round_text = race_round_text[0]\n",
    "race_title = driver.find_elements(By.CLASS_NAME,'RaceName')\n",
    "race_title_text = [rr.text for rr in race_title]\n",
    "race_title_text = race_title_text[0]"
   ]
  },
  {
   "cell_type": "code",
   "execution_count": 43,
   "id": "b52cafd0",
   "metadata": {},
   "outputs": [],
   "source": [
    "race_detail1 = driver.find_elements(By.CLASS_NAME,'RaceData01')\n",
    "race_details1_text = [rr.text for rr in race_detail1]\n",
    "#list\n",
    "race_details1_list = race_details1_text[0].split(' / ')\n",
    "#list0\n",
    "time_text = race_details1_list[0].strip(\"発走\")\n",
    "time_text = '発走 : '+time_text\n",
    "#list1\n",
    "race_details1_list1_list = race_details1_list[1].split(' ')\n",
    "#listlist1\n",
    "race_details1_list1_list_text = str(race_details1_list1_list[0])\n",
    "text = race_details1_list1_list_text\n",
    "match = re.search(r'[^\\d]*(\\D)', text)\n",
    "if match:\n",
    "    ground_type_text = match.group(1)\n",
    "else:\n",
    "    ground_type_text = ''\n",
    "\n",
    "text = race_details1_list1_list_text\n",
    "match = re.search(r'\\d+', text)\n",
    "if match:\n",
    "    distance = match.group()\n",
    "else:\n",
    "    distance = ''\n",
    "distance_int = int(distance)\n",
    "\n",
    "text = race_details1_list1_list_text\n",
    "is_obstacle = 1 if text.startswith('障') else 0\n",
    "is_obstacle_int = int(is_obstacle)\n",
    "\n",
    "is_left_right_straight_text = race_details1_list1_list[1].strip(\"()\")\n",
    "#list2\n",
    "weather_text = race_details1_list[2]\n",
    "#list3\n",
    "ground_status_text = race_details1_list[3]"
   ]
  },
  {
   "cell_type": "code",
   "execution_count": 39,
   "id": "cb72f99c",
   "metadata": {},
   "outputs": [],
   "source": [
    "race_details2 = driver.find_elements(By.CLASS_NAME,'RaceData02')\n",
    "race_details2_text = [rr.text for rr in race_details2]\n",
    "race_details2_text = re.sub(' +', ' ', race_details2_text[0])\n",
    "race_details2_list = race_details2_text.split(' ')\n",
    "race_details2_list8_str = str(race_details2_list[8])\n",
    "match = re.match(r'^\\d+', race_details2_list8_str)\n",
    "if match:\n",
    "    race_details2_list[8] = match.group()\n",
    "total_horse_number_text = race_details2_list[8]\n",
    "where_racecourse_text = race_details2_list[0]+race_details2_list[1]+race_details2_list[2]"
   ]
  },
  {
   "cell_type": "code",
   "execution_count": 45,
   "id": "91942a06",
   "metadata": {},
   "outputs": [],
   "source": [
    "data = []\n",
    "data.append({\n",
    "        'race_id':race_id_text,\n",
    "        'race_round': race_round_text,\n",
    "        'race_title':race_title_text,\n",
    "        'weather':weather_text,\n",
    "        'ground_status':ground_status_text,\n",
    "        'time':time_text,\n",
    "        'where_racecourse':where_racecourse_text,\n",
    "        'total_horse_number':total_horse_number_text,\n",
    "        'ground_type':ground_type_text,\n",
    "        'is_left_right_straight':is_left_right_straight_text,\n",
    "        'distance':distance_int,\n",
    "        'is_obstacle':is_obstacle_int,     \n",
    "    })\n",
    "\n",
    "# 辞書のリストをDataFrameに変換する\n",
    "df = pd.DataFrame(data)"
   ]
  },
  {
   "cell_type": "code",
   "execution_count": 46,
   "id": "5d23a27f",
   "metadata": {},
   "outputs": [
    {
     "data": {
      "text/html": [
       "<div>\n",
       "<style scoped>\n",
       "    .dataframe tbody tr th:only-of-type {\n",
       "        vertical-align: middle;\n",
       "    }\n",
       "\n",
       "    .dataframe tbody tr th {\n",
       "        vertical-align: top;\n",
       "    }\n",
       "\n",
       "    .dataframe thead th {\n",
       "        text-align: right;\n",
       "    }\n",
       "</style>\n",
       "<table border=\"1\" class=\"dataframe\">\n",
       "  <thead>\n",
       "    <tr style=\"text-align: right;\">\n",
       "      <th></th>\n",
       "      <th>race_id</th>\n",
       "      <th>race_round</th>\n",
       "      <th>race_title</th>\n",
       "      <th>weather</th>\n",
       "      <th>ground_status</th>\n",
       "      <th>time</th>\n",
       "      <th>where_racecourse</th>\n",
       "      <th>total_horse_number</th>\n",
       "      <th>ground_type</th>\n",
       "      <th>is_left_right_straight</th>\n",
       "      <th>distance</th>\n",
       "      <th>is_obstacle</th>\n",
       "    </tr>\n",
       "  </thead>\n",
       "  <tbody>\n",
       "    <tr>\n",
       "      <th>0</th>\n",
       "      <td>202309011011</td>\n",
       "      <td>11R</td>\n",
       "      <td>フィリーズR</td>\n",
       "      <td>天候:晴</td>\n",
       "      <td>馬場:良</td>\n",
       "      <td>発走 : 15:35</td>\n",
       "      <td>1回阪神10日目</td>\n",
       "      <td>18</td>\n",
       "      <td>芝</td>\n",
       "      <td>右</td>\n",
       "      <td>1400</td>\n",
       "      <td>0</td>\n",
       "    </tr>\n",
       "  </tbody>\n",
       "</table>\n",
       "</div>"
      ],
      "text/plain": [
       "        race_id race_round race_title weather ground_status        time  \\\n",
       "0  202309011011        11R     フィリーズR    天候:晴          馬場:良  発走 : 15:35   \n",
       "\n",
       "  where_racecourse total_horse_number ground_type is_left_right_straight  \\\n",
       "0         1回阪神10日目                 18           芝                      右   \n",
       "\n",
       "   distance  is_obstacle  \n",
       "0      1400            0  "
      ]
     },
     "execution_count": 46,
     "metadata": {},
     "output_type": "execute_result"
    }
   ],
   "source": [
    "df"
   ]
  },
  {
   "cell_type": "code",
   "execution_count": null,
   "id": "9b3d4c7d",
   "metadata": {},
   "outputs": [],
   "source": []
  }
 ],
 "metadata": {
  "kernelspec": {
   "display_name": "Python 3 (ipykernel)",
   "language": "python",
   "name": "python3"
  },
  "language_info": {
   "codemirror_mode": {
    "name": "ipython",
    "version": 3
   },
   "file_extension": ".py",
   "mimetype": "text/x-python",
   "name": "python",
   "nbconvert_exporter": "python",
   "pygments_lexer": "ipython3",
   "version": "3.9.13"
  }
 },
 "nbformat": 4,
 "nbformat_minor": 5
}
