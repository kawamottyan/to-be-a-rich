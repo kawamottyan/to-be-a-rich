{
 "cells": [
  {
   "cell_type": "code",
   "execution_count": 2,
   "id": "97e51e1d",
   "metadata": {},
   "outputs": [],
   "source": [
    "#インストール\n",
    "#!pip install selenium\n",
    "#!pip install chromedriver-binary-auto\n",
    "#!pip install webdriver-manager"
   ]
  },
  {
   "cell_type": "code",
   "execution_count": 3,
   "id": "495f1fc1",
   "metadata": {},
   "outputs": [],
   "source": [
    "#スクレイピング\n",
    "import pandas as pd\n",
    "import numpy as np\n",
    "from bs4 import BeautifulSoup\n",
    "\n",
    "\n",
    "from selenium import webdriver\n",
    "from selenium.webdriver.support.ui import Select,WebDriverWait\n",
    "from selenium.webdriver.support import expected_conditions as EC\n",
    "from selenium.webdriver.chrome.options import Options\n",
    "from selenium.webdriver.common.by import By\n",
    "from webdriver_manager.chrome import ChromeDriverManager\n",
    "\n",
    "import os\n",
    "import time\n",
    "import requests"
   ]
  },
  {
   "cell_type": "code",
   "execution_count": 4,
   "id": "770b0ac2",
   "metadata": {},
   "outputs": [
    {
     "name": "stderr",
     "output_type": "stream",
     "text": [
      "[WDM] - Downloading: 100%|█████████████████████████████████████████████████████████| 6.79M/6.79M [00:10<00:00, 702kB/s]\n",
      "C:\\Users\\kawam\\AppData\\Local\\Temp\\ipykernel_27764\\2276666827.py:1: DeprecationWarning: executable_path has been deprecated, please pass in a Service object\n",
      "  driver = webdriver.Chrome(ChromeDriverManager().install())\n"
     ]
    },
    {
     "data": {
      "text/plain": [
       "<function selenium.webdriver.support.expected_conditions.presence_of_all_elements_located.<locals>._predicate(driver)>"
      ]
     },
     "execution_count": 4,
     "metadata": {},
     "output_type": "execute_result"
    }
   ],
   "source": [
    "driver = webdriver.Chrome(ChromeDriverManager().install())\n",
    "wait = WebDriverWait(driver,10)\n",
    "\n",
    "URL = \"https://db.netkeiba.com/?pid=horse_search_detail\"\n",
    "driver.get(URL)\n",
    "time.sleep(1)\n",
    "wait.until(EC.presence_of_all_elements_located)"
   ]
  },
  {
   "cell_type": "code",
   "execution_count": 5,
   "id": "29cc9634",
   "metadata": {},
   "outputs": [],
   "source": [
    "age = 'none'\n",
    "color = 'chestnut-hair'\n",
    "\n",
    "age_element =driver.find_element(By.NAME,\"under_age\")\n",
    "age_select = Select(age_element)\n",
    "age_select.select_by_value(str(age))"
   ]
  },
  {
   "cell_type": "code",
   "execution_count": 6,
   "id": "3d6c0dd2",
   "metadata": {},
   "outputs": [],
   "source": [
    "for i in range(7,8):\n",
    "    terms = driver.find_element(By.ID,\"check_color_0\"+ str(i))\n",
    "    terms.click()"
   ]
  },
  {
   "cell_type": "code",
   "execution_count": 7,
   "id": "5da03a6d",
   "metadata": {},
   "outputs": [],
   "source": [
    "# 表示件数を選択(20,50,100の中から最大の100へ)\n",
    "list_element = driver.find_element(By.NAME,'list')\n",
    "list_select = Select(list_element)\n",
    "list_select.select_by_value(\"100\")"
   ]
  },
  {
   "cell_type": "code",
   "execution_count": 8,
   "id": "d2bd5779",
   "metadata": {},
   "outputs": [
    {
     "data": {
      "text/plain": [
       "<function selenium.webdriver.support.expected_conditions.presence_of_all_elements_located.<locals>._predicate(driver)>"
      ]
     },
     "execution_count": 8,
     "metadata": {},
     "output_type": "execute_result"
    }
   ],
   "source": [
    "# フォームを送信\n",
    "frm = driver.find_element(By.CSS_SELECTOR,\"#db_search_detail_form > form\")\n",
    "frm.submit()\n",
    "time.sleep(5)\n",
    "wait.until(EC.presence_of_all_elements_located)"
   ]
  },
  {
   "cell_type": "code",
   "execution_count": 41,
   "id": "cd03d835",
   "metadata": {
    "collapsed": true
   },
   "outputs": [
    {
     "ename": "KeyboardInterrupt",
     "evalue": "",
     "output_type": "error",
     "traceback": [
      "\u001b[1;31m---------------------------------------------------------------------------\u001b[0m",
      "\u001b[1;31mKeyboardInterrupt\u001b[0m                         Traceback (most recent call last)",
      "\u001b[1;32m~\\AppData\\Local\\Temp\\ipykernel_26668\\2164436830.py\u001b[0m in \u001b[0;36m<module>\u001b[1;34m\u001b[0m\n\u001b[0;32m      4\u001b[0m \u001b[1;32mwith\u001b[0m \u001b[0mopen\u001b[0m\u001b[1;33m(\u001b[0m\u001b[1;34m\"text/\"\u001b[0m\u001b[1;33m+\u001b[0m\u001b[0mstr\u001b[0m\u001b[1;33m(\u001b[0m\u001b[0mcolor\u001b[0m\u001b[1;33m)\u001b[0m\u001b[1;33m+\u001b[0m\u001b[1;34m\".txt\"\u001b[0m\u001b[1;33m,\u001b[0m \u001b[0mmode\u001b[0m\u001b[1;33m=\u001b[0m\u001b[1;34m'w'\u001b[0m\u001b[1;33m)\u001b[0m \u001b[1;32mas\u001b[0m \u001b[0mf\u001b[0m\u001b[1;33m:\u001b[0m\u001b[1;33m\u001b[0m\u001b[1;33m\u001b[0m\u001b[0m\n\u001b[0;32m      5\u001b[0m     \u001b[1;32mwhile\u001b[0m \u001b[1;32mTrue\u001b[0m\u001b[1;33m:\u001b[0m\u001b[1;33m\u001b[0m\u001b[1;33m\u001b[0m\u001b[0m\n\u001b[1;32m----> 6\u001b[1;33m         \u001b[0mtime\u001b[0m\u001b[1;33m.\u001b[0m\u001b[0msleep\u001b[0m\u001b[1;33m(\u001b[0m\u001b[1;36m5\u001b[0m\u001b[1;33m)\u001b[0m\u001b[1;33m\u001b[0m\u001b[1;33m\u001b[0m\u001b[0m\n\u001b[0m\u001b[0;32m      7\u001b[0m         \u001b[0mwait\u001b[0m\u001b[1;33m.\u001b[0m\u001b[0muntil\u001b[0m\u001b[1;33m(\u001b[0m\u001b[0mEC\u001b[0m\u001b[1;33m.\u001b[0m\u001b[0mpresence_of_all_elements_located\u001b[0m\u001b[1;33m)\u001b[0m\u001b[1;33m\u001b[0m\u001b[1;33m\u001b[0m\u001b[0m\n\u001b[0;32m      8\u001b[0m         \u001b[0mall_rows\u001b[0m \u001b[1;33m=\u001b[0m \u001b[0mdriver\u001b[0m\u001b[1;33m.\u001b[0m\u001b[0mfind_element\u001b[0m\u001b[1;33m(\u001b[0m\u001b[0mBy\u001b[0m\u001b[1;33m.\u001b[0m\u001b[0mCLASS_NAME\u001b[0m\u001b[1;33m,\u001b[0m\u001b[1;34m'race_table_01'\u001b[0m\u001b[1;33m)\u001b[0m\u001b[1;33m.\u001b[0m\u001b[0mfind_elements\u001b[0m\u001b[1;33m(\u001b[0m\u001b[0mBy\u001b[0m\u001b[1;33m.\u001b[0m\u001b[0mTAG_NAME\u001b[0m\u001b[1;33m,\u001b[0m\u001b[1;34m\"tr\"\u001b[0m\u001b[1;33m)\u001b[0m\u001b[1;33m\u001b[0m\u001b[1;33m\u001b[0m\u001b[0m\n",
      "\u001b[1;31mKeyboardInterrupt\u001b[0m: "
     ]
    }
   ],
   "source": [
    "if not os.path.exists('text'):\n",
    "    os.makedirs('text')\n",
    "\n",
    "with open(\"text/\"+str(color)+\".txt\", mode='w') as f:\n",
    "    while True:\n",
    "        time.sleep(5)\n",
    "        wait.until(EC.presence_of_all_elements_located)\n",
    "        all_rows = driver.find_element(By.CLASS_NAME,'race_table_01').find_elements(By.TAG_NAME,\"tr\")\n",
    "        for row in range(1, len(all_rows)):\n",
    "            race_href=all_rows[row].find_elements(By.TAG_NAME,\"td\")[1].find_element(By.TAG_NAME,\"a\").get_attribute(\"href\")\n",
    "            f.write(race_href+\"\\n\")\n",
    "        try:\n",
    "            target = driver.find_elements(By.LINK_TEXT,\"次\")[0]\n",
    "            driver.execute_script(\"arguments[0].click();\", target) \n",
    "        except IndexError:\n",
    "            break"
   ]
  },
  {
   "cell_type": "code",
   "execution_count": 191,
   "id": "0bf27301",
   "metadata": {
    "collapsed": true
   },
   "outputs": [
    {
     "ename": "KeyboardInterrupt",
     "evalue": "",
     "output_type": "error",
     "traceback": [
      "\u001b[1;31m---------------------------------------------------------------------------\u001b[0m",
      "\u001b[1;31mKeyboardInterrupt\u001b[0m                         Traceback (most recent call last)",
      "\u001b[1;32m~\\AppData\\Local\\Temp\\ipykernel_27764\\589317818.py\u001b[0m in \u001b[0;36m<module>\u001b[1;34m\u001b[0m\n\u001b[0;32m     12\u001b[0m         \u001b[0mresponse\u001b[0m\u001b[1;33m.\u001b[0m\u001b[0mencoding\u001b[0m \u001b[1;33m=\u001b[0m \u001b[0mresponse\u001b[0m\u001b[1;33m.\u001b[0m\u001b[0mapparent_encoding\u001b[0m\u001b[1;33m\u001b[0m\u001b[1;33m\u001b[0m\u001b[0m\n\u001b[0;32m     13\u001b[0m         \u001b[0mhtml\u001b[0m \u001b[1;33m=\u001b[0m \u001b[0mresponse\u001b[0m\u001b[1;33m.\u001b[0m\u001b[0mtext\u001b[0m\u001b[1;33m\u001b[0m\u001b[1;33m\u001b[0m\u001b[0m\n\u001b[1;32m---> 14\u001b[1;33m         \u001b[0mtime\u001b[0m\u001b[1;33m.\u001b[0m\u001b[0msleep\u001b[0m\u001b[1;33m(\u001b[0m\u001b[1;36m5\u001b[0m\u001b[1;33m)\u001b[0m\u001b[1;33m\u001b[0m\u001b[1;33m\u001b[0m\u001b[0m\n\u001b[0m\u001b[0;32m     15\u001b[0m         \u001b[1;32mwith\u001b[0m \u001b[0mopen\u001b[0m\u001b[1;33m(\u001b[0m\u001b[0msave_file_path\u001b[0m\u001b[1;33m,\u001b[0m \u001b[1;34m'w'\u001b[0m\u001b[1;33m)\u001b[0m \u001b[1;32mas\u001b[0m \u001b[0mfile\u001b[0m\u001b[1;33m:\u001b[0m\u001b[1;33m\u001b[0m\u001b[1;33m\u001b[0m\u001b[0m\n\u001b[0;32m     16\u001b[0m             \u001b[0mfile\u001b[0m\u001b[1;33m.\u001b[0m\u001b[0mwrite\u001b[0m\u001b[1;33m(\u001b[0m\u001b[0mhtml\u001b[0m\u001b[1;33m)\u001b[0m\u001b[1;33m\u001b[0m\u001b[1;33m\u001b[0m\u001b[0m\n",
      "\u001b[1;31mKeyboardInterrupt\u001b[0m: "
     ]
    }
   ],
   "source": [
    "save_dir = \"html\"+\"/\"+str(color)\n",
    "if not os.path.isdir(save_dir):\n",
    "    os.makedirs(save_dir)\n",
    "        \n",
    "with open(\"text/\"+str(color)+\".txt\", \"r\") as f:\n",
    "    urls = f.read().splitlines()\n",
    "    for url in urls:\n",
    "        list = url.split(\"/\")\n",
    "        horse_id = list[-2]\n",
    "        save_file_path = save_dir+\"/\"+horse_id+'.html'\n",
    "        response = requests.get(url)\n",
    "        response.encoding = response.apparent_encoding\n",
    "        html = response.text\n",
    "        time.sleep(5)\n",
    "        with open(save_file_path, 'w') as file:\n",
    "            file.write(html)"
   ]
  },
  {
   "cell_type": "code",
   "execution_count": 337,
   "id": "e37f77aa",
   "metadata": {},
   "outputs": [],
   "source": [
    "horse_data_info_columns=[\n",
    "    'horse_id',\n",
    "    'bday',\n",
    "    'tame_id',\n",
    "    'owner_id',\n",
    "    'producer',\n",
    "    'production area',\n",
    "    'auction price',\n",
    "    'winnings',\n",
    "    'lifetime record',\n",
    "    'wined race title',\n",
    "    'inbreeding-1',\n",
    "    'inbreeding-2',\n",
    "    'father',\n",
    "    'faths father',\n",
    "    'faths mother',\n",
    "    'mother',\n",
    "    'moths father',\n",
    "    'moths mother'\n",
    "]"
   ]
  },
  {
   "cell_type": "code",
   "execution_count": 338,
   "id": "97eed4bc",
   "metadata": {},
   "outputs": [],
   "source": [
    "def get_horse_data_by_html(horse_id, html):\n",
    "    horse_list = [horse_id]\n",
    "    soup = BeautifulSoup(html, 'html.parser')\n",
    "    horse_tables = soup.find(\"table\", class_=\"db_prof_table\")\n",
    "    horse_table = horse_tables.findAll(\"td\")\n",
    "    #for i in range(10):\n",
    "    horse_list.append(horse_table[0].get_text())\n",
    "    horse_list.append(horse_table[1].find('a').get('href').split(\"/\")[-2])\n",
    "    horse_list.append(horse_table[2].find('a').get('href').split(\"/\")[-2])\n",
    "    horse_list.append(horse_table[3].find('a').get('href').split(\"/\")[-2])\n",
    "    horse_list.append(horse_table[4].get_text())\n",
    "    horse_list.append(horse_table[5].get_text())\n",
    "    horse_list.append(horse_table[6].get_text())\n",
    "    horse_list.append(horse_table[7].get_text())\n",
    "    horse_list.append(horse_table[8].find('a').get('href').split(\"/\")[-2])\n",
    "    \n",
    "    # horse_table[8]からすべてのリンクのURLの一部を取得する\n",
    "    url_parts = [link.get('href').split(\"/\")[-2] for link in horse_table[9].find_all('a')]\n",
    "\n",
    "    # url_partsの要素数が2未満の場合、残りの要素をNaNで埋める\n",
    "    while len(url_parts) < 2:\n",
    "        url_parts.append(np.nan)\n",
    "\n",
    "    # horse_listにurl_partsを追加する\n",
    "    horse_list.extend(url_parts)\n",
    "    \n",
    "    #horse_list.append(horse_table[9].get_text())\n",
    "    blood_tables = soup.find(\"table\", class_=\"blood_table\")\n",
    "    blood_table = blood_tables.findAll(\"td\")\n",
    "    #for i in range(6):\n",
    "    horse_list.append(blood_table[0].find('a').get('href').split(\"/\")[-2])\n",
    "    horse_list.append(blood_table[1].find('a').get('href').split(\"/\")[-2])\n",
    "    horse_list.append(blood_table[2].find('a').get('href').split(\"/\")[-2])\n",
    "    horse_list.append(blood_table[3].find('a').get('href').split(\"/\")[-2])\n",
    "    horse_list.append(blood_table[4].find('a').get('href').split(\"/\")[-2])\n",
    "    horse_list.append(blood_table[5].find('a').get('href').split(\"/\")[-2])\n",
    "    return horse_list"
   ]
  },
  {
   "cell_type": "code",
   "execution_count": 339,
   "id": "9183e48e",
   "metadata": {},
   "outputs": [],
   "source": [
    "CSV_DIR = \"csv\"\n",
    "if not os.path.isdir(CSV_DIR):\n",
    "    os.makedirs(CSV_DIR)\n",
    "horse_info_csv = CSV_DIR+\"/horse-info-\"+str(color)+\".csv\"\n",
    "\n",
    "horse_df = pd.DataFrame(columns=horse_data_info_columns)\n",
    "\n",
    "html_dir = \"html\"+\"/\"+str(color)\n",
    "if os.path.isdir(html_dir):\n",
    "    file_list = os.listdir(html_dir)\n",
    "    for file_name in file_list:\n",
    "        with open(html_dir+\"/\"+file_name, \"r\") as f:\n",
    "            html = f.read()\n",
    "            list = file_name.split(\".\")\n",
    "            horse_id = list[-2]\n",
    "            horse_list = get_horse_data_by_html(horse_id, html) \n",
    "            horse_se = pd.Series(horse_list, index=horse_df.columns)\n",
    "            horse_df = pd.concat([horse_df, horse_se.to_frame().T], ignore_index=True)"
   ]
  },
  {
   "cell_type": "code",
   "execution_count": 340,
   "id": "cc79bd9a",
   "metadata": {},
   "outputs": [],
   "source": [
    "horse_df.to_csv(horse_race_csv, header=True, index=False)"
   ]
  },
  {
   "cell_type": "code",
   "execution_count": 341,
   "id": "3d0a3990",
   "metadata": {},
   "outputs": [
    {
     "data": {
      "text/html": [
       "<div>\n",
       "<style scoped>\n",
       "    .dataframe tbody tr th:only-of-type {\n",
       "        vertical-align: middle;\n",
       "    }\n",
       "\n",
       "    .dataframe tbody tr th {\n",
       "        vertical-align: top;\n",
       "    }\n",
       "\n",
       "    .dataframe thead th {\n",
       "        text-align: right;\n",
       "    }\n",
       "</style>\n",
       "<table border=\"1\" class=\"dataframe\">\n",
       "  <thead>\n",
       "    <tr style=\"text-align: right;\">\n",
       "      <th></th>\n",
       "      <th>horse_id</th>\n",
       "      <th>bday</th>\n",
       "      <th>tame_id</th>\n",
       "      <th>owner_id</th>\n",
       "      <th>producer</th>\n",
       "      <th>production area</th>\n",
       "      <th>auction price</th>\n",
       "      <th>winnings</th>\n",
       "      <th>lifetime record</th>\n",
       "      <th>wined race title</th>\n",
       "      <th>inbreeding-1</th>\n",
       "      <th>inbreeding-2</th>\n",
       "      <th>father</th>\n",
       "      <th>faths father</th>\n",
       "      <th>faths mother</th>\n",
       "      <th>mother</th>\n",
       "      <th>moths father</th>\n",
       "      <th>moths mother</th>\n",
       "    </tr>\n",
       "  </thead>\n",
       "  <tbody>\n",
       "    <tr>\n",
       "      <th>0</th>\n",
       "      <td>2009102739</td>\n",
       "      <td>2009年3月6日</td>\n",
       "      <td>01105</td>\n",
       "      <td>882800</td>\n",
       "      <td>403394</td>\n",
       "      <td>日高町</td>\n",
       "      <td>\\n-\\n</td>\n",
       "      <td>\\n\\n\\n13億9,776万円 (中央)\\n\\n</td>\n",
       "      <td>28戦13勝 [13-3-2-10]</td>\n",
       "      <td>201206050810</td>\n",
       "      <td>2011100651</td>\n",
       "      <td>2015101700</td>\n",
       "      <td>1994108729</td>\n",
       "      <td>000a00033a</td>\n",
       "      <td>1988107344</td>\n",
       "      <td>1998106155</td>\n",
       "      <td>1987107235</td>\n",
       "      <td>1987106268</td>\n",
       "    </tr>\n",
       "  </tbody>\n",
       "</table>\n",
       "</div>"
      ],
      "text/plain": [
       "     horse_id       bday tame_id owner_id producer production area  \\\n",
       "0  2009102739  2009年3月6日   01105   882800   403394             日高町   \n",
       "\n",
       "  auction price                   winnings     lifetime record  \\\n",
       "0         \\n-\\n  \\n\\n\\n13億9,776万円 (中央)\\n\\n  28戦13勝 [13-3-2-10]   \n",
       "\n",
       "  wined race title inbreeding-1 inbreeding-2      father faths father  \\\n",
       "0     201206050810   2011100651   2015101700  1994108729   000a00033a   \n",
       "\n",
       "  faths mother      mother moths father moths mother  \n",
       "0   1988107344  1998106155   1987107235   1987106268  "
      ]
     },
     "execution_count": 341,
     "metadata": {},
     "output_type": "execute_result"
    }
   ],
   "source": [
    "horse_df"
   ]
  },
  {
   "cell_type": "code",
   "execution_count": null,
   "id": "53c8bade",
   "metadata": {},
   "outputs": [],
   "source": []
  }
 ],
 "metadata": {
  "kernelspec": {
   "display_name": "Python 3 (ipykernel)",
   "language": "python",
   "name": "python3"
  },
  "language_info": {
   "codemirror_mode": {
    "name": "ipython",
    "version": 3
   },
   "file_extension": ".py",
   "mimetype": "text/x-python",
   "name": "python",
   "nbconvert_exporter": "python",
   "pygments_lexer": "ipython3",
   "version": "3.9.13"
  }
 },
 "nbformat": 4,
 "nbformat_minor": 5
}
