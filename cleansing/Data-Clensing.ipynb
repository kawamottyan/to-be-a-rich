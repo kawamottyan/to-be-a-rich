{
 "cells": [
  {
   "cell_type": "code",
   "execution_count": 1,
   "id": "d82c73b1",
   "metadata": {},
   "outputs": [],
   "source": [
    "#インポート文\n",
    "import numpy as np\n",
    "import pandas as pd\n",
    "import os\n",
    "import warnings"
   ]
  },
  {
   "cell_type": "code",
   "execution_count": 2,
   "id": "8cacf8cd",
   "metadata": {},
   "outputs": [],
   "source": [
    "race_df = pd.DataFrame()\n",
    "horse_df = pd.DataFrame()\n",
    "#csvファイルのマージ\n",
    "for year in range(2023, 2024):\n",
    "    for month in range(1,3):\n",
    "        race_tmp_df = pd.read_csv(\"../data/csv/race-\"+str(year)+\"-\"+str(month)+\".csv\", sep=\",\")\n",
    "        horse_tmp_df = pd.read_csv(\"../data/csv/horse-\"+str(year)+\"-\"+str(month)+\".csv\", sep=\",\")\n",
    "        race_df = pd.concat([race_df, race_tmp_df], axis=0)\n",
    "        horse_df = pd.concat([horse_df, horse_tmp_df], axis=0)"
   ]
  },
  {
   "cell_type": "markdown",
   "id": "93881eba",
   "metadata": {},
   "source": [
    "# race_df"
   ]
  },
  {
   "cell_type": "code",
   "execution_count": 3,
   "id": "ee475424",
   "metadata": {
    "scrolled": true
   },
   "outputs": [
    {
     "data": {
      "text/html": [
       "<div>\n",
       "<style scoped>\n",
       "    .dataframe tbody tr th:only-of-type {\n",
       "        vertical-align: middle;\n",
       "    }\n",
       "\n",
       "    .dataframe tbody tr th {\n",
       "        vertical-align: top;\n",
       "    }\n",
       "\n",
       "    .dataframe thead th {\n",
       "        text-align: right;\n",
       "    }\n",
       "</style>\n",
       "<table border=\"1\" class=\"dataframe\">\n",
       "  <thead>\n",
       "    <tr style=\"text-align: right;\">\n",
       "      <th></th>\n",
       "      <th>race_id</th>\n",
       "      <th>race_round</th>\n",
       "      <th>race_title</th>\n",
       "      <th>race_course</th>\n",
       "      <th>weather</th>\n",
       "      <th>ground_status</th>\n",
       "      <th>time</th>\n",
       "      <th>date</th>\n",
       "      <th>where_racecourse</th>\n",
       "      <th>total_horse_number</th>\n",
       "      <th>frame_number_first</th>\n",
       "      <th>horse_number_first</th>\n",
       "      <th>frame_number_second</th>\n",
       "      <th>horse_number_second</th>\n",
       "      <th>frame_number_third</th>\n",
       "      <th>horse_number_third</th>\n",
       "      <th>tansyo</th>\n",
       "      <th>hukusyo_first</th>\n",
       "      <th>hukusyo_second</th>\n",
       "      <th>hukusyo_third</th>\n",
       "      <th>wakuren</th>\n",
       "      <th>umaren</th>\n",
       "      <th>wide_1_2</th>\n",
       "      <th>wide_1_3</th>\n",
       "      <th>wide_2_3</th>\n",
       "      <th>umatan</th>\n",
       "      <th>renhuku3</th>\n",
       "      <th>rentan3</th>\n",
       "    </tr>\n",
       "  </thead>\n",
       "  <tbody>\n",
       "    <tr>\n",
       "      <th>0</th>\n",
       "      <td>202305010101</td>\n",
       "      <td>1 R</td>\n",
       "      <td>3歳未勝利</td>\n",
       "      <td>ダ左1400m</td>\n",
       "      <td>天候 : 晴</td>\n",
       "      <td>ダート : 良</td>\n",
       "      <td>発走 : 10:05</td>\n",
       "      <td>2023年1月28日</td>\n",
       "      <td>1回東京1日目</td>\n",
       "      <td>16</td>\n",
       "      <td>7</td>\n",
       "      <td>14</td>\n",
       "      <td>5</td>\n",
       "      <td>10</td>\n",
       "      <td>5</td>\n",
       "      <td>9</td>\n",
       "      <td>160</td>\n",
       "      <td>110</td>\n",
       "      <td>170</td>\n",
       "      <td>890</td>\n",
       "      <td>430</td>\n",
       "      <td>520</td>\n",
       "      <td>270</td>\n",
       "      <td>1,820</td>\n",
       "      <td>4,120</td>\n",
       "      <td>710</td>\n",
       "      <td>7,490</td>\n",
       "      <td>18,190</td>\n",
       "    </tr>\n",
       "  </tbody>\n",
       "</table>\n",
       "</div>"
      ],
      "text/plain": [
       "        race_id race_round race_title race_course weather ground_status  \\\n",
       "0  202305010101        1 R      3歳未勝利     ダ左1400m  天候 : 晴       ダート : 良   \n",
       "\n",
       "         time        date where_racecourse  total_horse_number  \\\n",
       "0  発走 : 10:05  2023年1月28日          1回東京1日目                  16   \n",
       "\n",
       "   frame_number_first  horse_number_first  frame_number_second  \\\n",
       "0                   7                  14                    5   \n",
       "\n",
       "   horse_number_second  frame_number_third  horse_number_third tansyo  \\\n",
       "0                   10                   5                   9    160   \n",
       "\n",
       "  hukusyo_first hukusyo_second hukusyo_third wakuren umaren wide_1_2 wide_1_3  \\\n",
       "0           110            170           890     430    520      270    1,820   \n",
       "\n",
       "  wide_2_3 umatan renhuku3 rentan3  \n",
       "0    4,120    710    7,490  18,190  "
      ]
     },
     "execution_count": 3,
     "metadata": {},
     "output_type": "execute_result"
    }
   ],
   "source": [
    "pd.set_option('display.max_columns', 100)\n",
    "race_df.head(1)"
   ]
  },
  {
   "cell_type": "markdown",
   "id": "9fb71e3a",
   "metadata": {},
   "source": [
    "##### race_id"
   ]
  },
  {
   "cell_type": "code",
   "execution_count": null,
   "id": "eb7e61a4",
   "metadata": {},
   "outputs": [],
   "source": []
  },
  {
   "cell_type": "markdown",
   "id": "09e0cddf",
   "metadata": {},
   "source": [
    "##### race_round"
   ]
  },
  {
   "cell_type": "code",
   "execution_count": 4,
   "id": "9261e2ef",
   "metadata": {},
   "outputs": [],
   "source": [
    "race_df['race_round'] = race_df['race_round'].str.strip('R \\n')"
   ]
  },
  {
   "cell_type": "markdown",
   "id": "89d6f3a4",
   "metadata": {},
   "source": [
    "##### race_title"
   ]
  },
  {
   "cell_type": "code",
   "execution_count": null,
   "id": "f25843f3",
   "metadata": {},
   "outputs": [],
   "source": []
  },
  {
   "cell_type": "markdown",
   "id": "c4828f48",
   "metadata": {},
   "source": [
    "##### race_course"
   ]
  },
  {
   "cell_type": "code",
   "execution_count": 5,
   "id": "aded5830",
   "metadata": {},
   "outputs": [],
   "source": [
    "#ストリングデータから各情報の抽出\n",
    "#障害レース\n",
    "obstacle = race_df[\"race_course\"].str.extract('(障)', expand=True)\n",
    "#ダートor芝レース\n",
    "ground_type = race_df[\"race_course\"].str.extract('(ダ|芝)', expand=True)\n",
    "#右周りor左周り\n",
    "is_left_right_straight = race_df[\"race_course\"].str.extract('(左|右|直線)', expand=True)\n",
    "#距離\n",
    "distance = race_df[\"race_course\"].str.extract('(\\d+)m', expand=True)"
   ]
  },
  {
   "cell_type": "code",
   "execution_count": 6,
   "id": "ae7d2fdb",
   "metadata": {},
   "outputs": [],
   "source": [
    "#各情報をカラムに変換\n",
    "obstacle.columns ={\"is_obstacle\"}\n",
    "ground_type.columns ={\"ground_type\"}\n",
    "is_left_right_straight.columns = {\"is_left_right_straight\"}\n",
    "distance.columns = {\"distance\"}"
   ]
  },
  {
   "cell_type": "code",
   "execution_count": 7,
   "id": "d17ca0b8",
   "metadata": {},
   "outputs": [],
   "source": [
    "#データフレームに結合\n",
    "race_df = pd.concat([race_df, obstacle], axis=1)\n",
    "race_df = pd.concat([race_df, ground_type], axis=1)\n",
    "race_df = pd.concat([race_df, is_left_right_straight], axis=1)\n",
    "race_df = pd.concat([race_df, distance], axis=1)"
   ]
  },
  {
   "cell_type": "code",
   "execution_count": 8,
   "id": "dd5c6442",
   "metadata": {},
   "outputs": [],
   "source": [
    "race_df[\"is_left_right_straight\"] = race_df[\"is_left_right_straight\"].fillna(\"None\")"
   ]
  },
  {
   "cell_type": "code",
   "execution_count": 9,
   "id": "56c4fc09",
   "metadata": {},
   "outputs": [],
   "source": [
    "#障を1に、欠損値を0に変換\n",
    "race_df['is_obstacle'] = race_df['is_obstacle'].replace('障', 1)\n",
    "race_df.fillna(value={'is_obstacle': 0}, inplace=True)"
   ]
  },
  {
   "cell_type": "code",
   "execution_count": 10,
   "id": "0ce9e7df",
   "metadata": {},
   "outputs": [],
   "source": [
    "# print(\"is_obstacle:\", race_df[\"is_obstacle\"].unique())\n",
    "# print(\"ground_type:\", race_df[\"ground_type\"].unique())\n",
    "# print(\"is_left_right_straight:\", race_df[\"is_left_right_straight\"].unique())\n",
    "# print(\"distance isnull sum:\", race_df[\"distance\"].isnull().sum())"
   ]
  },
  {
   "cell_type": "code",
   "execution_count": 11,
   "id": "6eaf5921",
   "metadata": {},
   "outputs": [],
   "source": [
    "#オリジナルの削除\n",
    "race_df.drop(['race_course'], axis=1, inplace=True)"
   ]
  },
  {
   "cell_type": "markdown",
   "id": "7452aab6",
   "metadata": {},
   "source": [
    "##### weather"
   ]
  },
  {
   "cell_type": "code",
   "execution_count": 12,
   "id": "a52607f9",
   "metadata": {},
   "outputs": [],
   "source": [
    "race_df['weather'] = race_df['weather'].str.strip('天候 :')"
   ]
  },
  {
   "cell_type": "code",
   "execution_count": 13,
   "id": "fa7be44d",
   "metadata": {},
   "outputs": [],
   "source": [
    "weather_rain = race_df[\"weather\"].str.extract('(小雨|雨)', expand=True)\n",
    "weather_snow = race_df[\"weather\"].str.extract('(小雪|雪)', expand=True)\n",
    "weather_rain.columns ={\"weather_rain\"}\n",
    "weather_snow.columns ={\"weather_snow\"}\n",
    "race_df = pd.concat([race_df, weather_rain], axis=1)\n",
    "race_df = pd.concat([race_df, weather_snow], axis=1)\n",
    "\n",
    "race_df.fillna(value={'weather_rain': 0}, inplace=True)\n",
    "race_df['weather_rain'] = race_df['weather_rain'].replace('小雨', 1)\n",
    "race_df['weather_rain'] = race_df['weather_rain'].replace('雨', 2)\n",
    "race_df.fillna(value={'weather_snow': 0}, inplace=True)\n",
    "race_df['weather_snow'] = race_df['weather_snow'].replace('小雪', 1)\n",
    "race_df['weather_snow'] = race_df['weather_snow'].replace('雪', 2)"
   ]
  },
  {
   "cell_type": "markdown",
   "id": "b878fcb4",
   "metadata": {},
   "source": [
    "##### ground_status"
   ]
  },
  {
   "cell_type": "code",
   "execution_count": 14,
   "id": "f4c422e2",
   "metadata": {},
   "outputs": [],
   "source": [
    "race_df['ground_status'] = race_df['ground_status'].replace('.*(稍重).*', 4,regex=True)\n",
    "race_df['ground_status'] = race_df['ground_status'].replace('.*(重).*', 3,regex=True)\n",
    "race_df['ground_status'] = race_df['ground_status'].replace('.*(不良).*', 2,regex=True)\n",
    "race_df['ground_status'] = race_df['ground_status'].replace('.*(良).*', 1,regex=True)"
   ]
  },
  {
   "cell_type": "markdown",
   "id": "ae864756",
   "metadata": {},
   "source": [
    "##### time"
   ]
  },
  {
   "cell_type": "code",
   "execution_count": 15,
   "id": "0180f2bb",
   "metadata": {},
   "outputs": [],
   "source": [
    "warnings.filterwarnings('ignore', 'The default value of regex')\n",
    "\n",
    "race_df[\"time\"] = race_df[\"time\"].str.replace('発走 : (\\d\\d):(\\d\\d)(.|\\n)*', r'\\1時\\2分')\n",
    "race_df[\"datetime\"] = race_df[\"date\"] + race_df[\"time\"]\n",
    "race_df[\"datetime\"] = pd.to_datetime(race_df['datetime'], format='%Y年%m月%d日%H時%M分')"
   ]
  },
  {
   "cell_type": "code",
   "execution_count": 16,
   "id": "482d3c6b",
   "metadata": {},
   "outputs": [],
   "source": [
    "#オリジナルの削除\n",
    "race_df.drop(['time'], axis=1, inplace=True)\n",
    "race_df.drop(['date'], axis=1, inplace=True)"
   ]
  },
  {
   "cell_type": "markdown",
   "id": "2fe24aee",
   "metadata": {},
   "source": [
    "##### where_racecourse"
   ]
  },
  {
   "cell_type": "code",
   "execution_count": 17,
   "id": "cd565c73",
   "metadata": {},
   "outputs": [],
   "source": [
    "race_df[\"where_racecourse\"] = race_df[\"where_racecourse\"].str.replace('\\d*回(..)\\d*日目', r'\\1')"
   ]
  },
  {
   "cell_type": "markdown",
   "id": "1f69823e",
   "metadata": {},
   "source": [
    "##### total_horse_number\n",
    "##### frame_number_first\n",
    "##### horse_number_first\n",
    "##### frame_number_second\n",
    "##### horse_number_second\n",
    "##### frame_number_third\n",
    "##### horse_number_third\t"
   ]
  },
  {
   "cell_type": "code",
   "execution_count": null,
   "id": "b0926916",
   "metadata": {},
   "outputs": [],
   "source": []
  },
  {
   "cell_type": "markdown",
   "id": "444420e1",
   "metadata": {},
   "source": [
    "##### tansyo\n",
    "##### hukusyo_first\n",
    "##### hukusyo_second\n",
    "##### hukusyo_third\n",
    "##### wakuren\n",
    "##### umaren\n",
    "##### wide_1_2\n",
    "##### wide_1_3\n",
    "##### wide_2_3\n",
    "##### umatan\n",
    "##### renhuku3\n",
    "##### rentan3"
   ]
  },
  {
   "cell_type": "code",
   "execution_count": 18,
   "id": "bcd132d3",
   "metadata": {},
   "outputs": [],
   "source": [
    "race_df['tansyo'] = race_df['tansyo'].apply(lambda x: int(x.replace(\",\", \"\")) if type(x) is str else int(x))\n",
    "race_df['hukusyo_first'] = race_df['hukusyo_first'].apply(lambda x: int(x.replace(\",\", \"\")) if type(x) is str else int(x))\n",
    "race_df['hukusyo_second'] = race_df['hukusyo_second'].apply(lambda x: int(x.replace(\",\", \"\")) if type(x) is str else int(x))\n",
    "race_df['hukusyo_third'] = race_df['hukusyo_third'].apply(lambda x: int(x.replace(\",\", \"\")) if type(x) is str else int(x))\n",
    "race_df['wakuren'] = race_df['wakuren'].apply(lambda x: int(x.replace(\",\", \"\")) if type(x) is str else int(x))\n",
    "race_df['umaren'] = race_df['umaren'].apply(lambda x: int(x.replace(\",\", \"\")) if type(x) is str else int(x))\n",
    "race_df['wide_1_2'] = race_df['wide_1_2'].apply(lambda x: int(x.replace(\",\", \"\")) if type(x) is str else int(x))\n",
    "race_df['wide_1_3'] = race_df['wide_1_3'].apply(lambda x: int(x.replace(\",\", \"\")) if type(x) is str else int(x))\n",
    "race_df['wide_2_3'] = race_df['wide_2_3'].apply(lambda x: int(x.replace(\",\", \"\")) if type(x) is str else int(x))\n",
    "race_df['umatan'] = race_df['umatan'].apply(lambda x: int(x.replace(\",\", \"\")) if type(x) is str else int(x))\n",
    "race_df['renhuku3'] = race_df['renhuku3'].apply(lambda x: int(x.replace(\",\", \"\")) if type(x) is str else int(x))\n",
    "race_df['rentan3'] = race_df['rentan3'].apply(lambda x: int(x.replace(\",\", \"\")) if type(x) is str else int(x))"
   ]
  },
  {
   "cell_type": "code",
   "execution_count": 19,
   "id": "4917d7f5",
   "metadata": {},
   "outputs": [
    {
     "data": {
      "text/html": [
       "<div>\n",
       "<style scoped>\n",
       "    .dataframe tbody tr th:only-of-type {\n",
       "        vertical-align: middle;\n",
       "    }\n",
       "\n",
       "    .dataframe tbody tr th {\n",
       "        vertical-align: top;\n",
       "    }\n",
       "\n",
       "    .dataframe thead th {\n",
       "        text-align: right;\n",
       "    }\n",
       "</style>\n",
       "<table border=\"1\" class=\"dataframe\">\n",
       "  <thead>\n",
       "    <tr style=\"text-align: right;\">\n",
       "      <th></th>\n",
       "      <th>race_id</th>\n",
       "      <th>race_round</th>\n",
       "      <th>race_title</th>\n",
       "      <th>weather</th>\n",
       "      <th>ground_status</th>\n",
       "      <th>where_racecourse</th>\n",
       "      <th>total_horse_number</th>\n",
       "      <th>frame_number_first</th>\n",
       "      <th>horse_number_first</th>\n",
       "      <th>frame_number_second</th>\n",
       "      <th>horse_number_second</th>\n",
       "      <th>frame_number_third</th>\n",
       "      <th>horse_number_third</th>\n",
       "      <th>tansyo</th>\n",
       "      <th>hukusyo_first</th>\n",
       "      <th>hukusyo_second</th>\n",
       "      <th>hukusyo_third</th>\n",
       "      <th>wakuren</th>\n",
       "      <th>umaren</th>\n",
       "      <th>wide_1_2</th>\n",
       "      <th>wide_1_3</th>\n",
       "      <th>wide_2_3</th>\n",
       "      <th>umatan</th>\n",
       "      <th>renhuku3</th>\n",
       "      <th>rentan3</th>\n",
       "      <th>is_obstacle</th>\n",
       "      <th>ground_type</th>\n",
       "      <th>is_left_right_straight</th>\n",
       "      <th>distance</th>\n",
       "      <th>weather_rain</th>\n",
       "      <th>weather_snow</th>\n",
       "      <th>datetime</th>\n",
       "    </tr>\n",
       "  </thead>\n",
       "  <tbody>\n",
       "    <tr>\n",
       "      <th>0</th>\n",
       "      <td>202305010101</td>\n",
       "      <td>1</td>\n",
       "      <td>3歳未勝利</td>\n",
       "      <td>晴</td>\n",
       "      <td>1</td>\n",
       "      <td>東京</td>\n",
       "      <td>16</td>\n",
       "      <td>7</td>\n",
       "      <td>14</td>\n",
       "      <td>5</td>\n",
       "      <td>10</td>\n",
       "      <td>5</td>\n",
       "      <td>9</td>\n",
       "      <td>160</td>\n",
       "      <td>110</td>\n",
       "      <td>170</td>\n",
       "      <td>890</td>\n",
       "      <td>430</td>\n",
       "      <td>520</td>\n",
       "      <td>270</td>\n",
       "      <td>1820</td>\n",
       "      <td>4120</td>\n",
       "      <td>710</td>\n",
       "      <td>7490</td>\n",
       "      <td>18190</td>\n",
       "      <td>0.0</td>\n",
       "      <td>ダ</td>\n",
       "      <td>左</td>\n",
       "      <td>1400</td>\n",
       "      <td>0</td>\n",
       "      <td>0</td>\n",
       "      <td>2023-01-28 10:05:00</td>\n",
       "    </tr>\n",
       "  </tbody>\n",
       "</table>\n",
       "</div>"
      ],
      "text/plain": [
       "        race_id race_round race_title weather  ground_status where_racecourse  \\\n",
       "0  202305010101          1      3歳未勝利       晴              1               東京   \n",
       "\n",
       "   total_horse_number  frame_number_first  horse_number_first  \\\n",
       "0                  16                   7                  14   \n",
       "\n",
       "   frame_number_second  horse_number_second  frame_number_third  \\\n",
       "0                    5                   10                   5   \n",
       "\n",
       "   horse_number_third  tansyo  hukusyo_first  hukusyo_second  hukusyo_third  \\\n",
       "0                   9     160            110             170            890   \n",
       "\n",
       "   wakuren  umaren  wide_1_2  wide_1_3  wide_2_3  umatan  renhuku3  rentan3  \\\n",
       "0      430     520       270      1820      4120     710      7490    18190   \n",
       "\n",
       "   is_obstacle ground_type is_left_right_straight distance  weather_rain  \\\n",
       "0          0.0           ダ                      左     1400             0   \n",
       "\n",
       "   weather_snow            datetime  \n",
       "0             0 2023-01-28 10:05:00  "
      ]
     },
     "execution_count": 19,
     "metadata": {},
     "output_type": "execute_result"
    }
   ],
   "source": [
    "race_df.head(1)"
   ]
  },
  {
   "cell_type": "code",
   "execution_count": 20,
   "id": "1b3f661e",
   "metadata": {},
   "outputs": [],
   "source": [
    "if not os.path.exists('../data/main'):\n",
    "    os.makedirs('../data/main')"
   ]
  },
  {
   "cell_type": "code",
   "execution_count": 21,
   "id": "ecf9aa9f",
   "metadata": {},
   "outputs": [],
   "source": [
    "race_df.to_csv(\"../data/main/race_data.csv\",\n",
    "               index=False\n",
    "              )"
   ]
  },
  {
   "cell_type": "markdown",
   "id": "cbf785e6",
   "metadata": {},
   "source": [
    "# horse_df"
   ]
  },
  {
   "cell_type": "code",
   "execution_count": 22,
   "id": "c8b83f08",
   "metadata": {},
   "outputs": [
    {
     "data": {
      "text/html": [
       "<div>\n",
       "<style scoped>\n",
       "    .dataframe tbody tr th:only-of-type {\n",
       "        vertical-align: middle;\n",
       "    }\n",
       "\n",
       "    .dataframe tbody tr th {\n",
       "        vertical-align: top;\n",
       "    }\n",
       "\n",
       "    .dataframe thead th {\n",
       "        text-align: right;\n",
       "    }\n",
       "</style>\n",
       "<table border=\"1\" class=\"dataframe\">\n",
       "  <thead>\n",
       "    <tr style=\"text-align: right;\">\n",
       "      <th></th>\n",
       "      <th>race_id</th>\n",
       "      <th>rank</th>\n",
       "      <th>frame_number</th>\n",
       "      <th>horse_number</th>\n",
       "      <th>horse_id</th>\n",
       "      <th>sex_and_age</th>\n",
       "      <th>burden_weight</th>\n",
       "      <th>rider_id</th>\n",
       "      <th>goal_time</th>\n",
       "      <th>goal_time_dif</th>\n",
       "      <th>time_value</th>\n",
       "      <th>half_way_rank</th>\n",
       "      <th>last_time</th>\n",
       "      <th>odds</th>\n",
       "      <th>popular</th>\n",
       "      <th>horse_weight</th>\n",
       "      <th>tame_time</th>\n",
       "      <th>tamer_id</th>\n",
       "      <th>owner_id</th>\n",
       "    </tr>\n",
       "  </thead>\n",
       "  <tbody>\n",
       "    <tr>\n",
       "      <th>0</th>\n",
       "      <td>202305010101</td>\n",
       "      <td>1</td>\n",
       "      <td>7</td>\n",
       "      <td>14</td>\n",
       "      <td>2020103198</td>\n",
       "      <td>牝3</td>\n",
       "      <td>54.0</td>\n",
       "      <td>1170</td>\n",
       "      <td>1:26.1</td>\n",
       "      <td>NaN</td>\n",
       "      <td>\\n\\n**\\n\\n</td>\n",
       "      <td>1-1</td>\n",
       "      <td>37.3</td>\n",
       "      <td>1.6</td>\n",
       "      <td>1.0</td>\n",
       "      <td>444(-4)</td>\n",
       "      <td>\\n\\n</td>\n",
       "      <td>1167</td>\n",
       "      <td>226800</td>\n",
       "    </tr>\n",
       "  </tbody>\n",
       "</table>\n",
       "</div>"
      ],
      "text/plain": [
       "        race_id rank  frame_number  horse_number    horse_id sex_and_age  \\\n",
       "0  202305010101    1             7            14  2020103198          牝3   \n",
       "\n",
       "   burden_weight  rider_id goal_time goal_time_dif  time_value half_way_rank  \\\n",
       "0           54.0      1170    1:26.1           NaN  \\n\\n**\\n\\n           1-1   \n",
       "\n",
       "   last_time odds  popular horse_weight tame_time  tamer_id  owner_id  \n",
       "0       37.3  1.6      1.0      444(-4)      \\n\\n      1167    226800  "
      ]
     },
     "execution_count": 22,
     "metadata": {},
     "output_type": "execute_result"
    }
   ],
   "source": [
    "horse_df.head(1)"
   ]
  },
  {
   "cell_type": "markdown",
   "id": "b2571afd",
   "metadata": {},
   "source": [
    "##### race_id"
   ]
  },
  {
   "cell_type": "code",
   "execution_count": null,
   "id": "d830b233",
   "metadata": {},
   "outputs": [],
   "source": []
  },
  {
   "cell_type": "markdown",
   "id": "8989f43b",
   "metadata": {},
   "source": [
    "##### rank"
   ]
  },
  {
   "cell_type": "code",
   "execution_count": 23,
   "id": "16c5ec00",
   "metadata": {},
   "outputs": [],
   "source": [
    "is_down = horse_df[\"rank\"].str.extract('(\\(降\\))', expand=True)\n",
    "is_down.columns ={\"is_down\"}\n",
    "horse_df = pd.concat([horse_df, is_down], axis=1)\n",
    "\n",
    "horse_df.fillna(value={'is_down': 0}, inplace=True)\n",
    "horse_df['is_down'] = horse_df['is_down'].replace('(降)', 1)\n",
    "\n",
    "## 余分な文字を削除\n",
    "horse_df['rank'] = horse_df['rank'].apply(lambda x: x.replace(\"(降)\", \"\"))\n",
    "horse_df['rank'] = horse_df['rank'].apply(lambda x: x.replace(\"(再)\", \"\"))"
   ]
  },
  {
   "cell_type": "code",
   "execution_count": 24,
   "id": "23238370",
   "metadata": {},
   "outputs": [],
   "source": [
    "horse_df = horse_df[(horse_df['rank'] != \"取\") & (horse_df['rank'] != \"除\") & (horse_df['rank'] != \"失\")]\n",
    "horse_df['rank'] = pd.DataFrame(horse_df['rank'].mask(horse_df['rank'] == \"中\", 20))"
   ]
  },
  {
   "cell_type": "markdown",
   "id": "ca564db8",
   "metadata": {},
   "source": [
    "##### frame_number\n",
    "##### horse_number\n",
    "##### horse_id"
   ]
  },
  {
   "cell_type": "code",
   "execution_count": null,
   "id": "63d247dc",
   "metadata": {},
   "outputs": [],
   "source": []
  },
  {
   "cell_type": "markdown",
   "id": "e2a20123",
   "metadata": {},
   "source": [
    "##### sex_and_age"
   ]
  },
  {
   "cell_type": "code",
   "execution_count": 25,
   "id": "181c4bbd",
   "metadata": {},
   "outputs": [],
   "source": [
    "is_senba = horse_df[\"sex_and_age\"].str.extract('(セ)', expand=True)\n",
    "is_senba.columns ={\"is_senba\"}\n",
    "horse_df = pd.concat([horse_df, is_senba], axis=1)\n",
    "\n",
    "is_mesu = horse_df[\"sex_and_age\"].str.extract('(牝)', expand=True)\n",
    "is_mesu.columns ={\"is_mesu\"}\n",
    "horse_df = pd.concat([horse_df, is_mesu], axis=1)\n",
    "\n",
    "is_osu = horse_df[\"sex_and_age\"].str.extract('(牡)', expand=True)\n",
    "is_osu.columns ={\"is_osu\"}\n",
    "horse_df = pd.concat([horse_df, is_osu], axis=1)"
   ]
  },
  {
   "cell_type": "code",
   "execution_count": 26,
   "id": "5d2df555",
   "metadata": {},
   "outputs": [],
   "source": [
    "horse_df.fillna(value={'is_osu': 0}, inplace=True)\n",
    "horse_df['is_osu'] = horse_df['is_osu'].replace('牡', 1)\n",
    "horse_df.fillna(value={'is_mesu': 0}, inplace=True)\n",
    "horse_df['is_mesu'] = horse_df['is_mesu'].replace('牝', 1)\n",
    "horse_df.fillna(value={'is_senba': 0}, inplace=True)\n",
    "horse_df['is_senba'] = horse_df['is_senba'].replace('セ', 1)\n",
    "## 余分な文字を削除\n",
    "horse_df['sex_and_age'] = horse_df['sex_and_age'].str.strip(\"牝牡セ\")\n",
    "horse_df['sex_and_age'] = horse_df['sex_and_age'].astype(int)"
   ]
  },
  {
   "cell_type": "markdown",
   "id": "cc4dce72",
   "metadata": {},
   "source": [
    "##### burden_weight\n",
    "##### rider_id"
   ]
  },
  {
   "cell_type": "code",
   "execution_count": null,
   "id": "ec308f12",
   "metadata": {},
   "outputs": [],
   "source": []
  },
  {
   "cell_type": "markdown",
   "id": "84a352fd",
   "metadata": {},
   "source": [
    "##### goal_time"
   ]
  },
  {
   "cell_type": "code",
   "execution_count": 27,
   "id": "28211fa6",
   "metadata": {},
   "outputs": [],
   "source": [
    "horse_df['goal_time'] = pd.to_datetime(horse_df['goal_time'], format='%M:%S.%f') - pd.to_datetime('00:00.0', format='%M:%S.%f')\n",
    "horse_df['goal_time'] = horse_df['goal_time'].dt.total_seconds()"
   ]
  },
  {
   "cell_type": "code",
   "execution_count": 28,
   "id": "9311483f",
   "metadata": {},
   "outputs": [],
   "source": [
    "# 欠損値を最大値で埋める\n",
    "horse_df.fillna(value={'goal_time': horse_df['goal_time'].max()}, inplace=True)"
   ]
  },
  {
   "cell_type": "markdown",
   "id": "03ffe14d",
   "metadata": {},
   "source": [
    "##### last_time"
   ]
  },
  {
   "cell_type": "code",
   "execution_count": 29,
   "id": "25a03e1f",
   "metadata": {},
   "outputs": [],
   "source": [
    "# 欠損値を最大値で埋める\n",
    "horse_df.fillna(value={'last_time': horse_df['last_time'].max()}, inplace=True)"
   ]
  },
  {
   "cell_type": "code",
   "execution_count": 30,
   "id": "f78e40ed",
   "metadata": {},
   "outputs": [],
   "source": [
    "horse_df[\"last_time\"] = pd.to_numeric(horse_df[\"last_time\"], errors=\"coerce\")\n",
    "horse_df[\"last_time\"] = horse_df[\"last_time\"].apply(lambda x: int((x // 100) * 60 + (x % 100) + 0.5))"
   ]
  },
  {
   "cell_type": "markdown",
   "id": "d13c0002",
   "metadata": {},
   "source": [
    "##### time_value\n",
    "##### tame_time"
   ]
  },
  {
   "cell_type": "code",
   "execution_count": 31,
   "id": "4e708610",
   "metadata": {},
   "outputs": [],
   "source": [
    "#time_value, tame_time(プレミアム会員向けの情報なので削除\n",
    "horse_df.drop(['time_value'], axis=1, inplace=True)\n",
    "horse_df.drop(['tame_time'], axis=1, inplace=True)"
   ]
  },
  {
   "cell_type": "markdown",
   "id": "31e05092",
   "metadata": {},
   "source": [
    "##### half_way_rank"
   ]
  },
  {
   "cell_type": "code",
   "execution_count": 32,
   "id": "bc85ac7a",
   "metadata": {},
   "outputs": [
    {
     "data": {
      "text/plain": [
       "array(['1-1', '5-5', '4-3', ..., '5-4-6-5', '7-7-7-14', '11-12-15-16'],\n",
       "      dtype=object)"
      ]
     },
     "execution_count": 32,
     "metadata": {},
     "output_type": "execute_result"
    }
   ],
   "source": [
    "horse_df[\"half_way_rank\"].unique()"
   ]
  },
  {
   "cell_type": "code",
   "execution_count": 33,
   "id": "e26bde86",
   "metadata": {},
   "outputs": [],
   "source": [
    "from statistics import mean\n",
    "horse_df[\"half_way_rank\"] = horse_df[\"half_way_rank\"].apply(lambda x: mean([float(n) for n in (x.split(\"-\"))]) if type(x) is str else float(x) )"
   ]
  },
  {
   "cell_type": "code",
   "execution_count": 34,
   "id": "f07a8c9a",
   "metadata": {},
   "outputs": [
    {
     "data": {
      "text/plain": [
       "0"
      ]
     },
     "execution_count": 34,
     "metadata": {},
     "output_type": "execute_result"
    }
   ],
   "source": [
    "horse_df[horse_df[\"rank\"] == 20] = horse_df[horse_df[\"rank\"] == 20].fillna({'half_way_rank': 20})\n",
    "horse_df[\"half_way_rank\"] = horse_df[\"half_way_rank\"].fillna(horse_df['half_way_rank'].mean())\n",
    "horse_df[\"half_way_rank\"].isnull().sum()"
   ]
  },
  {
   "cell_type": "code",
   "execution_count": 35,
   "id": "ac7526ea",
   "metadata": {},
   "outputs": [],
   "source": [
    "horse_df[\"half_way_rank\"] = horse_df[\"half_way_rank\"].astype(float)"
   ]
  },
  {
   "cell_type": "markdown",
   "id": "1cafbf58",
   "metadata": {},
   "source": [
    "##### horse_weight"
   ]
  },
  {
   "cell_type": "code",
   "execution_count": 36,
   "id": "a643e7aa",
   "metadata": {},
   "outputs": [],
   "source": [
    "horse_weight_dif = horse_df[\"horse_weight\"].str.extract('\\(([-|+]?\\d*)\\)', expand=True)\n",
    "horse_weight_dif.columns ={\"horse_weight_dif\"}\n",
    "\n",
    "horse_df = pd.concat([horse_df, horse_weight_dif], axis=1)\n",
    "\n",
    "horse_df['horse_weight'] = horse_df['horse_weight'].replace('\\(([-|+]?\\d*)\\)', '', regex=True)"
   ]
  },
  {
   "cell_type": "code",
   "execution_count": 37,
   "id": "8861c59c",
   "metadata": {},
   "outputs": [],
   "source": [
    "horse_df['horse_weight'] = horse_df['horse_weight'].replace('計不', np.nan)\n",
    "horse_df['horse_weight'] = horse_df['horse_weight'].astype(float)\n",
    "horse_df['horse_weight_dif'] = horse_df['horse_weight_dif'].astype(float)"
   ]
  },
  {
   "cell_type": "code",
   "execution_count": 38,
   "id": "8b08e82c",
   "metadata": {},
   "outputs": [],
   "source": [
    "# 計不 の horse_idを探し、馬ごとの平均値で穴埋め\n",
    "no_records = horse_df[horse_df['horse_weight'].isnull()]['horse_id']\n",
    "for no_record_id in no_records:\n",
    "    horse_df.loc[(horse_df['horse_id'] == no_record_id)&(horse_df['horse_weight'].isnull()), 'horse_weight'] = horse_df[horse_df['horse_id'] == no_record_id]['horse_weight'].mean() \n",
    "    horse_df.loc[(horse_df['horse_id'] == no_record_id)&(horse_df['horse_weight_dif'].isnull()), 'horse_weight_dif'] = 0 "
   ]
  },
  {
   "cell_type": "markdown",
   "id": "c5389ff9",
   "metadata": {},
   "source": [
    "##### goal_time_dif"
   ]
  },
  {
   "cell_type": "code",
   "execution_count": 39,
   "id": "959c277c",
   "metadata": {
    "scrolled": true
   },
   "outputs": [],
   "source": [
    "horse_df['goal_time_dif'] = horse_df.groupby('race_id')['goal_time'].diff().fillna(0).reset_index(drop=True)"
   ]
  },
  {
   "cell_type": "markdown",
   "id": "c2bbc111",
   "metadata": {},
   "source": [
    "##### burden_weight_rate"
   ]
  },
  {
   "cell_type": "code",
   "execution_count": 40,
   "id": "297885c5",
   "metadata": {},
   "outputs": [],
   "source": [
    "horse_df['burden_weight_rate'] = horse_df['burden_weight']/horse_df['horse_weight']"
   ]
  },
  {
   "cell_type": "markdown",
   "id": "43862ca2",
   "metadata": {},
   "source": [
    "##### avg_velocity"
   ]
  },
  {
   "cell_type": "code",
   "execution_count": 41,
   "id": "18a88918",
   "metadata": {},
   "outputs": [],
   "source": [
    "# レース距離情報をmerge\n",
    "race_tmp_df = race_df[[\"race_id\", \"distance\"]]\n",
    "horse_df = pd.merge(horse_df, race_tmp_df, on='race_id')"
   ]
  },
  {
   "cell_type": "code",
   "execution_count": 42,
   "id": "93d20320",
   "metadata": {},
   "outputs": [],
   "source": [
    "horse_df[\"distance\"] = horse_df[\"distance\"].astype(int)\n",
    "horse_df[\"avg_velocity\"] = horse_df[\"distance\"]/horse_df[\"goal_time\"]"
   ]
  },
  {
   "cell_type": "code",
   "execution_count": 43,
   "id": "1c96b1c8",
   "metadata": {},
   "outputs": [],
   "source": [
    "#オリジナルの削除\n",
    "horse_df.drop(['distance'], axis=1, inplace=True)"
   ]
  },
  {
   "cell_type": "code",
   "execution_count": 44,
   "id": "69ba2915",
   "metadata": {
    "scrolled": true
   },
   "outputs": [],
   "source": [
    "horse_df.to_csv(\"../data/main/horse_data.csv\", index=False)"
   ]
  }
 ],
 "metadata": {
  "kernelspec": {
   "display_name": "Python 3 (ipykernel)",
   "language": "python",
   "name": "python3"
  },
  "language_info": {
   "codemirror_mode": {
    "name": "ipython",
    "version": 3
   },
   "file_extension": ".py",
   "mimetype": "text/x-python",
   "name": "python",
   "nbconvert_exporter": "python",
   "pygments_lexer": "ipython3",
   "version": "3.9.13"
  }
 },
 "nbformat": 4,
 "nbformat_minor": 5
}
