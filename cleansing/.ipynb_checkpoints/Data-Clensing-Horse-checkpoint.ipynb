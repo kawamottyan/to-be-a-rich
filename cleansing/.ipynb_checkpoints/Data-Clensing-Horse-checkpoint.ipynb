{
 "cells": [
  {
   "cell_type": "code",
   "execution_count": 2,
   "id": "d82c73b1",
   "metadata": {},
   "outputs": [],
   "source": [
    "#インポート文\n",
    "import numpy as np\n",
    "import pandas as pd\n",
    "import os\n",
    "import warnings\n",
    "from google.cloud import storage"
   ]
  },
  {
   "cell_type": "code",
   "execution_count": 3,
   "id": "def73853",
   "metadata": {},
   "outputs": [],
   "source": [
    "dir = 'takamatsu/horsepage'\n",
    "# race_df = pd.read_csv(\"../data/csv/\"+dir+\"/\"+\"race\"+\".csv\", sep=\",\")\n",
    "# horse_df = pd.read_csv(\"../data/csv/\"+dir+\"/\"+\"horse\"+\".csv\", sep=\",\")"
   ]
  },
  {
   "cell_type": "code",
   "execution_count": 4,
   "id": "49bb3f2f",
   "metadata": {},
   "outputs": [],
   "source": [
    "key_name =\"../key/storage_key.json\"\n",
    "bucket_name = \"keiba_csv_upload_bucket\"\n",
    "horse_info_file_upload = 'horse_info_takamatsu.csv'\n",
    "horse_info_file_name = '../data/main/horse_info.csv'"
   ]
  },
  {
   "cell_type": "code",
   "execution_count": 5,
   "id": "8aec077c",
   "metadata": {},
   "outputs": [],
   "source": [
    "key_name =\"../key/storage_key.json\"\n",
    "bucket_name = \"keiba_csv_upload_bucket\"\n",
    "horse_race_file_upload = 'horse_race_takamatsu.csv'\n",
    "horse_race_file_name = '../data/main/horse_race.csv'"
   ]
  },
  {
   "cell_type": "code",
   "execution_count": 9,
   "id": "8cacf8cd",
   "metadata": {},
   "outputs": [],
   "source": [
    "#ファイルマージ用\n",
    "horse_info_df = pd.DataFrame()\n",
    "horse_race_df = pd.DataFrame()\n",
    "#csvファイルのマージ\n",
    "for year in range(2006, 2007):\n",
    "    horse_info_tmp_df = pd.read_csv(\"../data/csv/\"+dir+\"/\"+str(year)+\"/\"+\"horse-info\"+\".csv\", sep=\",\")\n",
    "    horse_race_tmp_df = pd.read_csv(\"../data/csv/\"+dir+\"/\"+str(year)+\"/\"+\"horse-race\"+\".csv\", sep=\",\")\n",
    "    horse_info_df = pd.concat([horse_info_df, horse_info_tmp_df], axis=0)\n",
    "    horse_race_df = pd.concat([horse_race_df, horse_race_tmp_df], axis=0)"
   ]
  },
  {
   "cell_type": "markdown",
   "id": "0265666c",
   "metadata": {},
   "source": [
    "# horse_info_df"
   ]
  },
  {
   "cell_type": "code",
   "execution_count": 22,
   "id": "4917d7f5",
   "metadata": {},
   "outputs": [
    {
     "data": {
      "text/html": [
       "<div>\n",
       "<style scoped>\n",
       "    .dataframe tbody tr th:only-of-type {\n",
       "        vertical-align: middle;\n",
       "    }\n",
       "\n",
       "    .dataframe tbody tr th {\n",
       "        vertical-align: top;\n",
       "    }\n",
       "\n",
       "    .dataframe thead th {\n",
       "        text-align: right;\n",
       "    }\n",
       "</style>\n",
       "<table border=\"1\" class=\"dataframe\">\n",
       "  <thead>\n",
       "    <tr style=\"text-align: right;\">\n",
       "      <th></th>\n",
       "      <th>race_id</th>\n",
       "      <th>race_round</th>\n",
       "      <th>race_title</th>\n",
       "      <th>weather</th>\n",
       "      <th>ground_status</th>\n",
       "      <th>where_racecourse</th>\n",
       "      <th>total_horse_number</th>\n",
       "      <th>frame_number_first</th>\n",
       "      <th>horse_number_first</th>\n",
       "      <th>frame_number_second</th>\n",
       "      <th>horse_number_second</th>\n",
       "      <th>frame_number_third</th>\n",
       "      <th>horse_number_third</th>\n",
       "      <th>tansyo</th>\n",
       "      <th>hukusyo_first</th>\n",
       "      <th>hukusyo_second</th>\n",
       "      <th>hukusyo_third</th>\n",
       "      <th>wakuren</th>\n",
       "      <th>umaren</th>\n",
       "      <th>wide_1_2</th>\n",
       "      <th>wide_1_3</th>\n",
       "      <th>wide_2_3</th>\n",
       "      <th>umatan</th>\n",
       "      <th>renhuku3</th>\n",
       "      <th>rentan3</th>\n",
       "      <th>is_obstacle</th>\n",
       "      <th>ground_type</th>\n",
       "      <th>is_left_right_straight</th>\n",
       "      <th>distance</th>\n",
       "      <th>weather_rain</th>\n",
       "      <th>weather_snow</th>\n",
       "      <th>datetime</th>\n",
       "    </tr>\n",
       "  </thead>\n",
       "  <tbody>\n",
       "    <tr>\n",
       "      <th>0</th>\n",
       "      <td>200607010811</td>\n",
       "      <td>11</td>\n",
       "      <td>第36回高松宮記念(G1)</td>\n",
       "      <td>晴</td>\n",
       "      <td>1</td>\n",
       "      <td>中京</td>\n",
       "      <td>18</td>\n",
       "      <td>6</td>\n",
       "      <td>11</td>\n",
       "      <td>7</td>\n",
       "      <td>14</td>\n",
       "      <td>7</td>\n",
       "      <td>13</td>\n",
       "      <td>930</td>\n",
       "      <td>260</td>\n",
       "      <td>210</td>\n",
       "      <td>260</td>\n",
       "      <td>1150</td>\n",
       "      <td>2290</td>\n",
       "      <td>900</td>\n",
       "      <td>1110</td>\n",
       "      <td>760</td>\n",
       "      <td>5550</td>\n",
       "      <td>5240</td>\n",
       "      <td>36620</td>\n",
       "      <td>0</td>\n",
       "      <td>芝</td>\n",
       "      <td>左</td>\n",
       "      <td>1200</td>\n",
       "      <td>0</td>\n",
       "      <td>0</td>\n",
       "      <td>2006-03-26 15:40:00</td>\n",
       "    </tr>\n",
       "  </tbody>\n",
       "</table>\n",
       "</div>"
      ],
      "text/plain": [
       "        race_id race_round     race_title weather  ground_status  \\\n",
       "0  200607010811         11  第36回高松宮記念(G1)       晴              1   \n",
       "\n",
       "  where_racecourse  total_horse_number  frame_number_first  \\\n",
       "0               中京                  18                   6   \n",
       "\n",
       "   horse_number_first  frame_number_second  horse_number_second  \\\n",
       "0                  11                    7                   14   \n",
       "\n",
       "   frame_number_third  horse_number_third  tansyo  hukusyo_first  \\\n",
       "0                   7                  13     930            260   \n",
       "\n",
       "   hukusyo_second  hukusyo_third  wakuren  umaren  wide_1_2  wide_1_3  \\\n",
       "0             210            260     1150    2290       900      1110   \n",
       "\n",
       "   wide_2_3  umatan  renhuku3  rentan3  is_obstacle ground_type  \\\n",
       "0       760    5550      5240    36620            0           芝   \n",
       "\n",
       "  is_left_right_straight distance  weather_rain  weather_snow  \\\n",
       "0                      左     1200             0             0   \n",
       "\n",
       "             datetime  \n",
       "0 2006-03-26 15:40:00  "
      ]
     },
     "execution_count": 22,
     "metadata": {},
     "output_type": "execute_result"
    }
   ],
   "source": [
    "horse_info_df.head(1)"
   ]
  },
  {
   "cell_type": "code",
   "execution_count": 23,
   "id": "1b3f661e",
   "metadata": {},
   "outputs": [],
   "source": [
    "if not os.path.exists('../data/main'):\n",
    "    os.makedirs('../data/main')"
   ]
  },
  {
   "cell_type": "code",
   "execution_count": 24,
   "id": "ecf9aa9f",
   "metadata": {},
   "outputs": [],
   "source": [
    "horse_info_df.to_csv(\"../data/main/horse_info.csv\",\n",
    "               index=False\n",
    "              )"
   ]
  },
  {
   "cell_type": "code",
   "execution_count": 25,
   "id": "be4368b0",
   "metadata": {},
   "outputs": [],
   "source": [
    "# 保管したサービスアカウントキーを指定します\n",
    "client = storage.Client.from_service_account_json(key_name)"
   ]
  },
  {
   "cell_type": "code",
   "execution_count": 26,
   "id": "0fca95fd",
   "metadata": {},
   "outputs": [],
   "source": [
    "# 保管したサービスアカウントキーを指定します\n",
    "client = storage.Client.from_service_account_json(key_name)\n",
    "bucket = client.get_bucket(bucket_name)\n",
    "blob = bucket.blob(horse_info_file_upload)\n",
    "blob.upload_from_filename(horse_info_file_name)"
   ]
  },
  {
   "cell_type": "markdown",
   "id": "cbf785e6",
   "metadata": {},
   "source": [
    "# horse_race_df"
   ]
  },
  {
   "cell_type": "code",
   "execution_count": 27,
   "id": "c8b83f08",
   "metadata": {},
   "outputs": [
    {
     "data": {
      "text/html": [
       "<div>\n",
       "<style scoped>\n",
       "    .dataframe tbody tr th:only-of-type {\n",
       "        vertical-align: middle;\n",
       "    }\n",
       "\n",
       "    .dataframe tbody tr th {\n",
       "        vertical-align: top;\n",
       "    }\n",
       "\n",
       "    .dataframe thead th {\n",
       "        text-align: right;\n",
       "    }\n",
       "</style>\n",
       "<table border=\"1\" class=\"dataframe\">\n",
       "  <thead>\n",
       "    <tr style=\"text-align: right;\">\n",
       "      <th></th>\n",
       "      <th>race_id</th>\n",
       "      <th>rank</th>\n",
       "      <th>frame_number</th>\n",
       "      <th>horse_number</th>\n",
       "      <th>horse_id</th>\n",
       "      <th>sex_and_age</th>\n",
       "      <th>burden_weight</th>\n",
       "      <th>rider_id</th>\n",
       "      <th>goal_time</th>\n",
       "      <th>goal_time_dif</th>\n",
       "      <th>time_value</th>\n",
       "      <th>half_way_rank</th>\n",
       "      <th>last_time</th>\n",
       "      <th>odds</th>\n",
       "      <th>popular</th>\n",
       "      <th>horse_weight</th>\n",
       "      <th>tame_time</th>\n",
       "      <th>tamer_id</th>\n",
       "      <th>owner_id</th>\n",
       "    </tr>\n",
       "  </thead>\n",
       "  <tbody>\n",
       "    <tr>\n",
       "      <th>0</th>\n",
       "      <td>200607010811</td>\n",
       "      <td>1</td>\n",
       "      <td>6</td>\n",
       "      <td>11</td>\n",
       "      <td>2000101550</td>\n",
       "      <td>牡6</td>\n",
       "      <td>57</td>\n",
       "      <td>641</td>\n",
       "      <td>1:08.0</td>\n",
       "      <td>NaN</td>\n",
       "      <td>\\n\\n**\\n\\n</td>\n",
       "      <td>5-5</td>\n",
       "      <td>33.9</td>\n",
       "      <td>9.3</td>\n",
       "      <td>4</td>\n",
       "      <td>470(-4)</td>\n",
       "      <td>\\n\\n</td>\n",
       "      <td>1002</td>\n",
       "      <td>334009</td>\n",
       "    </tr>\n",
       "  </tbody>\n",
       "</table>\n",
       "</div>"
      ],
      "text/plain": [
       "        race_id rank  frame_number  horse_number    horse_id sex_and_age  \\\n",
       "0  200607010811    1             6            11  2000101550          牡6   \n",
       "\n",
       "   burden_weight  rider_id goal_time goal_time_dif  time_value half_way_rank  \\\n",
       "0             57       641    1:08.0           NaN  \\n\\n**\\n\\n           5-5   \n",
       "\n",
       "   last_time  odds  popular horse_weight tame_time  tamer_id  owner_id  \n",
       "0       33.9   9.3        4      470(-4)      \\n\\n      1002    334009  "
      ]
     },
     "execution_count": 27,
     "metadata": {},
     "output_type": "execute_result"
    }
   ],
   "source": [
    "horse_race_df.head(1)"
   ]
  },
  {
   "cell_type": "code",
   "execution_count": 49,
   "id": "69ba2915",
   "metadata": {
    "scrolled": true
   },
   "outputs": [],
   "source": [
    "horse_race_df.to_csv(\"../data/main/horse_race.csv\", \n",
    "                index=False\n",
    "               )"
   ]
  },
  {
   "cell_type": "code",
   "execution_count": 50,
   "id": "9e2917c8",
   "metadata": {},
   "outputs": [],
   "source": [
    "# 保管したサービスアカウントキーを指定します\n",
    "client = storage.Client.from_service_account_json(key_name)"
   ]
  },
  {
   "cell_type": "code",
   "execution_count": 51,
   "id": "7f4c8879",
   "metadata": {},
   "outputs": [],
   "source": [
    "# 保管したサービスアカウントキーを指定します\n",
    "client = storage.Client.from_service_account_json(key_name)\n",
    "bucket = client.get_bucket(bucket_name)\n",
    "blob = bucket.blob(horse_race_file_upload)\n",
    "blob.upload_from_filename(horse_race_file_name)"
   ]
  }
 ],
 "metadata": {
  "kernelspec": {
   "display_name": "Python 3 (ipykernel)",
   "language": "python",
   "name": "python3"
  },
  "language_info": {
   "codemirror_mode": {
    "name": "ipython",
    "version": 3
   },
   "file_extension": ".py",
   "mimetype": "text/x-python",
   "name": "python",
   "nbconvert_exporter": "python",
   "pygments_lexer": "ipython3",
   "version": "3.9.16"
  }
 },
 "nbformat": 4,
 "nbformat_minor": 5
}
