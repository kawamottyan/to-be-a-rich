{
 "cells": [
  {
   "cell_type": "code",
   "execution_count": 1,
   "id": "d82c73b1",
   "metadata": {},
   "outputs": [],
   "source": [
    "#インポート文\n",
    "import numpy as np\n",
    "import pandas as pd\n",
    "import os\n",
    "import warnings"
   ]
  },
  {
   "cell_type": "code",
   "execution_count": 2,
   "id": "8cacf8cd",
   "metadata": {},
   "outputs": [],
   "source": [
    "race_df = pd.DataFrame()\n",
    "horse_df = pd.DataFrame()\n",
    "#csvファイルのマージ\n",
    "for year in range(2019, 2020):\n",
    "    for month in range(4,5):\n",
    "        race_tmp_df = pd.read_csv(\"../data/csv/race-\"+str(year)+\"-\"+str(month)+\".csv\", sep=\",\")\n",
    "        horse_tmp_df = pd.read_csv(\"../data/csv/horse-\"+str(year)+\"-\"+str(month)+\".csv\", sep=\",\")\n",
    "        race_df = pd.concat([race_df, race_tmp_df], axis=0)\n",
    "        horse_df = pd.concat([horse_df, horse_tmp_df], axis=0)"
   ]
  },
  {
   "cell_type": "markdown",
   "id": "93881eba",
   "metadata": {},
   "source": [
    "# race_df"
   ]
  },
  {
   "cell_type": "code",
   "execution_count": 3,
   "id": "ee475424",
   "metadata": {
    "scrolled": true
   },
   "outputs": [
    {
     "data": {
      "text/html": [
       "<div>\n",
       "<style scoped>\n",
       "    .dataframe tbody tr th:only-of-type {\n",
       "        vertical-align: middle;\n",
       "    }\n",
       "\n",
       "    .dataframe tbody tr th {\n",
       "        vertical-align: top;\n",
       "    }\n",
       "\n",
       "    .dataframe thead th {\n",
       "        text-align: right;\n",
       "    }\n",
       "</style>\n",
       "<table border=\"1\" class=\"dataframe\">\n",
       "  <thead>\n",
       "    <tr style=\"text-align: right;\">\n",
       "      <th></th>\n",
       "      <th>race_id</th>\n",
       "      <th>race_round</th>\n",
       "      <th>race_title</th>\n",
       "      <th>race_course</th>\n",
       "      <th>weather</th>\n",
       "      <th>ground_status</th>\n",
       "      <th>time</th>\n",
       "      <th>date</th>\n",
       "      <th>where_racecourse</th>\n",
       "      <th>total_horse_number</th>\n",
       "      <th>frame_number_first</th>\n",
       "      <th>horse_number_first</th>\n",
       "      <th>frame_number_second</th>\n",
       "      <th>horse_number_second</th>\n",
       "      <th>frame_number_third</th>\n",
       "      <th>horse_number_third</th>\n",
       "      <th>tansyo</th>\n",
       "      <th>hukusyo_first</th>\n",
       "      <th>hukusyo_second</th>\n",
       "      <th>hukusyo_third</th>\n",
       "      <th>wakuren</th>\n",
       "      <th>umaren</th>\n",
       "      <th>wide_1_2</th>\n",
       "      <th>wide_1_3</th>\n",
       "      <th>wide_2_3</th>\n",
       "      <th>umatan</th>\n",
       "      <th>renhuku3</th>\n",
       "      <th>rentan3</th>\n",
       "    </tr>\n",
       "  </thead>\n",
       "  <tbody>\n",
       "    <tr>\n",
       "      <th>0</th>\n",
       "      <td>201903010101</td>\n",
       "      <td>1 R</td>\n",
       "      <td>3歳未勝利</td>\n",
       "      <td>ダ右1700m</td>\n",
       "      <td>天候 : 晴</td>\n",
       "      <td>ダート : 良</td>\n",
       "      <td>発走 : 09:50</td>\n",
       "      <td>2019年4月6日</td>\n",
       "      <td>1回福島1日目</td>\n",
       "      <td>15</td>\n",
       "      <td>1</td>\n",
       "      <td>1</td>\n",
       "      <td>7</td>\n",
       "      <td>12</td>\n",
       "      <td>8</td>\n",
       "      <td>14</td>\n",
       "      <td>190</td>\n",
       "      <td>110</td>\n",
       "      <td>150</td>\n",
       "      <td>300</td>\n",
       "      <td>570</td>\n",
       "      <td>590</td>\n",
       "      <td>260</td>\n",
       "      <td>760</td>\n",
       "      <td>1,190</td>\n",
       "      <td>870</td>\n",
       "      <td>2,930</td>\n",
       "      <td>8,200</td>\n",
       "    </tr>\n",
       "  </tbody>\n",
       "</table>\n",
       "</div>"
      ],
      "text/plain": [
       "        race_id race_round race_title race_course weather ground_status  \\\n",
       "0  201903010101        1 R      3歳未勝利     ダ右1700m  天候 : 晴       ダート : 良   \n",
       "\n",
       "         time       date where_racecourse  total_horse_number  \\\n",
       "0  発走 : 09:50  2019年4月6日          1回福島1日目                  15   \n",
       "\n",
       "   frame_number_first  horse_number_first  frame_number_second  \\\n",
       "0                   1                   1                    7   \n",
       "\n",
       "   horse_number_second  frame_number_third  horse_number_third tansyo  \\\n",
       "0                   12                   8                  14    190   \n",
       "\n",
       "  hukusyo_first hukusyo_second hukusyo_third wakuren umaren wide_1_2 wide_1_3  \\\n",
       "0           110            150           300     570    590      260      760   \n",
       "\n",
       "  wide_2_3 umatan renhuku3 rentan3  \n",
       "0    1,190    870    2,930   8,200  "
      ]
     },
     "execution_count": 3,
     "metadata": {},
     "output_type": "execute_result"
    }
   ],
   "source": [
    "pd.set_option('display.max_columns', 100)\n",
    "race_df.head(1)"
   ]
  },
  {
   "cell_type": "markdown",
   "id": "99ff6888",
   "metadata": {},
   "source": [
    "##### race_id"
   ]
  },
  {
   "cell_type": "code",
   "execution_count": null,
   "id": "4021697a",
   "metadata": {},
   "outputs": [],
   "source": []
  },
  {
   "cell_type": "markdown",
   "id": "514d9a62",
   "metadata": {},
   "source": [
    "##### race_round"
   ]
  },
  {
   "cell_type": "code",
   "execution_count": 4,
   "id": "514eae98",
   "metadata": {},
   "outputs": [],
   "source": [
    "race_df['race_round'] = race_df['race_round'].str.strip('R \\n')"
   ]
  },
  {
   "cell_type": "markdown",
   "id": "8d5f1c22",
   "metadata": {},
   "source": [
    "##### race_title"
   ]
  },
  {
   "cell_type": "code",
   "execution_count": null,
   "id": "57c09b60",
   "metadata": {},
   "outputs": [],
   "source": []
  },
  {
   "cell_type": "markdown",
   "id": "251b8190",
   "metadata": {},
   "source": [
    "##### race_course"
   ]
  },
  {
   "cell_type": "code",
   "execution_count": 5,
   "id": "7d4c4a1c",
   "metadata": {},
   "outputs": [],
   "source": [
    "#ストリングデータから各情報の抽出\n",
    "#障害レース\n",
    "obstacle = race_df[\"race_course\"].str.extract('(障)', expand=True)\n",
    "#ダートor芝レース\n",
    "ground_type = race_df[\"race_course\"].str.extract('(ダ|芝)', expand=True)\n",
    "#右周りor左周り\n",
    "is_left_right_straight = race_df[\"race_course\"].str.extract('(左|右|直線)', expand=True)\n",
    "#距離\n",
    "distance = race_df[\"race_course\"].str.extract('(\\d+)m', expand=True)"
   ]
  },
  {
   "cell_type": "code",
   "execution_count": 6,
   "id": "5127c83c",
   "metadata": {},
   "outputs": [],
   "source": [
    "#各情報をカラムに変換\n",
    "obstacle.columns ={\"is_obstacle\"}\n",
    "ground_type.columns ={\"ground_type\"}\n",
    "is_left_right_straight.columns = {\"is_left_right_straight\"}\n",
    "distance.columns = {\"distance\"}"
   ]
  },
  {
   "cell_type": "code",
   "execution_count": 7,
   "id": "5560b4cb",
   "metadata": {},
   "outputs": [],
   "source": [
    "#データフレームに結合\n",
    "race_df = pd.concat([race_df, obstacle], axis=1)\n",
    "race_df = pd.concat([race_df, ground_type], axis=1)\n",
    "race_df = pd.concat([race_df, is_left_right_straight], axis=1)\n",
    "race_df = pd.concat([race_df, distance], axis=1)"
   ]
  },
  {
   "cell_type": "code",
   "execution_count": 8,
   "id": "3bb2d83b",
   "metadata": {},
   "outputs": [],
   "source": [
    "#障を1に、欠損値を0に変換\n",
    "race_df['is_obstacle'] = race_df['is_obstacle'].replace('障', 1)\n",
    "race_df.fillna(value={'is_obstacle': 0}, inplace=True)"
   ]
  },
  {
   "cell_type": "code",
   "execution_count": 9,
   "id": "6152040c",
   "metadata": {},
   "outputs": [],
   "source": [
    "# print(\"is_obstacle:\", race_df[\"is_obstacle\"].unique())\n",
    "# print(\"ground_type:\", race_df[\"ground_type\"].unique())\n",
    "# print(\"is_left_right_straight:\", race_df[\"is_left_right_straight\"].unique())\n",
    "# print(\"distance isnull sum:\", race_df[\"distance\"].isnull().sum())"
   ]
  },
  {
   "cell_type": "code",
   "execution_count": 10,
   "id": "7dbece6c",
   "metadata": {},
   "outputs": [],
   "source": [
    "#オリジナルの削除\n",
    "race_df.drop(['race_course'], axis=1, inplace=True)"
   ]
  },
  {
   "cell_type": "markdown",
   "id": "39ca276d",
   "metadata": {},
   "source": [
    "##### weather"
   ]
  },
  {
   "cell_type": "code",
   "execution_count": 11,
   "id": "737bef7c",
   "metadata": {},
   "outputs": [],
   "source": [
    "race_df['weather'] = race_df['weather'].str.strip('天候 :')"
   ]
  },
  {
   "cell_type": "code",
   "execution_count": 12,
   "id": "4efb0054",
   "metadata": {},
   "outputs": [],
   "source": [
    "weather_rain = race_df[\"weather\"].str.extract('(小雨|雨)', expand=True)\n",
    "weather_snow = race_df[\"weather\"].str.extract('(小雪|雪)', expand=True)\n",
    "weather_rain.columns ={\"weather_rain\"}\n",
    "weather_snow.columns ={\"weather_snow\"}\n",
    "race_df = pd.concat([race_df, weather_rain], axis=1)\n",
    "race_df = pd.concat([race_df, weather_snow], axis=1)\n",
    "\n",
    "race_df.fillna(value={'weather_rain': 0}, inplace=True)\n",
    "race_df['weather_rain'] = race_df['weather_rain'].replace('小雨', 1)\n",
    "race_df['weather_rain'] = race_df['weather_rain'].replace('雨', 2)\n",
    "race_df.fillna(value={'weather_snow': 0}, inplace=True)\n",
    "race_df['weather_snow'] = race_df['weather_snow'].replace('小雪', 1)\n",
    "race_df['weather_snow'] = race_df['weather_snow'].replace('雪', 2)"
   ]
  },
  {
   "cell_type": "markdown",
   "id": "ab6deb1f",
   "metadata": {},
   "source": [
    "##### ground_status"
   ]
  },
  {
   "cell_type": "code",
   "execution_count": 13,
   "id": "e3d7f796",
   "metadata": {},
   "outputs": [],
   "source": [
    "race_df['ground_status'] = race_df['ground_status'].replace('.*(稍重).*', 4,regex=True)\n",
    "race_df['ground_status'] = race_df['ground_status'].replace('.*(重).*', 3,regex=True)\n",
    "race_df['ground_status'] = race_df['ground_status'].replace('.*(不良).*', 2,regex=True)\n",
    "race_df['ground_status'] = race_df['ground_status'].replace('.*(良).*', 1,regex=True)"
   ]
  },
  {
   "cell_type": "markdown",
   "id": "8ae0d29b",
   "metadata": {},
   "source": [
    "##### time"
   ]
  },
  {
   "cell_type": "code",
   "execution_count": 14,
   "id": "435d946c",
   "metadata": {},
   "outputs": [],
   "source": [
    "warnings.filterwarnings('ignore', 'The default value of regex')\n",
    "\n",
    "race_df[\"time\"] = race_df[\"time\"].str.replace('発走 : (\\d\\d):(\\d\\d)(.|\\n)*', r'\\1時\\2分')\n",
    "race_df[\"datetime\"] = race_df[\"date\"] + race_df[\"time\"]\n",
    "race_df[\"datetime\"] = pd.to_datetime(race_df['datetime'], format='%Y年%m月%d日%H時%M分')"
   ]
  },
  {
   "cell_type": "code",
   "execution_count": 15,
   "id": "c2486eff",
   "metadata": {},
   "outputs": [],
   "source": [
    "#オリジナルの削除\n",
    "race_df.drop(['time'], axis=1, inplace=True)\n",
    "race_df.drop(['date'], axis=1, inplace=True)"
   ]
  },
  {
   "cell_type": "markdown",
   "id": "d1e8c415",
   "metadata": {},
   "source": [
    "##### where_racecourse"
   ]
  },
  {
   "cell_type": "code",
   "execution_count": 16,
   "id": "f47bf48b",
   "metadata": {},
   "outputs": [],
   "source": [
    "race_df[\"where_racecourse\"] = race_df[\"where_racecourse\"].str.replace('\\d*回(..)\\d*日目', r'\\1')"
   ]
  },
  {
   "cell_type": "markdown",
   "id": "201f4f75",
   "metadata": {},
   "source": [
    "##### total_horse_number\n",
    "##### frame_number_first\n",
    "##### horse_number_first\n",
    "##### frame_number_second\n",
    "##### horse_number_second\n",
    "##### frame_number_third\n",
    "##### horse_number_third\t"
   ]
  },
  {
   "cell_type": "code",
   "execution_count": null,
   "id": "2d5ce512",
   "metadata": {},
   "outputs": [],
   "source": []
  },
  {
   "cell_type": "markdown",
   "id": "87f8eed4",
   "metadata": {},
   "source": [
    "##### tansyo\n",
    "##### hukusyo_first\n",
    "##### hukusyo_second\n",
    "##### hukusyo_third\n",
    "##### wakuren\n",
    "##### umaren\n",
    "##### wide_1_2\n",
    "##### wide_1_3\n",
    "##### wide_2_3\n",
    "##### umatan\n",
    "##### renhuku3\n",
    "##### rentan3"
   ]
  },
  {
   "cell_type": "code",
   "execution_count": 17,
   "id": "e7b5acbd",
   "metadata": {},
   "outputs": [],
   "source": [
    "race_df['tansyo'] = race_df['tansyo'].apply(lambda x: int(x.replace(\",\", \"\")) if type(x) is str else int(x))\n",
    "race_df['hukusyo_first'] = race_df['hukusyo_first'].apply(lambda x: int(x.replace(\",\", \"\")) if type(x) is str else int(x))\n",
    "race_df['hukusyo_second'] = race_df['hukusyo_second'].apply(lambda x: int(x.replace(\",\", \"\")) if type(x) is str else int(x))\n",
    "race_df['hukusyo_third'] = race_df['hukusyo_third'].apply(lambda x: int(x.replace(\",\", \"\")) if type(x) is str else int(x))\n",
    "race_df['wakuren'] = race_df['wakuren'].apply(lambda x: int(x.replace(\",\", \"\")) if type(x) is str else int(x))\n",
    "race_df['umaren'] = race_df['umaren'].apply(lambda x: int(x.replace(\",\", \"\")) if type(x) is str else int(x))\n",
    "race_df['wide_1_2'] = race_df['wide_1_2'].apply(lambda x: int(x.replace(\",\", \"\")) if type(x) is str else int(x))\n",
    "race_df['wide_1_3'] = race_df['wide_1_3'].apply(lambda x: int(x.replace(\",\", \"\")) if type(x) is str else int(x))\n",
    "race_df['wide_2_3'] = race_df['wide_2_3'].apply(lambda x: int(x.replace(\",\", \"\")) if type(x) is str else int(x))\n",
    "race_df['umatan'] = race_df['umatan'].apply(lambda x: int(x.replace(\",\", \"\")) if type(x) is str else int(x))\n",
    "race_df['renhuku3'] = race_df['renhuku3'].apply(lambda x: int(x.replace(\",\", \"\")) if type(x) is str else int(x))\n",
    "race_df['rentan3'] = race_df['rentan3'].apply(lambda x: int(x.replace(\",\", \"\")) if type(x) is str else int(x))"
   ]
  },
  {
   "cell_type": "code",
   "execution_count": 18,
   "id": "52ce4bb4",
   "metadata": {},
   "outputs": [
    {
     "data": {
      "text/html": [
       "<div>\n",
       "<style scoped>\n",
       "    .dataframe tbody tr th:only-of-type {\n",
       "        vertical-align: middle;\n",
       "    }\n",
       "\n",
       "    .dataframe tbody tr th {\n",
       "        vertical-align: top;\n",
       "    }\n",
       "\n",
       "    .dataframe thead th {\n",
       "        text-align: right;\n",
       "    }\n",
       "</style>\n",
       "<table border=\"1\" class=\"dataframe\">\n",
       "  <thead>\n",
       "    <tr style=\"text-align: right;\">\n",
       "      <th></th>\n",
       "      <th>race_id</th>\n",
       "      <th>race_round</th>\n",
       "      <th>race_title</th>\n",
       "      <th>weather</th>\n",
       "      <th>ground_status</th>\n",
       "      <th>where_racecourse</th>\n",
       "      <th>total_horse_number</th>\n",
       "      <th>frame_number_first</th>\n",
       "      <th>horse_number_first</th>\n",
       "      <th>frame_number_second</th>\n",
       "      <th>horse_number_second</th>\n",
       "      <th>frame_number_third</th>\n",
       "      <th>horse_number_third</th>\n",
       "      <th>tansyo</th>\n",
       "      <th>hukusyo_first</th>\n",
       "      <th>hukusyo_second</th>\n",
       "      <th>hukusyo_third</th>\n",
       "      <th>wakuren</th>\n",
       "      <th>umaren</th>\n",
       "      <th>wide_1_2</th>\n",
       "      <th>wide_1_3</th>\n",
       "      <th>wide_2_3</th>\n",
       "      <th>umatan</th>\n",
       "      <th>renhuku3</th>\n",
       "      <th>rentan3</th>\n",
       "      <th>is_obstacle</th>\n",
       "      <th>ground_type</th>\n",
       "      <th>is_left_right_straight</th>\n",
       "      <th>distance</th>\n",
       "      <th>weather_rain</th>\n",
       "      <th>weather_snow</th>\n",
       "      <th>datetime</th>\n",
       "    </tr>\n",
       "  </thead>\n",
       "  <tbody>\n",
       "    <tr>\n",
       "      <th>0</th>\n",
       "      <td>201903010101</td>\n",
       "      <td>1</td>\n",
       "      <td>3歳未勝利</td>\n",
       "      <td>晴</td>\n",
       "      <td>1</td>\n",
       "      <td>福島</td>\n",
       "      <td>15</td>\n",
       "      <td>1</td>\n",
       "      <td>1</td>\n",
       "      <td>7</td>\n",
       "      <td>12</td>\n",
       "      <td>8</td>\n",
       "      <td>14</td>\n",
       "      <td>190</td>\n",
       "      <td>110</td>\n",
       "      <td>150</td>\n",
       "      <td>300</td>\n",
       "      <td>570</td>\n",
       "      <td>590</td>\n",
       "      <td>260</td>\n",
       "      <td>760</td>\n",
       "      <td>1190</td>\n",
       "      <td>870</td>\n",
       "      <td>2930</td>\n",
       "      <td>8200</td>\n",
       "      <td>0.0</td>\n",
       "      <td>ダ</td>\n",
       "      <td>右</td>\n",
       "      <td>1700</td>\n",
       "      <td>0</td>\n",
       "      <td>0</td>\n",
       "      <td>2019-04-06 09:50:00</td>\n",
       "    </tr>\n",
       "  </tbody>\n",
       "</table>\n",
       "</div>"
      ],
      "text/plain": [
       "        race_id race_round race_title weather  ground_status where_racecourse  \\\n",
       "0  201903010101          1      3歳未勝利       晴              1               福島   \n",
       "\n",
       "   total_horse_number  frame_number_first  horse_number_first  \\\n",
       "0                  15                   1                   1   \n",
       "\n",
       "   frame_number_second  horse_number_second  frame_number_third  \\\n",
       "0                    7                   12                   8   \n",
       "\n",
       "   horse_number_third  tansyo  hukusyo_first  hukusyo_second  hukusyo_third  \\\n",
       "0                  14     190            110             150            300   \n",
       "\n",
       "   wakuren  umaren  wide_1_2  wide_1_3  wide_2_3  umatan  renhuku3  rentan3  \\\n",
       "0      570     590       260       760      1190     870      2930     8200   \n",
       "\n",
       "   is_obstacle ground_type is_left_right_straight distance  weather_rain  \\\n",
       "0          0.0           ダ                      右     1700             0   \n",
       "\n",
       "   weather_snow            datetime  \n",
       "0             0 2019-04-06 09:50:00  "
      ]
     },
     "execution_count": 18,
     "metadata": {},
     "output_type": "execute_result"
    }
   ],
   "source": [
    "race_df.head(1)"
   ]
  },
  {
   "cell_type": "code",
   "execution_count": 19,
   "id": "f2c6800d",
   "metadata": {},
   "outputs": [],
   "source": [
    "if not os.path.exists('../data/main'):\n",
    "    os.makedirs('../data/main')"
   ]
  },
  {
   "cell_type": "code",
   "execution_count": 20,
   "id": "70d45453",
   "metadata": {},
   "outputs": [],
   "source": [
    "race_df.to_csv(\"../data/main/race_data.csv\", index=False )"
   ]
  },
  {
   "cell_type": "markdown",
   "id": "00cae13b",
   "metadata": {},
   "source": [
    "# horse_df"
   ]
  },
  {
   "cell_type": "code",
   "execution_count": 21,
   "id": "a69d96ff",
   "metadata": {},
   "outputs": [
    {
     "data": {
      "text/html": [
       "<div>\n",
       "<style scoped>\n",
       "    .dataframe tbody tr th:only-of-type {\n",
       "        vertical-align: middle;\n",
       "    }\n",
       "\n",
       "    .dataframe tbody tr th {\n",
       "        vertical-align: top;\n",
       "    }\n",
       "\n",
       "    .dataframe thead th {\n",
       "        text-align: right;\n",
       "    }\n",
       "</style>\n",
       "<table border=\"1\" class=\"dataframe\">\n",
       "  <thead>\n",
       "    <tr style=\"text-align: right;\">\n",
       "      <th></th>\n",
       "      <th>race_id</th>\n",
       "      <th>rank</th>\n",
       "      <th>frame_number</th>\n",
       "      <th>horse_number</th>\n",
       "      <th>horse_id</th>\n",
       "      <th>sex_and_age</th>\n",
       "      <th>burden_weight</th>\n",
       "      <th>rider_id</th>\n",
       "      <th>goal_time</th>\n",
       "      <th>goal_time_dif</th>\n",
       "      <th>time_value</th>\n",
       "      <th>half_way_rank</th>\n",
       "      <th>last_time</th>\n",
       "      <th>odds</th>\n",
       "      <th>popular</th>\n",
       "      <th>horse_weight</th>\n",
       "      <th>tame_time</th>\n",
       "      <th>tamer_id</th>\n",
       "      <th>owner_id</th>\n",
       "    </tr>\n",
       "  </thead>\n",
       "  <tbody>\n",
       "    <tr>\n",
       "      <th>0</th>\n",
       "      <td>201903010101</td>\n",
       "      <td>1</td>\n",
       "      <td>1</td>\n",
       "      <td>1</td>\n",
       "      <td>2016104642</td>\n",
       "      <td>牡3</td>\n",
       "      <td>53.0</td>\n",
       "      <td>1178</td>\n",
       "      <td>1:48.7</td>\n",
       "      <td>NaN</td>\n",
       "      <td>\\n\\n**\\n\\n</td>\n",
       "      <td>1-1-1-1</td>\n",
       "      <td>40.5</td>\n",
       "      <td>1.9</td>\n",
       "      <td>1.0</td>\n",
       "      <td>462(-2)</td>\n",
       "      <td>\\n\\n</td>\n",
       "      <td>1086</td>\n",
       "      <td>51803</td>\n",
       "    </tr>\n",
       "  </tbody>\n",
       "</table>\n",
       "</div>"
      ],
      "text/plain": [
       "        race_id rank  frame_number  horse_number    horse_id sex_and_age  \\\n",
       "0  201903010101    1             1             1  2016104642          牡3   \n",
       "\n",
       "   burden_weight  rider_id goal_time goal_time_dif  time_value half_way_rank  \\\n",
       "0           53.0      1178    1:48.7           NaN  \\n\\n**\\n\\n       1-1-1-1   \n",
       "\n",
       "   last_time odds  popular horse_weight tame_time  tamer_id  owner_id  \n",
       "0       40.5  1.9      1.0      462(-2)      \\n\\n      1086     51803  "
      ]
     },
     "execution_count": 21,
     "metadata": {},
     "output_type": "execute_result"
    }
   ],
   "source": [
    "horse_df.head(1)"
   ]
  },
  {
   "cell_type": "markdown",
   "id": "e482afa5",
   "metadata": {},
   "source": [
    "##### race_id"
   ]
  },
  {
   "cell_type": "code",
   "execution_count": null,
   "id": "b57a946c",
   "metadata": {},
   "outputs": [],
   "source": []
  },
  {
   "cell_type": "markdown",
   "id": "d8a1497b",
   "metadata": {},
   "source": [
    "##### rank"
   ]
  },
  {
   "cell_type": "code",
   "execution_count": 22,
   "id": "3c69ecaf",
   "metadata": {},
   "outputs": [],
   "source": [
    "is_down = horse_df[\"rank\"].str.extract('(\\(降\\))', expand=True)\n",
    "is_down.columns ={\"is_down\"}\n",
    "horse_df = pd.concat([horse_df, is_down], axis=1)\n",
    "\n",
    "horse_df.fillna(value={'is_down': 0}, inplace=True)\n",
    "horse_df['is_down'] = horse_df['is_down'].replace('(降)', 1)\n",
    "\n",
    "## 余分な文字を削除\n",
    "horse_df['rank'] = horse_df['rank'].apply(lambda x: x.replace(\"(降)\", \"\"))\n",
    "horse_df['rank'] = horse_df['rank'].apply(lambda x: x.replace(\"(再)\", \"\"))"
   ]
  },
  {
   "cell_type": "code",
   "execution_count": 23,
   "id": "b8b44693",
   "metadata": {},
   "outputs": [],
   "source": [
    "horse_df = horse_df[(horse_df['rank'] != \"取\") & (horse_df['rank'] != \"除\") & (horse_df['rank'] != \"失\")]\n",
    "horse_df['rank'] = pd.DataFrame(horse_df['rank'].mask(horse_df['rank'] == \"中\", 20))"
   ]
  },
  {
   "cell_type": "markdown",
   "id": "4d831247",
   "metadata": {},
   "source": [
    "##### frame_number\n",
    "##### horse_number\n",
    "##### horse_id"
   ]
  },
  {
   "cell_type": "code",
   "execution_count": null,
   "id": "9587eb91",
   "metadata": {},
   "outputs": [],
   "source": []
  },
  {
   "cell_type": "markdown",
   "id": "df2eeb6f",
   "metadata": {},
   "source": [
    "##### sex_and_age"
   ]
  },
  {
   "cell_type": "code",
   "execution_count": 24,
   "id": "aca24f74",
   "metadata": {},
   "outputs": [],
   "source": [
    "is_senba = horse_df[\"sex_and_age\"].str.extract('(セ)', expand=True)\n",
    "is_senba.columns ={\"is_senba\"}\n",
    "horse_df = pd.concat([horse_df, is_senba], axis=1)\n",
    "\n",
    "is_mesu = horse_df[\"sex_and_age\"].str.extract('(牝)', expand=True)\n",
    "is_mesu.columns ={\"is_mesu\"}\n",
    "horse_df = pd.concat([horse_df, is_mesu], axis=1)\n",
    "\n",
    "is_osu = horse_df[\"sex_and_age\"].str.extract('(牡)', expand=True)\n",
    "is_osu.columns ={\"is_osu\"}\n",
    "horse_df = pd.concat([horse_df, is_osu], axis=1)"
   ]
  },
  {
   "cell_type": "code",
   "execution_count": 25,
   "id": "58205c43",
   "metadata": {},
   "outputs": [],
   "source": [
    "horse_df.fillna(value={'is_osu': 0}, inplace=True)\n",
    "horse_df['is_osu'] = horse_df['is_osu'].replace('牡', 1)\n",
    "horse_df.fillna(value={'is_mesu': 0}, inplace=True)\n",
    "horse_df['is_mesu'] = horse_df['is_mesu'].replace('牝', 1)\n",
    "horse_df.fillna(value={'is_senba': 0}, inplace=True)\n",
    "horse_df['is_senba'] = horse_df['is_senba'].replace('セ', 1)\n",
    "## 余分な文字を削除\n",
    "horse_df['sex_and_age'] = horse_df['sex_and_age'].str.strip(\"牝牡セ\")\n",
    "horse_df['sex_and_age'] = horse_df['sex_and_age'].astype(int)"
   ]
  },
  {
   "cell_type": "markdown",
   "id": "1d8d71db",
   "metadata": {},
   "source": [
    "##### burden_weight\n",
    "##### rider_id"
   ]
  },
  {
   "cell_type": "code",
   "execution_count": null,
   "id": "04542597",
   "metadata": {},
   "outputs": [],
   "source": []
  },
  {
   "cell_type": "markdown",
   "id": "badb9640",
   "metadata": {},
   "source": [
    "##### goal_time"
   ]
  },
  {
   "cell_type": "code",
   "execution_count": 26,
   "id": "35d82caa",
   "metadata": {},
   "outputs": [],
   "source": [
    "horse_df['goal_time'] = pd.to_datetime(horse_df['goal_time'], format='%M:%S.%f') - pd.to_datetime('00:00.0', format='%M:%S.%f')\n",
    "horse_df['goal_time'] = horse_df['goal_time'].dt.total_seconds()"
   ]
  },
  {
   "cell_type": "code",
   "execution_count": 27,
   "id": "8552ebb8",
   "metadata": {},
   "outputs": [],
   "source": [
    "# 欠損値を最大値で埋める\n",
    "horse_df.fillna(value={'goal_time': horse_df['goal_time'].max()}, inplace=True)"
   ]
  },
  {
   "cell_type": "markdown",
   "id": "7c0f3fe4",
   "metadata": {},
   "source": [
    "##### last_time"
   ]
  },
  {
   "cell_type": "code",
   "execution_count": 28,
   "id": "1a13490b",
   "metadata": {},
   "outputs": [],
   "source": [
    "# 欠損値を最大値で埋める\n",
    "horse_df.fillna(value={'last_time': horse_df['last_time'].max()}, inplace=True)"
   ]
  },
  {
   "cell_type": "code",
   "execution_count": 29,
   "id": "1e104263",
   "metadata": {},
   "outputs": [],
   "source": [
    "horse_df[\"last_time\"] = pd.to_numeric(horse_df[\"last_time\"], errors=\"coerce\")\n",
    "horse_df[\"last_time\"] = horse_df[\"last_time\"].apply(lambda x: int((x // 100) * 60 + (x % 100) + 0.5))"
   ]
  },
  {
   "cell_type": "markdown",
   "id": "0d0dab71",
   "metadata": {},
   "source": [
    "##### time_value\n",
    "##### tame_time"
   ]
  },
  {
   "cell_type": "code",
   "execution_count": 30,
   "id": "0278a67e",
   "metadata": {},
   "outputs": [],
   "source": [
    "#time_value, tame_time(プレミアム会員向けの情報なので削除\n",
    "horse_df.drop(['time_value'], axis=1, inplace=True)\n",
    "horse_df.drop(['tame_time'], axis=1, inplace=True)"
   ]
  },
  {
   "cell_type": "markdown",
   "id": "06b979ca",
   "metadata": {},
   "source": [
    "##### half_way_rank"
   ]
  },
  {
   "cell_type": "code",
   "execution_count": 31,
   "id": "f2474691",
   "metadata": {},
   "outputs": [
    {
     "data": {
      "text/plain": [
       "array(['1-1-1-1', '11-11-5-3', '4-6-5-5', ..., '4-4-3-9', '1-1-1-6',\n",
       "       '14-11'], dtype=object)"
      ]
     },
     "execution_count": 31,
     "metadata": {},
     "output_type": "execute_result"
    }
   ],
   "source": [
    "horse_df[\"half_way_rank\"].unique()"
   ]
  },
  {
   "cell_type": "code",
   "execution_count": 32,
   "id": "253da064",
   "metadata": {},
   "outputs": [],
   "source": [
    "from statistics import mean\n",
    "horse_df[\"half_way_rank\"] = horse_df[\"half_way_rank\"].apply(lambda x: mean([float(n) for n in (x.split(\"-\"))]) if type(x) is str else float(x) )"
   ]
  },
  {
   "cell_type": "code",
   "execution_count": 33,
   "id": "db76b47e",
   "metadata": {},
   "outputs": [
    {
     "data": {
      "text/plain": [
       "0"
      ]
     },
     "execution_count": 33,
     "metadata": {},
     "output_type": "execute_result"
    }
   ],
   "source": [
    "horse_df[horse_df[\"rank\"] == 20] = horse_df[horse_df[\"rank\"] == 20].fillna({'half_way_rank': 20})\n",
    "horse_df[\"half_way_rank\"] = horse_df[\"half_way_rank\"].fillna(horse_df['half_way_rank'].mean())\n",
    "horse_df[\"half_way_rank\"].isnull().sum()"
   ]
  },
  {
   "cell_type": "code",
   "execution_count": 34,
   "id": "7e284dbf",
   "metadata": {},
   "outputs": [],
   "source": [
    "horse_df[\"half_way_rank\"] = horse_df[\"half_way_rank\"].astype(float)"
   ]
  },
  {
   "cell_type": "code",
   "execution_count": 35,
   "id": "4f96f506",
   "metadata": {},
   "outputs": [
    {
     "data": {
      "text/plain": [
       "array([ 1.        ,  7.5       ,  5.        ,  4.        ,  8.25      ,\n",
       "       11.        ,  5.5       , 10.25      , 10.75      ,  2.5       ,\n",
       "        7.75      , 10.        , 15.        ,  3.25      , 13.75      ,\n",
       "        4.5       ,  6.5       ,  8.        ,  2.        , 10.5       ,\n",
       "       14.        , 13.        ,  8.5       ,  7.        , 20.        ,\n",
       "        3.        ,  9.5       ,  2.75      ,  4.25      , 13.25      ,\n",
       "       12.25      ,  5.25      ,  1.25      ,  5.75      ,  2.25      ,\n",
       "        9.25      ,  3.75      ,  6.75      , 11.75      ,  1.75      ,\n",
       "       11.25      ,  9.75      ,  3.5       , 12.        , 14.25      ,\n",
       "        6.        , 12.5       , 16.        ,  8.75      , 14.75      ,\n",
       "        1.5       ,  7.25      ,  4.75      , 13.5       ,  9.        ,\n",
       "       11.5       , 12.75      , 14.5       ,  6.25      , 15.25      ,\n",
       "       15.5       , 15.75      ,  2.66666667,  9.66666667,  4.66666667,\n",
       "        6.66666667,  7.33333333, 14.66666667,  3.66666667,  4.33333333,\n",
       "        6.33333333, 13.66666667, 12.66666667,  7.66666667,  8.66666667,\n",
       "       10.33333333,  8.33333333, 17.        ,  2.33333333, 10.66666667,\n",
       "        5.33333333, 16.5       , 18.        ,  9.33333333,  3.33333333,\n",
       "       11.66666667, 12.33333333, 16.66666667, 15.66666667, 17.5       ,\n",
       "        5.66666667, 11.33333333, 16.25      ,  1.66666667,  1.33333333,\n",
       "       17.75      , 15.33333333, 16.75      ])"
      ]
     },
     "execution_count": 35,
     "metadata": {},
     "output_type": "execute_result"
    }
   ],
   "source": [
    "horse_df[\"half_way_rank\"].unique()"
   ]
  },
  {
   "cell_type": "markdown",
   "id": "9f05dc81",
   "metadata": {},
   "source": [
    "##### horse_weight"
   ]
  },
  {
   "cell_type": "code",
   "execution_count": 36,
   "id": "e4b8fc58",
   "metadata": {},
   "outputs": [],
   "source": [
    "horse_weight_dif = horse_df[\"horse_weight\"].str.extract('\\(([-|+]?\\d*)\\)', expand=True)\n",
    "horse_weight_dif.columns ={\"horse_weight_dif\"}\n",
    "\n",
    "horse_df = pd.concat([horse_df, horse_weight_dif], axis=1)\n",
    "\n",
    "horse_df['horse_weight'] = horse_df['horse_weight'].replace('\\(([-|+]?\\d*)\\)', '', regex=True)"
   ]
  },
  {
   "cell_type": "code",
   "execution_count": 37,
   "id": "7f751fab",
   "metadata": {},
   "outputs": [],
   "source": [
    "horse_df['horse_weight'] = horse_df['horse_weight'].replace('計不', np.nan)\n",
    "horse_df['horse_weight'] = horse_df['horse_weight'].astype(float)\n",
    "horse_df['horse_weight_dif'] = horse_df['horse_weight_dif'].astype(float)"
   ]
  },
  {
   "cell_type": "code",
   "execution_count": 38,
   "id": "ed2c43ce",
   "metadata": {},
   "outputs": [],
   "source": [
    "# 計不 の horse_idを探し、馬ごとの平均値で穴埋め\n",
    "no_records = horse_df[horse_df['horse_weight'].isnull()]['horse_id']\n",
    "for no_record_id in no_records:\n",
    "    horse_df.loc[(horse_df['horse_id'] == no_record_id)&(horse_df['horse_weight'].isnull()), 'horse_weight'] = horse_df[horse_df['horse_id'] == no_record_id]['horse_weight'].mean() \n",
    "    horse_df.loc[(horse_df['horse_id'] == no_record_id)&(horse_df['horse_weight_dif'].isnull()), 'horse_weight_dif'] = 0 "
   ]
  },
  {
   "cell_type": "markdown",
   "id": "8acff172",
   "metadata": {},
   "source": [
    "##### goal_time_dif"
   ]
  },
  {
   "cell_type": "code",
   "execution_count": 39,
   "id": "176226cc",
   "metadata": {},
   "outputs": [],
   "source": [
    "horse_df['goal_time_dif'] = horse_df.groupby('race_id')['goal_time'].diff().fillna(0)\n",
    "#一位は0で埋める"
   ]
  },
  {
   "cell_type": "markdown",
   "id": "2c34a247",
   "metadata": {},
   "source": [
    "##### burden_weight_rate"
   ]
  },
  {
   "cell_type": "code",
   "execution_count": 40,
   "id": "5a6b9e21",
   "metadata": {},
   "outputs": [],
   "source": [
    "horse_df['burden_weight_rate'] = horse_df['burden_weight']/horse_df['horse_weight']"
   ]
  },
  {
   "cell_type": "markdown",
   "id": "e586c2df",
   "metadata": {},
   "source": [
    "##### avg_velocity"
   ]
  },
  {
   "cell_type": "code",
   "execution_count": 41,
   "id": "db810bdd",
   "metadata": {},
   "outputs": [],
   "source": [
    "# レース距離情報をmerge\n",
    "race_tmp_df = race_df[[\"race_id\", \"distance\"]]\n",
    "horse_df = pd.merge(horse_df, race_tmp_df, on='race_id')\n",
    "\n",
    "horse_df[\"distance\"] = horse_df[\"distance\"].astype(int)\n",
    "horse_df[\"avg_velocity\"] = horse_df[\"distance\"]/horse_df[\"goal_time\"]"
   ]
  },
  {
   "cell_type": "code",
   "execution_count": 42,
   "id": "4ac66abd",
   "metadata": {},
   "outputs": [],
   "source": [
    "horse_df.to_csv(\"../data/main/horse_data.csv\", index=False )"
   ]
  }
 ],
 "metadata": {
  "kernelspec": {
   "display_name": "Python 3 (ipykernel)",
   "language": "python",
   "name": "python3"
  },
  "language_info": {
   "codemirror_mode": {
    "name": "ipython",
    "version": 3
   },
   "file_extension": ".py",
   "mimetype": "text/x-python",
   "name": "python",
   "nbconvert_exporter": "python",
   "pygments_lexer": "ipython3",
   "version": "3.9.13"
  }
 },
 "nbformat": 4,
 "nbformat_minor": 5
}
