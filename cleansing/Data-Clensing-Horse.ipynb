{
 "cells": [
  {
   "cell_type": "code",
   "execution_count": 1,
   "id": "d82c73b1",
   "metadata": {},
   "outputs": [],
   "source": [
    "#インポート文\n",
    "import numpy as np\n",
    "import pandas as pd\n",
    "import os\n",
    "import warnings\n",
    "from google.cloud import storage"
   ]
  },
  {
   "cell_type": "code",
   "execution_count": 2,
   "id": "def73853",
   "metadata": {},
   "outputs": [],
   "source": [
    "dir = 'takamatsu/horsepage'\n",
    "# race_df = pd.read_csv(\"../data/csv/\"+dir+\"/\"+\"race\"+\".csv\", sep=\",\")\n",
    "# horse_df = pd.read_csv(\"../data/csv/\"+dir+\"/\"+\"horse\"+\".csv\", sep=\",\")"
   ]
  },
  {
   "cell_type": "code",
   "execution_count": 3,
   "id": "49bb3f2f",
   "metadata": {},
   "outputs": [],
   "source": [
    "key_name =\"../key/storage_key.json\"\n",
    "bucket_name = \"keiba_csv_upload_bucket\"\n",
    "horse_info_file_upload = 'horse_info_takamatsu.csv'\n",
    "horse_info_file_name = '../data/main/horse_info.csv'"
   ]
  },
  {
   "cell_type": "code",
   "execution_count": 4,
   "id": "8aec077c",
   "metadata": {},
   "outputs": [],
   "source": [
    "key_name =\"../key/storage_key.json\"\n",
    "bucket_name = \"keiba_csv_upload_bucket\"\n",
    "horse_race_file_upload = 'horse_race_takamatsu.csv'\n",
    "horse_race_file_name = '../data/main/horse_race.csv'"
   ]
  },
  {
   "cell_type": "code",
   "execution_count": 5,
   "id": "8cacf8cd",
   "metadata": {},
   "outputs": [],
   "source": [
    "#ファイルマージ用\n",
    "horse_info_df = pd.DataFrame()\n",
    "horse_race_df = pd.DataFrame()\n",
    "#csvファイルのマージ\n",
    "for year in range(2006, 2007):\n",
    "    horse_info_tmp_df = pd.read_csv(\"../data/csv/\"+dir+\"/\"+str(year)+\"/\"+\"horse-info\"+\".csv\", sep=\",\")\n",
    "    horse_race_tmp_df = pd.read_csv(\"../data/csv/\"+dir+\"/\"+str(year)+\"/\"+\"horse-race\"+\".csv\", sep=\",\")\n",
    "    horse_info_df = pd.concat([horse_info_df, horse_info_tmp_df], axis=0)\n",
    "    horse_race_df = pd.concat([horse_race_df, horse_race_tmp_df], axis=0)"
   ]
  },
  {
   "cell_type": "markdown",
   "id": "eb6db17f",
   "metadata": {},
   "source": [
    "# horse_info_df"
   ]
  },
  {
   "cell_type": "code",
   "execution_count": 6,
   "id": "4917d7f5",
   "metadata": {},
   "outputs": [
    {
     "data": {
      "text/html": [
       "<div>\n",
       "<style scoped>\n",
       "    .dataframe tbody tr th:only-of-type {\n",
       "        vertical-align: middle;\n",
       "    }\n",
       "\n",
       "    .dataframe tbody tr th {\n",
       "        vertical-align: top;\n",
       "    }\n",
       "\n",
       "    .dataframe thead th {\n",
       "        text-align: right;\n",
       "    }\n",
       "</style>\n",
       "<table border=\"1\" class=\"dataframe\">\n",
       "  <thead>\n",
       "    <tr style=\"text-align: right;\">\n",
       "      <th></th>\n",
       "      <th>horse_id</th>\n",
       "      <th>bday</th>\n",
       "      <th>tame_id</th>\n",
       "      <th>owner_id</th>\n",
       "      <th>producer_id</th>\n",
       "      <th>production area</th>\n",
       "      <th>auction price</th>\n",
       "      <th>winnings</th>\n",
       "      <th>lifetime record</th>\n",
       "      <th>wined race title</th>\n",
       "      <th>inbreeding-1</th>\n",
       "      <th>inbreeding-2</th>\n",
       "      <th>father</th>\n",
       "      <th>faths father</th>\n",
       "      <th>faths mother</th>\n",
       "      <th>mother</th>\n",
       "      <th>moths father</th>\n",
       "      <th>moths mother</th>\n",
       "    </tr>\n",
       "  </thead>\n",
       "  <tbody>\n",
       "    <tr>\n",
       "      <th>0</th>\n",
       "      <td>1998107227</td>\n",
       "      <td>1998年4月3日</td>\n",
       "      <td>05489</td>\n",
       "      <td>083030</td>\n",
       "      <td>700317</td>\n",
       "      <td>新冠</td>\n",
       "      <td>1,302万円 (1999年 北海道7月セレクト市場)\\n</td>\n",
       "      <td>\\n\\n\\n\\n2億9,890万円 (中央) /2,040万円 (地方)\\n</td>\n",
       "      <td>52戦7勝 [7-6-5-34]</td>\n",
       "      <td>200606020311</td>\n",
       "      <td>1990103624</td>\n",
       "      <td>1.989102e+09</td>\n",
       "      <td>1988109108</td>\n",
       "      <td>000a001bda</td>\n",
       "      <td>000a009781</td>\n",
       "      <td>1981106025</td>\n",
       "      <td>000a000258</td>\n",
       "      <td>000a00075e</td>\n",
       "    </tr>\n",
       "  </tbody>\n",
       "</table>\n",
       "</div>"
      ],
      "text/plain": [
       "     horse_id       bday tame_id owner_id  producer_id production area  \\\n",
       "0  1998107227  1998年4月3日   05489   083030       700317              新冠   \n",
       "\n",
       "                   auction price                                winnings  \\\n",
       "0  1,302万円 (1999年 北海道7月セレクト市場)\\n  \\n\\n\\n\\n2億9,890万円 (中央) /2,040万円 (地方)\\n   \n",
       "\n",
       "    lifetime record  wined race title inbreeding-1  inbreeding-2      father  \\\n",
       "0  52戦7勝 [7-6-5-34]      200606020311   1990103624  1.989102e+09  1988109108   \n",
       "\n",
       "  faths father faths mother      mother moths father moths mother  \n",
       "0   000a001bda   000a009781  1981106025   000a000258   000a00075e  "
      ]
     },
     "execution_count": 6,
     "metadata": {},
     "output_type": "execute_result"
    }
   ],
   "source": [
    "horse_info_df.head(1)"
   ]
  },
  {
   "cell_type": "code",
   "execution_count": 7,
   "id": "1b3f661e",
   "metadata": {},
   "outputs": [],
   "source": [
    "if not os.path.exists('../data/main'):\n",
    "    os.makedirs('../data/main')"
   ]
  },
  {
   "cell_type": "code",
   "execution_count": 8,
   "id": "ecf9aa9f",
   "metadata": {},
   "outputs": [],
   "source": [
    "horse_info_df.to_csv(\"../data/main/horse_info.csv\",\n",
    "               index=False\n",
    "              )"
   ]
  },
  {
   "cell_type": "code",
   "execution_count": 9,
   "id": "be4368b0",
   "metadata": {},
   "outputs": [],
   "source": [
    "# 保管したサービスアカウントキーを指定します\n",
    "client = storage.Client.from_service_account_json(key_name)"
   ]
  },
  {
   "cell_type": "code",
   "execution_count": 10,
   "id": "0fca95fd",
   "metadata": {},
   "outputs": [],
   "source": [
    "# 保管したサービスアカウントキーを指定します\n",
    "client = storage.Client.from_service_account_json(key_name)\n",
    "bucket = client.get_bucket(bucket_name)\n",
    "blob = bucket.blob(horse_info_file_upload)\n",
    "blob.upload_from_filename(horse_info_file_name)"
   ]
  },
  {
   "cell_type": "markdown",
   "id": "cbf785e6",
   "metadata": {},
   "source": [
    "# horse_race_df"
   ]
  },
  {
   "cell_type": "code",
   "execution_count": 11,
   "id": "c8b83f08",
   "metadata": {},
   "outputs": [
    {
     "data": {
      "text/html": [
       "<div>\n",
       "<style scoped>\n",
       "    .dataframe tbody tr th:only-of-type {\n",
       "        vertical-align: middle;\n",
       "    }\n",
       "\n",
       "    .dataframe tbody tr th {\n",
       "        vertical-align: top;\n",
       "    }\n",
       "\n",
       "    .dataframe thead th {\n",
       "        text-align: right;\n",
       "    }\n",
       "</style>\n",
       "<table border=\"1\" class=\"dataframe\">\n",
       "  <thead>\n",
       "    <tr style=\"text-align: right;\">\n",
       "      <th></th>\n",
       "      <th>date</th>\n",
       "      <th>whereracecourse</th>\n",
       "      <th>weather</th>\n",
       "      <th>race_round</th>\n",
       "      <th>race_title</th>\n",
       "      <th>race_id</th>\n",
       "      <th>total_horse_number</th>\n",
       "      <th>frame_number</th>\n",
       "      <th>horse_number</th>\n",
       "      <th>odds</th>\n",
       "      <th>...</th>\n",
       "      <th>goal_time_dif</th>\n",
       "      <th>half_way_rank</th>\n",
       "      <th>pace</th>\n",
       "      <th>last_time</th>\n",
       "      <th>horse_weight</th>\n",
       "      <th>runner-up-horse-id</th>\n",
       "      <th>prize</th>\n",
       "      <th>horse_id</th>\n",
       "      <th>race_type</th>\n",
       "      <th>surface</th>\n",
       "    </tr>\n",
       "  </thead>\n",
       "  <tbody>\n",
       "    <tr>\n",
       "      <th>0</th>\n",
       "      <td>2007-12-26</td>\n",
       "      <td>浦和</td>\n",
       "      <td>晴</td>\n",
       "      <td>11</td>\n",
       "      <td>テレビ埼玉杯(G)</td>\n",
       "      <td>200742122611</td>\n",
       "      <td>11</td>\n",
       "      <td>1</td>\n",
       "      <td>1</td>\n",
       "      <td>63.1</td>\n",
       "      <td>...</td>\n",
       "      <td>1.3</td>\n",
       "      <td>5-5-7-6</td>\n",
       "      <td>35.5-38.7</td>\n",
       "      <td>39.5</td>\n",
       "      <td>501(0)</td>\n",
       "      <td>2000104545</td>\n",
       "      <td></td>\n",
       "      <td>1998107227</td>\n",
       "      <td>G</td>\n",
       "      <td>ダ</td>\n",
       "    </tr>\n",
       "  </tbody>\n",
       "</table>\n",
       "<p>1 rows × 27 columns</p>\n",
       "</div>"
      ],
      "text/plain": [
       "         date whereracecourse weather  race_round race_title       race_id  \\\n",
       "0  2007-12-26              浦和       晴          11  テレビ埼玉杯(G)  200742122611   \n",
       "\n",
       "   total_horse_number  frame_number  horse_number  odds  ...  goal_time_dif  \\\n",
       "0                  11             1             1  63.1  ...            1.3   \n",
       "\n",
       "   half_way_rank       pace  last_time  horse_weight runner-up-horse-id  \\\n",
       "0        5-5-7-6  35.5-38.7       39.5        501(0)         2000104545   \n",
       "\n",
       "   prize    horse_id race_type surface  \n",
       "0         1998107227         G       ダ  \n",
       "\n",
       "[1 rows x 27 columns]"
      ]
     },
     "execution_count": 11,
     "metadata": {},
     "output_type": "execute_result"
    }
   ],
   "source": [
    "horse_race_df.head(1)"
   ]
  },
  {
   "cell_type": "code",
   "execution_count": 12,
   "id": "69ba2915",
   "metadata": {
    "scrolled": true
   },
   "outputs": [],
   "source": [
    "horse_race_df.to_csv(\"../data/main/horse_race.csv\", \n",
    "                index=False\n",
    "               )"
   ]
  },
  {
   "cell_type": "code",
   "execution_count": 13,
   "id": "9e2917c8",
   "metadata": {},
   "outputs": [],
   "source": [
    "# 保管したサービスアカウントキーを指定します\n",
    "client = storage.Client.from_service_account_json(key_name)"
   ]
  },
  {
   "cell_type": "code",
   "execution_count": 14,
   "id": "7f4c8879",
   "metadata": {},
   "outputs": [],
   "source": [
    "# 保管したサービスアカウントキーを指定します\n",
    "client = storage.Client.from_service_account_json(key_name)\n",
    "bucket = client.get_bucket(bucket_name)\n",
    "blob = bucket.blob(horse_race_file_upload)\n",
    "blob.upload_from_filename(horse_race_file_name)"
   ]
  }
 ],
 "metadata": {
  "kernelspec": {
   "display_name": "Python 3 (ipykernel)",
   "language": "python",
   "name": "python3"
  },
  "language_info": {
   "codemirror_mode": {
    "name": "ipython",
    "version": 3
   },
   "file_extension": ".py",
   "mimetype": "text/x-python",
   "name": "python",
   "nbconvert_exporter": "python",
   "pygments_lexer": "ipython3",
   "version": "3.9.16"
  }
 },
 "nbformat": 4,
 "nbformat_minor": 5
}
