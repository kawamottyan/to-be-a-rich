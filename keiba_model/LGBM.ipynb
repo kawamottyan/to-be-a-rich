{
 "cells": [
  {
   "cell_type": "code",
   "execution_count": 1,
   "id": "a19a98a0",
   "metadata": {},
   "outputs": [],
   "source": [
    "#pip install google-cloud-bigquery これ必要\n",
    "#pip install pydata_google_auth\n",
    "#pip install db-dtypes"
   ]
  },
  {
   "cell_type": "code",
   "execution_count": 2,
   "id": "fa31f7e0",
   "metadata": {},
   "outputs": [
    {
     "name": "stderr",
     "output_type": "stream",
     "text": [
      "c:\\Users\\kawam\\miniforge3\\envs\\keiba-d\\lib\\site-packages\\tqdm\\auto.py:21: TqdmWarning: IProgress not found. Please update jupyter and ipywidgets. See https://ipywidgets.readthedocs.io/en/stable/user_install.html\n",
      "  from .autonotebook import tqdm as notebook_tqdm\n"
     ]
    }
   ],
   "source": [
    "#インポート文\n",
    "import numpy as np\n",
    "import pandas as pd\n",
    "\n",
    "from sklearn.preprocessing import LabelEncoder\n",
    "from sklearn.preprocessing import StandardScaler\n",
    "\n",
    "import lightgbm as lgb\n",
    "from lightgbm import LGBMRanker\n",
    "\n",
    "from sklearn import metrics\n",
    "from sklearn.metrics import accuracy_score\n",
    "from sklearn.metrics import f1_score\n",
    "from sklearn.model_selection import KFold\n",
    "\n",
    "from sklearn.metrics import confusion_matrix\n",
    "\n",
    "import optuna\n",
    "\n",
    "import pydata_google_auth\n",
    "from google.cloud import bigquery \n",
    "\n",
    "import pickle"
   ]
  },
  {
   "cell_type": "code",
   "execution_count": 3,
   "id": "5dd7ac1c",
   "metadata": {},
   "outputs": [],
   "source": [
    "credentials = pydata_google_auth.get_user_credentials(\n",
    "    ['https://www.googleapis.com/auth/bigquery'],\n",
    ")"
   ]
  },
  {
   "cell_type": "code",
   "execution_count": 4,
   "id": "2d278425",
   "metadata": {},
   "outputs": [],
   "source": [
    "client = bigquery.Client(project='keiba-381006', credentials=credentials)"
   ]
  },
  {
   "cell_type": "code",
   "execution_count": 5,
   "id": "93583558",
   "metadata": {},
   "outputs": [],
   "source": [
    "horse_query = '''\n",
    "    SELECT * \n",
    "    FROM horse_dataset.main_horse_table \n",
    "    LIMIT 1000\n",
    "    '''\n",
    "horse_df = client.query(horse_query).to_dataframe()"
   ]
  },
  {
   "cell_type": "code",
   "execution_count": 6,
   "id": "355df4b4",
   "metadata": {},
   "outputs": [],
   "source": [
    "race_query = '''\n",
    "    SELECT * \n",
    "    FROM race_dataset.main_race_table \n",
    "    LIMIT 1000\n",
    "    '''\n",
    "race_df = client.query(race_query).to_dataframe()"
   ]
  },
  {
   "cell_type": "code",
   "execution_count": 7,
   "id": "ccbaef9a",
   "metadata": {},
   "outputs": [],
   "source": [
    "#データのマージ\n",
    "race_df_for_merge = race_df[['race_id',\n",
    "                             \"distance\",\n",
    "                            ]]\n",
    "\n",
    "merged_horse_df = pd.merge(horse_df, race_df_for_merge, on='race_id')"
   ]
  },
  {
   "cell_type": "code",
   "execution_count": 8,
   "id": "fbe81f4a",
   "metadata": {},
   "outputs": [],
   "source": [
    "#使う特徴量の設定\n",
    "id = {\"race_id\",\n",
    "      \"horse_id\"\n",
    "    }\n",
    "\n",
    "feature = [\n",
    "           \"race_id\",\n",
    "           \"horse_id\",\n",
    "           \"frame_number\",\n",
    "           \"horse_number\",\n",
    "           \"horse_weight\",\n",
    "           \"distance\",\n",
    "            ]\n",
    "\n",
    "target = ['rank']\n",
    "\n",
    "X_id = merged_horse_df[feature]\n",
    "X = X_id.drop(id, axis =1)\n",
    "y = merged_horse_df[target]"
   ]
  },
  {
   "cell_type": "code",
   "execution_count": 11,
   "id": "ec1e8322",
   "metadata": {},
   "outputs": [
    {
     "data": {
      "text/html": [
       "<style>#sk-container-id-1 {color: black;background-color: white;}#sk-container-id-1 pre{padding: 0;}#sk-container-id-1 div.sk-toggleable {background-color: white;}#sk-container-id-1 label.sk-toggleable__label {cursor: pointer;display: block;width: 100%;margin-bottom: 0;padding: 0.3em;box-sizing: border-box;text-align: center;}#sk-container-id-1 label.sk-toggleable__label-arrow:before {content: \"▸\";float: left;margin-right: 0.25em;color: #696969;}#sk-container-id-1 label.sk-toggleable__label-arrow:hover:before {color: black;}#sk-container-id-1 div.sk-estimator:hover label.sk-toggleable__label-arrow:before {color: black;}#sk-container-id-1 div.sk-toggleable__content {max-height: 0;max-width: 0;overflow: hidden;text-align: left;background-color: #f0f8ff;}#sk-container-id-1 div.sk-toggleable__content pre {margin: 0.2em;color: black;border-radius: 0.25em;background-color: #f0f8ff;}#sk-container-id-1 input.sk-toggleable__control:checked~div.sk-toggleable__content {max-height: 200px;max-width: 100%;overflow: auto;}#sk-container-id-1 input.sk-toggleable__control:checked~label.sk-toggleable__label-arrow:before {content: \"▾\";}#sk-container-id-1 div.sk-estimator input.sk-toggleable__control:checked~label.sk-toggleable__label {background-color: #d4ebff;}#sk-container-id-1 div.sk-label input.sk-toggleable__control:checked~label.sk-toggleable__label {background-color: #d4ebff;}#sk-container-id-1 input.sk-hidden--visually {border: 0;clip: rect(1px 1px 1px 1px);clip: rect(1px, 1px, 1px, 1px);height: 1px;margin: -1px;overflow: hidden;padding: 0;position: absolute;width: 1px;}#sk-container-id-1 div.sk-estimator {font-family: monospace;background-color: #f0f8ff;border: 1px dotted black;border-radius: 0.25em;box-sizing: border-box;margin-bottom: 0.5em;}#sk-container-id-1 div.sk-estimator:hover {background-color: #d4ebff;}#sk-container-id-1 div.sk-parallel-item::after {content: \"\";width: 100%;border-bottom: 1px solid gray;flex-grow: 1;}#sk-container-id-1 div.sk-label:hover label.sk-toggleable__label {background-color: #d4ebff;}#sk-container-id-1 div.sk-serial::before {content: \"\";position: absolute;border-left: 1px solid gray;box-sizing: border-box;top: 0;bottom: 0;left: 50%;z-index: 0;}#sk-container-id-1 div.sk-serial {display: flex;flex-direction: column;align-items: center;background-color: white;padding-right: 0.2em;padding-left: 0.2em;position: relative;}#sk-container-id-1 div.sk-item {position: relative;z-index: 1;}#sk-container-id-1 div.sk-parallel {display: flex;align-items: stretch;justify-content: center;background-color: white;position: relative;}#sk-container-id-1 div.sk-item::before, #sk-container-id-1 div.sk-parallel-item::before {content: \"\";position: absolute;border-left: 1px solid gray;box-sizing: border-box;top: 0;bottom: 0;left: 50%;z-index: -1;}#sk-container-id-1 div.sk-parallel-item {display: flex;flex-direction: column;z-index: 1;position: relative;background-color: white;}#sk-container-id-1 div.sk-parallel-item:first-child::after {align-self: flex-end;width: 50%;}#sk-container-id-1 div.sk-parallel-item:last-child::after {align-self: flex-start;width: 50%;}#sk-container-id-1 div.sk-parallel-item:only-child::after {width: 0;}#sk-container-id-1 div.sk-dashed-wrapped {border: 1px dashed gray;margin: 0 0.4em 0.5em 0.4em;box-sizing: border-box;padding-bottom: 0.4em;background-color: white;}#sk-container-id-1 div.sk-label label {font-family: monospace;font-weight: bold;display: inline-block;line-height: 1.2em;}#sk-container-id-1 div.sk-label-container {text-align: center;}#sk-container-id-1 div.sk-container {/* jupyter's `normalize.less` sets `[hidden] { display: none; }` but bootstrap.min.css set `[hidden] { display: none !important; }` so we also need the `!important` here to be able to override the default hidden behavior on the sphinx rendered scikit-learn.org. See: https://github.com/scikit-learn/scikit-learn/issues/21755 */display: inline-block !important;position: relative;}#sk-container-id-1 div.sk-text-repr-fallback {display: none;}</style><div id=\"sk-container-id-1\" class=\"sk-top-container\"><div class=\"sk-text-repr-fallback\"><pre>LGBMRegressor()</pre><b>In a Jupyter environment, please rerun this cell to show the HTML representation or trust the notebook. <br />On GitHub, the HTML representation is unable to render, please try loading this page with nbviewer.org.</b></div><div class=\"sk-container\" hidden><div class=\"sk-item\"><div class=\"sk-estimator sk-toggleable\"><input class=\"sk-toggleable__control sk-hidden--visually\" id=\"sk-estimator-id-1\" type=\"checkbox\" checked><label for=\"sk-estimator-id-1\" class=\"sk-toggleable__label sk-toggleable__label-arrow\">LGBMRegressor</label><div class=\"sk-toggleable__content\"><pre>LGBMRegressor()</pre></div></div></div></div></div>"
      ],
      "text/plain": [
       "LGBMRegressor()"
      ]
     },
     "execution_count": 11,
     "metadata": {},
     "output_type": "execute_result"
    }
   ],
   "source": [
    "X = X.astype(float)\n",
    "y = y.astype(float)\n",
    "model = lgb.LGBMRegressor() \n",
    "model.fit(X, y) "
   ]
  },
  {
   "cell_type": "code",
   "execution_count": 12,
   "id": "c0561e8f",
   "metadata": {},
   "outputs": [],
   "source": [
    "X_id= X_id.astype(float)\n",
    "y= y.astype(float)"
   ]
  },
  {
   "cell_type": "code",
   "execution_count": 13,
   "id": "f53a0c40",
   "metadata": {},
   "outputs": [
    {
     "data": {
      "text/plain": [
       "7.738006204156375"
      ]
     },
     "execution_count": 13,
     "metadata": {},
     "output_type": "execute_result"
    }
   ],
   "source": [
    "result = model.predict(X)\n",
    "result[0]"
   ]
  },
  {
   "cell_type": "code",
   "execution_count": 20,
   "id": "7d23f986",
   "metadata": {},
   "outputs": [
    {
     "data": {
      "text/plain": [
       "9.59372812548868"
      ]
     },
     "execution_count": 20,
     "metadata": {},
     "output_type": "execute_result"
    }
   ],
   "source": [
    "frame_number= 1\n",
    "horse_number = 2\n",
    "horse_weight = 410\n",
    "distance = 1600\n",
    "\n",
    "result = model.predict([[frame_number,horse_number,horse_weight,distance]])\n",
    "\n",
    "result #array([9.59372813])\n",
    "result[0] #9.59372812548868"
   ]
  },
  {
   "cell_type": "code",
   "execution_count": 14,
   "id": "a180c6a7",
   "metadata": {},
   "outputs": [],
   "source": [
    "with open('model.pickle', 'wb') as f:\n",
    "    pickle.dump(model, f)"
   ]
  }
 ],
 "metadata": {
  "kernelspec": {
   "display_name": "Python 3 (ipykernel)",
   "language": "python",
   "name": "python3"
  },
  "language_info": {
   "codemirror_mode": {
    "name": "ipython",
    "version": 3
   },
   "file_extension": ".py",
   "mimetype": "text/x-python",
   "name": "python",
   "nbconvert_exporter": "python",
   "pygments_lexer": "ipython3",
   "version": "3.9.16"
  }
 },
 "nbformat": 4,
 "nbformat_minor": 5
}
