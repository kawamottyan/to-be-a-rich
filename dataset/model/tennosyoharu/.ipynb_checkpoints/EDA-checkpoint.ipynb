{
 "cells": [
  {
   "cell_type": "markdown",
   "id": "231efcb2-250f-4cc7-967d-ed0bd64ea593",
   "metadata": {},
   "source": [
    "# インポート"
   ]
  },
  {
   "cell_type": "code",
   "execution_count": 1,
   "id": "fa31f7e0",
   "metadata": {
    "tags": []
   },
   "outputs": [],
   "source": [
    "#インポート文\n",
    "import numpy as np\n",
    "import pandas as pd\n",
    "\n",
    "import matplotlib.pyplot as plt\n",
    "import seaborn as sns\n",
    "\n",
    "import pydata_google_auth\n",
    "from google.cloud import bigquery"
   ]
  },
  {
   "cell_type": "markdown",
   "id": "2f0009d7-8d68-4092-be9c-19c1bdbfc9a6",
   "metadata": {},
   "source": [
    "# BigQueryからデータの読み込み"
   ]
  },
  {
   "cell_type": "code",
   "execution_count": 2,
   "id": "5dd7ac1c",
   "metadata": {
    "tags": []
   },
   "outputs": [],
   "source": [
    "credentials = pydata_google_auth.get_user_credentials(\n",
    "    ['https://www.googleapis.com/auth/bigquery'],\n",
    ")\n",
    "client = bigquery.Client(project='keiba-381006', credentials=credentials)"
   ]
  },
  {
   "cell_type": "code",
   "execution_count": 3,
   "id": "93583558",
   "metadata": {
    "tags": []
   },
   "outputs": [
    {
     "data": {
      "text/html": [
       "<div>\n",
       "<style scoped>\n",
       "    .dataframe tbody tr th:only-of-type {\n",
       "        vertical-align: middle;\n",
       "    }\n",
       "\n",
       "    .dataframe tbody tr th {\n",
       "        vertical-align: top;\n",
       "    }\n",
       "\n",
       "    .dataframe thead th {\n",
       "        text-align: right;\n",
       "    }\n",
       "</style>\n",
       "<table border=\"1\" class=\"dataframe\">\n",
       "  <thead>\n",
       "    <tr style=\"text-align: right;\">\n",
       "      <th></th>\n",
       "      <th>race_id</th>\n",
       "      <th>race_round</th>\n",
       "      <th>race_title</th>\n",
       "      <th>weather</th>\n",
       "      <th>ground_status</th>\n",
       "      <th>date</th>\n",
       "      <th>where_racecourse</th>\n",
       "      <th>total_horse_number</th>\n",
       "      <th>frame_number_first</th>\n",
       "      <th>horse_number_first</th>\n",
       "      <th>...</th>\n",
       "      <th>wide_2_3</th>\n",
       "      <th>umatan</th>\n",
       "      <th>renhuku3</th>\n",
       "      <th>rentan3</th>\n",
       "      <th>race_rank</th>\n",
       "      <th>is_obstacle</th>\n",
       "      <th>ground_type</th>\n",
       "      <th>is_left_right_straight</th>\n",
       "      <th>distance</th>\n",
       "      <th>datetime</th>\n",
       "    </tr>\n",
       "  </thead>\n",
       "  <tbody>\n",
       "    <tr>\n",
       "      <th>0</th>\n",
       "      <td>200908030410</td>\n",
       "      <td>10</td>\n",
       "      <td>第139回天皇賞(春)(G1)</td>\n",
       "      <td>2</td>\n",
       "      <td>1</td>\n",
       "      <td>2009-05-03</td>\n",
       "      <td>8</td>\n",
       "      <td>18</td>\n",
       "      <td>1</td>\n",
       "      <td>2</td>\n",
       "      <td>...</td>\n",
       "      <td>1360</td>\n",
       "      <td>22530</td>\n",
       "      <td>32390</td>\n",
       "      <td>221080</td>\n",
       "      <td>0</td>\n",
       "      <td>0</td>\n",
       "      <td>2</td>\n",
       "      <td>2</td>\n",
       "      <td>3200</td>\n",
       "      <td>2009-05-03 15:40:00+00:00</td>\n",
       "    </tr>\n",
       "  </tbody>\n",
       "</table>\n",
       "<p>1 rows × 32 columns</p>\n",
       "</div>"
      ],
      "text/plain": [
       "        race_id  race_round       race_title  weather  ground_status  \\\n",
       "0  200908030410          10  第139回天皇賞(春)(G1)        2              1   \n",
       "\n",
       "         date  where_racecourse  total_horse_number  frame_number_first  \\\n",
       "0  2009-05-03                 8                  18                   1   \n",
       "\n",
       "   horse_number_first  ...  wide_2_3  umatan  renhuku3  rentan3  race_rank  \\\n",
       "0                   2  ...      1360   22530     32390   221080          0   \n",
       "\n",
       "   is_obstacle  ground_type  is_left_right_straight  distance  \\\n",
       "0            0            2                       2      3200   \n",
       "\n",
       "                   datetime  \n",
       "0 2009-05-03 15:40:00+00:00  \n",
       "\n",
       "[1 rows x 32 columns]"
      ]
     },
     "execution_count": 3,
     "metadata": {},
     "output_type": "execute_result"
    }
   ],
   "source": [
    "race_query = '''\n",
    "    SELECT * \n",
    "    FROM tennosyoharu.race_table\n",
    "    '''\n",
    "race_df = client.query(race_query).to_dataframe()\n",
    "race_df.head(1)"
   ]
  },
  {
   "cell_type": "code",
   "execution_count": 4,
   "id": "355df4b4",
   "metadata": {
    "tags": []
   },
   "outputs": [
    {
     "data": {
      "text/html": [
       "<div>\n",
       "<style scoped>\n",
       "    .dataframe tbody tr th:only-of-type {\n",
       "        vertical-align: middle;\n",
       "    }\n",
       "\n",
       "    .dataframe tbody tr th {\n",
       "        vertical-align: top;\n",
       "    }\n",
       "\n",
       "    .dataframe thead th {\n",
       "        text-align: right;\n",
       "    }\n",
       "</style>\n",
       "<table border=\"1\" class=\"dataframe\">\n",
       "  <thead>\n",
       "    <tr style=\"text-align: right;\">\n",
       "      <th></th>\n",
       "      <th>race_id</th>\n",
       "      <th>rank</th>\n",
       "      <th>frame_number</th>\n",
       "      <th>horse_number</th>\n",
       "      <th>horse_id</th>\n",
       "      <th>burden_weight</th>\n",
       "      <th>rider_id</th>\n",
       "      <th>goal_time</th>\n",
       "      <th>goal_time_dif</th>\n",
       "      <th>half_way_rank</th>\n",
       "      <th>last_time</th>\n",
       "      <th>odds</th>\n",
       "      <th>popular</th>\n",
       "      <th>horse_weight</th>\n",
       "      <th>tamer_id</th>\n",
       "      <th>owner_id</th>\n",
       "      <th>is_down</th>\n",
       "      <th>age</th>\n",
       "      <th>sex</th>\n",
       "      <th>horse_weight_dif</th>\n",
       "      <th>burden_weight_rate</th>\n",
       "      <th>avg_velocity</th>\n",
       "    </tr>\n",
       "  </thead>\n",
       "  <tbody>\n",
       "    <tr>\n",
       "      <th>0</th>\n",
       "      <td>200808030411</td>\n",
       "      <td>14</td>\n",
       "      <td>4</td>\n",
       "      <td>6</td>\n",
       "      <td>2003102976</td>\n",
       "      <td>58.0</td>\n",
       "      <td>1014</td>\n",
       "      <td>199.0</td>\n",
       "      <td>0.3</td>\n",
       "      <td>5.0</td>\n",
       "      <td>38</td>\n",
       "      <td>434</td>\n",
       "      <td>11</td>\n",
       "      <td>512</td>\n",
       "      <td>362</td>\n",
       "      <td>398002</td>\n",
       "      <td>0</td>\n",
       "      <td>5</td>\n",
       "      <td>0</td>\n",
       "      <td>0</td>\n",
       "      <td>0.113281</td>\n",
       "      <td>16.080402</td>\n",
       "    </tr>\n",
       "  </tbody>\n",
       "</table>\n",
       "</div>"
      ],
      "text/plain": [
       "        race_id  rank  frame_number  horse_number    horse_id  burden_weight  \\\n",
       "0  200808030411    14             4             6  2003102976           58.0   \n",
       "\n",
       "   rider_id  goal_time  goal_time_dif  half_way_rank  last_time  odds  \\\n",
       "0      1014      199.0            0.3            5.0         38   434   \n",
       "\n",
       "   popular  horse_weight  tamer_id  owner_id  is_down  age  sex  \\\n",
       "0       11           512       362    398002        0    5    0   \n",
       "\n",
       "   horse_weight_dif  burden_weight_rate  avg_velocity  \n",
       "0                 0            0.113281     16.080402  "
      ]
     },
     "execution_count": 4,
     "metadata": {},
     "output_type": "execute_result"
    }
   ],
   "source": [
    "horse_query = '''\n",
    "    SELECT * \n",
    "    FROM tennosyoharu.horse_table \n",
    "    '''\n",
    "horse_df = client.query(horse_query).to_dataframe()\n",
    "pd.set_option('display.max_columns', 100)\n",
    "horse_df.head(1)"
   ]
  },
  {
   "cell_type": "code",
   "execution_count": 5,
   "id": "e0bc9124",
   "metadata": {
    "tags": []
   },
   "outputs": [
    {
     "data": {
      "text/html": [
       "<div>\n",
       "<style scoped>\n",
       "    .dataframe tbody tr th:only-of-type {\n",
       "        vertical-align: middle;\n",
       "    }\n",
       "\n",
       "    .dataframe tbody tr th {\n",
       "        vertical-align: top;\n",
       "    }\n",
       "\n",
       "    .dataframe thead th {\n",
       "        text-align: right;\n",
       "    }\n",
       "</style>\n",
       "<table border=\"1\" class=\"dataframe\">\n",
       "  <thead>\n",
       "    <tr style=\"text-align: right;\">\n",
       "      <th></th>\n",
       "      <th>horse_id</th>\n",
       "      <th>bday</th>\n",
       "      <th>tamer_id</th>\n",
       "      <th>owner_id</th>\n",
       "      <th>producer_id</th>\n",
       "      <th>production_area</th>\n",
       "      <th>lifetime_record</th>\n",
       "      <th>wined_race_title</th>\n",
       "      <th>inbreeding_1</th>\n",
       "      <th>inbreeding_2</th>\n",
       "      <th>father</th>\n",
       "      <th>faths_father</th>\n",
       "      <th>faths_mother</th>\n",
       "      <th>mother</th>\n",
       "      <th>moths_father</th>\n",
       "      <th>moths_mother</th>\n",
       "    </tr>\n",
       "  </thead>\n",
       "  <tbody>\n",
       "    <tr>\n",
       "      <th>0</th>\n",
       "      <td>1998105900</td>\n",
       "      <td>1998-03-21</td>\n",
       "      <td>05610</td>\n",
       "      <td>x0063a</td>\n",
       "      <td>910124.0</td>\n",
       "      <td>門別町</td>\n",
       "      <td>94戦13勝 [13-12-5-64]</td>\n",
       "      <td>200205010111</td>\n",
       "      <td>1996102520</td>\n",
       "      <td>1.997106e+09</td>\n",
       "      <td>000a000082</td>\n",
       "      <td>000a0012cb</td>\n",
       "      <td>000a00877c</td>\n",
       "      <td>000a00005d</td>\n",
       "      <td>000a001607</td>\n",
       "      <td>000a00997a</td>\n",
       "    </tr>\n",
       "  </tbody>\n",
       "</table>\n",
       "</div>"
      ],
      "text/plain": [
       "     horse_id        bday tamer_id owner_id  producer_id production_area  \\\n",
       "0  1998105900  1998-03-21    05610   x0063a     910124.0             門別町   \n",
       "\n",
       "       lifetime_record wined_race_title inbreeding_1  inbreeding_2  \\\n",
       "0  94戦13勝 [13-12-5-64]     200205010111   1996102520  1.997106e+09   \n",
       "\n",
       "       father faths_father faths_mother      mother moths_father moths_mother  \n",
       "0  000a000082   000a0012cb   000a00877c  000a00005d   000a001607   000a00997a  "
      ]
     },
     "execution_count": 5,
     "metadata": {},
     "output_type": "execute_result"
    }
   ],
   "source": [
    "horse_info_query = '''\n",
    "    SELECT * \n",
    "    FROM tennosyoharu.horse_info_table\n",
    "    '''\n",
    "horse_info_df = client.query(horse_info_query).to_dataframe()\n",
    "pd.set_option('display.max_columns', 100)\n",
    "horse_info_df.head(1)"
   ]
  },
  {
   "cell_type": "code",
   "execution_count": 6,
   "id": "bee0d372",
   "metadata": {
    "tags": []
   },
   "outputs": [
    {
     "data": {
      "text/html": [
       "<div>\n",
       "<style scoped>\n",
       "    .dataframe tbody tr th:only-of-type {\n",
       "        vertical-align: middle;\n",
       "    }\n",
       "\n",
       "    .dataframe tbody tr th {\n",
       "        vertical-align: top;\n",
       "    }\n",
       "\n",
       "    .dataframe thead th {\n",
       "        text-align: right;\n",
       "    }\n",
       "</style>\n",
       "<table border=\"1\" class=\"dataframe\">\n",
       "  <thead>\n",
       "    <tr style=\"text-align: right;\">\n",
       "      <th></th>\n",
       "      <th>date</th>\n",
       "      <th>where_racecourse</th>\n",
       "      <th>weather</th>\n",
       "      <th>race_round</th>\n",
       "      <th>race_title</th>\n",
       "      <th>race_id</th>\n",
       "      <th>total_horse_number</th>\n",
       "      <th>frame_number</th>\n",
       "      <th>horse_number</th>\n",
       "      <th>odds</th>\n",
       "      <th>popular</th>\n",
       "      <th>rank</th>\n",
       "      <th>rider_id</th>\n",
       "      <th>burden_weight</th>\n",
       "      <th>ground_status</th>\n",
       "      <th>goal_time</th>\n",
       "      <th>goal_time_dif</th>\n",
       "      <th>half_way_rank</th>\n",
       "      <th>pace</th>\n",
       "      <th>last_time</th>\n",
       "      <th>horse_weight</th>\n",
       "      <th>wined_horse_id</th>\n",
       "      <th>horse_id</th>\n",
       "      <th>target_race_id</th>\n",
       "      <th>race_rank</th>\n",
       "      <th>horse_weight_dif</th>\n",
       "      <th>is_down</th>\n",
       "      <th>burden_weight_rate</th>\n",
       "      <th>is_obstacle</th>\n",
       "      <th>ground_type</th>\n",
       "      <th>is_left_right_straight</th>\n",
       "      <th>distance</th>\n",
       "      <th>race_date</th>\n",
       "    </tr>\n",
       "  </thead>\n",
       "  <tbody>\n",
       "    <tr>\n",
       "      <th>0</th>\n",
       "      <td>2016-05-28</td>\n",
       "      <td>5</td>\n",
       "      <td>2</td>\n",
       "      <td>11</td>\n",
       "      <td>欅S(OP)</td>\n",
       "      <td>201605021111</td>\n",
       "      <td>16</td>\n",
       "      <td>1</td>\n",
       "      <td>1</td>\n",
       "      <td>380</td>\n",
       "      <td>9</td>\n",
       "      <td>7</td>\n",
       "      <td>1075</td>\n",
       "      <td>56.0</td>\n",
       "      <td>2</td>\n",
       "      <td>83.3</td>\n",
       "      <td>-0.3</td>\n",
       "      <td>9.5</td>\n",
       "      <td>35.5</td>\n",
       "      <td>36</td>\n",
       "      <td>472.0</td>\n",
       "      <td>2011104416</td>\n",
       "      <td>2010106467</td>\n",
       "      <td>201808030411</td>\n",
       "      <td>0</td>\n",
       "      <td>10.0</td>\n",
       "      <td>0</td>\n",
       "      <td>0.118644</td>\n",
       "      <td>0</td>\n",
       "      <td>1</td>\n",
       "      <td>0</td>\n",
       "      <td>1400</td>\n",
       "      <td>2018-04-29</td>\n",
       "    </tr>\n",
       "  </tbody>\n",
       "</table>\n",
       "</div>"
      ],
      "text/plain": [
       "         date  where_racecourse  weather  race_round race_title       race_id  \\\n",
       "0  2016-05-28                 5        2          11     欅S(OP)  201605021111   \n",
       "\n",
       "   total_horse_number  frame_number  horse_number  odds  popular  rank  \\\n",
       "0                  16             1             1   380        9     7   \n",
       "\n",
       "   rider_id  burden_weight  ground_status  goal_time  goal_time_dif  \\\n",
       "0      1075           56.0              2       83.3           -0.3   \n",
       "\n",
       "   half_way_rank  pace  last_time  horse_weight  wined_horse_id    horse_id  \\\n",
       "0            9.5  35.5         36         472.0      2011104416  2010106467   \n",
       "\n",
       "   target_race_id  race_rank  horse_weight_dif  is_down  burden_weight_rate  \\\n",
       "0    201808030411          0              10.0        0            0.118644   \n",
       "\n",
       "   is_obstacle  ground_type  is_left_right_straight  distance   race_date  \n",
       "0            0            1                       0      1400  2018-04-29  "
      ]
     },
     "execution_count": 6,
     "metadata": {},
     "output_type": "execute_result"
    }
   ],
   "source": [
    "horse_race_query = '''\n",
    "    SELECT * \n",
    "    FROM tennosyoharu.horse_race_table\n",
    "    '''\n",
    "horse_race_df = client.query(horse_race_query).to_dataframe()\n",
    "pd.set_option('display.max_columns', 100)\n",
    "horse_race_df.head(1)"
   ]
  },
  {
   "cell_type": "code",
   "execution_count": 7,
   "id": "09f45530-2b62-4924-948b-b33a0c8df18b",
   "metadata": {
    "jupyter": {
     "outputs_hidden": true
    },
    "tags": []
   },
   "outputs": [
    {
     "name": "stdout",
     "output_type": "stream",
     "text": [
      "<class 'pandas.core.frame.DataFrame'>\n",
      "Int64Index: 514 entries, 0 to 513\n",
      "Data columns (total 68 columns):\n",
      " #   Column                  Non-Null Count  Dtype              \n",
      "---  ------                  --------------  -----              \n",
      " 0   race_id                 514 non-null    Int64              \n",
      " 1   rank                    514 non-null    Int64              \n",
      " 2   frame_number            514 non-null    Int64              \n",
      " 3   horse_number            514 non-null    Int64              \n",
      " 4   horse_id                514 non-null    Int64              \n",
      " 5   burden_weight           514 non-null    float64            \n",
      " 6   rider_id                514 non-null    Int64              \n",
      " 7   goal_time               514 non-null    float64            \n",
      " 8   goal_time_dif           514 non-null    float64            \n",
      " 9   half_way_rank           514 non-null    float64            \n",
      " 10  last_time               514 non-null    Int64              \n",
      " 11  odds                    514 non-null    Int64              \n",
      " 12  popular                 514 non-null    Int64              \n",
      " 13  horse_weight            514 non-null    Int64              \n",
      " 14  tamer_id_x              514 non-null    Int64              \n",
      " 15  owner_id_x              514 non-null    Int64              \n",
      " 16  is_down                 514 non-null    Int64              \n",
      " 17  age                     514 non-null    Int64              \n",
      " 18  sex                     514 non-null    Int64              \n",
      " 19  horse_weight_dif        514 non-null    Int64              \n",
      " 20  burden_weight_rate      514 non-null    float64            \n",
      " 21  avg_velocity            514 non-null    float64            \n",
      " 22  race_round              514 non-null    Int64              \n",
      " 23  race_title              514 non-null    object             \n",
      " 24  weather                 514 non-null    Int64              \n",
      " 25  ground_status           514 non-null    Int64              \n",
      " 26  date                    514 non-null    dbdate             \n",
      " 27  where_racecourse        514 non-null    Int64              \n",
      " 28  total_horse_number      514 non-null    Int64              \n",
      " 29  frame_number_first      514 non-null    Int64              \n",
      " 30  horse_number_first      514 non-null    Int64              \n",
      " 31  frame_number_second     514 non-null    Int64              \n",
      " 32  horse_number_second     514 non-null    Int64              \n",
      " 33  frame_number_third      514 non-null    Int64              \n",
      " 34  horse_number_third      514 non-null    Int64              \n",
      " 35  tansyo                  514 non-null    Int64              \n",
      " 36  hukusyo_first           514 non-null    Int64              \n",
      " 37  hukusyo_second          514 non-null    Int64              \n",
      " 38  hukusyo_third           514 non-null    Int64              \n",
      " 39  wakuren                 514 non-null    Int64              \n",
      " 40  umaren                  514 non-null    Int64              \n",
      " 41  wide_1_2                514 non-null    Int64              \n",
      " 42  wide_1_3                514 non-null    Int64              \n",
      " 43  wide_2_3                514 non-null    Int64              \n",
      " 44  umatan                  514 non-null    Int64              \n",
      " 45  renhuku3                514 non-null    Int64              \n",
      " 46  rentan3                 514 non-null    Int64              \n",
      " 47  race_rank               514 non-null    Int64              \n",
      " 48  is_obstacle             514 non-null    Int64              \n",
      " 49  ground_type             514 non-null    Int64              \n",
      " 50  is_left_right_straight  514 non-null    Int64              \n",
      " 51  distance                514 non-null    Int64              \n",
      " 52  datetime                514 non-null    datetime64[ns, UTC]\n",
      " 53  bday                    514 non-null    dbdate             \n",
      " 54  tamer_id_y              514 non-null    object             \n",
      " 55  owner_id_y              514 non-null    object             \n",
      " 56  producer_id             430 non-null    float64            \n",
      " 57  production_area         514 non-null    object             \n",
      " 58  lifetime_record         514 non-null    object             \n",
      " 59  wined_race_title        514 non-null    object             \n",
      " 60  inbreeding_1            509 non-null    object             \n",
      " 61  inbreeding_2            417 non-null    float64            \n",
      " 62  father                  514 non-null    object             \n",
      " 63  faths_father            514 non-null    object             \n",
      " 64  faths_mother            514 non-null    object             \n",
      " 65  mother                  514 non-null    object             \n",
      " 66  moths_father            514 non-null    object             \n",
      " 67  moths_mother            514 non-null    object             \n",
      "dtypes: Int64(44), datetime64[ns, UTC](1), dbdate(2), float64(8), object(13)\n",
      "memory usage: 299.2+ KB\n"
     ]
    }
   ],
   "source": [
    "#dfのマージ\n",
    "df_marged = pd.DataFrame()\n",
    "df_marged = pd.merge(horse_df, race_df, on='race_id', how='left')\n",
    "df_marged = pd.merge(df_marged, horse_info_df, on='horse_id', how='left')\n",
    "#df_marged = pd.merge(df_marged, horse_race_df, on='horse_id', how='left')\n",
    "#過去のレースは1対多の関係にあるので、過去のレースの傾向から、今回のレースの調子を測る\n",
    "df_marged.info()"
   ]
  },
  {
   "cell_type": "markdown",
   "id": "339cdb96-d895-4806-985f-f1394a0f1efd",
   "metadata": {
    "tags": []
   },
   "source": [
    "# EDA"
   ]
  },
  {
   "cell_type": "markdown",
   "id": "37014baf-4e2e-4cf9-a571-6896bbedfd1f",
   "metadata": {
    "tags": []
   },
   "source": [
    "## race_dfの探索"
   ]
  },
  {
   "cell_type": "markdown",
   "id": "463d6d9e",
   "metadata": {},
   "source": [
    "### 全体"
   ]
  },
  {
   "cell_type": "code",
   "execution_count": 8,
   "id": "3df93500-2102-417a-84dd-0e35af84f4a6",
   "metadata": {
    "tags": []
   },
   "outputs": [
    {
     "data": {
      "text/html": [
       "<div>\n",
       "<style scoped>\n",
       "    .dataframe tbody tr th:only-of-type {\n",
       "        vertical-align: middle;\n",
       "    }\n",
       "\n",
       "    .dataframe tbody tr th {\n",
       "        vertical-align: top;\n",
       "    }\n",
       "\n",
       "    .dataframe thead th {\n",
       "        text-align: right;\n",
       "    }\n",
       "</style>\n",
       "<table border=\"1\" class=\"dataframe\">\n",
       "  <thead>\n",
       "    <tr style=\"text-align: right;\">\n",
       "      <th></th>\n",
       "      <th>race_id</th>\n",
       "      <th>race_round</th>\n",
       "      <th>race_title</th>\n",
       "      <th>weather</th>\n",
       "      <th>ground_status</th>\n",
       "      <th>date</th>\n",
       "      <th>where_racecourse</th>\n",
       "      <th>total_horse_number</th>\n",
       "      <th>frame_number_first</th>\n",
       "      <th>horse_number_first</th>\n",
       "      <th>frame_number_second</th>\n",
       "      <th>horse_number_second</th>\n",
       "      <th>frame_number_third</th>\n",
       "      <th>horse_number_third</th>\n",
       "      <th>tansyo</th>\n",
       "      <th>hukusyo_first</th>\n",
       "      <th>hukusyo_second</th>\n",
       "      <th>hukusyo_third</th>\n",
       "      <th>wakuren</th>\n",
       "      <th>umaren</th>\n",
       "      <th>wide_1_2</th>\n",
       "      <th>wide_1_3</th>\n",
       "      <th>wide_2_3</th>\n",
       "      <th>umatan</th>\n",
       "      <th>renhuku3</th>\n",
       "      <th>rentan3</th>\n",
       "      <th>race_rank</th>\n",
       "      <th>is_obstacle</th>\n",
       "      <th>ground_type</th>\n",
       "      <th>is_left_right_straight</th>\n",
       "      <th>distance</th>\n",
       "      <th>datetime</th>\n",
       "    </tr>\n",
       "  </thead>\n",
       "  <tbody>\n",
       "    <tr>\n",
       "      <th>0</th>\n",
       "      <td>200908030410</td>\n",
       "      <td>10</td>\n",
       "      <td>第139回天皇賞(春)(G1)</td>\n",
       "      <td>2</td>\n",
       "      <td>1</td>\n",
       "      <td>2009-05-03</td>\n",
       "      <td>8</td>\n",
       "      <td>18</td>\n",
       "      <td>1</td>\n",
       "      <td>2</td>\n",
       "      <td>2</td>\n",
       "      <td>4</td>\n",
       "      <td>6</td>\n",
       "      <td>12</td>\n",
       "      <td>4650</td>\n",
       "      <td>870</td>\n",
       "      <td>270</td>\n",
       "      <td>370</td>\n",
       "      <td>3520</td>\n",
       "      <td>10200</td>\n",
       "      <td>2690</td>\n",
       "      <td>4370</td>\n",
       "      <td>1360</td>\n",
       "      <td>22530</td>\n",
       "      <td>32390</td>\n",
       "      <td>221080</td>\n",
       "      <td>0</td>\n",
       "      <td>0</td>\n",
       "      <td>2</td>\n",
       "      <td>2</td>\n",
       "      <td>3200</td>\n",
       "      <td>2009-05-03 15:40:00+00:00</td>\n",
       "    </tr>\n",
       "    <tr>\n",
       "      <th>1</th>\n",
       "      <td>201108030411</td>\n",
       "      <td>11</td>\n",
       "      <td>第143回天皇賞(春)(G1)</td>\n",
       "      <td>2</td>\n",
       "      <td>2</td>\n",
       "      <td>2011-05-01</td>\n",
       "      <td>8</td>\n",
       "      <td>18</td>\n",
       "      <td>1</td>\n",
       "      <td>2</td>\n",
       "      <td>7</td>\n",
       "      <td>15</td>\n",
       "      <td>2</td>\n",
       "      <td>3</td>\n",
       "      <td>1690</td>\n",
       "      <td>550</td>\n",
       "      <td>300</td>\n",
       "      <td>450</td>\n",
       "      <td>2970</td>\n",
       "      <td>6810</td>\n",
       "      <td>2280</td>\n",
       "      <td>2560</td>\n",
       "      <td>1600</td>\n",
       "      <td>15590</td>\n",
       "      <td>25530</td>\n",
       "      <td>189840</td>\n",
       "      <td>0</td>\n",
       "      <td>0</td>\n",
       "      <td>2</td>\n",
       "      <td>2</td>\n",
       "      <td>3200</td>\n",
       "      <td>2011-05-01 15:40:00+00:00</td>\n",
       "    </tr>\n",
       "    <tr>\n",
       "      <th>2</th>\n",
       "      <td>201208030411</td>\n",
       "      <td>11</td>\n",
       "      <td>第145回天皇賞(春)(G1)</td>\n",
       "      <td>1</td>\n",
       "      <td>1</td>\n",
       "      <td>2012-04-29</td>\n",
       "      <td>8</td>\n",
       "      <td>18</td>\n",
       "      <td>1</td>\n",
       "      <td>1</td>\n",
       "      <td>8</td>\n",
       "      <td>16</td>\n",
       "      <td>6</td>\n",
       "      <td>11</td>\n",
       "      <td>15960</td>\n",
       "      <td>3720</td>\n",
       "      <td>400</td>\n",
       "      <td>350</td>\n",
       "      <td>3580</td>\n",
       "      <td>61570</td>\n",
       "      <td>8400</td>\n",
       "      <td>8870</td>\n",
       "      <td>760</td>\n",
       "      <td>208630</td>\n",
       "      <td>97140</td>\n",
       "      <td>1452520</td>\n",
       "      <td>0</td>\n",
       "      <td>0</td>\n",
       "      <td>2</td>\n",
       "      <td>2</td>\n",
       "      <td>3200</td>\n",
       "      <td>2012-04-29 15:40:00+00:00</td>\n",
       "    </tr>\n",
       "    <tr>\n",
       "      <th>3</th>\n",
       "      <td>201508030411</td>\n",
       "      <td>11</td>\n",
       "      <td>第151回天皇賞(春)(G1)</td>\n",
       "      <td>1</td>\n",
       "      <td>1</td>\n",
       "      <td>2015-05-03</td>\n",
       "      <td>8</td>\n",
       "      <td>17</td>\n",
       "      <td>1</td>\n",
       "      <td>1</td>\n",
       "      <td>7</td>\n",
       "      <td>14</td>\n",
       "      <td>1</td>\n",
       "      <td>2</td>\n",
       "      <td>460</td>\n",
       "      <td>260</td>\n",
       "      <td>630</td>\n",
       "      <td>610</td>\n",
       "      <td>690</td>\n",
       "      <td>6060</td>\n",
       "      <td>2300</td>\n",
       "      <td>2460</td>\n",
       "      <td>6010</td>\n",
       "      <td>8480</td>\n",
       "      <td>57160</td>\n",
       "      <td>236300</td>\n",
       "      <td>0</td>\n",
       "      <td>0</td>\n",
       "      <td>2</td>\n",
       "      <td>2</td>\n",
       "      <td>3200</td>\n",
       "      <td>2015-05-03 15:40:00+00:00</td>\n",
       "    </tr>\n",
       "    <tr>\n",
       "      <th>4</th>\n",
       "      <td>201608030411</td>\n",
       "      <td>11</td>\n",
       "      <td>第153回天皇賞(春)(G1)</td>\n",
       "      <td>1</td>\n",
       "      <td>1</td>\n",
       "      <td>2016-05-01</td>\n",
       "      <td>8</td>\n",
       "      <td>18</td>\n",
       "      <td>1</td>\n",
       "      <td>1</td>\n",
       "      <td>2</td>\n",
       "      <td>3</td>\n",
       "      <td>4</td>\n",
       "      <td>8</td>\n",
       "      <td>450</td>\n",
       "      <td>170</td>\n",
       "      <td>1390</td>\n",
       "      <td>240</td>\n",
       "      <td>6650</td>\n",
       "      <td>20160</td>\n",
       "      <td>3770</td>\n",
       "      <td>540</td>\n",
       "      <td>7840</td>\n",
       "      <td>29950</td>\n",
       "      <td>32350</td>\n",
       "      <td>242730</td>\n",
       "      <td>0</td>\n",
       "      <td>0</td>\n",
       "      <td>2</td>\n",
       "      <td>2</td>\n",
       "      <td>3200</td>\n",
       "      <td>2016-05-01 15:40:00+00:00</td>\n",
       "    </tr>\n",
       "  </tbody>\n",
       "</table>\n",
       "</div>"
      ],
      "text/plain": [
       "        race_id  race_round       race_title  weather  ground_status  \\\n",
       "0  200908030410          10  第139回天皇賞(春)(G1)        2              1   \n",
       "1  201108030411          11  第143回天皇賞(春)(G1)        2              2   \n",
       "2  201208030411          11  第145回天皇賞(春)(G1)        1              1   \n",
       "3  201508030411          11  第151回天皇賞(春)(G1)        1              1   \n",
       "4  201608030411          11  第153回天皇賞(春)(G1)        1              1   \n",
       "\n",
       "         date  where_racecourse  total_horse_number  frame_number_first  \\\n",
       "0  2009-05-03                 8                  18                   1   \n",
       "1  2011-05-01                 8                  18                   1   \n",
       "2  2012-04-29                 8                  18                   1   \n",
       "3  2015-05-03                 8                  17                   1   \n",
       "4  2016-05-01                 8                  18                   1   \n",
       "\n",
       "   horse_number_first  frame_number_second  horse_number_second  \\\n",
       "0                   2                    2                    4   \n",
       "1                   2                    7                   15   \n",
       "2                   1                    8                   16   \n",
       "3                   1                    7                   14   \n",
       "4                   1                    2                    3   \n",
       "\n",
       "   frame_number_third  horse_number_third  tansyo  hukusyo_first  \\\n",
       "0                   6                  12    4650            870   \n",
       "1                   2                   3    1690            550   \n",
       "2                   6                  11   15960           3720   \n",
       "3                   1                   2     460            260   \n",
       "4                   4                   8     450            170   \n",
       "\n",
       "   hukusyo_second  hukusyo_third  wakuren  umaren  wide_1_2  wide_1_3  \\\n",
       "0             270            370     3520   10200      2690      4370   \n",
       "1             300            450     2970    6810      2280      2560   \n",
       "2             400            350     3580   61570      8400      8870   \n",
       "3             630            610      690    6060      2300      2460   \n",
       "4            1390            240     6650   20160      3770       540   \n",
       "\n",
       "   wide_2_3  umatan  renhuku3  rentan3  race_rank  is_obstacle  ground_type  \\\n",
       "0      1360   22530     32390   221080          0            0            2   \n",
       "1      1600   15590     25530   189840          0            0            2   \n",
       "2       760  208630     97140  1452520          0            0            2   \n",
       "3      6010    8480     57160   236300          0            0            2   \n",
       "4      7840   29950     32350   242730          0            0            2   \n",
       "\n",
       "   is_left_right_straight  distance                  datetime  \n",
       "0                       2      3200 2009-05-03 15:40:00+00:00  \n",
       "1                       2      3200 2011-05-01 15:40:00+00:00  \n",
       "2                       2      3200 2012-04-29 15:40:00+00:00  \n",
       "3                       2      3200 2015-05-03 15:40:00+00:00  \n",
       "4                       2      3200 2016-05-01 15:40:00+00:00  "
      ]
     },
     "execution_count": 8,
     "metadata": {},
     "output_type": "execute_result"
    }
   ],
   "source": [
    "pd.set_option('display.max_columns', 100)\n",
    "race_df_head = race_df.head(5)\n",
    "race_df_head"
   ]
  },
  {
   "cell_type": "code",
   "execution_count": 9,
   "id": "25945296",
   "metadata": {},
   "outputs": [],
   "source": [
    "def TablePlot(df,w,h):\n",
    "    fig, ax = plt.subplots(figsize=(w,h))\n",
    "    ax.axis('off')\n",
    "    ax.table(\n",
    "        df.values,\n",
    "        colLabels = df.columns,\n",
    "        loc = 'center',\n",
    "        bbox=[0,0,1,1]\n",
    "    )\n",
    "    #plt.savefig(outputPath)\n",
    "    plt.show()"
   ]
  },
  {
   "cell_type": "code",
   "execution_count": null,
   "id": "b9fddd04",
   "metadata": {},
   "outputs": [
    {
     "name": "stderr",
     "output_type": "stream",
     "text": [
      "C:\\Users\\kawam\\miniforge3\\envs\\keiba-django\\lib\\site-packages\\IPython\\core\\pylabtools.py:152: UserWarning: Glyph 31532 (\\N{CJK UNIFIED IDEOGRAPH-7B2C}) missing from current font.\n",
      "  fig.canvas.print_figure(bytes_io, **kw)\n",
      "C:\\Users\\kawam\\miniforge3\\envs\\keiba-django\\lib\\site-packages\\IPython\\core\\pylabtools.py:152: UserWarning: Glyph 22238 (\\N{CJK UNIFIED IDEOGRAPH-56DE}) missing from current font.\n",
      "  fig.canvas.print_figure(bytes_io, **kw)\n",
      "C:\\Users\\kawam\\miniforge3\\envs\\keiba-django\\lib\\site-packages\\IPython\\core\\pylabtools.py:152: UserWarning: Glyph 22825 (\\N{CJK UNIFIED IDEOGRAPH-5929}) missing from current font.\n",
      "  fig.canvas.print_figure(bytes_io, **kw)\n",
      "C:\\Users\\kawam\\miniforge3\\envs\\keiba-django\\lib\\site-packages\\IPython\\core\\pylabtools.py:152: UserWarning: Glyph 30343 (\\N{CJK UNIFIED IDEOGRAPH-7687}) missing from current font.\n",
      "  fig.canvas.print_figure(bytes_io, **kw)\n",
      "C:\\Users\\kawam\\miniforge3\\envs\\keiba-django\\lib\\site-packages\\IPython\\core\\pylabtools.py:152: UserWarning: Glyph 36062 (\\N{CJK UNIFIED IDEOGRAPH-8CDE}) missing from current font.\n",
      "  fig.canvas.print_figure(bytes_io, **kw)\n",
      "C:\\Users\\kawam\\miniforge3\\envs\\keiba-django\\lib\\site-packages\\IPython\\core\\pylabtools.py:152: UserWarning: Glyph 26149 (\\N{CJK UNIFIED IDEOGRAPH-6625}) missing from current font.\n",
      "  fig.canvas.print_figure(bytes_io, **kw)\n"
     ]
    }
   ],
   "source": [
    "TablePlot(race_df_head,100,10)"
   ]
  },
  {
   "cell_type": "code",
   "execution_count": null,
   "id": "e08a5d69-9c83-414f-8bbe-cabea7398229",
   "metadata": {
    "tags": []
   },
   "outputs": [],
   "source": [
    "race_df.info()"
   ]
  },
  {
   "cell_type": "code",
   "execution_count": null,
   "id": "0da93351-324c-4c3b-ac25-5abb6542f13b",
   "metadata": {
    "tags": []
   },
   "outputs": [],
   "source": [
    "#合計の多い順にソート\n",
    "null_total = race_df.isnull().sum().sort_values(ascending=False)\n",
    "null_total"
   ]
  },
  {
   "cell_type": "markdown",
   "id": "0d5afd55",
   "metadata": {},
   "source": [
    "race_dfには32個の特徴量が存在し、過去の対象レース情報が入っている  \n",
    "それぞれのレースの特徴量から、レースの展開や荒れ具合などの傾向を調べると、競走馬の順位予測の助けになりそうである"
   ]
  },
  {
   "cell_type": "markdown",
   "id": "3d5d0826-d83e-42f8-bfc0-a720fab53d31",
   "metadata": {
    "tags": []
   },
   "source": [
    "### 各特徴量の説明"
   ]
  },
  {
   "cell_type": "markdown",
   "id": "fae83fdf",
   "metadata": {},
   "source": [
    "#### race_id"
   ]
  },
  {
   "cell_type": "code",
   "execution_count": null,
   "id": "a8158f2a",
   "metadata": {
    "tags": []
   },
   "outputs": [],
   "source": [
    "race_df['race_id'].unique()"
   ]
  },
  {
   "cell_type": "markdown",
   "id": "dc3ee6ed",
   "metadata": {},
   "source": [
    "過去17回のレースのIDがInt64型で入っている  \n",
    "LightGBM Rankerでgroup(検索クエリ)を作成するときに使用する"
   ]
  },
  {
   "cell_type": "markdown",
   "id": "6125c92a",
   "metadata": {},
   "source": [
    "#### race_round"
   ]
  },
  {
   "cell_type": "code",
   "execution_count": null,
   "id": "2be51b4c",
   "metadata": {},
   "outputs": [],
   "source": [
    "race_df['race_round'].unique()"
   ]
  },
  {
   "cell_type": "markdown",
   "id": "18ac154a",
   "metadata": {},
   "source": [
    "11レース目のみなので、削除する"
   ]
  },
  {
   "cell_type": "code",
   "execution_count": null,
   "id": "adf690ff",
   "metadata": {},
   "outputs": [],
   "source": [
    "race_df.drop('race_round', axis=1)"
   ]
  },
  {
   "cell_type": "markdown",
   "id": "46251e83",
   "metadata": {},
   "source": [
    "#### race_title"
   ]
  },
  {
   "cell_type": "code",
   "execution_count": null,
   "id": "09839242",
   "metadata": {},
   "outputs": [],
   "source": [
    "race_df['race_title'].unique()"
   ]
  },
  {
   "cell_type": "markdown",
   "id": "61afce49",
   "metadata": {},
   "source": [
    "情報はなさそうなので、削除する"
   ]
  },
  {
   "cell_type": "code",
   "execution_count": null,
   "id": "a4a1ef07",
   "metadata": {},
   "outputs": [],
   "source": [
    "race_df.drop('race_title', axis=1)"
   ]
  },
  {
   "cell_type": "markdown",
   "id": "c4a5b845",
   "metadata": {},
   "source": [
    "#### weather"
   ]
  },
  {
   "cell_type": "code",
   "execution_count": null,
   "id": "6f3d874d",
   "metadata": {},
   "outputs": [],
   "source": [
    "race_df['weather'].unique()"
   ]
  },
  {
   "cell_type": "markdown",
   "id": "5816e72c",
   "metadata": {},
   "source": [
    "晴は1、曇は2である"
   ]
  },
  {
   "cell_type": "markdown",
   "id": "9ee1c0a1",
   "metadata": {},
   "source": [
    "#### ground_status"
   ]
  },
  {
   "cell_type": "code",
   "execution_count": null,
   "id": "a8856f8d",
   "metadata": {},
   "outputs": [],
   "source": [
    "race_df['ground_status'].unique()"
   ]
  },
  {
   "cell_type": "markdown",
   "id": "f2fc8ab4",
   "metadata": {},
   "source": [
    "良が1、稍と稍重が2である"
   ]
  },
  {
   "cell_type": "markdown",
   "id": "e54f3e51",
   "metadata": {},
   "source": [
    "#### date"
   ]
  },
  {
   "cell_type": "code",
   "execution_count": null,
   "id": "4885531a",
   "metadata": {},
   "outputs": [],
   "source": [
    "race_df['date'].unique()"
   ]
  },
  {
   "cell_type": "markdown",
   "id": "bb7d0a0b",
   "metadata": {},
   "source": [
    "datetime型で、17個のレースの日付が入っている"
   ]
  },
  {
   "cell_type": "markdown",
   "id": "a78ca011",
   "metadata": {},
   "source": [
    "#### where_racecourse"
   ]
  },
  {
   "cell_type": "code",
   "execution_count": null,
   "id": "658fe09b",
   "metadata": {},
   "outputs": [],
   "source": [
    "race_df['where_racecourse'].unique()\n"
   ]
  },
  {
   "cell_type": "markdown",
   "id": "52d342ef",
   "metadata": {},
   "source": [
    "第71回皐月賞は東京で開催され、それ以外は中山で開催された"
   ]
  },
  {
   "cell_type": "markdown",
   "id": "31f90b2c",
   "metadata": {},
   "source": [
    "##### total_horse_number"
   ]
  },
  {
   "cell_type": "code",
   "execution_count": null,
   "id": "53156e0b",
   "metadata": {},
   "outputs": [],
   "source": [
    "race_df['total_horse_number'].unique()"
   ]
  },
  {
   "cell_type": "markdown",
   "id": "cb4a2309",
   "metadata": {},
   "source": [
    "過去の同レースでは15頭立て以上である"
   ]
  },
  {
   "cell_type": "markdown",
   "id": "68038e04",
   "metadata": {},
   "source": [
    "##### frame_number_first, frame_number_second, frame_number_third"
   ]
  },
  {
   "cell_type": "code",
   "execution_count": null,
   "id": "8fee5125",
   "metadata": {},
   "outputs": [],
   "source": [
    "print(\"frame_number_first:\" + str(race_df['frame_number_first'].unique()))\n",
    "print(\"frame_number_second:\" + str(race_df['frame_number_second'].unique()))\n",
    "print(\"frame_number_third:\" + str(race_df['frame_number_third'].unique()))"
   ]
  },
  {
   "cell_type": "markdown",
   "id": "ac4916d3",
   "metadata": {},
   "source": [
    "##### horse_number_first, horse_number_second, horse_number_third"
   ]
  },
  {
   "cell_type": "code",
   "execution_count": null,
   "id": "3230b21b",
   "metadata": {},
   "outputs": [],
   "source": [
    "print(\"horse_number_first:\" + str(race_df['horse_number_first'].unique()))\n",
    "print(\"horse_number_second:\" + str(race_df['horse_number_second'].unique()))\n",
    "print(\"horse_number_third:\" + str(race_df['horse_number_third'].unique()))"
   ]
  },
  {
   "cell_type": "markdown",
   "id": "5516cad6",
   "metadata": {},
   "source": [
    "#### money"
   ]
  },
  {
   "cell_type": "markdown",
   "id": "b31f3e9f",
   "metadata": {},
   "source": [
    "今回は割愛\n",
    "後程、BIで可視化しようと思う"
   ]
  },
  {
   "cell_type": "markdown",
   "id": "83f5ce10",
   "metadata": {},
   "source": [
    "#### race_rank"
   ]
  },
  {
   "cell_type": "code",
   "execution_count": null,
   "id": "6969ab02",
   "metadata": {},
   "outputs": [],
   "source": [
    "race_df['race_rank'].unique()"
   ]
  },
  {
   "cell_type": "markdown",
   "id": "def3f15a",
   "metadata": {},
   "source": [
    "すべてG1レースなので、今回は削除"
   ]
  },
  {
   "cell_type": "code",
   "execution_count": null,
   "id": "3634751d",
   "metadata": {},
   "outputs": [],
   "source": [
    "race_df.drop('race_rank', axis=1)"
   ]
  },
  {
   "cell_type": "markdown",
   "id": "7794854a",
   "metadata": {},
   "source": [
    "#### is_obstacle"
   ]
  },
  {
   "cell_type": "code",
   "execution_count": null,
   "id": "b8f93b89",
   "metadata": {},
   "outputs": [],
   "source": [
    "race_df['is_obstacle'].unique()"
   ]
  },
  {
   "cell_type": "markdown",
   "id": "14822e27",
   "metadata": {},
   "source": [
    "すべて障害レースでないので、今回は削除"
   ]
  },
  {
   "cell_type": "code",
   "execution_count": null,
   "id": "837c1a93",
   "metadata": {},
   "outputs": [],
   "source": [
    "race_df.drop('is_obstacle', axis=1)"
   ]
  },
  {
   "cell_type": "markdown",
   "id": "73100e70",
   "metadata": {},
   "source": [
    "#### ground_type"
   ]
  },
  {
   "cell_type": "code",
   "execution_count": null,
   "id": "330804bb",
   "metadata": {},
   "outputs": [],
   "source": [
    "race_df['ground_type'].unique()"
   ]
  },
  {
   "cell_type": "markdown",
   "id": "35878dd9",
   "metadata": {},
   "source": [
    "すべて芝レースなので、今回は削除"
   ]
  },
  {
   "cell_type": "code",
   "execution_count": null,
   "id": "d7307e19",
   "metadata": {},
   "outputs": [],
   "source": [
    "race_df.drop('ground_type', axis=1)"
   ]
  },
  {
   "cell_type": "markdown",
   "id": "12098555",
   "metadata": {},
   "source": [
    "#### is_left_right_straight"
   ]
  },
  {
   "cell_type": "code",
   "execution_count": null,
   "id": "6e5ea96e",
   "metadata": {},
   "outputs": [],
   "source": [
    "race_df['is_left_right_straight'].unique()"
   ]
  },
  {
   "cell_type": "markdown",
   "id": "a18d4509",
   "metadata": {},
   "source": [
    "東京で開催されたときだけ、左回りなので、このレースを使うかは要検討"
   ]
  },
  {
   "cell_type": "markdown",
   "id": "92466026",
   "metadata": {},
   "source": [
    "#### distance"
   ]
  },
  {
   "cell_type": "code",
   "execution_count": null,
   "id": "13acb568",
   "metadata": {},
   "outputs": [],
   "source": [
    "race_df['distance'].unique()"
   ]
  },
  {
   "cell_type": "markdown",
   "id": "3b00fde0",
   "metadata": {},
   "source": [
    "すべて2000メートルなので削除"
   ]
  },
  {
   "cell_type": "code",
   "execution_count": null,
   "id": "750b56f5",
   "metadata": {},
   "outputs": [],
   "source": [
    "race_df.drop('distance', axis=1)"
   ]
  },
  {
   "cell_type": "markdown",
   "id": "c94acd8e",
   "metadata": {},
   "source": [
    "#### datetime"
   ]
  },
  {
   "cell_type": "code",
   "execution_count": null,
   "id": "2dcc944b",
   "metadata": {},
   "outputs": [],
   "source": [
    "race_df['datetime'].unique()"
   ]
  },
  {
   "cell_type": "markdown",
   "id": "70f7c072",
   "metadata": {},
   "source": [
    "レーズ時間が入っている"
   ]
  },
  {
   "cell_type": "markdown",
   "id": "59cb6aa0-d0ac-49da-9db5-558b3eaab91a",
   "metadata": {},
   "source": [
    "## horse_dfの探索"
   ]
  },
  {
   "cell_type": "markdown",
   "id": "6a5dad8d",
   "metadata": {},
   "source": [
    "### 全体"
   ]
  },
  {
   "cell_type": "code",
   "execution_count": null,
   "id": "e6156b3d-f9c4-4ce3-b8fd-cfac4bb732bf",
   "metadata": {
    "tags": []
   },
   "outputs": [],
   "source": [
    "pd.set_option('display.max_columns', 100)\n",
    "horse_df_head = horse_df.head(5)\n",
    "horse_df_head"
   ]
  },
  {
   "cell_type": "code",
   "execution_count": null,
   "id": "5f1edff4",
   "metadata": {},
   "outputs": [],
   "source": [
    "TablePlot(horse_df_head,100,10)"
   ]
  },
  {
   "cell_type": "code",
   "execution_count": null,
   "id": "81e1514e-09c8-4db3-99c6-c2ea781f549b",
   "metadata": {
    "tags": []
   },
   "outputs": [],
   "source": [
    "horse_df.info()"
   ]
  },
  {
   "cell_type": "markdown",
   "id": "5f375897",
   "metadata": {},
   "source": [
    "horse_dfには、レース時の競走馬の情報が入っている  \n",
    "競走馬の順位を予測する上で、大事な情報である"
   ]
  },
  {
   "cell_type": "markdown",
   "id": "714160b8",
   "metadata": {},
   "source": [
    "### 各特徴量の説明"
   ]
  },
  {
   "cell_type": "markdown",
   "id": "41302f65",
   "metadata": {},
   "source": [
    "#### race_id"
   ]
  },
  {
   "cell_type": "code",
   "execution_count": null,
   "id": "ebc85167",
   "metadata": {},
   "outputs": [],
   "source": [
    "horse_df['race_id'].unique()"
   ]
  },
  {
   "cell_type": "markdown",
   "id": "7c37b3e5",
   "metadata": {},
   "source": [
    "過去に開催されたレースのIDが入っている  \n",
    "年に一回開催されている  "
   ]
  },
  {
   "cell_type": "markdown",
   "id": "4ee13af2",
   "metadata": {},
   "source": [
    "#### rank"
   ]
  },
  {
   "cell_type": "code",
   "execution_count": null,
   "id": "d0eb8125",
   "metadata": {},
   "outputs": [],
   "source": [
    "horse_df['rank'].unique()"
   ]
  },
  {
   "cell_type": "markdown",
   "id": "5ce81f47",
   "metadata": {},
   "source": [
    "各競走馬の順位が入っている  \n",
    "今回の目的変数"
   ]
  },
  {
   "cell_type": "markdown",
   "id": "ca2146a5",
   "metadata": {},
   "source": [
    "#### frame_number"
   ]
  },
  {
   "cell_type": "code",
   "execution_count": null,
   "id": "0ed0e493",
   "metadata": {},
   "outputs": [],
   "source": [
    "horse_df['frame_number'].unique()"
   ]
  },
  {
   "cell_type": "markdown",
   "id": "36d20a5c",
   "metadata": {},
   "source": [
    "各競走馬の枠番号が入っている"
   ]
  },
  {
   "cell_type": "markdown",
   "id": "377983f9",
   "metadata": {},
   "source": [
    "#### horse_number"
   ]
  },
  {
   "cell_type": "code",
   "execution_count": null,
   "id": "995fa781",
   "metadata": {},
   "outputs": [],
   "source": [
    "horse_df['horse_number'].unique()"
   ]
  },
  {
   "cell_type": "markdown",
   "id": "dd005f79",
   "metadata": {},
   "source": [
    "各競走馬の馬番が入っている"
   ]
  },
  {
   "cell_type": "markdown",
   "id": "780141b6",
   "metadata": {},
   "source": [
    "#### horse_id"
   ]
  },
  {
   "cell_type": "code",
   "execution_count": null,
   "id": "bdb47485",
   "metadata": {},
   "outputs": [],
   "source": [
    "horse_df['horse_id'].unique()"
   ]
  },
  {
   "cell_type": "markdown",
   "id": "7026a9e4",
   "metadata": {},
   "source": [
    "各競走馬のIDが入っている"
   ]
  },
  {
   "cell_type": "markdown",
   "id": "cde1cc1a",
   "metadata": {},
   "source": [
    "#### burden_weight"
   ]
  },
  {
   "cell_type": "code",
   "execution_count": null,
   "id": "317a09a3",
   "metadata": {},
   "outputs": [],
   "source": [
    "horse_df['burden_weight'].unique()"
   ]
  },
  {
   "cell_type": "code",
   "execution_count": null,
   "id": "7012b2bd",
   "metadata": {},
   "outputs": [],
   "source": [
    "horse_df['burden_weight'].value_counts()"
   ]
  },
  {
   "cell_type": "markdown",
   "id": "6effcfa8",
   "metadata": {},
   "source": [
    "牡馬の場合は57、牝馬は55である  \n",
    "牝馬は過去2頭だけ出場している\n"
   ]
  },
  {
   "cell_type": "markdown",
   "id": "019bafc5",
   "metadata": {},
   "source": [
    "#### rider_id"
   ]
  },
  {
   "cell_type": "code",
   "execution_count": null,
   "id": "d8ddfe20",
   "metadata": {},
   "outputs": [],
   "source": [
    "horse_df['rider_id'].unique()"
   ]
  },
  {
   "cell_type": "markdown",
   "id": "af5cabbf",
   "metadata": {},
   "source": [
    "騎手のIDが入っている"
   ]
  },
  {
   "cell_type": "markdown",
   "id": "750cdb03",
   "metadata": {},
   "source": [
    "#### goal_time"
   ]
  },
  {
   "cell_type": "code",
   "execution_count": null,
   "id": "8ab11a9a",
   "metadata": {},
   "outputs": [],
   "source": [
    "horse_df['goal_time'].unique()"
   ]
  },
  {
   "cell_type": "markdown",
   "id": "60294765",
   "metadata": {},
   "source": [
    "ゴールした時間が入ってる"
   ]
  },
  {
   "cell_type": "markdown",
   "id": "37159898",
   "metadata": {},
   "source": [
    "#### goal_time_dif"
   ]
  },
  {
   "cell_type": "code",
   "execution_count": null,
   "id": "cdbd2321",
   "metadata": {},
   "outputs": [],
   "source": [
    "horse_df['goal_time_dif'].unique()"
   ]
  },
  {
   "cell_type": "markdown",
   "id": "b0a9548b",
   "metadata": {},
   "source": [
    "race_idでグループ化し、その差が入っている"
   ]
  },
  {
   "cell_type": "markdown",
   "id": "840975e5",
   "metadata": {},
   "source": [
    "#### half_way_rank"
   ]
  },
  {
   "cell_type": "code",
   "execution_count": null,
   "id": "6eb24939",
   "metadata": {},
   "outputs": [],
   "source": [
    "horse_df['half_way_rank'].unique()"
   ]
  },
  {
   "cell_type": "markdown",
   "id": "4364e7b8",
   "metadata": {},
   "source": [
    "各地点の順位の平均が入っている"
   ]
  },
  {
   "cell_type": "markdown",
   "id": "b347c24b",
   "metadata": {},
   "source": [
    "#### last_time"
   ]
  },
  {
   "cell_type": "code",
   "execution_count": null,
   "id": "73bcf563",
   "metadata": {},
   "outputs": [],
   "source": [
    "horse_df['last_time'].unique()"
   ]
  },
  {
   "cell_type": "markdown",
   "id": "61cc0cb8",
   "metadata": {},
   "source": [
    "レース終盤のゴール手前から600mのタイムが入ってる"
   ]
  },
  {
   "cell_type": "markdown",
   "id": "e8553f09",
   "metadata": {},
   "source": [
    "#### odds"
   ]
  },
  {
   "cell_type": "code",
   "execution_count": null,
   "id": "3f598da1",
   "metadata": {},
   "outputs": [],
   "source": [
    "horse_df['odds'].unique()"
   ]
  },
  {
   "cell_type": "markdown",
   "id": "a2400ccd",
   "metadata": {},
   "source": [
    "各競走馬のオッズがはいっている"
   ]
  },
  {
   "cell_type": "markdown",
   "id": "58d23073",
   "metadata": {},
   "source": [
    "#### popular"
   ]
  },
  {
   "cell_type": "code",
   "execution_count": null,
   "id": "1c5708c7",
   "metadata": {},
   "outputs": [],
   "source": [
    "horse_df['popular'].unique()"
   ]
  },
  {
   "cell_type": "markdown",
   "id": "2f92dda2",
   "metadata": {},
   "source": [
    "各競走馬のレース前人気度が入っている"
   ]
  },
  {
   "cell_type": "markdown",
   "id": "a6fd6ea4",
   "metadata": {},
   "source": [
    "#### horse_weight"
   ]
  },
  {
   "cell_type": "code",
   "execution_count": null,
   "id": "9c130a63",
   "metadata": {},
   "outputs": [],
   "source": [
    "horse_df['horse_weight'].unique()"
   ]
  },
  {
   "cell_type": "markdown",
   "id": "a0548fce",
   "metadata": {},
   "source": [
    "各競走馬の場体重が入っている"
   ]
  },
  {
   "cell_type": "markdown",
   "id": "575ae92f",
   "metadata": {},
   "source": [
    "#### tamer_id"
   ]
  },
  {
   "cell_type": "code",
   "execution_count": null,
   "id": "abb16f87",
   "metadata": {},
   "outputs": [],
   "source": [
    "horse_df['tamer_id'].unique()"
   ]
  },
  {
   "cell_type": "markdown",
   "id": "0df9d42f",
   "metadata": {},
   "source": [
    "各競走馬の調教師のIDが入っている"
   ]
  },
  {
   "cell_type": "markdown",
   "id": "ed1398cf",
   "metadata": {},
   "source": [
    "#### owner_id"
   ]
  },
  {
   "cell_type": "code",
   "execution_count": null,
   "id": "5cb5d5f7",
   "metadata": {},
   "outputs": [],
   "source": [
    "horse_df['owner_id'].unique()"
   ]
  },
  {
   "cell_type": "markdown",
   "id": "e0174474",
   "metadata": {},
   "source": [
    "各競走馬のオーナーのIDが入っている"
   ]
  },
  {
   "cell_type": "markdown",
   "id": "e2e20843",
   "metadata": {},
   "source": [
    "#### is_down"
   ]
  },
  {
   "cell_type": "code",
   "execution_count": null,
   "id": "0d7c8d8a",
   "metadata": {},
   "outputs": [],
   "source": [
    "horse_df['is_down'].unique()"
   ]
  },
  {
   "cell_type": "code",
   "execution_count": null,
   "id": "9799a4fc",
   "metadata": {},
   "outputs": [],
   "source": [
    "horse_df['is_down'].value_counts()"
   ]
  },
  {
   "cell_type": "markdown",
   "id": "e1ba2b0d",
   "metadata": {},
   "source": [
    "妨害を行ったせいで、順位が下がった場合1となる"
   ]
  },
  {
   "cell_type": "markdown",
   "id": "5913ee5a",
   "metadata": {},
   "source": [
    "#### age"
   ]
  },
  {
   "cell_type": "code",
   "execution_count": null,
   "id": "4b67fe0c",
   "metadata": {},
   "outputs": [],
   "source": [
    "horse_df['age'].unique()"
   ]
  },
  {
   "cell_type": "markdown",
   "id": "347d7fe3",
   "metadata": {},
   "source": [
    "すべて三歳馬なので削除"
   ]
  },
  {
   "cell_type": "code",
   "execution_count": null,
   "id": "ff186d0f",
   "metadata": {},
   "outputs": [],
   "source": [
    "horse_df.drop('age', axis=1)"
   ]
  },
  {
   "cell_type": "markdown",
   "id": "22cb914a",
   "metadata": {},
   "source": [
    "#### sex"
   ]
  },
  {
   "cell_type": "code",
   "execution_count": null,
   "id": "1aa2ec23",
   "metadata": {},
   "outputs": [],
   "source": [
    "horse_df['sex'].unique()"
   ]
  },
  {
   "cell_type": "code",
   "execution_count": null,
   "id": "6f5f0ab3",
   "metadata": {},
   "outputs": [],
   "source": [
    "horse_df['sex'].value_counts()"
   ]
  },
  {
   "cell_type": "markdown",
   "id": "1b5092fb",
   "metadata": {},
   "source": [
    "牝馬が2頭いる"
   ]
  },
  {
   "cell_type": "markdown",
   "id": "fd974499",
   "metadata": {},
   "source": [
    "#### horse_weight_dif"
   ]
  },
  {
   "cell_type": "code",
   "execution_count": null,
   "id": "cfc954f1",
   "metadata": {},
   "outputs": [],
   "source": [
    "horse_df['horse_weight_dif'].unique()"
   ]
  },
  {
   "cell_type": "markdown",
   "id": "825c4342",
   "metadata": {},
   "source": [
    "前レースからの馬体重増減の数値が入ってる"
   ]
  },
  {
   "cell_type": "markdown",
   "id": "35f07d86",
   "metadata": {},
   "source": [
    "#### burden_weight_rate"
   ]
  },
  {
   "cell_type": "code",
   "execution_count": null,
   "id": "2e7245c0",
   "metadata": {},
   "outputs": [],
   "source": [
    "horse_df['burden_weight_rate'].unique()"
   ]
  },
  {
   "cell_type": "markdown",
   "id": "37832d91",
   "metadata": {},
   "source": [
    "斤量を場体重で割ったものが入っている"
   ]
  },
  {
   "cell_type": "markdown",
   "id": "e7aea0e5",
   "metadata": {},
   "source": [
    "#### avg_velocity"
   ]
  },
  {
   "cell_type": "code",
   "execution_count": null,
   "id": "a06e22e6",
   "metadata": {},
   "outputs": [],
   "source": [
    "horse_df['avg_velocity'].unique()"
   ]
  },
  {
   "cell_type": "markdown",
   "id": "459d7d39",
   "metadata": {},
   "source": [
    "距離をゴール時間で割ったものが入っている"
   ]
  },
  {
   "cell_type": "markdown",
   "id": "9900fcf1-a745-4a22-bf4e-c526db10dc4f",
   "metadata": {},
   "source": [
    "## horse_info_dfの探索"
   ]
  },
  {
   "cell_type": "markdown",
   "id": "28072342",
   "metadata": {},
   "source": [
    "### 全体"
   ]
  },
  {
   "cell_type": "code",
   "execution_count": null,
   "id": "1cc2de7b-e10e-4bf4-b0e4-318c488b5b7b",
   "metadata": {
    "tags": []
   },
   "outputs": [],
   "source": [
    "pd.set_option('display.max_columns', 100)\n",
    "horse_info_df_head = horse_info_df.head(5)\n",
    "horse_info_df_head"
   ]
  },
  {
   "cell_type": "code",
   "execution_count": null,
   "id": "a3d69949",
   "metadata": {},
   "outputs": [],
   "source": [
    "TablePlot(horse_info_df_head,100,10)"
   ]
  },
  {
   "cell_type": "code",
   "execution_count": null,
   "id": "4ea906b0-dbec-4928-95dd-6e0f99870825",
   "metadata": {
    "tags": []
   },
   "outputs": [],
   "source": [
    "horse_info_df.info()"
   ]
  },
  {
   "cell_type": "markdown",
   "id": "6fa5906f",
   "metadata": {},
   "source": [
    "競走馬の基本情報が入っている"
   ]
  },
  {
   "cell_type": "markdown",
   "id": "c8fe057d",
   "metadata": {},
   "source": [
    "### 各特徴量の説明"
   ]
  },
  {
   "cell_type": "markdown",
   "id": "7f28c726",
   "metadata": {},
   "source": [
    "#### horse_id"
   ]
  },
  {
   "cell_type": "code",
   "execution_count": null,
   "id": "de1197f8",
   "metadata": {},
   "outputs": [],
   "source": [
    "horse_info_df['horse_id'].unique()"
   ]
  },
  {
   "cell_type": "markdown",
   "id": "e565d407",
   "metadata": {},
   "source": [
    "各競走馬のIDが入っている"
   ]
  },
  {
   "cell_type": "markdown",
   "id": "1885b850",
   "metadata": {},
   "source": [
    "#### bday"
   ]
  },
  {
   "cell_type": "code",
   "execution_count": null,
   "id": "d20ee00e",
   "metadata": {},
   "outputs": [],
   "source": [
    "horse_info_df['bday'].unique()"
   ]
  },
  {
   "cell_type": "markdown",
   "id": "d90f6563",
   "metadata": {},
   "source": [
    "各競走馬の生まれた日付けが入っている"
   ]
  },
  {
   "cell_type": "markdown",
   "id": "76b6da62",
   "metadata": {},
   "source": [
    "#### tamer_id"
   ]
  },
  {
   "cell_type": "code",
   "execution_count": null,
   "id": "509a8d90",
   "metadata": {},
   "outputs": [],
   "source": [
    "horse_info_df['tamer_id'].unique()"
   ]
  },
  {
   "cell_type": "markdown",
   "id": "26a5d85b",
   "metadata": {},
   "source": [
    "調教師のIDが入ってる"
   ]
  },
  {
   "cell_type": "markdown",
   "id": "7d2ecc60",
   "metadata": {},
   "source": [
    "#### owner_id"
   ]
  },
  {
   "cell_type": "code",
   "execution_count": null,
   "id": "970d4284",
   "metadata": {},
   "outputs": [],
   "source": [
    "horse_info_df['owner_id'].unique()"
   ]
  },
  {
   "cell_type": "markdown",
   "id": "1ca839c0",
   "metadata": {},
   "source": [
    "オーナーのIDが入っている"
   ]
  },
  {
   "cell_type": "markdown",
   "id": "de7381af",
   "metadata": {},
   "source": [
    "#### producer_id"
   ]
  },
  {
   "cell_type": "code",
   "execution_count": null,
   "id": "b76dfaeb",
   "metadata": {},
   "outputs": [],
   "source": [
    "horse_info_df['producer_id'].unique()"
   ]
  },
  {
   "cell_type": "markdown",
   "id": "93d1d4ff",
   "metadata": {},
   "source": [
    "生産者のIDが入っている"
   ]
  },
  {
   "cell_type": "markdown",
   "id": "bc3a72be",
   "metadata": {},
   "source": [
    "#### production_area"
   ]
  },
  {
   "cell_type": "code",
   "execution_count": null,
   "id": "ec534f84",
   "metadata": {},
   "outputs": [],
   "source": [
    "horse_info_df['production_area'].unique()"
   ]
  },
  {
   "cell_type": "code",
   "execution_count": null,
   "id": "3dd02a4b",
   "metadata": {},
   "outputs": [],
   "source": [
    "horse_info_df['production_area'].value_counts()"
   ]
  },
  {
   "cell_type": "markdown",
   "id": "c7b701a8",
   "metadata": {},
   "source": [
    "生産地が入ってる  \n",
    "今回は削除"
   ]
  },
  {
   "cell_type": "code",
   "execution_count": null,
   "id": "3854c0bf",
   "metadata": {},
   "outputs": [],
   "source": [
    "horse_info_df.drop('production_area', axis=1)"
   ]
  },
  {
   "cell_type": "markdown",
   "id": "aa170c0f",
   "metadata": {},
   "source": [
    "#### lifetime_record"
   ]
  },
  {
   "cell_type": "code",
   "execution_count": null,
   "id": "db5e438c",
   "metadata": {},
   "outputs": [],
   "source": [
    "horse_info_df['lifetime_record'].unique()"
   ]
  },
  {
   "cell_type": "markdown",
   "id": "636a498b",
   "metadata": {},
   "source": [
    "獲得賞金が入っている  \n",
    "フォーマットが統一されていないので、今回は削除"
   ]
  },
  {
   "cell_type": "code",
   "execution_count": null,
   "id": "7ec0e959",
   "metadata": {},
   "outputs": [],
   "source": [
    "horse_info_df.drop('lifetime_record', axis=1)"
   ]
  },
  {
   "cell_type": "markdown",
   "id": "278f2ba0",
   "metadata": {},
   "source": [
    "#### wined_race_titile"
   ]
  },
  {
   "cell_type": "code",
   "execution_count": null,
   "id": "d96c4b40",
   "metadata": {},
   "outputs": [],
   "source": [
    "horse_info_df['wined_race_title'].unique()"
   ]
  },
  {
   "cell_type": "code",
   "execution_count": null,
   "id": "6001ba9c",
   "metadata": {},
   "outputs": [],
   "source": [
    "horse_info_df['wined_race_title'].value_counts()"
   ]
  },
  {
   "cell_type": "markdown",
   "id": "2cb10845",
   "metadata": {},
   "source": [
    "代表的な優勝したレースのIDが入っている  \n",
    "被っているレースがないので、今回は削除"
   ]
  },
  {
   "cell_type": "code",
   "execution_count": null,
   "id": "4769fbd6",
   "metadata": {},
   "outputs": [],
   "source": [
    "horse_info_df.drop('wined_race_title', axis=1)"
   ]
  },
  {
   "cell_type": "markdown",
   "id": "0ff0dfae",
   "metadata": {},
   "source": [
    "#### inbreeding_1"
   ]
  },
  {
   "cell_type": "code",
   "execution_count": null,
   "id": "fe3cf24d",
   "metadata": {},
   "outputs": [],
   "source": [
    "horse_info_df['inbreeding_1'].unique()"
   ]
  },
  {
   "cell_type": "code",
   "execution_count": null,
   "id": "cdc3a038",
   "metadata": {},
   "outputs": [],
   "source": [
    "horse_info_df['inbreeding_1'].value_counts()"
   ]
  },
  {
   "cell_type": "markdown",
   "id": "6ab48490",
   "metadata": {},
   "source": [
    "各競走馬の血統情報が入っている"
   ]
  },
  {
   "cell_type": "markdown",
   "id": "c877aca6",
   "metadata": {},
   "source": [
    "#### inbreeding_2"
   ]
  },
  {
   "cell_type": "code",
   "execution_count": null,
   "id": "c5b5350b-bfa9-45de-8cfb-5021cf7aa1ea",
   "metadata": {
    "tags": []
   },
   "outputs": [],
   "source": [
    "horse_info_df['inbreeding_2'].unique()"
   ]
  },
  {
   "cell_type": "code",
   "execution_count": null,
   "id": "8554bd1c",
   "metadata": {},
   "outputs": [],
   "source": [
    "horse_info_df['inbreeding_2'].value_counts()"
   ]
  },
  {
   "cell_type": "markdown",
   "id": "5297e85b",
   "metadata": {},
   "source": [
    "各競走馬の血統情報が入っている"
   ]
  },
  {
   "cell_type": "markdown",
   "id": "fdb1c24f",
   "metadata": {},
   "source": [
    "#### father, faths_father, faths_mother, mother, moths_father, moths_mother"
   ]
  },
  {
   "cell_type": "code",
   "execution_count": null,
   "id": "a2af386c",
   "metadata": {},
   "outputs": [],
   "source": [
    "print('father'+str(horse_info_df['father'].unique()))\n",
    "print('faths_father'+str(horse_info_df['faths_father'].unique()))\n",
    "print('faths_mother'+str(horse_info_df['faths_mother'].unique()))\n",
    "print('mother'+str(horse_info_df['mother'].unique()))\n",
    "print('moths_father'+str(horse_info_df['moths_father'].unique()))\n",
    "print('moths_mother'+str(horse_info_df['moths_mother'].unique()))"
   ]
  },
  {
   "cell_type": "markdown",
   "id": "2ad4ecf7",
   "metadata": {},
   "source": [
    "各競走馬の血統情報が入っている"
   ]
  },
  {
   "cell_type": "markdown",
   "id": "e25569c7-96df-4177-bd52-81590583082c",
   "metadata": {},
   "source": [
    "## horse_race_dfの探索"
   ]
  },
  {
   "cell_type": "markdown",
   "id": "8aa31cb0",
   "metadata": {},
   "source": [
    "### 全体"
   ]
  },
  {
   "cell_type": "code",
   "execution_count": null,
   "id": "5b42a7fb-61c9-4768-b220-b8659f4d354c",
   "metadata": {
    "tags": []
   },
   "outputs": [],
   "source": [
    "pd.set_option('display.max_columns', 100)\n",
    "horse_race_df_head = horse_race_df.head(5)\n",
    "horse_race_df_head"
   ]
  },
  {
   "cell_type": "code",
   "execution_count": null,
   "id": "f2478d9c",
   "metadata": {},
   "outputs": [],
   "source": [
    "TablePlot(horse_race_df_head,100,10)"
   ]
  },
  {
   "cell_type": "code",
   "execution_count": null,
   "id": "ff5b4e01-a115-4dc0-85b1-2d05ad5d4fc6",
   "metadata": {
    "tags": []
   },
   "outputs": [],
   "source": [
    "horse_race_df.info()"
   ]
  },
  {
   "cell_type": "markdown",
   "id": "405a1840-c381-4848-95fc-5f7f599583f3",
   "metadata": {},
   "source": [
    "競走馬の過去のレースが入っている"
   ]
  },
  {
   "cell_type": "markdown",
   "id": "517345b4-6259-4268-880a-0a7955bdf8bc",
   "metadata": {},
   "source": [
    "### 各特徴量の説明"
   ]
  },
  {
   "cell_type": "markdown",
   "id": "cbc2dacb-f469-4cc8-aee4-c47c47ae1a54",
   "metadata": {},
   "source": [
    "#### date"
   ]
  },
  {
   "cell_type": "code",
   "execution_count": null,
   "id": "eb822dfa",
   "metadata": {},
   "outputs": [],
   "source": [
    "horse_race_df['date'].unique()"
   ]
  },
  {
   "cell_type": "markdown",
   "id": "69e02959",
   "metadata": {},
   "source": [
    "レースの日付が入っている"
   ]
  },
  {
   "cell_type": "markdown",
   "id": "3be828d3",
   "metadata": {},
   "source": [
    "#### where_racecourse"
   ]
  },
  {
   "cell_type": "code",
   "execution_count": null,
   "id": "c71106be",
   "metadata": {},
   "outputs": [],
   "source": [
    "horse_race_df['where_racecourse'].unique()"
   ]
  },
  {
   "cell_type": "markdown",
   "id": "0f3d8831",
   "metadata": {},
   "source": [
    "各レースの場所がラベリングされて入っている"
   ]
  },
  {
   "cell_type": "markdown",
   "id": "17572001",
   "metadata": {},
   "source": [
    "#### weather"
   ]
  },
  {
   "cell_type": "code",
   "execution_count": null,
   "id": "d64e350d",
   "metadata": {},
   "outputs": [],
   "source": [
    "horse_race_df['weather'].unique()"
   ]
  },
  {
   "cell_type": "markdown",
   "id": "57348e9e",
   "metadata": {},
   "source": [
    "各レースの天気がラベリングされて入っている"
   ]
  },
  {
   "cell_type": "markdown",
   "id": "7ca7544f",
   "metadata": {},
   "source": [
    "#### race_round"
   ]
  },
  {
   "cell_type": "code",
   "execution_count": null,
   "id": "365b0296",
   "metadata": {},
   "outputs": [],
   "source": [
    "horse_race_df['race_round'].unique()"
   ]
  },
  {
   "cell_type": "markdown",
   "id": "279d2af0",
   "metadata": {},
   "source": [
    "各レースの何ラウンド目に行われたかが入っている"
   ]
  },
  {
   "cell_type": "markdown",
   "id": "bd0b418d",
   "metadata": {},
   "source": [
    "#### race_title"
   ]
  },
  {
   "cell_type": "code",
   "execution_count": null,
   "id": "f7a2c370",
   "metadata": {},
   "outputs": [],
   "source": [
    "horse_race_df['race_title'].unique()"
   ]
  },
  {
   "cell_type": "markdown",
   "id": "523dc798",
   "metadata": {},
   "source": [
    "レースのタイトルが入っている  \n",
    "()内の文字をrace_rankに入れたので、こちらは削除"
   ]
  },
  {
   "cell_type": "code",
   "execution_count": null,
   "id": "30cfc033",
   "metadata": {},
   "outputs": [],
   "source": [
    "horse_race_df.drop('race_title',axis=1)"
   ]
  },
  {
   "cell_type": "markdown",
   "id": "b16186f9",
   "metadata": {},
   "source": [
    "#### race_id"
   ]
  },
  {
   "cell_type": "code",
   "execution_count": null,
   "id": "d60d0e5d",
   "metadata": {},
   "outputs": [],
   "source": [
    "horse_race_df['race_id'].unique()"
   ]
  },
  {
   "cell_type": "markdown",
   "id": "d486f615",
   "metadata": {},
   "source": [
    "レースのIDが入っている"
   ]
  },
  {
   "cell_type": "markdown",
   "id": "403eb3d5",
   "metadata": {},
   "source": [
    "#### total_horse_number"
   ]
  },
  {
   "cell_type": "code",
   "execution_count": null,
   "id": "4c24f94f",
   "metadata": {},
   "outputs": [],
   "source": [
    "horse_race_df['total_horse_number'].unique()"
   ]
  },
  {
   "cell_type": "markdown",
   "id": "1f5d6971",
   "metadata": {},
   "source": [
    "何頭立てのレースかの情報が入っている"
   ]
  },
  {
   "cell_type": "markdown",
   "id": "004cc5e0",
   "metadata": {},
   "source": [
    "#### frame_number"
   ]
  },
  {
   "cell_type": "code",
   "execution_count": null,
   "id": "625bff46",
   "metadata": {},
   "outputs": [],
   "source": [
    "horse_race_df['frame_number'].unique()"
   ]
  },
  {
   "cell_type": "markdown",
   "id": "c1057d84",
   "metadata": {},
   "source": [
    "枠番が入っている"
   ]
  },
  {
   "cell_type": "markdown",
   "id": "f410f2eb",
   "metadata": {},
   "source": [
    "#### horse_number"
   ]
  },
  {
   "cell_type": "code",
   "execution_count": null,
   "id": "a77d6b98",
   "metadata": {},
   "outputs": [],
   "source": [
    "horse_race_df['horse_number'].unique()"
   ]
  },
  {
   "cell_type": "markdown",
   "id": "6cc9ed68",
   "metadata": {},
   "source": [
    "馬番が入っている"
   ]
  },
  {
   "cell_type": "markdown",
   "id": "0bc88ecc",
   "metadata": {},
   "source": [
    "#### odds"
   ]
  },
  {
   "cell_type": "code",
   "execution_count": null,
   "id": "fd66c6aa",
   "metadata": {},
   "outputs": [],
   "source": [
    "horse_race_df['odds'].unique()"
   ]
  },
  {
   "cell_type": "markdown",
   "id": "8463fb95",
   "metadata": {},
   "source": [
    "オッズが入っている"
   ]
  },
  {
   "cell_type": "markdown",
   "id": "179bb3c7",
   "metadata": {},
   "source": [
    "#### popular"
   ]
  },
  {
   "cell_type": "code",
   "execution_count": null,
   "id": "abdf4150",
   "metadata": {},
   "outputs": [],
   "source": [
    "horse_race_df['popular'].unique()"
   ]
  },
  {
   "cell_type": "markdown",
   "id": "0e667e83",
   "metadata": {},
   "source": [
    "人気順位が入っている"
   ]
  },
  {
   "cell_type": "markdown",
   "id": "7ed903d4",
   "metadata": {},
   "source": [
    "#### rank"
   ]
  },
  {
   "cell_type": "code",
   "execution_count": null,
   "id": "f5810f93",
   "metadata": {},
   "outputs": [],
   "source": [
    "horse_race_df['rank'].unique()"
   ]
  },
  {
   "cell_type": "markdown",
   "id": "87b02441",
   "metadata": {},
   "source": [
    "何着かが入っている"
   ]
  },
  {
   "cell_type": "markdown",
   "id": "17aa88a8",
   "metadata": {},
   "source": [
    "#### rider_id"
   ]
  },
  {
   "cell_type": "code",
   "execution_count": null,
   "id": "774bbff1",
   "metadata": {},
   "outputs": [],
   "source": [
    "horse_race_df['rider_id'].unique()"
   ]
  },
  {
   "cell_type": "markdown",
   "id": "5c9cf15b",
   "metadata": {},
   "source": [
    "騎手のIDが入っている"
   ]
  },
  {
   "cell_type": "markdown",
   "id": "8c835209",
   "metadata": {},
   "source": [
    "#### burden_weight"
   ]
  },
  {
   "cell_type": "code",
   "execution_count": null,
   "id": "24a3f6d2",
   "metadata": {},
   "outputs": [],
   "source": [
    "horse_race_df['burden_weight'].unique()"
   ]
  },
  {
   "cell_type": "markdown",
   "id": "d106ee36",
   "metadata": {},
   "source": [
    "斤量の重さ（騎手の体重や馬具の重さを含む）が入っている  \n",
    "不足するときは重りを使う"
   ]
  },
  {
   "cell_type": "markdown",
   "id": "1372b286",
   "metadata": {},
   "source": [
    "#### ground_status"
   ]
  },
  {
   "cell_type": "code",
   "execution_count": null,
   "id": "037fab6b",
   "metadata": {},
   "outputs": [],
   "source": [
    "horse_race_df['ground_status'].unique()"
   ]
  },
  {
   "cell_type": "markdown",
   "id": "e7c1ebaa",
   "metadata": {},
   "source": [
    "地面の状態がラベリングされて入っている"
   ]
  },
  {
   "cell_type": "markdown",
   "id": "a33f4e98",
   "metadata": {},
   "source": [
    "#### goal_time"
   ]
  },
  {
   "cell_type": "code",
   "execution_count": null,
   "id": "85831f4b",
   "metadata": {},
   "outputs": [],
   "source": [
    "horse_race_df['goal_time'].unique()"
   ]
  },
  {
   "cell_type": "markdown",
   "id": "58985a88",
   "metadata": {},
   "source": [
    "ゴールタイムが入っている"
   ]
  },
  {
   "cell_type": "markdown",
   "id": "be44c043",
   "metadata": {},
   "source": [
    "#### goal_time_dif"
   ]
  },
  {
   "cell_type": "code",
   "execution_count": null,
   "id": "41c6292d",
   "metadata": {},
   "outputs": [],
   "source": [
    "horse_race_df['goal_time_dif'].unique()"
   ]
  },
  {
   "cell_type": "markdown",
   "id": "35a813be",
   "metadata": {},
   "source": [
    "ゴールタイムの差が入っている"
   ]
  },
  {
   "cell_type": "markdown",
   "id": "d000a937",
   "metadata": {},
   "source": [
    "#### half_way_rank"
   ]
  },
  {
   "cell_type": "code",
   "execution_count": null,
   "id": "948323c8",
   "metadata": {},
   "outputs": [],
   "source": [
    "horse_race_df['half_way_rank'].unique()"
   ]
  },
  {
   "cell_type": "markdown",
   "id": "322c61e6",
   "metadata": {},
   "source": [
    "各地点の馬の順位の平均値が入っている"
   ]
  },
  {
   "cell_type": "markdown",
   "id": "e44cb2fa",
   "metadata": {},
   "source": [
    "#### pace"
   ]
  },
  {
   "cell_type": "code",
   "execution_count": null,
   "id": "753a070d",
   "metadata": {},
   "outputs": [],
   "source": [
    "horse_race_df['pace'].unique()"
   ]
  },
  {
   "cell_type": "markdown",
   "id": "9eaff08f",
   "metadata": {},
   "source": [
    "前半3ハロンと後半3ハロンを一位通過した馬のタイムの平均値"
   ]
  },
  {
   "cell_type": "markdown",
   "id": "1bcd270b",
   "metadata": {},
   "source": [
    "#### last_time"
   ]
  },
  {
   "cell_type": "code",
   "execution_count": null,
   "id": "ef3ddf4e",
   "metadata": {},
   "outputs": [],
   "source": [
    "horse_race_df['last_time'].unique()"
   ]
  },
  {
   "cell_type": "markdown",
   "id": "ed3e7cfc",
   "metadata": {},
   "source": [
    "上りのタイムが入っている"
   ]
  },
  {
   "cell_type": "markdown",
   "id": "8f6465ae",
   "metadata": {},
   "source": [
    "#### horse_weight"
   ]
  },
  {
   "cell_type": "code",
   "execution_count": null,
   "id": "93eb2085",
   "metadata": {},
   "outputs": [],
   "source": [
    "horse_race_df['horse_weight'].unique()"
   ]
  },
  {
   "cell_type": "markdown",
   "id": "c07b5fe2",
   "metadata": {},
   "source": [
    "馬体重が入っている"
   ]
  },
  {
   "cell_type": "markdown",
   "id": "91e46a35",
   "metadata": {},
   "source": [
    "#### wined_horse_id"
   ]
  },
  {
   "cell_type": "code",
   "execution_count": null,
   "id": "aeb22f90",
   "metadata": {},
   "outputs": [],
   "source": [
    "horse_race_df['wined_horse_id'].unique()"
   ]
  },
  {
   "cell_type": "markdown",
   "id": "503ef0d7",
   "metadata": {},
   "source": [
    "1着（1着の場合は2着）の馬のIDが入っている"
   ]
  },
  {
   "cell_type": "markdown",
   "id": "6535242b",
   "metadata": {},
   "source": [
    "#### horse_id"
   ]
  },
  {
   "cell_type": "code",
   "execution_count": null,
   "id": "9f2d10a1",
   "metadata": {},
   "outputs": [],
   "source": [
    "horse_race_df['horse_id'].unique()"
   ]
  },
  {
   "cell_type": "markdown",
   "id": "db5b558a",
   "metadata": {},
   "source": [
    "競走馬のIDが入っている"
   ]
  },
  {
   "cell_type": "markdown",
   "id": "b638344f",
   "metadata": {},
   "source": [
    "#### race_rank"
   ]
  },
  {
   "cell_type": "code",
   "execution_count": null,
   "id": "254568cd",
   "metadata": {},
   "outputs": [],
   "source": [
    "horse_race_df['race_rank'].unique()"
   ]
  },
  {
   "cell_type": "markdown",
   "id": "ff33760e",
   "metadata": {},
   "source": [
    "レースのランクがラベリングされて入っている  \n",
    "G1は3である"
   ]
  },
  {
   "cell_type": "markdown",
   "id": "43c13a29",
   "metadata": {},
   "source": [
    "#### horse_weight_dif"
   ]
  },
  {
   "cell_type": "code",
   "execution_count": null,
   "id": "91fa4a99",
   "metadata": {},
   "outputs": [],
   "source": [
    "horse_race_df['horse_weight_dif'].unique()"
   ]
  },
  {
   "cell_type": "markdown",
   "id": "d0c24f0b",
   "metadata": {},
   "source": [
    "全レースとの体重の差が入っている"
   ]
  },
  {
   "cell_type": "markdown",
   "id": "914ba970",
   "metadata": {},
   "source": [
    "#### is_down"
   ]
  },
  {
   "cell_type": "code",
   "execution_count": null,
   "id": "ae18da8d",
   "metadata": {},
   "outputs": [],
   "source": [
    "horse_race_df['is_down'].unique()"
   ]
  },
  {
   "cell_type": "markdown",
   "id": "6e19d9fb",
   "metadata": {},
   "source": [
    "違反などをして、順位が降格したかが入っている"
   ]
  },
  {
   "cell_type": "markdown",
   "id": "51d1e042",
   "metadata": {},
   "source": [
    "#### burden_weight_rate"
   ]
  },
  {
   "cell_type": "code",
   "execution_count": null,
   "id": "5e6b1f38",
   "metadata": {},
   "outputs": [],
   "source": [
    "horse_race_df['burden_weight_rate'].unique()"
   ]
  },
  {
   "cell_type": "markdown",
   "id": "31837104",
   "metadata": {},
   "source": [
    "斤量を場体重で割ったものが入っている"
   ]
  },
  {
   "cell_type": "markdown",
   "id": "09cb4b7a",
   "metadata": {},
   "source": [
    "#### is_obstacle"
   ]
  },
  {
   "cell_type": "code",
   "execution_count": null,
   "id": "d0955ce6",
   "metadata": {},
   "outputs": [],
   "source": [
    "horse_race_df['is_obstacle'].unique()"
   ]
  },
  {
   "cell_type": "markdown",
   "id": "65f08da8",
   "metadata": {},
   "source": [
    "障害レースの場合は1が入っている"
   ]
  },
  {
   "cell_type": "markdown",
   "id": "1bf0bb7f",
   "metadata": {},
   "source": [
    "#### ground_type"
   ]
  },
  {
   "cell_type": "code",
   "execution_count": null,
   "id": "0fa0c1ec",
   "metadata": {},
   "outputs": [],
   "source": [
    "horse_race_df['ground_type'].unique()"
   ]
  },
  {
   "cell_type": "markdown",
   "id": "4485386e",
   "metadata": {},
   "source": [
    "芝やダービーなどの情報が入っている"
   ]
  },
  {
   "cell_type": "markdown",
   "id": "329bdbab",
   "metadata": {},
   "source": [
    "#### is_left_right_straight"
   ]
  },
  {
   "cell_type": "code",
   "execution_count": null,
   "id": "e1fb7e67",
   "metadata": {},
   "outputs": [],
   "source": [
    "horse_race_df['is_left_right_straight'].unique()"
   ]
  },
  {
   "cell_type": "markdown",
   "id": "b591dcb9",
   "metadata": {},
   "source": [
    "右回りや左周りなどの情報が入っている"
   ]
  },
  {
   "cell_type": "markdown",
   "id": "c7e43fc5",
   "metadata": {},
   "source": [
    "#### distance"
   ]
  },
  {
   "cell_type": "code",
   "execution_count": null,
   "id": "88e9d9da",
   "metadata": {},
   "outputs": [],
   "source": [
    "horse_race_df['distance'].unique()"
   ]
  },
  {
   "cell_type": "markdown",
   "id": "a8675353",
   "metadata": {},
   "source": [
    "レースの距離が入っている"
   ]
  },
  {
   "cell_type": "markdown",
   "id": "6e689b43",
   "metadata": {},
   "source": [
    "#### race_date"
   ]
  },
  {
   "cell_type": "code",
   "execution_count": null,
   "id": "e4a536da",
   "metadata": {},
   "outputs": [],
   "source": [
    "horse_race_df['race_date'].unique()"
   ]
  },
  {
   "cell_type": "markdown",
   "id": "f3b34400",
   "metadata": {},
   "source": [
    "レースの日付の情報が入っている"
   ]
  },
  {
   "cell_type": "markdown",
   "id": "f8419b76",
   "metadata": {},
   "source": [
    "### 各特徴量の探索"
   ]
  },
  {
   "cell_type": "markdown",
   "id": "71d9c6ee",
   "metadata": {},
   "source": [
    "#### データのマージ"
   ]
  },
  {
   "cell_type": "code",
   "execution_count": null,
   "id": "def1f925",
   "metadata": {},
   "outputs": [],
   "source": [
    "\n",
    "horse_df_tmp = horse_df[['horse_id','rank']]\n",
    "horse_race_df_marged = pd.DataFrame()\n",
    "horse_race_df_marged = pd.merge(horse_df_tmp, horse_race_df, on='horse_id', how='inner', suffixes=('_y', '_x'))"
   ]
  },
  {
   "cell_type": "code",
   "execution_count": null,
   "id": "2bd3d652",
   "metadata": {},
   "outputs": [],
   "source": [
    "horse_race_df_marged"
   ]
  },
  {
   "cell_type": "code",
   "execution_count": null,
   "id": "416bdbe7",
   "metadata": {},
   "outputs": [],
   "source": [
    "horse_df['horse_id'].nunique()"
   ]
  },
  {
   "cell_type": "code",
   "execution_count": null,
   "id": "a348ece4",
   "metadata": {},
   "outputs": [],
   "source": [
    "horse_race_df['horse_id'].nunique()"
   ]
  },
  {
   "cell_type": "code",
   "execution_count": null,
   "id": "16f83528",
   "metadata": {},
   "outputs": [],
   "source": [
    "# import seaborn as sns\n",
    "# sns.set(rc={'figure.figsize':(30,20)})\n",
    "# sns.set(style=\"white\")\n",
    "# corr = horse_race_df_marged.corr()\n",
    "# mask = np.zeros_like(corr, dtype=bool)\n",
    "# mask[np.triu_indices_from(mask)] = True\n",
    "# sns.heatmap(data = corr, mask = mask, linewidth = 0.5, annot = True)"
   ]
  },
  {
   "cell_type": "code",
   "execution_count": null,
   "id": "cb40ef3a",
   "metadata": {},
   "outputs": [],
   "source": [
    "#id系やいらないカラムを削除\n",
    "horse_race_df_marged_droped = horse_race_df_marged.drop(['horse_id', \n",
    "                                                          'race_id',\n",
    "                                                          'rider_id',\n",
    "                                                          'wined_horse_id',\n",
    "                                                          'target_race_id',\n",
    "                                                          'is_down',\n",
    "                                                          'is_obstacle',\n",
    "                                                          'is_left_right_straight'],\n",
    "                                                          axis=1\n",
    "                                                          )"
   ]
  },
  {
   "cell_type": "code",
   "execution_count": null,
   "id": "a267d3b1",
   "metadata": {},
   "outputs": [],
   "source": [
    "# sns.set(rc={'figure.figsize':(30,20)})\n",
    "# sns.set(style=\"white\")\n",
    "# corr = horse_race_df_marged_droped.corr()\n",
    "# mask = np.zeros_like(corr, dtype=bool)\n",
    "# mask[np.triu_indices_from(mask)] = True\n",
    "# sns.heatmap(data = corr, mask = mask, linewidth = 0.5, annot = True)"
   ]
  },
  {
   "cell_type": "code",
   "execution_count": null,
   "id": "cc90cd10",
   "metadata": {},
   "outputs": [],
   "source": [
    "# #G1だけで見てみる\n",
    "# import seaborn as sns\n",
    "# sns.set(rc={'figure.figsize':(30,20)})\n",
    "# sns.set(style=\"white\")\n",
    "# corr = horse_race_df_marged_droped[horse_race_df_marged_droped['race_rank']==3].corr()\n",
    "# mask = np.zeros_like(corr, dtype=bool)\n",
    "# mask[np.triu_indices_from(mask)] = True\n",
    "# sns.heatmap(data = corr, mask = mask, linewidth = 0.5, annot = True)"
   ]
  },
  {
   "cell_type": "code",
   "execution_count": null,
   "id": "ec6bf6a4",
   "metadata": {},
   "outputs": [],
   "source": [
    "#G1だけだと、相関が上がる\n",
    "horse_race_df_marged_droped_g1 = horse_race_df_marged_droped[horse_race_df_marged_droped['race_rank']==3]\n",
    "horse_race_df_marged_droped_g1 = horse_race_df_marged_droped_g1.drop(['burden_weight','race_rank'],axis=1)"
   ]
  },
  {
   "cell_type": "code",
   "execution_count": null,
   "id": "c8f0c650",
   "metadata": {},
   "outputs": [],
   "source": [
    "# #G1だけで見てみる\n",
    "# import seaborn as sns\n",
    "# sns.set(rc={'figure.figsize':(30,20)})\n",
    "# sns.set(style=\"white\")\n",
    "# corr = horse_race_df_marged_droped_g1.corr()\n",
    "# mask = np.zeros_like(corr, dtype=bool)\n",
    "# mask[np.triu_indices_from(mask)] = True\n",
    "# sns.heatmap(data = corr, mask = mask, linewidth = 0.5, annot = True)"
   ]
  },
  {
   "cell_type": "code",
   "execution_count": null,
   "id": "8a656709",
   "metadata": {},
   "outputs": [],
   "source": [
    "horse_race_df_marged['date']"
   ]
  },
  {
   "cell_type": "code",
   "execution_count": null,
   "id": "ddd22414",
   "metadata": {},
   "outputs": [],
   "source": [
    "df_latest_race = horse_race_df_marged.groupby('horse_id').apply(lambda x: x[x['date'] == x['date'].max()])\n",
    "df_latest_race = df_latest_race.reset_index(drop=True)"
   ]
  },
  {
   "cell_type": "code",
   "execution_count": null,
   "id": "a8543ac8",
   "metadata": {},
   "outputs": [],
   "source": [
    "df_latest_race = df_latest_race.drop([#'horse_id', \n",
    "                                    'race_id',\n",
    "                                    'rider_id',\n",
    "                                    'wined_horse_id',\n",
    "                                    'target_race_id',\n",
    "                                    'is_down',\n",
    "                                    'is_obstacle',\n",
    "                                    'is_left_right_straight'\n",
    "                                    ],axis=1\n",
    "                                    )"
   ]
  },
  {
   "cell_type": "code",
   "execution_count": null,
   "id": "33090040",
   "metadata": {},
   "outputs": [],
   "source": [
    "# #最新のレースだけで見てみる\n",
    "# import seaborn as sns\n",
    "# sns.set(rc={'figure.figsize':(30,20)})\n",
    "# sns.set(style=\"white\")\n",
    "# corr = df_latest_race.corr()\n",
    "# mask = np.zeros_like(corr, dtype=bool)\n",
    "# mask[np.triu_indices_from(mask)] = True\n",
    "# sns.heatmap(data = corr, mask = mask, linewidth = 0.5, annot = True)"
   ]
  },
  {
   "cell_type": "code",
   "execution_count": null,
   "id": "3b080f03",
   "metadata": {},
   "outputs": [],
   "source": [
    "df_latest_race = df_latest_race.drop('date',axis=1)\n",
    "df_latest_race = df_latest_race.drop('race_title',axis=1)\n",
    "df_latest_race = df_latest_race.drop('race_date',axis=1)"
   ]
  },
  {
   "cell_type": "code",
   "execution_count": null,
   "id": "f84f39ea",
   "metadata": {},
   "outputs": [],
   "source": [
    "#スケーリング\n",
    "from sklearn.preprocessing import MinMaxScaler\n",
    "scaler = MinMaxScaler()\n",
    "column = df_latest_race[\"horse_id\"].values\n",
    "X = df_latest_race.drop('horse_id', axis=1).values\n",
    "scaler.fit(X) \n",
    "X_scaled = scaler.transform(X)\n",
    "# 凝集型階層クラスタリングの計算と結果\n",
    "from scipy.cluster.hierarchy import linkage, dendrogram\n",
    "import matplotlib.pyplot as plt\n",
    "\n",
    "result = linkage(X_scaled, method = \"ward\")\n",
    "dendrogram(result, labels = column)\n",
    "plt.show()"
   ]
  },
  {
   "cell_type": "code",
   "execution_count": null,
   "id": "2e223555",
   "metadata": {},
   "outputs": [],
   "source": [
    "# クラスターの計算\n",
    "from scipy.cluster.hierarchy import fcluster\n",
    "cluster = fcluster(result, t = 4.3, criterion = \"distance\")\n",
    "cluster"
   ]
  },
  {
   "cell_type": "code",
   "execution_count": null,
   "id": "63c90dff",
   "metadata": {},
   "outputs": [],
   "source": [
    "data = df_latest_race.assign(cluster = cluster)\n",
    "data[\"cluster\"] = data[\"cluster\"].astype(\"str\")    # cluster列を数値から文字列にcast"
   ]
  },
  {
   "cell_type": "code",
   "execution_count": null,
   "id": "ca8bc868",
   "metadata": {},
   "outputs": [],
   "source": [
    "data.info()"
   ]
  },
  {
   "cell_type": "code",
   "execution_count": null,
   "id": "3a14005b",
   "metadata": {},
   "outputs": [],
   "source": [
    "data = data.drop(['horse_id', 'goal_time'], axis=1)"
   ]
  },
  {
   "cell_type": "code",
   "execution_count": null,
   "id": "addb28ed",
   "metadata": {},
   "outputs": [],
   "source": [
    "# sns.pairplot(data, hue=\"cluster\", diag_kind='hist',corner=True)\n",
    "# plt.show()"
   ]
  },
  {
   "cell_type": "code",
   "execution_count": null,
   "id": "eb672120",
   "metadata": {},
   "outputs": [],
   "source": [
    "race_df_tmp = race_df.drop(['race_id',\n",
    "                            'race_round',\n",
    "                        \"race_rank\", \n",
    "                        \"is_obstacle\",\n",
    "                        \"ground_type\", \n",
    "                        \"is_left_right_straight\",\n",
    "                        \"distance\",\n",
    "                        \"tansyo\",\n",
    "                        \"hukusyo_first\",\n",
    "                        \"hukusyo_second\",\n",
    "                        \"hukusyo_third\",\n",
    "                        \"wakuren\",\n",
    "                        \"umaren\",\n",
    "                        \"wide_1_2\",\n",
    "                        \"wide_1_3\",\n",
    "                        \"wide_2_3\",\n",
    "                        \"umatan\",\n",
    "                        #\"renhuku3\",\n",
    "                        #\"rentan3\",\t\n",
    "                        \n",
    "                        \n",
    "                        \n",
    "                        ], axis=1)"
   ]
  },
  {
   "cell_type": "code",
   "execution_count": null,
   "id": "b7c132ba",
   "metadata": {},
   "outputs": [],
   "source": [
    "#最新のレースだけで見てみる\n",
    "import seaborn as sns\n",
    "sns.set(rc={'figure.figsize':(30,20)})\n",
    "sns.set(style=\"white\")\n",
    "corr = race_df_tmp.corr()\n",
    "mask = np.zeros_like(corr, dtype=bool)\n",
    "mask[np.triu_indices_from(mask)] = True\n",
    "sns.heatmap(data = corr, mask = mask, linewidth = 0.5, annot = True)"
   ]
  },
  {
   "cell_type": "code",
   "execution_count": null,
   "id": "4cc746df",
   "metadata": {},
   "outputs": [],
   "source": [
    "race_df_tmp['renhuku3'].unique()"
   ]
  },
  {
   "cell_type": "code",
   "execution_count": null,
   "id": "d1777f27",
   "metadata": {},
   "outputs": [],
   "source": [
    "# sns.rugplot(x='renhuku3', \n",
    "#             y='horse_number_second',\n",
    "#             data=race_df_tmp,\n",
    "#             height=.03\n",
    "#                 )\n",
    "# #ヒストグラム＋KDEも同時に描写する場合\n",
    "# sns.histplot(x='renhuku3',\n",
    "#              y='horse_number_second',\n",
    "#                 ata=race_df_tmp,\n",
    "#                 kde=True\n",
    "#             )\n",
    "                \n",
    "# plt.show()"
   ]
  },
  {
   "cell_type": "code",
   "execution_count": null,
   "id": "ec769a80",
   "metadata": {},
   "outputs": [],
   "source": [
    "# sns.kdeplot(x='renhuku3',\n",
    "# \t\t\t\t\t\ty='total_horse_number',\n",
    "# \t\t\t\t\t\tdata=race_df_tmp,\n",
    "# \t\t\t\t\t\tshade=True,\n",
    "# \t\t\t\t\t\tshade_lowest=False\n",
    "# \t\t\t\t\t\t)"
   ]
  },
  {
   "cell_type": "code",
   "execution_count": null,
   "id": "742e8ee7",
   "metadata": {},
   "outputs": [],
   "source": [
    "# sns.jointplot(x='renhuku3',\n",
    "#               y='horse_number_first',\n",
    "#               data=race_df_tmp,\n",
    "#               #hue='ground_status',\n",
    "#               #height = 10\n",
    "# \t\t\t  )"
   ]
  },
  {
   "cell_type": "code",
   "execution_count": null,
   "id": "f279989b",
   "metadata": {},
   "outputs": [],
   "source": [
    "# sns.jointplot(x='renhuku3',\n",
    "#               y='horse_number_second',\n",
    "#               data=race_df_tmp,\n",
    "#               #hue='ground_status',\n",
    "#               #height = 10\n",
    "# \t\t\t  )"
   ]
  },
  {
   "cell_type": "code",
   "execution_count": null,
   "id": "2b0c830a",
   "metadata": {},
   "outputs": [],
   "source": [
    "# race_df_tmp['rentan3'] = race_df_tmp['rentan3'].astype(float)"
   ]
  },
  {
   "cell_type": "code",
   "execution_count": null,
   "id": "fcf004f0",
   "metadata": {},
   "outputs": [],
   "source": [
    "# # PairGridを作成する\n",
    "# g = sns.PairGrid(x='rentan3',\n",
    "#              data=race_df_tmp,\n",
    "#              #bins=100,\n",
    "#              )\n",
    "\n",
    "# # ヒストグラムのフォーマットを変更する\n",
    "# g.map_diag(sns.histplot)\n",
    "# g.map_offdiag(sns.scatterplot)\n",
    "# # 軸のフォーマットを通常の数字表示に戻す\n",
    "# g.axes.diagonal[-1].ticklabel_format(style='plain', useOffset=False)\n",
    "\n",
    "# # PairGridを表示する\n",
    "# plt.show()\n"
   ]
  },
  {
   "cell_type": "code",
   "execution_count": null,
   "id": "c63e3796",
   "metadata": {},
   "outputs": [],
   "source": [
    "# sns.histplot(x='rentan3',\n",
    "#              data=race_df_tmp,\n",
    "#              #bins=100,\n",
    "#              kde=True\n",
    "#              )\n",
    "\n"
   ]
  },
  {
   "cell_type": "code",
   "execution_count": null,
   "id": "50ae4163",
   "metadata": {},
   "outputs": [],
   "source": [
    "horse_df_tmp =horse_df.drop(['race_id','horse_id', 'tamer_id', 'rider_id'],axis=1)"
   ]
  },
  {
   "cell_type": "code",
   "execution_count": null,
   "id": "87a1ffa1",
   "metadata": {},
   "outputs": [],
   "source": [
    "# #最新のレースだけで見てみる\n",
    "# import seaborn as sns\n",
    "# sns.set(rc={'figure.figsize':(30,20)})\n",
    "# sns.set(style=\"white\")\n",
    "# corr = horse_df_tmp.corr()\n",
    "# mask = np.zeros_like(corr, dtype=bool)\n",
    "# mask[np.triu_indices_from(mask)] = True\n",
    "# sns.heatmap(data = corr, mask = mask, linewidth = 0.5, annot = True)"
   ]
  },
  {
   "cell_type": "code",
   "execution_count": null,
   "id": "75c88665",
   "metadata": {},
   "outputs": [],
   "source": [
    "race_df_tmp2 = race_df[['race_id','weather','ground_status']]"
   ]
  },
  {
   "cell_type": "code",
   "execution_count": null,
   "id": "74d5d632",
   "metadata": {},
   "outputs": [],
   "source": [
    "df_marged = pd.DataFrame()\n",
    "df_marged = pd.merge(horse_df, race_df_tmp2, on='race_id', how='left')"
   ]
  },
  {
   "cell_type": "code",
   "execution_count": null,
   "id": "1afdbcf8",
   "metadata": {},
   "outputs": [],
   "source": []
  },
  {
   "cell_type": "code",
   "execution_count": null,
   "id": "5f4da090",
   "metadata": {},
   "outputs": [],
   "source": [
    "df_marged['ground_status']"
   ]
  },
  {
   "cell_type": "code",
   "execution_count": null,
   "id": "5806eda5",
   "metadata": {},
   "outputs": [],
   "source": [
    "df_marged['ground_status'] = df_marged['ground_status'] .astype(str)"
   ]
  },
  {
   "cell_type": "code",
   "execution_count": null,
   "id": "19d4995c",
   "metadata": {},
   "outputs": [],
   "source": [
    "df_marged['horse_weight'] = df_marged['horse_weight'] .astype(float)"
   ]
  },
  {
   "cell_type": "code",
   "execution_count": null,
   "id": "27ed6704",
   "metadata": {},
   "outputs": [],
   "source": [
    "# sns.jointplot(x='rank',\n",
    "#               y='popular',\n",
    "#               data=df_marged,\n",
    "#               #hue='ground_status',\n",
    "#               #height = 10,\n",
    "#               dropna=True,\n",
    "# \t\t\t  )"
   ]
  },
  {
   "cell_type": "code",
   "execution_count": null,
   "id": "6b86a243",
   "metadata": {},
   "outputs": [],
   "source": [
    "sns.countplot(x=\"ground_status\", data=race_df)"
   ]
  },
  {
   "cell_type": "markdown",
   "id": "71de6fc8",
   "metadata": {},
   "source": [
    "### race_df"
   ]
  },
  {
   "cell_type": "code",
   "execution_count": null,
   "id": "86b45f60",
   "metadata": {},
   "outputs": [],
   "source": [
    "race_df.info()"
   ]
  },
  {
   "cell_type": "code",
   "execution_count": null,
   "id": "fc9bae43",
   "metadata": {},
   "outputs": [],
   "source": [
    "race_df_tmp = race_df[['race_id',\n",
    "                        'weather',\n",
    "                      'ground_status',\n",
    "                      'where_racecourse',\n",
    "                      'total_horse_number',\n",
    "                      'horse_number_first',\n",
    "                      'horse_number_second',\n",
    "                      'horse_number_third',\n",
    "                      'tansyo',\n",
    "                      'renhuku3'\n",
    "                     ]]"
   ]
  },
  {
   "cell_type": "code",
   "execution_count": null,
   "id": "1a5b5659",
   "metadata": {},
   "outputs": [],
   "source": [
    "horse_df_tmp = horse_df[['race_id',\n",
    "                      'rank',\n",
    "                     ]]"
   ]
  },
  {
   "cell_type": "code",
   "execution_count": null,
   "id": "c0e7866c",
   "metadata": {},
   "outputs": [],
   "source": [
    "df_marged = pd.merge(horse_df_tmp, \n",
    "                        race_df_tmp, \n",
    "                        on='race_id', \n",
    "                        how='inner', #how='left'など\n",
    "                        suffixes=('_y', '_x')\n",
    "                        ) "
   ]
  },
  {
   "cell_type": "code",
   "execution_count": null,
   "id": "fb191bf8",
   "metadata": {},
   "outputs": [],
   "source": [
    "sns.set(rc={'figure.figsize':(15,8)})\n",
    "sns.set(style=\"white\")\n",
    "corr = race_df_tmp.drop('race_id',axis=1).corr()\n",
    "mask = np.zeros_like(corr, dtype=bool)\n",
    "mask[np.triu_indices_from(mask)] = True\n",
    "sns.heatmap(data = corr, mask = mask, linewidth = 0.5, annot = True)"
   ]
  },
  {
   "cell_type": "code",
   "execution_count": null,
   "id": "4c831e28",
   "metadata": {},
   "outputs": [],
   "source": [
    "race_df_tmp.info()"
   ]
  },
  {
   "cell_type": "code",
   "execution_count": null,
   "id": "220a26af",
   "metadata": {},
   "outputs": [],
   "source": [
    "race_df_tmp['weather'] = race_df_tmp['weather'].astype(np.float32)\n",
    "race_df_tmp['ground_status'] = race_df_tmp['ground_status'].astype(np.float32)\n",
    "race_df_tmp['where_racecourse'] = race_df_tmp['where_racecourse'].astype(np.float32)\n",
    "race_df_tmp['horse_number_first'] = race_df_tmp['horse_number_first'].astype(np.float32)\n",
    "race_df_tmp['total_horse_number'] = race_df_tmp['total_horse_number'].astype(np.float32)\n",
    "race_df_tmp['horse_number_second'] = race_df_tmp['horse_number_second'].astype(np.float32)\n",
    "race_df_tmp['horse_number_third'] = race_df_tmp['horse_number_third'].astype(np.float32)\n",
    "race_df_tmp['renhuku3'] = race_df_tmp['renhuku3'].astype(np.float32)\n",
    "#race_df_tmp['ground_status'] = race_df_tmp['ground_status'].astype(str)\n",
    "sns.pairplot(race_df_tmp.drop('race_id',axis=1),\n",
    "             #hue='ground_status',\n",
    "             corner=True)"
   ]
  },
  {
   "cell_type": "code",
   "execution_count": null,
   "id": "5129df48",
   "metadata": {},
   "outputs": [],
   "source": [
    "fig, axs = plt.subplots(nrows=1, ncols=3, figsize=(15, 5))\n",
    "\n",
    "sns.regplot(x=\"ground_status\", y=\"horse_number_first\", data=race_df_tmp, ax=axs[0])\n",
    "sns.regplot(x=\"ground_status\", y=\"horse_number_second\", data=race_df_tmp, ax=axs[1])\n",
    "sns.regplot(x=\"ground_status\", y=\"horse_number_third\", data=race_df_tmp, ax=axs[2])\n",
    "\n",
    "axs[0].set_title(\"First Place\")\n",
    "axs[1].set_title(\"Second Place\")\n",
    "axs[2].set_title(\"Third Place\")\n",
    "\n",
    "plt.tight_layout()\n",
    "plt.show()"
   ]
  },
  {
   "cell_type": "code",
   "execution_count": null,
   "id": "33407f80",
   "metadata": {},
   "outputs": [],
   "source": [
    "race_query = '''\n",
    "    SELECT * \n",
    "    FROM kikka.race_table\n",
    "    '''\n",
    "kikka_race_df = client.query(race_query).to_dataframe()\n",
    "kikka_race_df.head(1)"
   ]
  },
  {
   "cell_type": "code",
   "execution_count": null,
   "id": "c989b96b",
   "metadata": {
    "scrolled": false
   },
   "outputs": [],
   "source": [
    "kikka_race_df.info()"
   ]
  },
  {
   "cell_type": "code",
   "execution_count": null,
   "id": "e0780fed",
   "metadata": {},
   "outputs": [],
   "source": [
    "race_df[['tansyo','umaren','renhuku3','rentan3']].describe()"
   ]
  },
  {
   "cell_type": "code",
   "execution_count": null,
   "id": "d302b8f4",
   "metadata": {},
   "outputs": [],
   "source": [
    "kikka_race_df['ground_status'].unique()"
   ]
  },
  {
   "cell_type": "code",
   "execution_count": null,
   "id": "b7f0d1fd",
   "metadata": {},
   "outputs": [],
   "source": [
    "kikka_race_df['horse_number_first'].unique()"
   ]
  },
  {
   "cell_type": "code",
   "execution_count": null,
   "id": "16035757",
   "metadata": {},
   "outputs": [],
   "source": [
    "kikka_race_df['weather'] = kikka_race_df['weather'].astype(np.float32)\n",
    "kikka_race_df['ground_status'] = kikka_race_df['ground_status'].astype(np.float32)\n",
    "kikka_race_df['where_racecourse'] = kikka_race_df['where_racecourse'].astype(np.float32)\n",
    "kikka_race_df['horse_number_first'] = kikka_race_df['horse_number_first'].astype(np.float32)\n",
    "kikka_race_df['total_horse_number'] = kikka_race_df['total_horse_number'].astype(np.float32)\n",
    "kikka_race_df['horse_number_second'] = kikka_race_df['horse_number_second'].astype(np.float32)\n",
    "kikka_race_df['horse_number_third'] = kikka_race_df['horse_number_third'].astype(np.float32)\n",
    "kikka_race_df['renhuku3'] = race_df_tmp['renhuku3'].astype(np.float32)"
   ]
  },
  {
   "cell_type": "code",
   "execution_count": null,
   "id": "078a4238",
   "metadata": {},
   "outputs": [],
   "source": [
    "fig, axs = plt.subplots(nrows=1, ncols=3, figsize=(15, 5))\n",
    "\n",
    "sns.regplot(x=\"ground_status\", y=\"horse_number_first\", data=kikka_race_df, ax=axs[0])\n",
    "sns.regplot(x=\"ground_status\", y=\"horse_number_second\", data=kikka_race_df, ax=axs[1])\n",
    "sns.regplot(x=\"ground_status\", y=\"horse_number_third\", data=kikka_race_df, ax=axs[2])\n",
    "\n",
    "axs[0].set_title(\"Kikka First Place\")\n",
    "axs[1].set_title(\"Kikka Second Place\")\n",
    "axs[2].set_title(\"Kikka Third Place\")\n",
    "\n",
    "plt.tight_layout()\n",
    "plt.show()"
   ]
  },
  {
   "cell_type": "code",
   "execution_count": null,
   "id": "f4e19f91",
   "metadata": {},
   "outputs": [],
   "source": [
    "sns.set(rc={'figure.figsize':(30,15)})\n",
    "sns.set(style=\"white\")\n",
    "corr = horse_df.drop('race_id',axis=1).corr()\n",
    "mask = np.zeros_like(corr, dtype=bool)\n",
    "mask[np.triu_indices_from(mask)] = True\n",
    "sns.heatmap(data = corr, mask = mask, linewidth = 0.5, annot = True)"
   ]
  },
  {
   "cell_type": "code",
   "execution_count": null,
   "id": "e21f8da1",
   "metadata": {},
   "outputs": [],
   "source": [
    "horse_df_tmp = horse_df[[\n",
    "                         'race_id',\n",
    "                         'rank',\n",
    "                         'frame_number',\n",
    "                         'horse_number',\n",
    "                         'age',\n",
    "                         'sex',\n",
    "                         'odds',\n",
    "                         'popular',\n",
    "                         'horse_weight',\n",
    "                         'horse_weight_dif',\n",
    "                         'burden_weight_rate'\n",
    "                        ]]"
   ]
  },
  {
   "cell_type": "code",
   "execution_count": null,
   "id": "cf647f5b",
   "metadata": {},
   "outputs": [],
   "source": [
    "# horse_df[['age','horse_weight','horse_weight_dif','goal_time']].describe()"
   ]
  },
  {
   "cell_type": "code",
   "execution_count": null,
   "id": "51b4f7be",
   "metadata": {},
   "outputs": [],
   "source": [
    "# horse_df_tmp = horse_df[['rank','age','horse_weight','horse_weight_dif','goal_time']]\n",
    "horse_df_tmp[horse_df_tmp['rank']==1].describe()"
   ]
  },
  {
   "cell_type": "code",
   "execution_count": null,
   "id": "9773068c",
   "metadata": {},
   "outputs": [],
   "source": [
    "sns.set(rc={'figure.figsize':(15,8)})\n",
    "sns.set(style=\"white\")\n",
    "corr = horse_df_tmp.corr()\n",
    "mask = np.zeros_like(corr, dtype=bool)\n",
    "mask[np.triu_indices_from(mask)] = True\n",
    "sns.heatmap(data = corr, mask = mask, linewidth = 0.5, annot = True)"
   ]
  },
  {
   "cell_type": "code",
   "execution_count": null,
   "id": "e6224c2e",
   "metadata": {},
   "outputs": [],
   "source": [
    "horse_df_tmp['rank'] = horse_df_tmp['rank'].astype(np.float32)\n",
    "horse_df_tmp['frame_number'] = horse_df_tmp['frame_number'].astype(np.float32)\n",
    "horse_df_tmp['horse_number'] = horse_df_tmp['horse_number'].astype(np.float32)\n",
    "horse_df_tmp['age'] = horse_df_tmp['age'].astype(np.float32)\n",
    "horse_df_tmp['sex'] = horse_df_tmp['sex'].astype(np.float32)\n",
    "horse_df_tmp['odds'] = horse_df_tmp['odds'].astype(np.float32)\n",
    "horse_df_tmp['popular'] = horse_df_tmp['popular'].astype(np.float32)\n",
    "horse_df_tmp['horse_weight'] = horse_df_tmp['horse_weight'].astype(np.float32)\n",
    "horse_df_tmp['horse_weight_dif'] = horse_df_tmp['horse_weight_dif'].astype(np.float32)\n",
    "horse_df_tmp['burden_weight_rate'] = horse_df_tmp['burden_weight_rate'].astype(np.float32)"
   ]
  },
  {
   "cell_type": "code",
   "execution_count": null,
   "id": "f8017d84",
   "metadata": {},
   "outputs": [],
   "source": [
    " horse_df[horse_df['rank'] == 1].count()"
   ]
  },
  {
   "cell_type": "code",
   "execution_count": null,
   "id": "8dedaf89",
   "metadata": {},
   "outputs": [],
   "source": [
    "horse_df_tmp['prize'] =  horse_df_tmp[horse_df_tmp['rank'] <= 3]['rank']\n",
    "horse_df_tmp['prize'] = horse_df_tmp['prize'].replace(np.nan, 0)\n",
    "horse_df_tmp['prize'].value_counts()"
   ]
  },
  {
   "cell_type": "code",
   "execution_count": null,
   "id": "8bed2161",
   "metadata": {},
   "outputs": [],
   "source": [
    "horse_df_tmp['prize'] = horse_df_tmp['prize'].astype(int)"
   ]
  },
  {
   "cell_type": "code",
   "execution_count": null,
   "id": "d3bad4e0",
   "metadata": {},
   "outputs": [],
   "source": [
    "horse_df_tmp['prize'] = horse_df_tmp['prize'].replace(1,'3') \n",
    "horse_df_tmp['prize'] = horse_df_tmp['prize'].replace(2,'2') \n",
    "horse_df_tmp['prize'] = horse_df_tmp['prize'].replace(3,'1') "
   ]
  },
  {
   "cell_type": "code",
   "execution_count": null,
   "id": "7e57e7af",
   "metadata": {},
   "outputs": [],
   "source": [
    "horse_df_tmp['prize'] = horse_df_tmp['prize'].astype(int)\n",
    "horse_df_tmp['prize'].value_counts()"
   ]
  },
  {
   "cell_type": "code",
   "execution_count": null,
   "id": "edb4731c",
   "metadata": {},
   "outputs": [],
   "source": [
    "# sns.pairplot(horse_df_tmp, hue='prize',corner=True)"
   ]
  },
  {
   "cell_type": "code",
   "execution_count": null,
   "id": "79b49eaf",
   "metadata": {},
   "outputs": [],
   "source": [
    "sns.lmplot(x=\"popular\", y=\"horse_weight_dif\",hue=\"prize\", data=horse_df_tmp,x_jitter=0.3, y_jitter=0.3 ,fit_reg = False )"
   ]
  },
  {
   "cell_type": "code",
   "execution_count": null,
   "id": "9c76575f",
   "metadata": {},
   "outputs": [],
   "source": [
    "sns.scatterplot(x=\"popular\", y=\"horse_weight\",hue=\"prize\", data=horse_df_tmp)"
   ]
  },
  {
   "cell_type": "code",
   "execution_count": null,
   "id": "0907e34a",
   "metadata": {},
   "outputs": [],
   "source": [
    "race_df_tmp = race_df[['race_id','total_horse_number']]"
   ]
  },
  {
   "cell_type": "code",
   "execution_count": null,
   "id": "6693353f",
   "metadata": {},
   "outputs": [],
   "source": [
    "df_merged = pd.merge(horse_df_tmp, \n",
    "                        race_df_tmp, \n",
    "                        on='race_id', \n",
    "                        how='inner', #how='left'など\n",
    "                        suffixes=('_y', '_x')\n",
    "                        )"
   ]
  },
  {
   "cell_type": "code",
   "execution_count": null,
   "id": "fc959952",
   "metadata": {},
   "outputs": [],
   "source": [
    "df_merged['popular_rate'] = df_merged['popular']/df_merged['total_horse_number']"
   ]
  },
  {
   "cell_type": "code",
   "execution_count": null,
   "id": "c9f56528",
   "metadata": {},
   "outputs": [],
   "source": [
    "df_merged"
   ]
  },
  {
   "cell_type": "code",
   "execution_count": null,
   "id": "cff8a081",
   "metadata": {},
   "outputs": [],
   "source": [
    "df_merged['prize'] =  df_merged[df_marged['rank'] <= 3]['rank']\n",
    "df_merged['prize'] = df_merged['prize'].replace(np.nan, 0)\n",
    "df_merged['prize'].value_counts()"
   ]
  },
  {
   "cell_type": "code",
   "execution_count": null,
   "id": "12b97de4",
   "metadata": {},
   "outputs": [],
   "source": [
    "df_merged['prize'] = df_merged['prize'].astype(int)\n",
    "df_merged['prize'].value_counts()"
   ]
  },
  {
   "cell_type": "code",
   "execution_count": null,
   "id": "8cd79a56",
   "metadata": {},
   "outputs": [],
   "source": [
    "df_merged['prize'] = df_merged['prize'].replace(1,'3') \n",
    "df_merged['prize'] = df_merged['prize'].replace(2,'2') \n",
    "df_merged['prize'] = df_merged['prize'].replace(3,'1') \n",
    "df_merged['prize'] = df_merged['prize'].astype(int)\n",
    "df_merged['prize'].value_counts()"
   ]
  },
  {
   "cell_type": "code",
   "execution_count": null,
   "id": "f0b261d1",
   "metadata": {},
   "outputs": [],
   "source": [
    "df_merged['rank'] = df_merged['rank'].astype(np.float32)\n",
    "df_merged['frame_number'] = df_merged['frame_number'].astype(np.float32)\n",
    "df_merged['horse_number'] = df_merged['horse_number'].astype(np.float32)\n",
    "df_merged['age'] = df_merged['age'].astype(np.float32)\n",
    "df_merged['sex'] = df_merged['sex'].astype(np.float32)\n",
    "df_merged['odds'] = df_merged['odds'].astype(np.float32)\n",
    "df_merged['popular'] = df_merged['popular'].astype(np.float32)\n",
    "df_merged['horse_weight'] = df_merged['horse_weight'].astype(np.float32)\n",
    "df_merged['horse_weight_dif'] = df_merged['horse_weight_dif'].astype(np.float32)\n",
    "df_merged['burden_weight_rate'] = df_merged['burden_weight_rate'].astype(np.float32)\n",
    "df_merged['popular_rate'] = df_merged['popular_rate'].astype(np.float32)"
   ]
  },
  {
   "cell_type": "code",
   "execution_count": null,
   "id": "7d9ab34d",
   "metadata": {},
   "outputs": [],
   "source": [
    "df_merged.info()"
   ]
  },
  {
   "cell_type": "code",
   "execution_count": null,
   "id": "3dba7023",
   "metadata": {},
   "outputs": [],
   "source": [
    "# sns.lmplot(x=\"popular_rate\",\n",
    "#            y=\"horse_weight_dif\",\n",
    "#            hue=\"prize\",\n",
    "#            data=df_marged.drop(['race_id','total_horse_number'], axis=1),\n",
    "#            x_jitter=0.3,\n",
    "#            y_jitter=0.3,\n",
    "#            x_ci='sd',\n",
    "#            ci=80)"
   ]
  },
  {
   "cell_type": "code",
   "execution_count": null,
   "id": "75275caa",
   "metadata": {},
   "outputs": [],
   "source": [
    "df_merged['rank_range'] = df_merged['rank'] /df_merged['total_horse_number']"
   ]
  },
  {
   "cell_type": "code",
   "execution_count": null,
   "id": "0b17a8a5",
   "metadata": {},
   "outputs": [],
   "source": [
    "df_merged['rank_range'].unique()"
   ]
  },
  {
   "cell_type": "code",
   "execution_count": null,
   "id": "081e63ac",
   "metadata": {},
   "outputs": [],
   "source": [
    "df_merged.loc[df_merged['rank_range'].between(0.66, 1), 'rank_range'] = 3\n",
    "df_merged.loc[df_merged['rank_range'].between(0.33, 0.66), 'rank_range'] = 2\n",
    "df_merged.loc[df_merged['rank_range'].between(0, 0.33), 'rank_range'] = 1"
   ]
  },
  {
   "cell_type": "code",
   "execution_count": null,
   "id": "b2a6bf0f",
   "metadata": {},
   "outputs": [],
   "source": [
    "df_merged['rank_range'] = df_merged['rank_range'].astype(float)"
   ]
  },
  {
   "cell_type": "code",
   "execution_count": null,
   "id": "43845ebb",
   "metadata": {},
   "outputs": [],
   "source": [
    "df_merged['rank_range'].unique()"
   ]
  },
  {
   "cell_type": "code",
   "execution_count": null,
   "id": "79e6172b",
   "metadata": {},
   "outputs": [],
   "source": [
    "df_merged.info()"
   ]
  },
  {
   "cell_type": "code",
   "execution_count": null,
   "id": "3f78af59",
   "metadata": {},
   "outputs": [],
   "source": [
    "sns.pairplot(df_merged.drop(['race_id','prize','total_horse_number','frame_number','odds','popular',],axis=1), hue='rank_range',corner=True)"
   ]
  },
  {
   "cell_type": "code",
   "execution_count": null,
   "id": "298d101c",
   "metadata": {},
   "outputs": [],
   "source": [
    "sns.pairplot(df_merged.drop(['race_id','prize','total_horse_number','frame_number','odds','popular',],axis=1), hue='popular_rate',corner=True)"
   ]
  },
  {
   "cell_type": "code",
   "execution_count": null,
   "id": "ab86966e",
   "metadata": {},
   "outputs": [],
   "source": [
    "#sns.pairplot(df_merged.drop(['race_id','prize','total_horse_number'],axis=1), hue='rank_range',corner=True)"
   ]
  },
  {
   "cell_type": "code",
   "execution_count": null,
   "id": "d0dcb073",
   "metadata": {},
   "outputs": [],
   "source": [
    "sns.scatterplot(x=\"horse_number\",\n",
    "           y=\"age\",\n",
    "           hue=\"rank_range\",\n",
    "           data=df_merged,\n",
    "#            x_jitter=0.3,\n",
    "#            y_jitter=0.3,\n",
    "#            x_ci='sd',\n",
    "#            ci=80\n",
    "          )"
   ]
  },
  {
   "cell_type": "code",
   "execution_count": null,
   "id": "e8b1b815",
   "metadata": {},
   "outputs": [],
   "source": [
    "sns.lmplot(x=\"horse_number\",\n",
    "           y=\"age\",\n",
    "           hue=\"rank_range\",\n",
    "           data=df_merged,\n",
    "           x_jitter=0.3,\n",
    "           y_jitter=0.3,\n",
    "#            x_ci='sd',\n",
    "#            ci=80\n",
    "          )"
   ]
  },
  {
   "cell_type": "code",
   "execution_count": null,
   "id": "ef658bfb",
   "metadata": {},
   "outputs": [],
   "source": [
    "sns.lmplot(x=\"horse_weight\",\n",
    "           y=\"popular_rate\",\n",
    "           hue=\"rank_range\",\n",
    "           data=df_merged,\n",
    "           x_jitter=0.3,\n",
    "           y_jitter=0.3,\n",
    "#            x_ci='sd',\n",
    "#            ci=80\n",
    "          )"
   ]
  },
  {
   "cell_type": "code",
   "execution_count": null,
   "id": "d8e162d2",
   "metadata": {},
   "outputs": [],
   "source": [
    "df_merged.info()"
   ]
  },
  {
   "cell_type": "code",
   "execution_count": null,
   "id": "3456a006",
   "metadata": {},
   "outputs": [],
   "source": [
    "df_merged['sex'] = df_merged['sex'].replace(0, 'osu')\n",
    "df_merged['sex'] = df_merged['sex'].replace(1, 'mesu')\n",
    "df_merged['sex'] = df_merged['sex'].replace(2, 'senba')"
   ]
  },
  {
   "cell_type": "code",
   "execution_count": null,
   "id": "f60c2ef6",
   "metadata": {},
   "outputs": [],
   "source": [
    "df_merged = pd.get_dummies(df_merged)"
   ]
  },
  {
   "cell_type": "code",
   "execution_count": null,
   "id": "ec145eb2",
   "metadata": {},
   "outputs": [],
   "source": [
    "df_merged.info()"
   ]
  },
  {
   "cell_type": "code",
   "execution_count": null,
   "id": "aa9ad52d",
   "metadata": {},
   "outputs": [],
   "source": [
    "df_merged_withrank = df_merged.drop([\n",
    "                            'race_id',\n",
    "               'prize',\n",
    "               'total_horse_number',\n",
    "                           'rank_range'],axis=1)"
   ]
  },
  {
   "cell_type": "code",
   "execution_count": null,
   "id": "a25a7972",
   "metadata": {},
   "outputs": [],
   "source": [
    "df_merged = df_merged_withrank.drop('rank',axis=1)"
   ]
  },
  {
   "cell_type": "code",
   "execution_count": null,
   "id": "23293151",
   "metadata": {},
   "outputs": [],
   "source": [
    "df_merged['sex_mesu'] =df_merged['sex_mesu'].astype(np.float32)\n",
    "df_merged['sex_osu']=df_merged['sex_mesu'].astype(np.float32)\n",
    "df_merged['sex_senba']=df_merged['sex_mesu'].astype(np.float32)"
   ]
  },
  {
   "cell_type": "code",
   "execution_count": null,
   "id": "6ee396ce",
   "metadata": {},
   "outputs": [],
   "source": [
    "from sklearn import preprocessing\n",
    "mm = preprocessing.MinMaxScaler()\n",
    "df_merged_mm = pd.DataFrame(mm.fit_transform(df_merged))\n",
    "df_merged_mm"
   ]
  },
  {
   "cell_type": "code",
   "execution_count": null,
   "id": "bd70850f",
   "metadata": {},
   "outputs": [],
   "source": [
    "from sklearn.cluster import KMeans\n",
    "\n",
    "k = 8 # クラスター数を指示\n",
    "\n",
    "kmeanModel = KMeans(n_clusters=k, random_state=42)\n",
    "kmeanModel.fit(df_merged_mm)\n",
    "clusters = kmeanModel.labels_\n",
    "\n",
    "# クラスターごとに何サンプルあるか\n",
    "for i in range(k):\n",
    "    num = list(clusters).count(i)\n",
    "    print(f'Cluster {i}: n = {num}')"
   ]
  },
  {
   "cell_type": "code",
   "execution_count": null,
   "id": "412aab57",
   "metadata": {},
   "outputs": [],
   "source": [
    "plt.scatter(df_merged_withrank['rank'], df_merged_withrank['popular'],\n",
    "            c=clusters, cmap='Accent', alpha=0.7) \n",
    "plt.title('title')\n",
    "plt.xlabel('rank')\n",
    "plt.ylabel('popilar')\n",
    "plt.colorbar()\n",
    "plt.show()"
   ]
  },
  {
   "cell_type": "code",
   "execution_count": null,
   "id": "524f2a92",
   "metadata": {},
   "outputs": [],
   "source": [
    "from sklearn.decomposition import PCA\n",
    "pca = PCA(random_state=42)\n",
    "pca.fit(df_merged_mm)\n",
    "score = pd.DataFrame(pca.transform(df_merged_mm), index=df_merged_mm.index)\n",
    "score"
   ]
  },
  {
   "cell_type": "code",
   "execution_count": null,
   "id": "09a58212",
   "metadata": {},
   "outputs": [],
   "source": [
    "plt.scatter(score.iloc[:,0], score.iloc[:,1],\n",
    "            c=clusters, cmap='Accent', alpha=0.7) \n",
    "plt.title('PCA plot')\n",
    "plt.xlabel('PC1')\n",
    "plt.ylabel('PC2')\n",
    "plt.colorbar()\n",
    "plt.show()"
   ]
  },
  {
   "cell_type": "code",
   "execution_count": null,
   "id": "872a075f",
   "metadata": {},
   "outputs": [],
   "source": [
    "from sklearn.manifold import TSNE\n",
    "embedding = TSNE(random_state=42).fit_transform(df_merged_mm)\n",
    "plt.scatter(embedding[:, 0], embedding[:, 1],\n",
    "    c=clusters, cmap='Accent', alpha=0.7)\n",
    "plt.title('t-SNE plot')\n",
    "plt.colorbar()\n",
    "plt.show()"
   ]
  },
  {
   "cell_type": "code",
   "execution_count": null,
   "id": "82559776",
   "metadata": {},
   "outputs": [],
   "source": [
    "import umap.umap_ as umap\n",
    "mapper = umap.UMAP(random_state=42)\n",
    "embedding = mapper.fit_transform(df_merged_mm)\n",
    "plt.scatter(embedding[:, 0], embedding[:, 1],\n",
    "    c=clusters, cmap='Accent', alpha=0.7)\n",
    "plt.title('UMAP plot')\n",
    "plt.colorbar()\n",
    "plt.show()"
   ]
  },
  {
   "cell_type": "code",
   "execution_count": null,
   "id": "7f5a70cf",
   "metadata": {},
   "outputs": [],
   "source": []
  },
  {
   "cell_type": "code",
   "execution_count": null,
   "id": "ee2bc448",
   "metadata": {},
   "outputs": [],
   "source": [
    "fig = plt.figure(figsize=(15,15))\n",
    "cols = df_merged.columns\n",
    "for i, col in enumerate(cols):\n",
    "    ax = fig.add_subplot(5, 5, i+1, title=col)\n",
    "    ax.scatter(embedding[:, 0], embedding[:, 1],\n",
    "        c=df_merged[col], \n",
    "        cmap='Greys',\n",
    "        alpha=0.8)\n",
    "fig.tight_layout()\n",
    "plt.show()"
   ]
  },
  {
   "cell_type": "code",
   "execution_count": null,
   "id": "feac9249",
   "metadata": {},
   "outputs": [],
   "source": [
    "plt.scatter(embedding[:, 0], embedding[:, 1], c=df_merged_withrank['rank'])"
   ]
  },
  {
   "cell_type": "code",
   "execution_count": null,
   "id": "77c69c18",
   "metadata": {},
   "outputs": [],
   "source": [
    "wcss = []  # We created a list to hold WCSS values.\n",
    "for k in range(1, 15):  # We looped the numbers from 1 to 15.\n",
    "    kmeans = KMeans(n_clusters=k).fit(df_merged_mm)  # We ran the K-Means algorithm.\n",
    "    wcss.append(kmeans.inertia_)  # We added the WCSS values to the wcss list.\n",
    "\n",
    "plt.plot(range(1, 15), wcss, 'bx-')  # We plotted the WCSS values.\n",
    "plt.xlabel('k values')\n",
    "plt.ylabel('WCSS')  \n",
    "plt.title('The Elbow Method')  \n",
    "plt.show()"
   ]
  },
  {
   "cell_type": "code",
   "execution_count": null,
   "id": "3872fa87",
   "metadata": {
    "scrolled": true
   },
   "outputs": [],
   "source": [
    "from yellowbrick.cluster import KElbowVisualizer\n",
    "kmeans = KMeans()\n",
    "elbow = KElbowVisualizer(kmeans, k=(2, 20))\n",
    "elbow.fit(df_merged_mm)\n",
    "elbow.show(block=True)\n",
    "\n",
    "elbow.elbow_value_"
   ]
  },
  {
   "cell_type": "code",
   "execution_count": null,
   "id": "e79d8363",
   "metadata": {},
   "outputs": [],
   "source": [
    "from sklearn.cluster import KMeans\n",
    "\n",
    "k = 5 # クラスター数を指示\n",
    "\n",
    "kmeanModel = KMeans(n_clusters=k, random_state=42)\n",
    "kmeanModel.fit(df_merged_mm)\n",
    "clusters = kmeanModel.labels_\n",
    "\n",
    "# クラスターごとに何サンプルあるか\n",
    "for i in range(k):\n",
    "    num = list(clusters).count(i)\n",
    "    print(f'Cluster {i}: n = {num}')"
   ]
  },
  {
   "cell_type": "code",
   "execution_count": null,
   "id": "e7e9a573",
   "metadata": {},
   "outputs": [],
   "source": [
    "plt.scatter(df_merged_withrank['rank'], df_merged_withrank['popular'],\n",
    "            c=clusters, cmap='Accent', alpha=0.7) \n",
    "plt.title('title')\n",
    "plt.xlabel('rank')\n",
    "plt.ylabel('popular')\n",
    "plt.colorbar()\n",
    "plt.show()"
   ]
  },
  {
   "cell_type": "code",
   "execution_count": null,
   "id": "18d247fd",
   "metadata": {},
   "outputs": [],
   "source": [
    "plt.scatter(df_merged_withrank['horse_number'], df_merged_withrank['popular'],\n",
    "            c=clusters, cmap='Accent') \n",
    "plt.title('title')\n",
    "plt.xlabel('horse_number')\n",
    "plt.ylabel('popular')\n",
    "plt.colorbar()\n",
    "plt.show()"
   ]
  },
  {
   "cell_type": "code",
   "execution_count": null,
   "id": "6d047294",
   "metadata": {},
   "outputs": [],
   "source": [
    "df_merged_withrank['clusters'] = clusters\n",
    "sns.pairplot(data=df_merged_withrank[['rank',\n",
    "                                      'horse_number',\n",
    "                                      'age',\n",
    "                                      'popular_rate',\n",
    "                                      'horse_weight_dif',\n",
    "                                      'sex_mesu',\n",
    "                                      'clusters'\n",
    "                                     ]], \n",
    "             hue='clusters', \n",
    "             palette='Accent',\n",
    "             corner=True)"
   ]
  },
  {
   "cell_type": "code",
   "execution_count": null,
   "id": "fee83ef0",
   "metadata": {},
   "outputs": [],
   "source": [
    "df_merged_withrank['rank'].unique()"
   ]
  },
  {
   "cell_type": "code",
   "execution_count": null,
   "id": "ac538950",
   "metadata": {},
   "outputs": [],
   "source": [
    "df_merged_withrank['rank'] = df_merged_withrank['rank'].astype(int)"
   ]
  },
  {
   "cell_type": "code",
   "execution_count": null,
   "id": "767f0adb",
   "metadata": {},
   "outputs": [],
   "source": [
    "sns.displot(x='rank',\n",
    "                data=df_merged_withrank,\n",
    "                #bins=18,\n",
    "                kde=True,\n",
    "                hue='clusters',\n",
    "                palette='Accent',\n",
    "                )"
   ]
  },
  {
   "cell_type": "code",
   "execution_count": null,
   "id": "abb6131f",
   "metadata": {},
   "outputs": [],
   "source": [
    "g = sns.FacetGrid(df_merged_withrank, col='clusters', hue='clusters', palette='Accent')\n",
    "g.map(sns.histplot, 'rank', \n",
    "      #bins=10, \n",
    "      discrete= True,\n",
    "      kde=True)\n",
    "plt.show()"
   ]
  },
  {
   "cell_type": "code",
   "execution_count": null,
   "id": "dd177235",
   "metadata": {},
   "outputs": [],
   "source": [
    "g = sns.FacetGrid(df_merged_withrank, col='clusters', hue='clusters', palette='Accent')\n",
    "g.map(sns.countplot, 'rank', \n",
    "      #bins=18,\n",
    "     )\n",
    "plt.show()"
   ]
  },
  {
   "cell_type": "code",
   "execution_count": null,
   "id": "853bb602",
   "metadata": {},
   "outputs": [],
   "source": [
    "#スケーリング\n",
    "from sklearn.preprocessing import MinMaxScaler\n",
    "scaler = MinMaxScaler()\n",
    "column = df_latest_race[\"horse_id\"].values\n",
    "X = df_latest_race.drop('horse_id', axis=1).values\n",
    "scaler.fit(X) \n",
    "X_scaled = scaler.transform(X)\n",
    "# 凝集型階層クラスタリングの計算と結果\n",
    "from scipy.cluster.hierarchy import linkage, dendrogram\n",
    "import matplotlib.pyplot as plt\n",
    "\n",
    "result = linkage(X_scaled, method = \"ward\")\n",
    "dendrogram(result, labels = column)\n",
    "plt.show()"
   ]
  },
  {
   "cell_type": "code",
   "execution_count": null,
   "id": "5018add6",
   "metadata": {},
   "outputs": [],
   "source": [
    "df_merged_mm.info()"
   ]
  },
  {
   "cell_type": "code",
   "execution_count": null,
   "id": "1dfe2fca",
   "metadata": {},
   "outputs": [],
   "source": [
    "df_merged_mm.info()"
   ]
  },
  {
   "cell_type": "code",
   "execution_count": null,
   "id": "98e62c22",
   "metadata": {},
   "outputs": [],
   "source": [
    "from scipy.cluster.hierarchy import linkage, dendrogram\n",
    "import matplotlib.pyplot as plt\n",
    "\n",
    "result = linkage(df_merged_mm, method = \"ward\")\n",
    "dendrogram(result)\n",
    "plt.show()"
   ]
  },
  {
   "cell_type": "code",
   "execution_count": null,
   "id": "4c2d17f8",
   "metadata": {},
   "outputs": [],
   "source": [
    "from scipy.cluster.hierarchy import fcluster\n",
    "treecluster = fcluster(result, t = 7, criterion = \"distance\")\n",
    "treecluster"
   ]
  },
  {
   "cell_type": "code",
   "execution_count": null,
   "id": "55ca8402",
   "metadata": {},
   "outputs": [],
   "source": [
    "df_merged_withrank['treecluster'] = treecluster\n",
    "df_merged_withrank['treecluster'] = df_merged_withrank['treecluster'].astype(str)\n",
    "\n",
    "g = sns.FacetGrid(df_merged_withrank, col='treecluster', hue='treecluster', palette='Accent')\n",
    "g.map(sns.countplot, 'rank')\n",
    "plt.show()"
   ]
  },
  {
   "cell_type": "code",
   "execution_count": null,
   "id": "78f115da",
   "metadata": {},
   "outputs": [],
   "source": [
    "from sklearn.cluster import DBSCAN\n",
    "db=DBSCAN(eps=0.3,min_samples=5,metric='euclidean')\n",
    "model=db.fit(df_merged_mm)\n",
    "label=model.labels_\n",
    "\n",
    "plt.scatter(df_merged_withrank['rank'], df_merged_withrank['popular'],\n",
    "            c=label, cmap='Accent', alpha=1) \n",
    "plt.title('title')\n",
    "plt.xlabel('rank')\n",
    "plt.ylabel('popular')\n",
    "plt.colorbar()\n",
    "plt.show()"
   ]
  },
  {
   "cell_type": "code",
   "execution_count": null,
   "id": "17e8d5b9",
   "metadata": {},
   "outputs": [],
   "source": [
    "from sklearn.cluster import DBSCAN\n",
    "db=DBSCAN(eps=0.2,min_samples=4,metric='euclidean')\n",
    "model=db.fit(df_merged_mm)\n",
    "label=model.labels_\n",
    "\n",
    "plt.scatter(df_merged_withrank['horse_number'], df_merged_withrank['popular'],\n",
    "            c=label, cmap='Accent') \n",
    "plt.title('title')\n",
    "plt.xlabel('horse_number')\n",
    "plt.ylabel('popular')\n",
    "plt.colorbar()\n",
    "plt.show()"
   ]
  },
  {
   "cell_type": "code",
   "execution_count": null,
   "id": "71e7f162",
   "metadata": {},
   "outputs": [],
   "source": [
    "from sklearn.cluster import DBSCAN\n",
    "db=DBSCAN(eps=0.3,min_samples=5)\n",
    "model=db.fit(df_merged_mm)\n",
    "label=model.labels_\n",
    "\n",
    "df_merged_withrank['label'] = label\n",
    "df_merged_withrank['label'] = df_merged_withrank['label'].astype(str)\n",
    "\n",
    "g = sns.FacetGrid(df_merged_withrank, col='label', hue='label', palette='Accent')\n",
    "g.map(sns.countplot, 'rank')\n",
    "plt.show()"
   ]
  },
  {
   "cell_type": "code",
   "execution_count": null,
   "id": "86f11c9b",
   "metadata": {},
   "outputs": [],
   "source": [
    "plt.scatter(df_merged_withrank['rank'], df_merged_withrank['popular'],\n",
    "            c=label, cmap='Accent', alpha=1) \n",
    "plt.title('title')\n",
    "plt.xlabel('rank')\n",
    "plt.ylabel('popular')\n",
    "plt.colorbar()\n",
    "plt.show()"
   ]
  },
  {
   "cell_type": "code",
   "execution_count": null,
   "id": "10a3f1a0",
   "metadata": {},
   "outputs": [],
   "source": []
  }
 ],
 "metadata": {
  "kernelspec": {
   "display_name": "Python 3 (ipykernel)",
   "language": "python",
   "name": "python3"
  },
  "language_info": {
   "codemirror_mode": {
    "name": "ipython",
    "version": 3
   },
   "file_extension": ".py",
   "mimetype": "text/x-python",
   "name": "python",
   "nbconvert_exporter": "python",
   "pygments_lexer": "ipython3",
   "version": "3.8.0"
  }
 },
 "nbformat": 4,
 "nbformat_minor": 5
}
