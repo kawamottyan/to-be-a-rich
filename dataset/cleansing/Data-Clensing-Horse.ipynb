{
 "cells": [
  {
   "cell_type": "code",
   "execution_count": 2,
   "id": "d82c73b1",
   "metadata": {},
   "outputs": [],
   "source": [
    "#インポート文\n",
    "import numpy as np\n",
    "import pandas as pd\n",
    "import os\n",
    "import warnings\n",
    "from google.cloud import storage"
   ]
  },
  {
   "cell_type": "code",
   "execution_count": 3,
   "id": "def73853",
   "metadata": {},
   "outputs": [],
   "source": [
    "dir = 'takamatsu/horsepage'\n",
    "# race_df = pd.read_csv(\"../data/csv/\"+dir+\"/\"+\"race\"+\".csv\", sep=\",\")\n",
    "# horse_df = pd.read_csv(\"../data/csv/\"+dir+\"/\"+\"horse\"+\".csv\", sep=\",\")"
   ]
  },
  {
   "cell_type": "code",
   "execution_count": 4,
   "id": "49bb3f2f",
   "metadata": {},
   "outputs": [],
   "source": [
    "key_name =\"../key/storage_key.json\"\n",
    "bucket_name = \"keiba_csv_upload_bucket\"\n",
    "horse_info_file_upload = 'horse_info_takamatsu.csv'\n",
    "horse_info_file_name = '../data/main/horse_info.csv'"
   ]
  },
  {
   "cell_type": "code",
   "execution_count": 5,
   "id": "8aec077c",
   "metadata": {},
   "outputs": [],
   "source": [
    "key_name =\"../key/storage_key.json\"\n",
    "bucket_name = \"keiba_csv_upload_bucket\"\n",
    "horse_race_file_upload = 'horse_race_takamatsu.csv'\n",
    "horse_race_file_name = '../data/main/horse_race.csv'"
   ]
  },
  {
   "cell_type": "code",
   "execution_count": 6,
   "id": "8cacf8cd",
   "metadata": {},
   "outputs": [],
   "source": [
    "#ファイルマージ用\n",
    "horse_info_df = pd.DataFrame()\n",
    "horse_race_df = pd.DataFrame()\n",
    "#csvファイルのマージ\n",
    "for year in range(2006, 2024):\n",
    "    horse_info_tmp_df = pd.read_csv(\"../data/csv/\"+dir+\"/\"+str(year)+\"/\"+\"horse-info\"+\".csv\", sep=\",\")\n",
    "    horse_race_tmp_df = pd.read_csv(\"../data/csv/\"+dir+\"/\"+str(year)+\"/\"+\"horse-race\"+\".csv\", sep=\",\")\n",
    "    horse_info_df = pd.concat([horse_info_df, horse_info_tmp_df], axis=0)\n",
    "    horse_race_df = pd.concat([horse_race_df, horse_race_tmp_df], axis=0)"
   ]
  },
  {
   "cell_type": "markdown",
   "id": "eb6db17f",
   "metadata": {},
   "source": [
    "# horse_info_df"
   ]
  },
  {
   "cell_type": "code",
   "execution_count": 6,
   "id": "4917d7f5",
   "metadata": {},
   "outputs": [
    {
     "data": {
      "text/html": [
       "<div>\n",
       "<style scoped>\n",
       "    .dataframe tbody tr th:only-of-type {\n",
       "        vertical-align: middle;\n",
       "    }\n",
       "\n",
       "    .dataframe tbody tr th {\n",
       "        vertical-align: top;\n",
       "    }\n",
       "\n",
       "    .dataframe thead th {\n",
       "        text-align: right;\n",
       "    }\n",
       "</style>\n",
       "<table border=\"1\" class=\"dataframe\">\n",
       "  <thead>\n",
       "    <tr style=\"text-align: right;\">\n",
       "      <th></th>\n",
       "      <th>horse_id</th>\n",
       "      <th>bday</th>\n",
       "      <th>tame_id</th>\n",
       "      <th>owner_id</th>\n",
       "      <th>producer_id</th>\n",
       "      <th>production area</th>\n",
       "      <th>auction price</th>\n",
       "      <th>winnings</th>\n",
       "      <th>lifetime record</th>\n",
       "      <th>wined race title</th>\n",
       "      <th>inbreeding-1</th>\n",
       "      <th>inbreeding-2</th>\n",
       "      <th>father</th>\n",
       "      <th>faths father</th>\n",
       "      <th>faths mother</th>\n",
       "      <th>mother</th>\n",
       "      <th>moths father</th>\n",
       "      <th>moths mother</th>\n",
       "    </tr>\n",
       "  </thead>\n",
       "  <tbody>\n",
       "    <tr>\n",
       "      <th>0</th>\n",
       "      <td>1998107227</td>\n",
       "      <td>1998年4月3日</td>\n",
       "      <td>05489</td>\n",
       "      <td>083030</td>\n",
       "      <td>700317</td>\n",
       "      <td>新冠</td>\n",
       "      <td>1,302万円 (1999年 北海道7月セレクト市場)\\n</td>\n",
       "      <td>\\n\\n\\n\\n2億9,890万円 (中央) /2,040万円 (地方)\\n</td>\n",
       "      <td>52戦7勝 [7-6-5-34]</td>\n",
       "      <td>200606020311</td>\n",
       "      <td>1990103624</td>\n",
       "      <td>1989102140.0</td>\n",
       "      <td>1988109108</td>\n",
       "      <td>000a001bda</td>\n",
       "      <td>000a009781</td>\n",
       "      <td>1981106025</td>\n",
       "      <td>000a000258</td>\n",
       "      <td>000a00075e</td>\n",
       "    </tr>\n",
       "  </tbody>\n",
       "</table>\n",
       "</div>"
      ],
      "text/plain": [
       "     horse_id       bday tame_id owner_id producer_id production area  \\\n",
       "0  1998107227  1998年4月3日   05489   083030      700317              新冠   \n",
       "\n",
       "                   auction price                                winnings  \\\n",
       "0  1,302万円 (1999年 北海道7月セレクト市場)\\n  \\n\\n\\n\\n2億9,890万円 (中央) /2,040万円 (地方)\\n   \n",
       "\n",
       "    lifetime record wined race title inbreeding-1  inbreeding-2      father  \\\n",
       "0  52戦7勝 [7-6-5-34]     200606020311   1990103624  1989102140.0  1988109108   \n",
       "\n",
       "  faths father faths mother      mother moths father moths mother  \n",
       "0   000a001bda   000a009781  1981106025   000a000258   000a00075e  "
      ]
     },
     "execution_count": 6,
     "metadata": {},
     "output_type": "execute_result"
    }
   ],
   "source": [
    "horse_info_df.head(1)"
   ]
  },
  {
   "cell_type": "markdown",
   "id": "2db540ae",
   "metadata": {},
   "source": [
    "##### production area"
   ]
  },
  {
   "cell_type": "code",
   "execution_count": 27,
   "id": "15f03798",
   "metadata": {},
   "outputs": [],
   "source": [
    "horse_info_df['production area'] = horse_info_df['production area'].apply(lambda x: x.replace('\\n', ''))"
   ]
  },
  {
   "cell_type": "markdown",
   "id": "26582da5",
   "metadata": {},
   "source": [
    "##### auction price"
   ]
  },
  {
   "cell_type": "code",
   "execution_count": 17,
   "id": "e8396cdf",
   "metadata": {},
   "outputs": [],
   "source": [
    "horse_info_df['auction price'] = horse_info_df['auction price'].apply(lambda x: x.replace('\\n', ''))"
   ]
  },
  {
   "cell_type": "markdown",
   "id": "8612ca46",
   "metadata": {},
   "source": [
    "##### winnings"
   ]
  },
  {
   "cell_type": "code",
   "execution_count": 19,
   "id": "1dd5a81a",
   "metadata": {},
   "outputs": [],
   "source": [
    "horse_info_df['winnings'] = horse_info_df['winnings'].apply(lambda x: x.replace('\\n', ''))"
   ]
  },
  {
   "cell_type": "markdown",
   "id": "26606781",
   "metadata": {},
   "source": [
    "##### lifetime record"
   ]
  },
  {
   "cell_type": "code",
   "execution_count": 28,
   "id": "19bacff5",
   "metadata": {},
   "outputs": [],
   "source": [
    "horse_info_df['lifetime record'] = horse_info_df['lifetime record'].apply(lambda x: x.replace('\\n', ''))"
   ]
  },
  {
   "cell_type": "code",
   "execution_count": 30,
   "id": "1b3f661e",
   "metadata": {},
   "outputs": [],
   "source": [
    "if not os.path.exists('../data/main'):\n",
    "    os.makedirs('../data/main')"
   ]
  },
  {
   "cell_type": "code",
   "execution_count": 31,
   "id": "ecf9aa9f",
   "metadata": {},
   "outputs": [],
   "source": [
    "horse_info_df.to_csv(\"../data/main/horse_info.csv\",\n",
    "               index=False\n",
    "              )"
   ]
  },
  {
   "cell_type": "code",
   "execution_count": 32,
   "id": "be4368b0",
   "metadata": {},
   "outputs": [],
   "source": [
    "# 保管したサービスアカウントキーを指定します\n",
    "client = storage.Client.from_service_account_json(key_name)"
   ]
  },
  {
   "cell_type": "code",
   "execution_count": 33,
   "id": "0fca95fd",
   "metadata": {},
   "outputs": [],
   "source": [
    "# 保管したサービスアカウントキーを指定します\n",
    "client = storage.Client.from_service_account_json(key_name)\n",
    "bucket = client.get_bucket(bucket_name)\n",
    "blob = bucket.blob(horse_info_file_upload)\n",
    "blob.upload_from_filename(horse_info_file_name)"
   ]
  },
  {
   "cell_type": "markdown",
   "id": "cbf785e6",
   "metadata": {},
   "source": [
    "# horse_race_df"
   ]
  },
  {
   "cell_type": "code",
   "execution_count": 11,
   "id": "c8b83f08",
   "metadata": {},
   "outputs": [
    {
     "data": {
      "text/html": [
       "<div>\n",
       "<style scoped>\n",
       "    .dataframe tbody tr th:only-of-type {\n",
       "        vertical-align: middle;\n",
       "    }\n",
       "\n",
       "    .dataframe tbody tr th {\n",
       "        vertical-align: top;\n",
       "    }\n",
       "\n",
       "    .dataframe thead th {\n",
       "        text-align: right;\n",
       "    }\n",
       "</style>\n",
       "<table border=\"1\" class=\"dataframe\">\n",
       "  <thead>\n",
       "    <tr style=\"text-align: right;\">\n",
       "      <th></th>\n",
       "      <th>date</th>\n",
       "      <th>whereracecourse</th>\n",
       "      <th>weather</th>\n",
       "      <th>race_round</th>\n",
       "      <th>race_title</th>\n",
       "      <th>race_id</th>\n",
       "      <th>total_horse_number</th>\n",
       "      <th>frame_number</th>\n",
       "      <th>horse_number</th>\n",
       "      <th>odds</th>\n",
       "      <th>...</th>\n",
       "      <th>goal_time_dif</th>\n",
       "      <th>half_way_rank</th>\n",
       "      <th>pace</th>\n",
       "      <th>last_time</th>\n",
       "      <th>horse_weight</th>\n",
       "      <th>runner-up-horse-id</th>\n",
       "      <th>prize</th>\n",
       "      <th>horse_id</th>\n",
       "      <th>race_type</th>\n",
       "      <th>surface</th>\n",
       "    </tr>\n",
       "  </thead>\n",
       "  <tbody>\n",
       "    <tr>\n",
       "      <th>0</th>\n",
       "      <td>2006-03-04</td>\n",
       "      <td>2中山3</td>\n",
       "      <td>晴</td>\n",
       "      <td>11</td>\n",
       "      <td>夕刊フジオーシャンS(G3)</td>\n",
       "      <td>200606020311</td>\n",
       "      <td>16</td>\n",
       "      <td>3</td>\n",
       "      <td>5</td>\n",
       "      <td>139.5</td>\n",
       "      <td>...</td>\n",
       "      <td>-0.2</td>\n",
       "      <td>12-11</td>\n",
       "      <td>33.3-35.3</td>\n",
       "      <td>34.6</td>\n",
       "      <td>494(-2)</td>\n",
       "      <td>2.002107e+09</td>\n",
       "      <td>4,157.4</td>\n",
       "      <td>1998107227</td>\n",
       "      <td>G3</td>\n",
       "      <td>芝</td>\n",
       "    </tr>\n",
       "  </tbody>\n",
       "</table>\n",
       "<p>1 rows × 27 columns</p>\n",
       "</div>"
      ],
      "text/plain": [
       "         date whereracecourse weather race_round      race_title  \\\n",
       "0  2006-03-04            2中山3       晴         11  夕刊フジオーシャンS(G3)   \n",
       "\n",
       "        race_id  total_horse_number frame_number  horse_number   odds  ...  \\\n",
       "0  200606020311                  16            3             5  139.5  ...   \n",
       "\n",
       "   goal_time_dif  half_way_rank       pace  last_time  horse_weight  \\\n",
       "0           -0.2          12-11  33.3-35.3       34.6       494(-2)   \n",
       "\n",
       "  runner-up-horse-id    prize    horse_id race_type surface  \n",
       "0       2.002107e+09  4,157.4  1998107227        G3       芝  \n",
       "\n",
       "[1 rows x 27 columns]"
      ]
     },
     "execution_count": 11,
     "metadata": {},
     "output_type": "execute_result"
    }
   ],
   "source": [
    "horse_race_df.head(1)"
   ]
  },
  {
   "cell_type": "markdown",
   "id": "cf94abba",
   "metadata": {},
   "source": [
    "##### burden_weight"
   ]
  },
  {
   "cell_type": "code",
   "execution_count": 7,
   "id": "0634f742",
   "metadata": {},
   "outputs": [],
   "source": [
    "horse_race_df['burden_weight'] = horse_race_df['horse_wight']"
   ]
  },
  {
   "cell_type": "markdown",
   "id": "3f6d69c6",
   "metadata": {},
   "source": [
    "##### horse_weight"
   ]
  },
  {
   "cell_type": "code",
   "execution_count": 11,
   "id": "9d1c683b",
   "metadata": {},
   "outputs": [],
   "source": [
    "horse_weight_dif = horse_race_df[\"horse_weight\"].str.extract('\\(([-|+]?\\d*)\\)', expand=True)\n",
    "horse_weight_dif.columns ={\"horse_weight_dif\"}\n",
    "\n",
    "horse_race_df = pd.concat([horse_race_df, horse_weight_dif], axis=1)\n",
    "\n",
    "horse_race_df['horse_weight'] = horse_race_df['horse_weight'].replace('\\(([-|+]?\\d*)\\)', '', regex=True)"
   ]
  },
  {
   "cell_type": "code",
   "execution_count": 12,
   "id": "1ad20efa",
   "metadata": {},
   "outputs": [],
   "source": [
    "horse_race_df['horse_weight'] = horse_race_df['horse_weight'].replace('計不', np.nan)\n",
    "horse_race_df['horse_weight'] = horse_race_df['horse_weight'].astype(float)\n",
    "horse_race_df['horse_weight_dif'] = horse_race_df['horse_weight_dif'].astype(float)"
   ]
  },
  {
   "cell_type": "code",
   "execution_count": 13,
   "id": "d077a5ed",
   "metadata": {},
   "outputs": [],
   "source": [
    "# 計不 の horse_idを探し、馬ごとの平均値で穴埋め\n",
    "no_records = horse_race_df[horse_race_df['horse_weight'].isnull()]['horse_id']\n",
    "for no_record_id in no_records:\n",
    "    horse_race_df.loc[(horse_race_df['horse_id'] == no_record_id)&(horse_race_df['horse_weight'].isnull()), 'horse_weight'] = horse_race_df[horse_race_df['horse_id'] == no_record_id]['horse_weight'].mean() \n",
    "    horse_race_df.loc[(horse_race_df['horse_id'] == no_record_id)&(horse_race_df['horse_weight_dif'].isnull()), 'horse_weight_dif'] = 0 "
   ]
  },
  {
   "cell_type": "code",
   "execution_count": 14,
   "id": "69ba2915",
   "metadata": {
    "scrolled": true
   },
   "outputs": [],
   "source": [
    "horse_race_df.to_csv(\"../data/main/horse_race.csv\", \n",
    "                index=False\n",
    "               )"
   ]
  },
  {
   "cell_type": "code",
   "execution_count": 15,
   "id": "9e2917c8",
   "metadata": {},
   "outputs": [],
   "source": [
    "# 保管したサービスアカウントキーを指定します\n",
    "client = storage.Client.from_service_account_json(key_name)"
   ]
  },
  {
   "cell_type": "code",
   "execution_count": 16,
   "id": "7f4c8879",
   "metadata": {},
   "outputs": [],
   "source": [
    "# 保管したサービスアカウントキーを指定します\n",
    "client = storage.Client.from_service_account_json(key_name)\n",
    "bucket = client.get_bucket(bucket_name)\n",
    "blob = bucket.blob(horse_race_file_upload)\n",
    "blob.upload_from_filename(horse_race_file_name)"
   ]
  },
  {
   "cell_type": "code",
   "execution_count": 17,
   "id": "cffbfcdf",
   "metadata": {},
   "outputs": [
    {
     "name": "stdout",
     "output_type": "stream",
     "text": [
      "<class 'pandas.core.frame.DataFrame'>\n",
      "Int64Index: 7374 entries, 0 to 343\n",
      "Data columns (total 29 columns):\n",
      " #   Column              Non-Null Count  Dtype  \n",
      "---  ------              --------------  -----  \n",
      " 0   date                7374 non-null   object \n",
      " 1   whereracecourse     7374 non-null   object \n",
      " 2   weather             7374 non-null   object \n",
      " 3   race_round          7374 non-null   object \n",
      " 4   race_title          7374 non-null   object \n",
      " 5   race_id             7374 non-null   object \n",
      " 6   total_horse_number  7374 non-null   int64  \n",
      " 7   frame_number        7374 non-null   object \n",
      " 8   horse_number        7374 non-null   int64  \n",
      " 9   odds                7374 non-null   float64\n",
      " 10  popular             7374 non-null   int64  \n",
      " 11  rank                7374 non-null   int64  \n",
      " 12  rider_id            7374 non-null   int64  \n",
      " 13  horse_wight         7374 non-null   float64\n",
      " 14  distance            7374 non-null   int64  \n",
      " 15  groud_status        7374 non-null   object \n",
      " 16  goal_time           7374 non-null   float64\n",
      " 17  goal_time_dif       7367 non-null   float64\n",
      " 18  half_way_rank       7374 non-null   object \n",
      " 19  pace                7374 non-null   object \n",
      " 20  last_time           7374 non-null   object \n",
      " 21  horse_weight        7374 non-null   float64\n",
      " 22  runner-up-horse-id  7367 non-null   float64\n",
      " 23  prize               7374 non-null   object \n",
      " 24  horse_id            7374 non-null   int64  \n",
      " 25  race_type           6047 non-null   object \n",
      " 26  surface             7374 non-null   object \n",
      " 27  burden_weight       7374 non-null   float64\n",
      " 28  horse_weight_dif    7373 non-null   float64\n",
      "dtypes: float64(8), int64(7), object(14)\n",
      "memory usage: 1.7+ MB\n"
     ]
    }
   ],
   "source": [
    "horse_race_df.info()"
   ]
  },
  {
   "cell_type": "code",
   "execution_count": 16,
   "id": "2d8bb13a",
   "metadata": {},
   "outputs": [
    {
     "name": "stdout",
     "output_type": "stream",
     "text": [
      "<class 'pandas.core.frame.DataFrame'>\n",
      "Int64Index: 321 entries, 0 to 17\n",
      "Data columns (total 18 columns):\n",
      " #   Column            Non-Null Count  Dtype \n",
      "---  ------            --------------  ----- \n",
      " 0   horse_id          321 non-null    int64 \n",
      " 1   bday              321 non-null    object\n",
      " 2   tame_id           321 non-null    object\n",
      " 3   owner_id          321 non-null    object\n",
      " 4   producer_id       319 non-null    object\n",
      " 5   production area   321 non-null    object\n",
      " 6   auction price     321 non-null    object\n",
      " 7   winnings          321 non-null    object\n",
      " 8   lifetime record   321 non-null    object\n",
      " 9   wined race title  321 non-null    object\n",
      " 10  inbreeding-1      314 non-null    object\n",
      " 11  inbreeding-2      244 non-null    object\n",
      " 12  father            321 non-null    object\n",
      " 13  faths father      321 non-null    object\n",
      " 14  faths mother      321 non-null    object\n",
      " 15  mother            321 non-null    object\n",
      " 16  moths father      321 non-null    object\n",
      " 17  moths mother      321 non-null    object\n",
      "dtypes: int64(1), object(17)\n",
      "memory usage: 47.6+ KB\n"
     ]
    }
   ],
   "source": [
    "horse_info_df.info()"
   ]
  }
 ],
 "metadata": {
  "kernelspec": {
   "display_name": "Python 3 (ipykernel)",
   "language": "python",
   "name": "python3"
  },
  "language_info": {
   "codemirror_mode": {
    "name": "ipython",
    "version": 3
   },
   "file_extension": ".py",
   "mimetype": "text/x-python",
   "name": "python",
   "nbconvert_exporter": "python",
   "pygments_lexer": "ipython3",
   "version": "3.8.16"
  }
 },
 "nbformat": 4,
 "nbformat_minor": 5
}
