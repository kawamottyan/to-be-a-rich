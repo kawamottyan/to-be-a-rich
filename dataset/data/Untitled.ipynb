{
 "cells": [
  {
   "cell_type": "code",
   "execution_count": 1,
   "id": "3e816b5e",
   "metadata": {},
   "outputs": [],
   "source": [
    "import set_url\n",
    "import open_chrome\n",
    "import columns\n",
    "\n",
    "import pandas as pd\n",
    "\n",
    "from selenium import webdriver\n",
    "from selenium.webdriver.support.ui import Select,WebDriverWait\n",
    "from selenium.webdriver.support import expected_conditions as EC\n",
    "from selenium.webdriver.common.by import By\n",
    "from webdriver_manager.chrome import ChromeDriverManager\n",
    "\n",
    "from bs4 import BeautifulSoup\n",
    "\n",
    "import os\n",
    "import time\n",
    "import requests"
   ]
  },
  {
   "cell_type": "code",
   "execution_count": 2,
   "id": "681c23ef",
   "metadata": {},
   "outputs": [],
   "source": [
    "dir = 'takamatsu/racepage/target/'"
   ]
  },
  {
   "cell_type": "code",
   "execution_count": 3,
   "id": "883705de",
   "metadata": {},
   "outputs": [],
   "source": [
    "URL = \"https://race.netkeiba.com/race/shutuba.html?race_id=202307020611&rf=race_list\"#race_listのページを指定"
   ]
  },
  {
   "cell_type": "code",
   "execution_count": 4,
   "id": "c3322f15",
   "metadata": {},
   "outputs": [
    {
     "name": "stderr",
     "output_type": "stream",
     "text": [
      "C:\\Users\\kawam\\AppData\\Local\\Temp\\ipykernel_30208\\3173249733.py:1: DeprecationWarning: executable_path has been deprecated, please pass in a Service object\n",
      "  driver = webdriver.Chrome(ChromeDriverManager().install())\n"
     ]
    },
    {
     "data": {
      "text/plain": [
       "<function selenium.webdriver.support.expected_conditions.presence_of_all_elements_located.<locals>._predicate(driver)>"
      ]
     },
     "execution_count": 4,
     "metadata": {},
     "output_type": "execute_result"
    }
   ],
   "source": [
    "driver = webdriver.Chrome(ChromeDriverManager().install())\n",
    "wait = WebDriverWait(driver, 3)\n",
    "driver.get(URL)\n",
    "time.sleep(1)\n",
    "wait.until(EC.presence_of_all_elements_located)"
   ]
  },
  {
   "cell_type": "code",
   "execution_count": 5,
   "id": "8483473f",
   "metadata": {},
   "outputs": [],
   "source": [
    "HTML_DIR = \"html/\"+dir\n",
    "if not os.path.isdir(HTML_DIR):\n",
    "    os.makedirs(HTML_DIR)\n",
    "\n",
    "url = driver.current_url\n",
    "\n",
    "save_file_path = HTML_DIR+\"/\"+'target.html'\n",
    "response = requests.get(url)\n",
    "response.encoding = response.apparent_encoding\n",
    "html = response.text\n",
    "time.sleep(5)\n",
    "with open(save_file_path, 'w') as file:\n",
    "    file.write(html)"
   ]
  },
  {
   "cell_type": "code",
   "execution_count": 6,
   "id": "9c2516a9",
   "metadata": {},
   "outputs": [],
   "source": [
    "race_list = []\n",
    "horse_list = []\n",
    "soup = BeautifulSoup(html, 'html.parser')\n",
    "\n",
    "# race基本情報\n",
    "race_list.append(soup.find(\"span\", class_=\"RaceNum\").get_text())\n",
    "race_list.append(soup.find(\"div\", class_=\"RaceName\").get_text())\n",
    "RaceData01 = soup.find(\"div\", class_=\"RaceData01\").get_text()\n",
    "race_list.append(RaceData01.split(\"/\")[0])\n",
    "race_list.append(RaceData01.split(\"/\")[1])\n",
    "try:\n",
    "    race_list.append(RaceData01.split(\"/\")[2])\n",
    "except AttributeError:\n",
    "    race_list.append(None)\n",
    "try:\n",
    "    race_list.append(RaceData01.split(\"/\")[3])\n",
    "except AttributeError:\n",
    "    race_list.append(None)\n",
    "    \n",
    "RaceData02 = soup.find(\"div\", class_=\"RaceData02\").get_text() \n",
    "#RaceData02.split(\"\\n\")[0]#->''\n",
    "#horse_list.append(RaceData02.split(\"\\n\")[1])#->'2回'\n",
    "race_list.append(RaceData02.split(\"\\n\")[2])#->'中京'\n",
    "#horse_list.append(RaceData02.split(\"\\n\")[3])#->'6日目'\n",
    "#horse_list.append(RaceData02.split(\"\\n\")[4])#->'サラ系４歳以上'\n",
    "#horse_list.append(RaceData02.split(\"\\n\")[5])#->'オープン'\n",
    "#RaceData02.split(\"\\n\")[6]#->'\\xa0\\xa0\\xa0\\xa0\\xa0'\n",
    "#horse_list.append(RaceData02.split(\"\\n\")[7])#->'(国際)(指)'\n",
    "#horse_list.append(RaceData02.split(\"\\n\")[8])#->'定量'\n",
    "race_list.append(RaceData02.split(\"\\n\")[9])#->'18頭'\n",
    "#RaceData02.split(\"\\n\")[10]#->''\n",
    "#horse_list.append(RaceData02.split(\"\\n\")[11])#->'本賞金:17000,6800,4300,2600,1700万円'\n",
    "#RaceData02.split(\"\\n\")[12]#->''"
   ]
  },
  {
   "cell_type": "code",
   "execution_count": 7,
   "id": "137f2505",
   "metadata": {},
   "outputs": [
    {
     "data": {
      "text/plain": [
       "['\\n\\n11R\\n',\n",
       " '高松宮記念\\n\\n\\n\\n',\n",
       " '\\n15:40発走 ',\n",
       " ' 芝1200m (左)\\n',\n",
       " ' 天候:小雨\\n',\n",
       " ' 馬場:不\\n',\n",
       " '中京',\n",
       " '18頭']"
      ]
     },
     "execution_count": 7,
     "metadata": {},
     "output_type": "execute_result"
    }
   ],
   "source": [
    "race_list"
   ]
  },
  {
   "cell_type": "code",
   "execution_count": null,
   "id": "db4e6950",
   "metadata": {},
   "outputs": [],
   "source": []
  },
  {
   "cell_type": "code",
   "execution_count": 8,
   "id": "d1122376",
   "metadata": {},
   "outputs": [],
   "source": [
    "horse_list_list=[]\n",
    "\n",
    "#tableの情報を取得\n",
    "horse_tables = soup.findAll(\"table\", class_=\"RaceTable01\")\n",
    "horse_table = horse_tables[0].findAll('tr', class_=\"HorseList\")\n",
    "#tableの情報から各情報を抜き出す\n",
    "for i in range(len(horse_table)):\n",
    "    horse_list=[]\n",
    "    result_row = horse_table[i].findAll(\"td\")\n",
    "    horse_list.append(result_row[0].get_text())#枠\n",
    "    horse_list.append(result_row[1].get_text())#番号\n",
    "    horse_list.append(result_row[3].find('a').get('href').split(\"/\")[-1])#馬名\n",
    "    horse_list.append(result_row[4].get_text())#性別年齢\n",
    "    horse_list.append(result_row[5].get_text())#斤量\n",
    "    horse_list.append(result_row[6].find('a').get('href').split(\"/\")[-2])#騎手\n",
    "    horse_list.append(result_row[7].find('a').get('href').split(\"/\")[-2])#厩舎\n",
    "    horse_list.append(result_row[8].get_text())#馬体重\n",
    "    horse_list.append(result_row[9].get_text())#オッズ\n",
    "    horse_list.append(result_row[10].get_text())#人気\n",
    "    horse_list.append(result_row[3].get_text())#馬の名前\n",
    "    horse_list_list.append(horse_list)"
   ]
  },
  {
   "cell_type": "code",
   "execution_count": 9,
   "id": "39a09cb6",
   "metadata": {},
   "outputs": [
    {
     "data": {
      "text/plain": [
       "['1',\n",
       " '1',\n",
       " '2015104364',\n",
       " '牡8',\n",
       " '58.0',\n",
       " '01091',\n",
       " '01135',\n",
       " '\\n484(-12)\\n',\n",
       " '---.-',\n",
       " '\\n**\\n',\n",
       " '\\n\\n\\nトゥラヴェスーラ\\n\\n\\n']"
      ]
     },
     "execution_count": 9,
     "metadata": {},
     "output_type": "execute_result"
    }
   ],
   "source": [
    "horse_list_list[0]"
   ]
  },
  {
   "cell_type": "code",
   "execution_count": 10,
   "id": "7b151b3d",
   "metadata": {},
   "outputs": [],
   "source": [
    "columns=[\n",
    "        'race_id',\n",
    "        'frame_number',\n",
    "        'horse_number',\n",
    "        'horse_id',\n",
    "        'sex_and_age',\n",
    "        'burden_weight',\n",
    "        'rider_id',\n",
    "        'tamer_id',\n",
    "        'time_value',\n",
    "        'tame_time',\n",
    "        'owner_id'\n",
    "        'horse_weight',\n",
    "        'odds',\n",
    "        'popular',\n",
    "        'horse_name',\n",
    "        ]"
   ]
  },
  {
   "cell_type": "code",
   "execution_count": 11,
   "id": "4361e74b",
   "metadata": {
    "collapsed": true
   },
   "outputs": [
    {
     "ename": "ValueError",
     "evalue": "Length of values (11) does not match length of index (14)",
     "output_type": "error",
     "traceback": [
      "\u001b[1;31m---------------------------------------------------------------------------\u001b[0m",
      "\u001b[1;31mValueError\u001b[0m                                Traceback (most recent call last)",
      "Cell \u001b[1;32mIn[11], line 3\u001b[0m\n\u001b[0;32m      1\u001b[0m horse_df \u001b[38;5;241m=\u001b[39m pd\u001b[38;5;241m.\u001b[39mDataFrame(columns\u001b[38;5;241m=\u001b[39mcolumns)\n\u001b[0;32m      2\u001b[0m \u001b[38;5;28;01mfor\u001b[39;00m horse_list \u001b[38;5;129;01min\u001b[39;00m horse_list_list:\n\u001b[1;32m----> 3\u001b[0m     horse_se \u001b[38;5;241m=\u001b[39m \u001b[43mpd\u001b[49m\u001b[38;5;241;43m.\u001b[39;49m\u001b[43mSeries\u001b[49m\u001b[43m(\u001b[49m\u001b[43m \u001b[49m\u001b[43mhorse_list\u001b[49m\u001b[43m,\u001b[49m\u001b[43m \u001b[49m\u001b[43mindex\u001b[49m\u001b[38;5;241;43m=\u001b[39;49m\u001b[43mhorse_df\u001b[49m\u001b[38;5;241;43m.\u001b[39;49m\u001b[43mcolumns\u001b[49m\u001b[43m)\u001b[49m\n\u001b[0;32m      4\u001b[0m     horse_df \u001b[38;5;241m=\u001b[39m pd\u001b[38;5;241m.\u001b[39mconcat([horse_df, horse_se\u001b[38;5;241m.\u001b[39mto_frame()\u001b[38;5;241m.\u001b[39mT], ignore_index\u001b[38;5;241m=\u001b[39m\u001b[38;5;28;01mTrue\u001b[39;00m)\n",
      "File \u001b[1;32m~\\miniforge3\\envs\\keiba-django\\lib\\site-packages\\pandas\\core\\series.py:461\u001b[0m, in \u001b[0;36mSeries.__init__\u001b[1;34m(self, data, index, dtype, name, copy, fastpath)\u001b[0m\n\u001b[0;32m    459\u001b[0m     index \u001b[38;5;241m=\u001b[39m default_index(\u001b[38;5;28mlen\u001b[39m(data))\n\u001b[0;32m    460\u001b[0m \u001b[38;5;28;01melif\u001b[39;00m is_list_like(data):\n\u001b[1;32m--> 461\u001b[0m     \u001b[43mcom\u001b[49m\u001b[38;5;241;43m.\u001b[39;49m\u001b[43mrequire_length_match\u001b[49m\u001b[43m(\u001b[49m\u001b[43mdata\u001b[49m\u001b[43m,\u001b[49m\u001b[43m \u001b[49m\u001b[43mindex\u001b[49m\u001b[43m)\u001b[49m\n\u001b[0;32m    463\u001b[0m \u001b[38;5;66;03m# create/copy the manager\u001b[39;00m\n\u001b[0;32m    464\u001b[0m \u001b[38;5;28;01mif\u001b[39;00m \u001b[38;5;28misinstance\u001b[39m(data, (SingleBlockManager, SingleArrayManager)):\n",
      "File \u001b[1;32m~\\miniforge3\\envs\\keiba-django\\lib\\site-packages\\pandas\\core\\common.py:571\u001b[0m, in \u001b[0;36mrequire_length_match\u001b[1;34m(data, index)\u001b[0m\n\u001b[0;32m    567\u001b[0m \u001b[38;5;250m\u001b[39m\u001b[38;5;124;03m\"\"\"\u001b[39;00m\n\u001b[0;32m    568\u001b[0m \u001b[38;5;124;03mCheck the length of data matches the length of the index.\u001b[39;00m\n\u001b[0;32m    569\u001b[0m \u001b[38;5;124;03m\"\"\"\u001b[39;00m\n\u001b[0;32m    570\u001b[0m \u001b[38;5;28;01mif\u001b[39;00m \u001b[38;5;28mlen\u001b[39m(data) \u001b[38;5;241m!=\u001b[39m \u001b[38;5;28mlen\u001b[39m(index):\n\u001b[1;32m--> 571\u001b[0m     \u001b[38;5;28;01mraise\u001b[39;00m \u001b[38;5;167;01mValueError\u001b[39;00m(\n\u001b[0;32m    572\u001b[0m         \u001b[38;5;124m\"\u001b[39m\u001b[38;5;124mLength of values \u001b[39m\u001b[38;5;124m\"\u001b[39m\n\u001b[0;32m    573\u001b[0m         \u001b[38;5;124mf\u001b[39m\u001b[38;5;124m\"\u001b[39m\u001b[38;5;124m(\u001b[39m\u001b[38;5;132;01m{\u001b[39;00m\u001b[38;5;28mlen\u001b[39m(data)\u001b[38;5;132;01m}\u001b[39;00m\u001b[38;5;124m) \u001b[39m\u001b[38;5;124m\"\u001b[39m\n\u001b[0;32m    574\u001b[0m         \u001b[38;5;124m\"\u001b[39m\u001b[38;5;124mdoes not match length of index \u001b[39m\u001b[38;5;124m\"\u001b[39m\n\u001b[0;32m    575\u001b[0m         \u001b[38;5;124mf\u001b[39m\u001b[38;5;124m\"\u001b[39m\u001b[38;5;124m(\u001b[39m\u001b[38;5;132;01m{\u001b[39;00m\u001b[38;5;28mlen\u001b[39m(index)\u001b[38;5;132;01m}\u001b[39;00m\u001b[38;5;124m)\u001b[39m\u001b[38;5;124m\"\u001b[39m\n\u001b[0;32m    576\u001b[0m     )\n",
      "\u001b[1;31mValueError\u001b[0m: Length of values (11) does not match length of index (14)"
     ]
    }
   ],
   "source": [
    "horse_df = pd.DataFrame(columns=columns)\n",
    "for horse_list in horse_list_list:\n",
    "    horse_se = pd.Series( horse_list, index=horse_df.columns)\n",
    "    horse_df = pd.concat([horse_df, horse_se.to_frame().T], ignore_index=True)"
   ]
  },
  {
   "cell_type": "code",
   "execution_count": 12,
   "id": "069dcee9",
   "metadata": {},
   "outputs": [
    {
     "ename": "NameError",
     "evalue": "name 'result_rows' is not defined",
     "output_type": "error",
     "traceback": [
      "\u001b[1;31m---------------------------------------------------------------------------\u001b[0m",
      "\u001b[1;31mNameError\u001b[0m                                 Traceback (most recent call last)",
      "Cell \u001b[1;32mIn[12], line 2\u001b[0m\n\u001b[0;32m      1\u001b[0m horse_href_list\u001b[38;5;241m=\u001b[39m[]\n\u001b[1;32m----> 2\u001b[0m \u001b[38;5;28;01mfor\u001b[39;00m row \u001b[38;5;129;01min\u001b[39;00m \u001b[38;5;28mrange\u001b[39m(\u001b[38;5;241m1\u001b[39m, \u001b[38;5;28mlen\u001b[39m(\u001b[43mresult_rows\u001b[49m)):\n\u001b[0;32m      3\u001b[0m     horse_href\u001b[38;5;241m=\u001b[39mresult_rows[row]\u001b[38;5;241m.\u001b[39mfind_elements(By\u001b[38;5;241m.\u001b[39mTAG_NAME,\u001b[38;5;124m\"\u001b[39m\u001b[38;5;124mtd\u001b[39m\u001b[38;5;124m\"\u001b[39m)[\u001b[38;5;241m3\u001b[39m]\u001b[38;5;241m.\u001b[39mfind_element(By\u001b[38;5;241m.\u001b[39mTAG_NAME,\u001b[38;5;124m\"\u001b[39m\u001b[38;5;124ma\u001b[39m\u001b[38;5;124m\"\u001b[39m)\u001b[38;5;241m.\u001b[39mget_attribute(\u001b[38;5;124m\"\u001b[39m\u001b[38;5;124mhref\u001b[39m\u001b[38;5;124m\"\u001b[39m)\n\u001b[0;32m      4\u001b[0m     horse_href_list\u001b[38;5;241m.\u001b[39mappend(horse_href)\n",
      "\u001b[1;31mNameError\u001b[0m: name 'result_rows' is not defined"
     ]
    }
   ],
   "source": [
    "horse_href_list=[]\n",
    "for row in range(1, len(result_rows)):\n",
    "    horse_href=result_rows[row].find_elements(By.TAG_NAME,\"td\")[3].find_element(By.TAG_NAME,\"a\").get_attribute(\"href\")\n",
    "    horse_href_list.append(horse_href)\n",
    "\n",
    "\n",
    "HTML_HORSE_DIR = \"html/\"+dir+\"/horsepage/\"\n",
    "if not os.path.isdir(HTML_HORSE_DIR):\n",
    "    os.makedirs(HTML_HORSE_DIR)   \n",
    "\n",
    "for url in horse_href_list:\n",
    "    list = url.split(\"/\")\n",
    "    horse_id = list[-2]\n",
    "    save_file_path = HTML_HORSE_DIR+horse_id+'.html'\n",
    "    response = requests.get(url)\n",
    "    response.encoding = response.apparent_encoding\n",
    "    html = response.text\n",
    "    time.sleep(5)\n",
    "    with open(save_file_path, 'w') as file:\n",
    "        file.write(html)"
   ]
  },
  {
   "cell_type": "code",
   "execution_count": null,
   "id": "17748aab",
   "metadata": {},
   "outputs": [],
   "source": []
  }
 ],
 "metadata": {
  "kernelspec": {
   "display_name": "Python 3 (ipykernel)",
   "language": "python",
   "name": "python3"
  },
  "language_info": {
   "codemirror_mode": {
    "name": "ipython",
    "version": 3
   },
   "file_extension": ".py",
   "mimetype": "text/x-python",
   "name": "python",
   "nbconvert_exporter": "python",
   "pygments_lexer": "ipython3",
   "version": "3.8.0"
  }
 },
 "nbformat": 4,
 "nbformat_minor": 5
}
