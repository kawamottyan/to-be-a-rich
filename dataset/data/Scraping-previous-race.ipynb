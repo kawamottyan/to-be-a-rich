{
 "cells": [
  {
   "cell_type": "markdown",
   "id": "e7019e45",
   "metadata": {},
   "source": [
    "##### 検索内容の設定"
   ]
  },
  {
   "cell_type": "code",
   "execution_count": 1,
   "id": "0590ef9e",
   "metadata": {},
   "outputs": [],
   "source": [
    "#レース名\n",
    "race_name = \"高松宮記念\"\n",
    "dir = 'takamatsu/racepage'"
   ]
  },
  {
   "cell_type": "code",
   "execution_count": 2,
   "id": "29cc9634",
   "metadata": {},
   "outputs": [],
   "source": [
    "#期間\n",
    "year = 2006\n",
    "month = 1\n",
    "\n",
    "end_year = 2022\n",
    "end_month = 12"
   ]
  },
  {
   "cell_type": "markdown",
   "id": "da29eae5",
   "metadata": {},
   "source": [
    "過去のデータをデータベースからスクレイピングするコード"
   ]
  },
  {
   "cell_type": "code",
   "execution_count": 3,
   "id": "495f1fc1",
   "metadata": {},
   "outputs": [],
   "source": [
    "#インポート文\n",
    "import pandas as pd\n",
    "import numpy as np\n",
    "from bs4 import BeautifulSoup\n",
    "\n",
    "from selenium import webdriver\n",
    "from selenium.webdriver.support.ui import Select,WebDriverWait\n",
    "from selenium.webdriver.support import expected_conditions as EC\n",
    "from selenium.webdriver.chrome.options import Options\n",
    "from selenium.webdriver.common.by import By\n",
    "from webdriver_manager.chrome import ChromeDriverManager\n",
    "\n",
    "import os\n",
    "import time\n",
    "import requests"
   ]
  },
  {
   "cell_type": "code",
   "execution_count": 4,
   "id": "770b0ac2",
   "metadata": {},
   "outputs": [
    {
     "name": "stderr",
     "output_type": "stream",
     "text": [
      "C:\\Users\\kawam\\AppData\\Local\\Temp\\ipykernel_16668\\2084027807.py:2: DeprecationWarning: executable_path has been deprecated, please pass in a Service object\n",
      "  driver = webdriver.Chrome(ChromeDriverManager().install())\n"
     ]
    }
   ],
   "source": [
    "#ドライバーの設定\n",
    "driver = webdriver.Chrome(ChromeDriverManager().install())\n",
    "wait = WebDriverWait(driver,10)"
   ]
  },
  {
   "cell_type": "markdown",
   "id": "cdf07d5d",
   "metadata": {},
   "source": [
    "##### ドライバーの起動"
   ]
  },
  {
   "cell_type": "code",
   "execution_count": 5,
   "id": "988edb35",
   "metadata": {},
   "outputs": [
    {
     "data": {
      "text/plain": [
       "<function selenium.webdriver.support.expected_conditions.presence_of_all_elements_located.<locals>._predicate(driver)>"
      ]
     },
     "execution_count": 5,
     "metadata": {},
     "output_type": "execute_result"
    }
   ],
   "source": [
    "#URLの設定とドライバー起動\n",
    "URL = \"https://db.netkeiba.com/?pid=race_search_detail\"\n",
    "driver.get(URL)\n",
    "time.sleep(1)\n",
    "wait.until(EC.presence_of_all_elements_located)"
   ]
  },
  {
   "cell_type": "markdown",
   "id": "6638eeb0",
   "metadata": {},
   "source": [
    "##### 検索画面で要素の選択"
   ]
  },
  {
   "cell_type": "code",
   "execution_count": 6,
   "id": "25ba5145",
   "metadata": {},
   "outputs": [],
   "source": [
    "#レース名を選択\n",
    "race_name_element =driver.find_element(By.CSS_SELECTOR,\"#db_search_detail_form > form > table > tbody > tr:nth-child(1) > td > input\")\n",
    "race_name_element.send_keys(race_name)"
   ]
  },
  {
   "cell_type": "code",
   "execution_count": 7,
   "id": "6be60cc1",
   "metadata": {},
   "outputs": [],
   "source": [
    "#期間を選択\n",
    "year_element =driver.find_element(By.NAME,\"start_year\")\n",
    "year_select = Select(year_element)\n",
    "year_select.select_by_value(str(year))\n",
    "month_element = driver.find_element(By.NAME,\"start_mon\")\n",
    "month_select = Select(month_element)\n",
    "month_select.select_by_value(str(month))\n",
    "end_year_element = driver.find_element(By.NAME,\"end_year\")\n",
    "end_year_select = Select(end_year_element)\n",
    "end_year_select.select_by_value(str(end_year))\n",
    "end_mon_element = driver.find_element(By.NAME,\"end_mon\")\n",
    "end_mon_select = Select(end_mon_element)\n",
    "end_mon_select.select_by_value(str(end_month))"
   ]
  },
  {
   "cell_type": "code",
   "execution_count": 8,
   "id": "f9b894ef",
   "metadata": {},
   "outputs": [],
   "source": [
    "#中央競馬場をチェック\n",
    "for i in range(1,11):\n",
    "    terms = driver.find_element(By.ID,\"check_Jyo_\"+ str(i).zfill(2))\n",
    "    terms.click()\n",
    "#1札幌　2函館　3福島　4新潟　5東京　6中山　7中京　8京都　9阪神　10小倉　"
   ]
  },
  {
   "cell_type": "code",
   "execution_count": 9,
   "id": "26207b33",
   "metadata": {},
   "outputs": [],
   "source": [
    "#グレードをチェック\n",
    "for i in range(1,2):\n",
    "    terms = driver.find_element(By.ID,\"check_grade_\"+ str(i))\n",
    "    terms.click()\n",
    "#1:G1　2:G2　3:G3　4:OP　5:3勝(1600万)　6:2勝(1000万)　7:1勝(500万)　8:新馬　9:未勝利　10:未出走　"
   ]
  },
  {
   "cell_type": "code",
   "execution_count": 10,
   "id": "5da03a6d",
   "metadata": {},
   "outputs": [],
   "source": [
    "# 表示件数を選択(20,50,100の中から最大の100へ)\n",
    "list_element = driver.find_element(By.NAME,'list')\n",
    "list_select = Select(list_element)\n",
    "list_select.select_by_value(\"100\")"
   ]
  },
  {
   "cell_type": "code",
   "execution_count": 11,
   "id": "d2bd5779",
   "metadata": {},
   "outputs": [
    {
     "data": {
      "text/plain": [
       "<function selenium.webdriver.support.expected_conditions.presence_of_all_elements_located.<locals>._predicate(driver)>"
      ]
     },
     "execution_count": 11,
     "metadata": {},
     "output_type": "execute_result"
    }
   ],
   "source": [
    "# フォームを送信\n",
    "frm = driver.find_element(By.CSS_SELECTOR,\"#db_search_detail_form > form\")\n",
    "frm.submit()\n",
    "time.sleep(5)\n",
    "wait.until(EC.presence_of_all_elements_located)"
   ]
  },
  {
   "cell_type": "markdown",
   "id": "de069362",
   "metadata": {},
   "source": [
    "##### レース一覧画面"
   ]
  },
  {
   "cell_type": "code",
   "execution_count": 12,
   "id": "cd03d835",
   "metadata": {},
   "outputs": [
    {
     "ename": "KeyboardInterrupt",
     "evalue": "",
     "output_type": "error",
     "traceback": [
      "\u001b[1;31m---------------------------------------------------------------------------\u001b[0m",
      "\u001b[1;31mKeyboardInterrupt\u001b[0m                         Traceback (most recent call last)",
      "Input \u001b[1;32mIn [12]\u001b[0m, in \u001b[0;36m<cell line: 7>\u001b[1;34m()\u001b[0m\n\u001b[0;32m      7\u001b[0m \u001b[38;5;28;01mwith\u001b[39;00m \u001b[38;5;28mopen\u001b[39m(TEXT_DIR\u001b[38;5;241m+\u001b[39m\u001b[38;5;124m\"\u001b[39m\u001b[38;5;124m/\u001b[39m\u001b[38;5;124m\"\u001b[39m\u001b[38;5;241m+\u001b[39m\u001b[38;5;124m\"\u001b[39m\u001b[38;5;124m.txt\u001b[39m\u001b[38;5;124m\"\u001b[39m, mode\u001b[38;5;241m=\u001b[39m\u001b[38;5;124m'\u001b[39m\u001b[38;5;124mw\u001b[39m\u001b[38;5;124m'\u001b[39m) \u001b[38;5;28;01mas\u001b[39;00m f:\n\u001b[0;32m      8\u001b[0m     \u001b[38;5;28;01mwhile\u001b[39;00m \u001b[38;5;28;01mTrue\u001b[39;00m:\n\u001b[1;32m----> 9\u001b[0m         \u001b[43mtime\u001b[49m\u001b[38;5;241;43m.\u001b[39;49m\u001b[43msleep\u001b[49m\u001b[43m(\u001b[49m\u001b[38;5;241;43m5\u001b[39;49m\u001b[43m)\u001b[49m\n\u001b[0;32m     10\u001b[0m         wait\u001b[38;5;241m.\u001b[39muntil(EC\u001b[38;5;241m.\u001b[39mpresence_of_all_elements_located)\n\u001b[0;32m     11\u001b[0m         all_rows \u001b[38;5;241m=\u001b[39m driver\u001b[38;5;241m.\u001b[39mfind_element(By\u001b[38;5;241m.\u001b[39mCLASS_NAME,\u001b[38;5;124m'\u001b[39m\u001b[38;5;124mrace_table_01\u001b[39m\u001b[38;5;124m'\u001b[39m)\u001b[38;5;241m.\u001b[39mfind_elements(By\u001b[38;5;241m.\u001b[39mTAG_NAME,\u001b[38;5;124m\"\u001b[39m\u001b[38;5;124mtr\u001b[39m\u001b[38;5;124m\"\u001b[39m)\n",
      "\u001b[1;31mKeyboardInterrupt\u001b[0m: "
     ]
    }
   ],
   "source": [
    "#レースデータをテキストに保存\n",
    "TEXT_DIR = \"text/\"+dir\n",
    "if not os.path.isdir(TEXT_DIR):\n",
    "    os.makedirs(TEXT_DIR)\n",
    "\n",
    "#with open(TEXT_DIR+\"/\"+str(year)+\"-\"+str(month)+\".txt\", mode='w') as f:\n",
    "with open(TEXT_DIR+\"/\"+\".txt\", mode='w') as f:\n",
    "    while True:\n",
    "        time.sleep(5)\n",
    "        wait.until(EC.presence_of_all_elements_located)\n",
    "        all_rows = driver.find_element(By.CLASS_NAME,'race_table_01').find_elements(By.TAG_NAME,\"tr\")\n",
    "        for row in range(1, len(all_rows)):\n",
    "            race_href=all_rows[row].find_elements(By.TAG_NAME,\"td\")[4].find_element(By.TAG_NAME,\"a\").get_attribute(\"href\")\n",
    "            f.write(race_href+\"\\n\")\n",
    "        try:\n",
    "            target = driver.find_elements(By.LINK_TEXT,\"次\")[0]\n",
    "            driver.execute_script(\"arguments[0].click();\", target) \n",
    "        except IndexError:\n",
    "            break"
   ]
  },
  {
   "cell_type": "code",
   "execution_count": null,
   "id": "0bf27301",
   "metadata": {},
   "outputs": [],
   "source": [
    "#テキストデータからHTMLデータに保存\n",
    "#HTML_DIR = \"html/\"+dir+\"/\"+str(year)+\"/\"+str(month)\n",
    "HTML_DIR = \"html/\"+dir+\"/\"\n",
    "if not os.path.isdir(HTML_DIR):\n",
    "    os.makedirs(HTML_DIR)\n",
    "        \n",
    "#with open(TEXT_DIR+\"/\"+str(year)+\"-\"+str(month)+\".txt\", \"r\") as f:\n",
    "with open(TEXT_DIR+\"/\"+\".txt\", \"r\") as f:\n",
    "    urls = f.read().splitlines()\n",
    "    for url in urls:\n",
    "        list = url.split(\"/\")\n",
    "        race_id = list[-2]\n",
    "        save_file_path = HTML_DIR+\"/\"+race_id+'.html'\n",
    "        response = requests.get(url)\n",
    "        response.encoding = response.apparent_encoding\n",
    "        html = response.text\n",
    "        time.sleep(5)\n",
    "        with open(save_file_path, 'w') as file:\n",
    "            file.write(html)"
   ]
  },
  {
   "cell_type": "code",
   "execution_count": null,
   "id": "51e28a3f",
   "metadata": {},
   "outputs": [],
   "source": [
    "#HTMLデータからスクレイピングする関数を定義\n",
    "def get_rade_and_horse_data_by_html(race_id, html):\n",
    "    race_list = [race_id]\n",
    "    horse_list_list = []\n",
    "    soup = BeautifulSoup(html, 'html.parser')\n",
    "\n",
    "    # race基本情報\n",
    "    data_intro = soup.find(\"div\", class_=\"data_intro\")\n",
    "    race_list.append(data_intro.find(\"dt\").get_text().strip(\"\\n\")) # race_round\n",
    "    race_list.append(data_intro.find(\"h1\").get_text().strip(\"\\n\")) # race_title\n",
    "    race_details1 = data_intro.find(\"p\").get_text().strip(\"\\n\").split(\"\\xa0/\\xa0\")\n",
    "    race_list.append(race_details1[0]) # race_course\n",
    "    race_list.append(race_details1[1]) # weather\n",
    "    race_list.append(race_details1[2]) # ground_status\n",
    "    race_list.append(race_details1[3]) # time\n",
    "    race_details2 = data_intro.find(\"p\", class_=\"smalltxt\").get_text().strip(\"\\n\").split(\" \")\n",
    "    race_list.append(race_details2[0]) # date\n",
    "    race_list.append(race_details2[1]) # where_racecourse\n",
    "\n",
    "\n",
    "    result_rows = soup.find(\"table\", class_=\"race_table_01 nk_tb_common\").findAll('tr') # レース結果\n",
    "    # 上位3着の情報\n",
    "    race_list.append(len(result_rows)-1) # total_horse_number\n",
    "    for i in range(1,4):\n",
    "        row = result_rows[i].findAll('td')\n",
    "        race_list.append(row[1].get_text()) # frame_number_first or second or third\n",
    "        race_list.append(row[2].get_text()) # horse_number_first or second or third\n",
    "\n",
    "\n",
    "    # 払い戻し(単勝・複勝・三連複・3連単)\n",
    "    pay_back_tables = soup.findAll(\"table\", class_=\"pay_table_01\")\n",
    "\n",
    "    pay_back1 = pay_back_tables[0].findAll('tr') # 払い戻し1(単勝・複勝)\n",
    "    race_list.append(pay_back1[0].find(\"td\", class_=\"txt_r\").get_text()) #tansyo\n",
    "    hukuren = pay_back1[1].find(\"td\", class_=\"txt_r\")\n",
    "    tmp = []\n",
    "    for string in hukuren.strings:\n",
    "        tmp.append(string)\n",
    "    for i in range(3):\n",
    "        try:\n",
    "            race_list.append(tmp[i]) # hukuren_first or second or third\n",
    "        except IndexError:\n",
    "            race_list.append(\"0\")\n",
    "\n",
    "    # 枠連\n",
    "    try:\n",
    "        race_list.append(pay_back1[2].find(\"td\", class_=\"txt_r\").get_text())\n",
    "    except IndexError:\n",
    "        race_list.append(\"0\")\n",
    "\n",
    "    # 馬連\n",
    "    try:\n",
    "        race_list.append(pay_back1[3].find(\"td\", class_=\"txt_r\").get_text())\n",
    "    except IndexError:\n",
    "        race_list.append(\"0\")\n",
    "\n",
    "\n",
    "\n",
    "    pay_back2 = pay_back_tables[1].findAll('tr') # 払い戻し2(三連複・3連単)\n",
    "\n",
    "    # wide 1&2\n",
    "    wide = pay_back2[0].find(\"td\", class_=\"txt_r\")\n",
    "    tmp = []\n",
    "    for string in wide.strings:\n",
    "        tmp.append(string)\n",
    "    for i in range(3):\n",
    "        try:\n",
    "            race_list.append(tmp[i]) # hukuren_first or second or third\n",
    "        except IndexError:\n",
    "            race_list.append(\"0\")\n",
    "\n",
    "    # umatan\n",
    "    race_list.append(pay_back2[1].find(\"td\", class_=\"txt_r\").get_text()) #umatan\n",
    "\n",
    "    race_list.append(pay_back2[2].find(\"td\", class_=\"txt_r\").get_text()) #renhuku3\n",
    "    try:\n",
    "        race_list.append(pay_back2[3].find(\"td\", class_=\"txt_r\").get_text()) #rentan3\n",
    "    except IndexError:\n",
    "        race_list.append(\"0\")\n",
    "\n",
    "    # horse data\n",
    "    for rank in range(1, len(result_rows)):\n",
    "        horse_list = [race_id]\n",
    "        result_row = result_rows[rank].findAll(\"td\")\n",
    "        # rank\n",
    "        horse_list.append(result_row[0].get_text())\n",
    "        # frame_number\n",
    "        horse_list.append(result_row[1].get_text())\n",
    "        # horse_number\n",
    "        horse_list.append(result_row[2].get_text())\n",
    "        # horse_id\n",
    "        horse_list.append(result_row[3].find('a').get('href').split(\"/\")[-2])\n",
    "        # sex_and_age\n",
    "        horse_list.append(result_row[4].get_text())\n",
    "        # burden_weight\n",
    "        horse_list.append(result_row[5].get_text())\n",
    "        # rider_id\n",
    "        horse_list.append(result_row[6].find('a').get('href').split(\"/\")[-2])\n",
    "        # goal_time\n",
    "        horse_list.append(result_row[7].get_text())\n",
    "        # goal_time_dif\n",
    "        horse_list.append(result_row[8].get_text())\n",
    "        # time_value(premium)\n",
    "        horse_list.append(result_row[9].get_text())\n",
    "        # half_way_rank\n",
    "        horse_list.append(result_row[10].get_text())\n",
    "        # last_time(上り)\n",
    "        horse_list.append(result_row[11].get_text())\n",
    "        # odds\n",
    "        horse_list.append(result_row[12].get_text())\n",
    "        # popular\n",
    "        horse_list.append(result_row[13].get_text())\n",
    "        # horse_weight\n",
    "        horse_list.append(result_row[14].get_text())\n",
    "        # tame_time(premium)\n",
    "        horse_list.append(result_row[15].get_text())\n",
    "        # 16:コメント、17:備考\n",
    "        # tamer_id\n",
    "        horse_list.append(result_row[18].find('a').get('href').split(\"/\")[-2])\n",
    "        # owner_id\n",
    "        horse_list.append(result_row[19].find('a').get('href').split(\"/\")[-2])\n",
    "\n",
    "        horse_list_list.append(horse_list)\n",
    "\n",
    "    return race_list, horse_list_list"
   ]
  },
  {
   "cell_type": "code",
   "execution_count": null,
   "id": "e37f77aa",
   "metadata": {},
   "outputs": [],
   "source": [
    "#スクレイピングするカラムの設定\n",
    "race_data_columns=[\n",
    "    'race_id',\n",
    "    'race_round',\n",
    "    'race_title',\n",
    "    'race_course',\n",
    "    'weather',\n",
    "    'ground_status',\n",
    "    'time',\n",
    "    'date',\n",
    "    'where_racecourse',\n",
    "    'total_horse_number',\n",
    "    'frame_number_first',\n",
    "    'horse_number_first',\n",
    "    'frame_number_second',\n",
    "    'horse_number_second',\n",
    "    'frame_number_third',\n",
    "    'horse_number_third',\n",
    "    'tansyo',\n",
    "    'hukusyo_first',\n",
    "    'hukusyo_second',\n",
    "    'hukusyo_third',\n",
    "    'wakuren',\n",
    "    'umaren',\n",
    "    'wide_1_2',\n",
    "    'wide_1_3',\n",
    "    'wide_2_3',\n",
    "    'umatan',\n",
    "    'renhuku3',\n",
    "    'rentan3'\n",
    "    ]\n",
    "\n",
    "horse_data_columns=[\n",
    "    'race_id',\n",
    "    'rank',\n",
    "    'frame_number',\n",
    "    'horse_number',\n",
    "    'horse_id',\n",
    "    'sex_and_age',\n",
    "    'burden_weight',\n",
    "    'rider_id',\n",
    "    'goal_time',\n",
    "    'goal_time_dif',\n",
    "    'time_value',\n",
    "    'half_way_rank',\n",
    "    'last_time',\n",
    "    'odds',\n",
    "    'popular',\n",
    "    'horse_weight',\n",
    "    'tame_time',\n",
    "    'tamer_id',\n",
    "    'owner_id'\n",
    "]"
   ]
  },
  {
   "cell_type": "code",
   "execution_count": null,
   "id": "9183e48e",
   "metadata": {},
   "outputs": [],
   "source": [
    "#csvの保存場所を設定\n",
    "CSV_DIR = \"csv/\"+dir\n",
    "if not os.path.isdir(CSV_DIR):\n",
    "    os.makedirs(CSV_DIR)\n",
    "# save_race_csv = CSV_DIR+\"/race-\"+str(year)+\"-\"+str(month)+\".csv\"\n",
    "# horse_race_csv = CSV_DIR+\"/horse-\"+str(year)+\"-\"+str(month)+\".csv\"\n",
    "save_race_csv = CSV_DIR+\"/race\"+\".csv\"\n",
    "horse_race_csv = CSV_DIR+\"/horse\"+\".csv\""
   ]
  },
  {
   "cell_type": "code",
   "execution_count": null,
   "id": "bad34072",
   "metadata": {},
   "outputs": [],
   "source": [
    "#上記で定義した関数を使って、各要素をデータフレームに保存\n",
    "race_df = pd.DataFrame(columns=race_data_columns)\n",
    "horse_df = pd.DataFrame(columns=horse_data_columns)\n",
    "#html_dir = \"html\"+\"/\"+str(year)+\"/\"+str(month)\n",
    "if os.path.isdir(HTML_DIR):\n",
    "    file_list = os.listdir(HTML_DIR)\n",
    "    for file_name in file_list:\n",
    "        with open(HTML_DIR+\"/\"+file_name, \"r\") as f:\n",
    "            html = f.read()\n",
    "            list = file_name.split(\".\")\n",
    "            race_id = list[-2]\n",
    "            race_list, horse_list_list = get_rade_and_horse_data_by_html(race_id, html) \n",
    "            for horse_list in horse_list_list:\n",
    "                horse_se = pd.Series( horse_list, index=horse_df.columns)\n",
    "                horse_df = pd.concat([horse_df, horse_se.to_frame().T], ignore_index=True)\n",
    "            race_se = pd.Series(race_list, index=race_df.columns )\n",
    "            race_df = pd.concat([race_df, race_se.to_frame().T], ignore_index=True)"
   ]
  },
  {
   "cell_type": "code",
   "execution_count": null,
   "id": "cc79bd9a",
   "metadata": {},
   "outputs": [],
   "source": [
    "#dfをcsvに書き出し\n",
    "race_df.to_csv(save_race_csv, header=True, index=False)\n",
    "horse_df.to_csv(horse_race_csv, header=True, index=False)"
   ]
  }
 ],
 "metadata": {
  "kernelspec": {
   "display_name": "Python 3 (ipykernel)",
   "language": "python",
   "name": "python3"
  },
  "language_info": {
   "codemirror_mode": {
    "name": "ipython",
    "version": 3
   },
   "file_extension": ".py",
   "mimetype": "text/x-python",
   "name": "python",
   "nbconvert_exporter": "python",
   "pygments_lexer": "ipython3",
   "version": "3.9.12"
  }
 },
 "nbformat": 4,
 "nbformat_minor": 5
}
