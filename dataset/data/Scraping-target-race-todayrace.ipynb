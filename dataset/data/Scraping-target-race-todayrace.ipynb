{
 "cells": [
  {
   "cell_type": "code",
   "execution_count": 1,
   "id": "20077d57",
   "metadata": {},
   "outputs": [],
   "source": [
    "#URLから予測したレースのidを記入する\n",
    "race_id_text = '202307020611'"
   ]
  },
  {
   "cell_type": "code",
   "execution_count": 2,
   "id": "73646703",
   "metadata": {},
   "outputs": [],
   "source": [
    "#レース日を記入する\n",
    "date_text = \"2023年3月26日\" #〇年〇月〇日"
   ]
  },
  {
   "cell_type": "code",
   "execution_count": 3,
   "id": "77bbc49e",
   "metadata": {},
   "outputs": [],
   "source": [
    "#予測したいレースのURLを記入\n",
    "URL = \"https://race.netkeiba.com/race/shutuba.html?race_id=202307020611&rf=race_list\"#race_listのページを指定"
   ]
  },
  {
   "cell_type": "markdown",
   "id": "fa40918f",
   "metadata": {},
   "source": [
    "予測したいレースをスクレイピングするコード"
   ]
  },
  {
   "cell_type": "code",
   "execution_count": 4,
   "id": "88056993",
   "metadata": {},
   "outputs": [],
   "source": [
    "#インポート文\n",
    "import pandas as pd\n",
    "import numpy as np\n",
    "from bs4 import BeautifulSoup\n",
    "\n",
    "from selenium import webdriver\n",
    "from selenium.webdriver.support.ui import Select,WebDriverWait\n",
    "from selenium.webdriver.support import expected_conditions as EC\n",
    "from selenium.webdriver.chrome.options import Options\n",
    "from selenium.webdriver.common.by import By\n",
    "from webdriver_manager.chrome import ChromeDriverManager\n",
    "import re\n",
    "\n",
    "import os\n",
    "import warnings\n",
    "import time\n",
    "import requests\n",
    "\n",
    "from google.cloud import storage"
   ]
  },
  {
   "cell_type": "markdown",
   "id": "cf69d7bd",
   "metadata": {},
   "source": [
    "##### 予測したいレースの設定"
   ]
  },
  {
   "cell_type": "code",
   "execution_count": 5,
   "id": "9e58882b",
   "metadata": {},
   "outputs": [],
   "source": [
    "#google cloudの設定\n",
    "key_name =\"../key/storage_key.json\"\n",
    "bucket_name = \"keiba_csv_upload_bucket\"\n",
    "#raceの保存場所\n",
    "race_file_upload = 'target_race_data.csv'\n",
    "race_file_name = '../data/main/target_race_data.csv'\n",
    "#horseの保存場所\n",
    "horse_file_upload = 'target_horse_data.csv'\n",
    "horse_file_name = '../data/main/target_horse_data.csv'"
   ]
  },
  {
   "cell_type": "markdown",
   "id": "65be5bac",
   "metadata": {},
   "source": [
    "##### スクレイピングの設定"
   ]
  },
  {
   "cell_type": "code",
   "execution_count": 6,
   "id": "e692c139",
   "metadata": {},
   "outputs": [
    {
     "name": "stderr",
     "output_type": "stream",
     "text": [
      "C:\\Users\\kawam\\AppData\\Local\\Temp\\ipykernel_14448\\738581181.py:2: DeprecationWarning: executable_path has been deprecated, please pass in a Service object\n",
      "  driver = webdriver.Chrome(ChromeDriverManager().install())\n"
     ]
    }
   ],
   "source": [
    "#ドライバーの設定\n",
    "driver = webdriver.Chrome(ChromeDriverManager().install())\n",
    "wait = WebDriverWait(driver,3)"
   ]
  },
  {
   "cell_type": "code",
   "execution_count": 7,
   "id": "27c27c8a",
   "metadata": {},
   "outputs": [
    {
     "data": {
      "text/plain": [
       "<function selenium.webdriver.support.expected_conditions.presence_of_all_elements_located.<locals>._predicate(driver)>"
      ]
     },
     "execution_count": 7,
     "metadata": {},
     "output_type": "execute_result"
    }
   ],
   "source": [
    "#ページの立ち上げ\n",
    "driver.get(URL)\n",
    "time.sleep(1)\n",
    "wait.until(EC.presence_of_all_elements_located)"
   ]
  },
  {
   "cell_type": "code",
   "execution_count": 8,
   "id": "6945501d",
   "metadata": {
    "scrolled": true
   },
   "outputs": [],
   "source": [
    "#レースのラウンド数を取得\n",
    "race_round = driver.find_elements(By.CLASS_NAME,'RaceNum')\n",
    "race_round_text = [rr.text for rr in race_round]\n",
    "race_round_text = race_round_text[0]"
   ]
  },
  {
   "cell_type": "code",
   "execution_count": 9,
   "id": "b88cdd57",
   "metadata": {},
   "outputs": [],
   "source": [
    "#レースのタイトルを取得\n",
    "race_title = driver.find_elements(By.CLASS_NAME,'RaceName')\n",
    "race_title_text = [rr.text for rr in race_title]\n",
    "race_title_text = race_title_text[0]"
   ]
  },
  {
   "cell_type": "code",
   "execution_count": 10,
   "id": "ce520959",
   "metadata": {},
   "outputs": [],
   "source": [
    "#レースの詳細情報一覧を取得\n",
    "race_detail1 = driver.find_elements(By.CLASS_NAME,'RaceData01')\n",
    "race_details1_text = [rr.text for rr in race_detail1]"
   ]
  },
  {
   "cell_type": "code",
   "execution_count": 11,
   "id": "544f7779",
   "metadata": {},
   "outputs": [],
   "source": [
    "#詳細情報をリストに分ける\n",
    "race_details1_list = race_details1_text[0].split(' / ')"
   ]
  },
  {
   "cell_type": "code",
   "execution_count": 12,
   "id": "bff35608",
   "metadata": {},
   "outputs": [],
   "source": [
    "#発走時間情報の取得\n",
    "time_text = race_details1_list[0].strip(\"発走\")\n",
    "time_text = '発走 : '+time_text"
   ]
  },
  {
   "cell_type": "code",
   "execution_count": 13,
   "id": "469ab702",
   "metadata": {},
   "outputs": [],
   "source": [
    "#レースコース情報を取得\n",
    "race_details1_list1_list = race_details1_list[1].split(' ')"
   ]
  },
  {
   "cell_type": "code",
   "execution_count": 14,
   "id": "1e1251de",
   "metadata": {},
   "outputs": [],
   "source": [
    "#レースコース情報から距離を抜き出す\n",
    "race_details1_list1_list_text = str(race_details1_list1_list[0])\n",
    "text = race_details1_list1_list_text\n",
    "match = re.search(r'[^\\d]*(\\D)', text)\n",
    "if match:\n",
    "    ground_type_text = match.group(1)\n",
    "else:\n",
    "    ground_type_text = ''\n",
    "\n",
    "text = race_details1_list1_list_text\n",
    "match = re.search(r'\\d+', text)\n",
    "if match:\n",
    "    distance = match.group()\n",
    "else:\n",
    "    distance = ''\n",
    "distance_int = int(distance)"
   ]
  },
  {
   "cell_type": "code",
   "execution_count": 15,
   "id": "20e174d5",
   "metadata": {},
   "outputs": [],
   "source": [
    "#レースコース情報から障害レースかどうかを判断\n",
    "text = race_details1_list1_list_text\n",
    "is_obstacle = 1 if text.startswith('障') else 0\n",
    "is_obstacle_int = int(is_obstacle)"
   ]
  },
  {
   "cell_type": "code",
   "execution_count": 16,
   "id": "f3c2935b",
   "metadata": {},
   "outputs": [],
   "source": [
    "#レースコース情報から左右どちら周りかを判断\n",
    "is_left_right_straight_text = race_details1_list1_list[1].strip(\"()\")"
   ]
  },
  {
   "cell_type": "code",
   "execution_count": 17,
   "id": "c2f7beb0",
   "metadata": {},
   "outputs": [],
   "source": [
    "#天気の情報を取得\n",
    "weather_text = race_details1_list[2]"
   ]
  },
  {
   "cell_type": "code",
   "execution_count": 18,
   "id": "b52cafd0",
   "metadata": {},
   "outputs": [],
   "source": [
    "#地面の状態の情報を取得\n",
    "ground_status_text = race_details1_list[3]"
   ]
  },
  {
   "cell_type": "code",
   "execution_count": 19,
   "id": "e7e9adb4",
   "metadata": {},
   "outputs": [],
   "source": [
    "#レース情報を取得\n",
    "race_details2 = driver.find_elements(By.CLASS_NAME,'RaceData02')\n",
    "race_details2_text = [rr.text for rr in race_details2]\n",
    "race_details2_text = re.sub(' +', ' ', race_details2_text[0])\n",
    "race_details2_list = race_details2_text.split(' ')"
   ]
  },
  {
   "cell_type": "code",
   "execution_count": 20,
   "id": "c876e5c4",
   "metadata": {},
   "outputs": [],
   "source": [
    "#レース情報も文字列に変換\n",
    "race_details2_list8_str = str(race_details2_list[7])"
   ]
  },
  {
   "cell_type": "code",
   "execution_count": 21,
   "id": "4c6b144e",
   "metadata": {},
   "outputs": [],
   "source": [
    "#レース情報をグルーピング\n",
    "race_details2_list8_str\n",
    "match = re.match(r'^\\d+', race_details2_list8_str)\n",
    "if match:\n",
    "    race_details2_list[7] = match.group()"
   ]
  },
  {
   "cell_type": "code",
   "execution_count": 22,
   "id": "52c56d7b",
   "metadata": {},
   "outputs": [],
   "source": [
    "#何頭立てかの情報を取得\n",
    "total_horse_number_text = race_details2_list[7]"
   ]
  },
  {
   "cell_type": "code",
   "execution_count": 23,
   "id": "40ede27d",
   "metadata": {},
   "outputs": [],
   "source": [
    "#何レース目かなどの情報を取得\n",
    "where_racecourse_text = race_details2_list[0]+race_details2_list[1]+race_details2_list[2]"
   ]
  },
  {
   "cell_type": "code",
   "execution_count": 24,
   "id": "91942a06",
   "metadata": {},
   "outputs": [],
   "source": [
    "#辞書のリストを作成\n",
    "race_data = []\n",
    "race_data.append({\n",
    "        'race_id':race_id_text,\n",
    "        'race_round': race_round_text,\n",
    "        'race_title':race_title_text,\n",
    "         'weather':weather_text,\n",
    "         'ground_status':ground_status_text,\n",
    "        'time':time_text,\n",
    "        'where_racecourse':where_racecourse_text,\n",
    "        'total_horse_number':total_horse_number_text,\n",
    "        'ground_type':ground_type_text,\n",
    "        'is_left_right_straight':is_left_right_straight_text,\n",
    "        'distance':distance_int,\n",
    "        'is_obstacle':is_obstacle_int,     \n",
    "    })\n",
    "\n",
    "# 辞書のリストをDataFrameに変換する\n",
    "race_df = pd.DataFrame(race_data)"
   ]
  },
  {
   "cell_type": "code",
   "execution_count": 25,
   "id": "5d23a27f",
   "metadata": {
    "scrolled": true
   },
   "outputs": [],
   "source": [
    "#race_dfに指定した日付をくっつける\n",
    "race_df['date'] = date_text"
   ]
  },
  {
   "cell_type": "code",
   "execution_count": 26,
   "id": "8bff69c4",
   "metadata": {},
   "outputs": [
    {
     "data": {
      "text/html": [
       "<div>\n",
       "<style scoped>\n",
       "    .dataframe tbody tr th:only-of-type {\n",
       "        vertical-align: middle;\n",
       "    }\n",
       "\n",
       "    .dataframe tbody tr th {\n",
       "        vertical-align: top;\n",
       "    }\n",
       "\n",
       "    .dataframe thead th {\n",
       "        text-align: right;\n",
       "    }\n",
       "</style>\n",
       "<table border=\"1\" class=\"dataframe\">\n",
       "  <thead>\n",
       "    <tr style=\"text-align: right;\">\n",
       "      <th></th>\n",
       "      <th>race_id</th>\n",
       "      <th>race_round</th>\n",
       "      <th>race_title</th>\n",
       "      <th>weather</th>\n",
       "      <th>ground_status</th>\n",
       "      <th>time</th>\n",
       "      <th>where_racecourse</th>\n",
       "      <th>total_horse_number</th>\n",
       "      <th>ground_type</th>\n",
       "      <th>is_left_right_straight</th>\n",
       "      <th>distance</th>\n",
       "      <th>is_obstacle</th>\n",
       "      <th>date</th>\n",
       "    </tr>\n",
       "  </thead>\n",
       "  <tbody>\n",
       "    <tr>\n",
       "      <th>0</th>\n",
       "      <td>202307020611</td>\n",
       "      <td>11R</td>\n",
       "      <td>高松宮記念</td>\n",
       "      <td>天候:小雨</td>\n",
       "      <td>馬場:不</td>\n",
       "      <td>発走 : 15:40</td>\n",
       "      <td>2回中京6日目</td>\n",
       "      <td>18</td>\n",
       "      <td>芝</td>\n",
       "      <td>左</td>\n",
       "      <td>1200</td>\n",
       "      <td>0</td>\n",
       "      <td>2023年3月26日</td>\n",
       "    </tr>\n",
       "  </tbody>\n",
       "</table>\n",
       "</div>"
      ],
      "text/plain": [
       "        race_id race_round race_title weather ground_status        time  \\\n",
       "0  202307020611        11R      高松宮記念   天候:小雨          馬場:不  発走 : 15:40   \n",
       "\n",
       "  where_racecourse total_horse_number ground_type is_left_right_straight  \\\n",
       "0          2回中京6日目                 18           芝                      左   \n",
       "\n",
       "   distance  is_obstacle        date  \n",
       "0      1200            0  2023年3月26日  "
      ]
     },
     "execution_count": 26,
     "metadata": {},
     "output_type": "execute_result"
    }
   ],
   "source": [
    "race_df"
   ]
  },
  {
   "cell_type": "markdown",
   "id": "21c8c8ad",
   "metadata": {},
   "source": [
    "##### data-cleaning"
   ]
  },
  {
   "cell_type": "code",
   "execution_count": 27,
   "id": "bea2fd31",
   "metadata": {},
   "outputs": [
    {
     "name": "stdout",
     "output_type": "stream",
     "text": [
      "<class 'pandas.core.frame.DataFrame'>\n",
      "RangeIndex: 1 entries, 0 to 0\n",
      "Data columns (total 13 columns):\n",
      " #   Column                  Non-Null Count  Dtype \n",
      "---  ------                  --------------  ----- \n",
      " 0   race_id                 1 non-null      object\n",
      " 1   race_round              1 non-null      object\n",
      " 2   race_title              1 non-null      object\n",
      " 3   weather                 1 non-null      object\n",
      " 4   ground_status           1 non-null      object\n",
      " 5   time                    1 non-null      object\n",
      " 6   where_racecourse        1 non-null      object\n",
      " 7   total_horse_number      1 non-null      object\n",
      " 8   ground_type             1 non-null      object\n",
      " 9   is_left_right_straight  1 non-null      object\n",
      " 10  distance                1 non-null      int64 \n",
      " 11  is_obstacle             1 non-null      int64 \n",
      " 12  date                    1 non-null      object\n",
      "dtypes: int64(2), object(11)\n",
      "memory usage: 232.0+ bytes\n"
     ]
    }
   ],
   "source": [
    "race_df.info()"
   ]
  },
  {
   "cell_type": "markdown",
   "id": "db66260d",
   "metadata": {},
   "source": [
    "##### race_id"
   ]
  },
  {
   "cell_type": "code",
   "execution_count": null,
   "id": "2bc1069f",
   "metadata": {},
   "outputs": [],
   "source": []
  },
  {
   "cell_type": "markdown",
   "id": "08cf9710",
   "metadata": {},
   "source": [
    "##### race_round "
   ]
  },
  {
   "cell_type": "code",
   "execution_count": 28,
   "id": "869f45ef",
   "metadata": {},
   "outputs": [],
   "source": [
    "#Rの文字を削除\n",
    "race_df['race_round'] = race_df['race_round'].str.strip('R \\n')"
   ]
  },
  {
   "cell_type": "code",
   "execution_count": 29,
   "id": "45846aad",
   "metadata": {},
   "outputs": [],
   "source": [
    "#objectをintに変換\n",
    "race_df['race_round'] = race_df['race_round'].astype(int)"
   ]
  },
  {
   "cell_type": "markdown",
   "id": "914a76a8",
   "metadata": {},
   "source": [
    "##### race_title"
   ]
  },
  {
   "cell_type": "markdown",
   "id": "8907fd4d",
   "metadata": {},
   "source": [
    "##### weather"
   ]
  },
  {
   "cell_type": "code",
   "execution_count": 30,
   "id": "3f3891f0",
   "metadata": {},
   "outputs": [],
   "source": [
    "#天候の文字を削除\n",
    "race_df['weather'] = race_df['weather'].str.strip('天候 :')"
   ]
  },
  {
   "cell_type": "code",
   "execution_count": 31,
   "id": "b4b16e5c",
   "metadata": {},
   "outputs": [],
   "source": [
    "#雨と雪かを判断するカラムを作成\n",
    "weather_rain = race_df[\"weather\"].str.extract('(小雨|雨)', expand=True)\n",
    "weather_snow = race_df[\"weather\"].str.extract('(小雪|雪)', expand=True)\n",
    "weather_rain.columns ={\"weather_rain\"}\n",
    "weather_snow.columns ={\"weather_snow\"}\n",
    "race_df = pd.concat([race_df, weather_rain], axis=1)\n",
    "race_df = pd.concat([race_df, weather_snow], axis=1)"
   ]
  },
  {
   "cell_type": "code",
   "execution_count": 32,
   "id": "9129787a",
   "metadata": {},
   "outputs": [],
   "source": [
    "#上記のnullを0で埋める\n",
    "race_df.fillna(value={'weather_rain': 0}, inplace=True)\n",
    "#小雨は1\n",
    "race_df['weather_rain'] = race_df['weather_rain'].replace('小雨', 1)\n",
    "#雨は2に置換\n",
    "race_df['weather_rain'] = race_df['weather_rain'].replace('雨', 2)"
   ]
  },
  {
   "cell_type": "code",
   "execution_count": 33,
   "id": "f0c93711",
   "metadata": {},
   "outputs": [],
   "source": [
    "#上記のnullを0で埋める\n",
    "race_df.fillna(value={'weather_snow': 0}, inplace=True)\n",
    "#小雪は1\n",
    "race_df['weather_snow'] = race_df['weather_snow'].replace('小雪', 1)\n",
    "#雪は2に置換\n",
    "race_df['weather_snow'] = race_df['weather_snow'].replace('雪', 2)"
   ]
  },
  {
   "cell_type": "code",
   "execution_count": 34,
   "id": "d278cc06",
   "metadata": {},
   "outputs": [],
   "source": [
    "#weatherを削除\n",
    "race_df.drop(['weather'], axis=1, inplace=True)"
   ]
  },
  {
   "cell_type": "markdown",
   "id": "5d9170a7",
   "metadata": {},
   "source": [
    "##### ground_status"
   ]
  },
  {
   "cell_type": "code",
   "execution_count": 35,
   "id": "66934589",
   "metadata": {},
   "outputs": [],
   "source": [
    "#それぞれのステータスを数字に置換\n",
    "race_df['ground_status'] = race_df['ground_status'].replace('.*(稍重).*', 4,regex=True)\n",
    "race_df['ground_status'] = race_df['ground_status'].replace('.*(重).*', 3,regex=True)\n",
    "race_df['ground_status'] = race_df['ground_status'].replace('.*(不).*', 2,regex=True)\n",
    "race_df['ground_status'] = race_df['ground_status'].replace('.*(不良).*', 2,regex=True)\n",
    "race_df['ground_status'] = race_df['ground_status'].replace('.*(良).*', 1,regex=True)"
   ]
  },
  {
   "cell_type": "code",
   "execution_count": 36,
   "id": "28130fdf",
   "metadata": {},
   "outputs": [
    {
     "data": {
      "text/plain": [
       "0    2\n",
       "Name: ground_status, dtype: int64"
      ]
     },
     "execution_count": 36,
     "metadata": {},
     "output_type": "execute_result"
    }
   ],
   "source": [
    "race_df['ground_status']"
   ]
  },
  {
   "cell_type": "markdown",
   "id": "2d0bafc2",
   "metadata": {},
   "source": [
    "##### time"
   ]
  },
  {
   "cell_type": "code",
   "execution_count": 37,
   "id": "1210a5e0",
   "metadata": {},
   "outputs": [],
   "source": [
    "#timeとdateの情報からdatetimeを作成\n",
    "warnings.filterwarnings('ignore', 'The default value of regex')\n",
    "race_df[\"time\"] = race_df[\"time\"].str.replace('発走 : (\\d\\d):(\\d\\d)(.|\\n)*', r'\\1時\\2分')\n",
    "race_df[\"datetime\"] = race_df[\"date\"] + race_df[\"time\"]\n",
    "race_df[\"datetime\"] = pd.to_datetime(race_df['datetime'], format='%Y年%m月%d日%H時%M分')"
   ]
  },
  {
   "cell_type": "code",
   "execution_count": 38,
   "id": "6d7fdbf3",
   "metadata": {},
   "outputs": [],
   "source": [
    "#timeとdateを削除\n",
    "race_df.drop(['time'], axis=1, inplace=True)\n",
    "race_df.drop(['date'], axis=1, inplace=True)"
   ]
  },
  {
   "cell_type": "markdown",
   "id": "b52d877e",
   "metadata": {},
   "source": [
    "##### where_racecourse"
   ]
  },
  {
   "cell_type": "code",
   "execution_count": 39,
   "id": "99614e9e",
   "metadata": {
    "scrolled": true
   },
   "outputs": [],
   "source": [
    "#会場の情報だけ抜き出す\n",
    "race_df[\"where_racecourse\"] = race_df[\"where_racecourse\"].str.replace('\\d*回(..)\\d*日目', r'\\1')"
   ]
  },
  {
   "cell_type": "code",
   "execution_count": 40,
   "id": "cea1e295",
   "metadata": {},
   "outputs": [],
   "source": [
    "#それぞれを数字に変換\n",
    "race_df['where_racecourse'] = race_df['where_racecourse'].replace('.*札幌.*', 1,regex=True)\n",
    "race_df['where_racecourse'] = race_df['where_racecourse'].replace('.*函館.*', 2,regex=True)\n",
    "race_df['where_racecourse'] = race_df['where_racecourse'].replace('.*福島.*', 3,regex=True)\n",
    "race_df['where_racecourse'] = race_df['where_racecourse'].replace('.*新潟.*', 4,regex=True)\n",
    "race_df['where_racecourse'] = race_df['where_racecourse'].replace('.*東京.*', 5,regex=True)\n",
    "race_df['where_racecourse'] = race_df['where_racecourse'].replace('.*中山.*', 6,regex=True)\n",
    "race_df['where_racecourse'] = race_df['where_racecourse'].replace('.*中京.*', 7,regex=True)\n",
    "race_df['where_racecourse'] = race_df['where_racecourse'].replace('.*京都.*', 8,regex=True)\n",
    "race_df['where_racecourse'] = race_df['where_racecourse'].replace('.*阪神.*', 9,regex=True)\n",
    "race_df['where_racecourse'] = race_df['where_racecourse'].replace('.*小倉.*', 10,regex=True)\n",
    "#1札幌　2函館　3福島　4新潟　5東京　6中山　7中京　8京都　9阪神　10小倉　"
   ]
  },
  {
   "cell_type": "markdown",
   "id": "675cc32d",
   "metadata": {},
   "source": [
    "#####  total_horse_number "
   ]
  },
  {
   "cell_type": "code",
   "execution_count": 41,
   "id": "9b3d4c7d",
   "metadata": {},
   "outputs": [],
   "source": [
    "#objectをintに変換\n",
    "race_df['total_horse_number'] = race_df['total_horse_number'].astype(int)"
   ]
  },
  {
   "cell_type": "markdown",
   "id": "501c7780",
   "metadata": {},
   "source": [
    "##### ground_type"
   ]
  },
  {
   "cell_type": "code",
   "execution_count": 42,
   "id": "625af770",
   "metadata": {},
   "outputs": [
    {
     "data": {
      "text/plain": [
       "0    0\n",
       "Name: ground_type, dtype: int64"
      ]
     },
     "execution_count": 42,
     "metadata": {},
     "output_type": "execute_result"
    }
   ],
   "source": [
    "#それぞれを数字に変換\n",
    "race_df['ground_type'] = race_df['ground_type'].replace('.*芝.*', 0,regex=True)\n",
    "race_df['ground_type'] = race_df['ground_type'].replace('.*ダ.*', 1,regex=True)\n",
    "race_df['ground_type'] = race_df['ground_type'].replace('.*障.*', 2,regex=True)\n",
    "race_df['ground_type'] "
   ]
  },
  {
   "cell_type": "markdown",
   "id": "944d0362",
   "metadata": {},
   "source": [
    "##### is_left_right_straight"
   ]
  },
  {
   "cell_type": "code",
   "execution_count": 43,
   "id": "f21d384a",
   "metadata": {},
   "outputs": [],
   "source": [
    "#上記のnullを0で埋める\n",
    "race_df.fillna(value={'is_left_right_straight': 0}, inplace=True)\n",
    "#それぞれを数字に変換\n",
    "race_df['is_left_right_straight'] = race_df['is_left_right_straight'].replace('.*右.*', 1,regex=True)\n",
    "race_df['is_left_right_straight'] = race_df['is_left_right_straight'].replace('.*左.*', 2,regex=True)"
   ]
  },
  {
   "cell_type": "code",
   "execution_count": 44,
   "id": "c68705c3",
   "metadata": {},
   "outputs": [
    {
     "data": {
      "text/html": [
       "<div>\n",
       "<style scoped>\n",
       "    .dataframe tbody tr th:only-of-type {\n",
       "        vertical-align: middle;\n",
       "    }\n",
       "\n",
       "    .dataframe tbody tr th {\n",
       "        vertical-align: top;\n",
       "    }\n",
       "\n",
       "    .dataframe thead th {\n",
       "        text-align: right;\n",
       "    }\n",
       "</style>\n",
       "<table border=\"1\" class=\"dataframe\">\n",
       "  <thead>\n",
       "    <tr style=\"text-align: right;\">\n",
       "      <th></th>\n",
       "      <th>race_id</th>\n",
       "      <th>race_round</th>\n",
       "      <th>race_title</th>\n",
       "      <th>ground_status</th>\n",
       "      <th>where_racecourse</th>\n",
       "      <th>total_horse_number</th>\n",
       "      <th>ground_type</th>\n",
       "      <th>is_left_right_straight</th>\n",
       "      <th>distance</th>\n",
       "      <th>is_obstacle</th>\n",
       "      <th>weather_rain</th>\n",
       "      <th>weather_snow</th>\n",
       "      <th>datetime</th>\n",
       "    </tr>\n",
       "  </thead>\n",
       "  <tbody>\n",
       "    <tr>\n",
       "      <th>0</th>\n",
       "      <td>202307020611</td>\n",
       "      <td>11</td>\n",
       "      <td>高松宮記念</td>\n",
       "      <td>2</td>\n",
       "      <td>7</td>\n",
       "      <td>18</td>\n",
       "      <td>0</td>\n",
       "      <td>2</td>\n",
       "      <td>1200</td>\n",
       "      <td>0</td>\n",
       "      <td>1</td>\n",
       "      <td>0</td>\n",
       "      <td>2023-03-26 15:40:00</td>\n",
       "    </tr>\n",
       "  </tbody>\n",
       "</table>\n",
       "</div>"
      ],
      "text/plain": [
       "        race_id  race_round race_title  ground_status  where_racecourse  \\\n",
       "0  202307020611          11      高松宮記念              2                 7   \n",
       "\n",
       "   total_horse_number  ground_type  is_left_right_straight  distance  \\\n",
       "0                  18            0                       2      1200   \n",
       "\n",
       "   is_obstacle  weather_rain  weather_snow            datetime  \n",
       "0            0             1             0 2023-03-26 15:40:00  "
      ]
     },
     "execution_count": 44,
     "metadata": {},
     "output_type": "execute_result"
    }
   ],
   "source": [
    "race_df"
   ]
  },
  {
   "cell_type": "code",
   "execution_count": 45,
   "id": "1e539581",
   "metadata": {},
   "outputs": [
    {
     "name": "stdout",
     "output_type": "stream",
     "text": [
      "<class 'pandas.core.frame.DataFrame'>\n",
      "RangeIndex: 1 entries, 0 to 0\n",
      "Data columns (total 13 columns):\n",
      " #   Column                  Non-Null Count  Dtype         \n",
      "---  ------                  --------------  -----         \n",
      " 0   race_id                 1 non-null      object        \n",
      " 1   race_round              1 non-null      int32         \n",
      " 2   race_title              1 non-null      object        \n",
      " 3   ground_status           1 non-null      int64         \n",
      " 4   where_racecourse        1 non-null      int64         \n",
      " 5   total_horse_number      1 non-null      int32         \n",
      " 6   ground_type             1 non-null      int64         \n",
      " 7   is_left_right_straight  1 non-null      int64         \n",
      " 8   distance                1 non-null      int64         \n",
      " 9   is_obstacle             1 non-null      int64         \n",
      " 10  weather_rain            1 non-null      int64         \n",
      " 11  weather_snow            1 non-null      int64         \n",
      " 12  datetime                1 non-null      datetime64[ns]\n",
      "dtypes: datetime64[ns](1), int32(2), int64(8), object(2)\n",
      "memory usage: 224.0+ bytes\n"
     ]
    }
   ],
   "source": [
    "race_df.info()"
   ]
  },
  {
   "cell_type": "code",
   "execution_count": 46,
   "id": "6ad484cf",
   "metadata": {},
   "outputs": [],
   "source": [
    "#csvの書き出し\n",
    "race_df.to_csv(\"../data/main/target_race_data.csv\", index=False)"
   ]
  },
  {
   "cell_type": "markdown",
   "id": "d1c2009a",
   "metadata": {},
   "source": [
    "##### google cloud"
   ]
  },
  {
   "cell_type": "code",
   "execution_count": 47,
   "id": "02f48395",
   "metadata": {},
   "outputs": [],
   "source": [
    "# サービスアカウントキーを指定\n",
    "client = storage.Client.from_service_account_json(key_name)"
   ]
  },
  {
   "cell_type": "code",
   "execution_count": 48,
   "id": "6256722c",
   "metadata": {},
   "outputs": [],
   "source": [
    "#その他の情報を指定\n",
    "bucket = client.get_bucket(bucket_name)\n",
    "blob = bucket.blob(race_file_upload)\n",
    "blob.upload_from_filename(race_file_name)"
   ]
  },
  {
   "cell_type": "markdown",
   "id": "3aa79af8",
   "metadata": {},
   "source": [
    "# horse"
   ]
  },
  {
   "cell_type": "code",
   "execution_count": 49,
   "id": "672e64e0",
   "metadata": {},
   "outputs": [],
   "source": [
    "#BeautifulSoupの設定\n",
    "load_url = URL\n",
    "html = requests.get(load_url)\n",
    "soup = BeautifulSoup(html.content, \"html.parser\")"
   ]
  },
  {
   "cell_type": "code",
   "execution_count": 50,
   "id": "993cf377",
   "metadata": {},
   "outputs": [],
   "source": [
    "#保存リストを作成\n",
    "horse_list = []\n",
    "result_row  = []\n",
    "horse_list_waku = []\n",
    "horse_list_num = []\n",
    "horse_list_horse_id = []\n",
    "horse_list_agesex = []\n",
    "horse_list_weight = []\n",
    "horse_list_rider_id = []\n",
    "horse_list_stable_id = []\n",
    "horse_list_horseweight = []\n",
    "horse_list_odds = []\n",
    "horse_list_popluar = []\n",
    "horse_list_horse_name = []"
   ]
  },
  {
   "cell_type": "code",
   "execution_count": 51,
   "id": "53319513",
   "metadata": {},
   "outputs": [],
   "source": [
    "#tableの情報を取得\n",
    "horse_tables = soup.findAll(\"table\", class_=\"RaceTable01\")\n",
    "horse_table = horse_tables[0].findAll('tr', class_=\"HorseList\")"
   ]
  },
  {
   "cell_type": "code",
   "execution_count": 52,
   "id": "5d4300ce",
   "metadata": {},
   "outputs": [],
   "source": [
    "#tableの情報から各情報を抜き出す\n",
    "for i in range(len(horse_table)):\n",
    "    result_row = horse_table[i].findAll(\"td\")\n",
    "    horse_list_waku.append(result_row[0].get_text())#枠\n",
    "    horse_list_num.append(result_row[1].get_text())#番号\n",
    "    horse_list_horse_id.append(result_row[3].find('a').get('href').split(\"/\")[-1])#馬名\n",
    "    horse_list_agesex.append(result_row[4].get_text())#性別年齢\n",
    "    horse_list_weight.append(result_row[5].get_text())#斤量\n",
    "    horse_list_rider_id.append(result_row[6].find('a').get('href').split(\"/\")[-2])#騎手\n",
    "    horse_list_stable_id.append(result_row[7].find('a').get('href').split(\"/\")[-2])#厩舎\n",
    "    horse_list_horseweight.append(result_row[8].get_text())#馬体重\n",
    "    horse_list_odds.append(result_row[9].get_text())#オッズ\n",
    "    horse_list_popluar.append(result_row[10].get_text())#人気\n",
    "    horse_list_horse_name.append(result_row[3].get_text())#馬の名前"
   ]
  },
  {
   "cell_type": "code",
   "execution_count": 53,
   "id": "a8d8ad5a",
   "metadata": {},
   "outputs": [],
   "source": [
    "#辞書のリストを作成\n",
    "horse_data = []\n",
    "for i in range(len(horse_table)):\n",
    "    horse_data.append({\n",
    "            'frame_number':horse_list_waku[i],\n",
    "            'horse_number':horse_list_num[i],\n",
    "            'horse_id':horse_list_horse_id[i],\n",
    "            'sex_and_age':horse_list_agesex[i],\n",
    "            'burden_weight':horse_list_weight[i],\n",
    "            'rider_id':horse_list_rider_id[i],\n",
    "            'tamer_id':horse_list_stable_id[i],\n",
    "            'horse_weight':horse_list_horseweight[i],\n",
    "            'odds':horse_list_odds[i],\n",
    "            'popular':horse_list_popluar[i],\n",
    "            'horse_name':horse_list_horse_name[i]\n",
    "        })\n",
    "# 辞書のリストをDataFrameに変換する\n",
    "horse_df = pd.DataFrame(horse_data)"
   ]
  },
  {
   "cell_type": "code",
   "execution_count": 54,
   "id": "37d01237",
   "metadata": {},
   "outputs": [],
   "source": [
    "#race_idを入力\n",
    "horse_df['race_id'] = race_id_text"
   ]
  },
  {
   "cell_type": "code",
   "execution_count": 55,
   "id": "8086e6f9",
   "metadata": {},
   "outputs": [
    {
     "name": "stdout",
     "output_type": "stream",
     "text": [
      "<class 'pandas.core.frame.DataFrame'>\n",
      "RangeIndex: 18 entries, 0 to 17\n",
      "Data columns (total 12 columns):\n",
      " #   Column         Non-Null Count  Dtype \n",
      "---  ------         --------------  ----- \n",
      " 0   frame_number   18 non-null     object\n",
      " 1   horse_number   18 non-null     object\n",
      " 2   horse_id       18 non-null     object\n",
      " 3   sex_and_age    18 non-null     object\n",
      " 4   burden_weight  18 non-null     object\n",
      " 5   rider_id       18 non-null     object\n",
      " 6   tamer_id       18 non-null     object\n",
      " 7   horse_weight   18 non-null     object\n",
      " 8   odds           18 non-null     object\n",
      " 9   popular        18 non-null     object\n",
      " 10  horse_name     18 non-null     object\n",
      " 11  race_id        18 non-null     object\n",
      "dtypes: object(12)\n",
      "memory usage: 1.8+ KB\n"
     ]
    }
   ],
   "source": [
    "horse_df.info()"
   ]
  },
  {
   "cell_type": "markdown",
   "id": "625852eb",
   "metadata": {},
   "source": [
    "##### Cleaning"
   ]
  },
  {
   "cell_type": "markdown",
   "id": "b6dc998f",
   "metadata": {},
   "source": [
    "##### frame_number"
   ]
  },
  {
   "cell_type": "code",
   "execution_count": 56,
   "id": "3382642f",
   "metadata": {},
   "outputs": [],
   "source": [
    "#intに変換\n",
    "horse_df['frame_number'] = horse_df['frame_number'].astype(int)"
   ]
  },
  {
   "cell_type": "markdown",
   "id": "2c370ee2",
   "metadata": {},
   "source": [
    "##### horse_number"
   ]
  },
  {
   "cell_type": "code",
   "execution_count": 57,
   "id": "d6e46c8b",
   "metadata": {},
   "outputs": [],
   "source": [
    "#intに変換\n",
    "horse_df['horse_number'] = horse_df['horse_number'].astype(int)"
   ]
  },
  {
   "cell_type": "markdown",
   "id": "9d021f83",
   "metadata": {},
   "source": [
    "##### horse_id"
   ]
  },
  {
   "cell_type": "code",
   "execution_count": 58,
   "id": "5fef7d0e",
   "metadata": {},
   "outputs": [],
   "source": [
    "#horse_df['horse_id'] = horse_df['horse_id'].astype(int)"
   ]
  },
  {
   "cell_type": "markdown",
   "id": "05714712",
   "metadata": {},
   "source": [
    "##### sex_and_age"
   ]
  },
  {
   "cell_type": "code",
   "execution_count": 59,
   "id": "90786184",
   "metadata": {},
   "outputs": [],
   "source": [
    "#数字のみ抜き出し\n",
    "horse_df[\"age\"] = horse_df[\"sex_and_age\"].str.extract('([0-9]+)', expand=True)\n",
    "horse_df[\"age\"] = horse_df[\"age\"] .astype(int)"
   ]
  },
  {
   "cell_type": "code",
   "execution_count": 60,
   "id": "bf6eb68f",
   "metadata": {},
   "outputs": [],
   "source": [
    "#それぞれのステータスを数字に置換\n",
    "horse_df[\"sex_and_age\"]  = horse_df[\"sex_and_age\"].replace('.*(牡).*', 0,regex=True)\n",
    "horse_df[\"sex_and_age\"]  = horse_df[\"sex_and_age\"].replace('.*(牝).*', 1,regex=True)\n",
    "horse_df[\"sex_and_age\"]  = horse_df[\"sex_and_age\"].replace('.*(セ).*', 2,regex=True)"
   ]
  },
  {
   "cell_type": "code",
   "execution_count": 61,
   "id": "095fcd3f",
   "metadata": {},
   "outputs": [],
   "source": [
    "#sexを作成\n",
    "horse_df[\"sex\"] = horse_df[\"sex_and_age\"]"
   ]
  },
  {
   "cell_type": "code",
   "execution_count": 62,
   "id": "9f7ab048",
   "metadata": {},
   "outputs": [],
   "source": [
    "#sex_and_ageを削除\n",
    "horse_df.drop([\"sex_and_age\"] , axis=1, inplace=True)"
   ]
  },
  {
   "cell_type": "markdown",
   "id": "0b7f732d",
   "metadata": {},
   "source": [
    "##### burden_weight"
   ]
  },
  {
   "cell_type": "code",
   "execution_count": 63,
   "id": "de3029f1",
   "metadata": {},
   "outputs": [],
   "source": [
    "horse_df['burden_weight'] = horse_df['burden_weight'].astype(float)"
   ]
  },
  {
   "cell_type": "code",
   "execution_count": 64,
   "id": "33ca2ee1",
   "metadata": {},
   "outputs": [],
   "source": [
    "horse_df['burden_weight'] = horse_df['burden_weight'].astype(int)"
   ]
  },
  {
   "cell_type": "markdown",
   "id": "4e29b8a4",
   "metadata": {},
   "source": [
    "##### rider_id"
   ]
  },
  {
   "cell_type": "code",
   "execution_count": 65,
   "id": "cc89f03a",
   "metadata": {},
   "outputs": [],
   "source": [
    "#horse_df['rider_id'] = horse_df['rider_id'].astype(int)"
   ]
  },
  {
   "cell_type": "markdown",
   "id": "6c32c888",
   "metadata": {},
   "source": [
    "##### tamer_id"
   ]
  },
  {
   "cell_type": "code",
   "execution_count": 66,
   "id": "70ca38b8",
   "metadata": {},
   "outputs": [],
   "source": [
    "#horse_df['tamer_id'] = horse_df['tamer_id'].astype(int)"
   ]
  },
  {
   "cell_type": "markdown",
   "id": "500b2db4",
   "metadata": {},
   "source": [
    "##### horse_weight"
   ]
  },
  {
   "cell_type": "code",
   "execution_count": 67,
   "id": "9e85577f",
   "metadata": {},
   "outputs": [],
   "source": [
    "#()ないの文字を抜き出して、差分を取得\n",
    "horse_weight_dif = horse_df[\"horse_weight\"].str.extract('\\(([-|+]?\\d*)\\)', expand=True)\n",
    "horse_weight_dif.columns ={\"horse_weight_dif\"}\n",
    "horse_df = pd.concat([horse_df, horse_weight_dif], axis=1)\n",
    "#horse_weight_difを作成\n",
    "horse_df['horse_weight_dif'] = horse_df['horse_weight_dif'].astype(int)"
   ]
  },
  {
   "cell_type": "code",
   "execution_count": 68,
   "id": "01a45e21",
   "metadata": {},
   "outputs": [],
   "source": [
    "#不要な文字の削除\n",
    "horse_df['horse_weight'] = horse_df['horse_weight'].replace('\\(([-|+]?\\d*)\\)', '', regex=True)\n",
    "horse_df['horse_weight'] = horse_df['horse_weight'].replace('計不', np.nan)\n",
    "horse_df['horse_weight'] = horse_df['horse_weight'].astype(int)"
   ]
  },
  {
   "cell_type": "markdown",
   "id": "8507c7ec",
   "metadata": {},
   "source": [
    "##### odds"
   ]
  },
  {
   "cell_type": "markdown",
   "id": "58e37027",
   "metadata": {},
   "source": [
    "##### popular"
   ]
  },
  {
   "cell_type": "code",
   "execution_count": 69,
   "id": "4b27d54f",
   "metadata": {},
   "outputs": [],
   "source": [
    "#oddsとpopularの情報を削除 ->ほかのファイルにまとめる\n",
    "horse_df = horse_df.drop(['odds','popular'],axis=1)"
   ]
  },
  {
   "cell_type": "markdown",
   "id": "8ab95b44",
   "metadata": {},
   "source": [
    "##### horse_name"
   ]
  },
  {
   "cell_type": "code",
   "execution_count": 70,
   "id": "f46a369f",
   "metadata": {},
   "outputs": [],
   "source": [
    "horse_df['horse_name'] = horse_df['horse_name'].str.strip()"
   ]
  },
  {
   "cell_type": "code",
   "execution_count": 71,
   "id": "211281f6",
   "metadata": {},
   "outputs": [
    {
     "name": "stdout",
     "output_type": "stream",
     "text": [
      "<class 'pandas.core.frame.DataFrame'>\n",
      "RangeIndex: 18 entries, 0 to 17\n",
      "Data columns (total 12 columns):\n",
      " #   Column            Non-Null Count  Dtype \n",
      "---  ------            --------------  ----- \n",
      " 0   frame_number      18 non-null     int32 \n",
      " 1   horse_number      18 non-null     int32 \n",
      " 2   horse_id          18 non-null     object\n",
      " 3   burden_weight     18 non-null     int32 \n",
      " 4   rider_id          18 non-null     object\n",
      " 5   tamer_id          18 non-null     object\n",
      " 6   horse_weight      18 non-null     int32 \n",
      " 7   horse_name        18 non-null     object\n",
      " 8   race_id           18 non-null     object\n",
      " 9   age               18 non-null     int32 \n",
      " 10  sex               18 non-null     int64 \n",
      " 11  horse_weight_dif  18 non-null     int32 \n",
      "dtypes: int32(6), int64(1), object(5)\n",
      "memory usage: 1.4+ KB\n"
     ]
    }
   ],
   "source": [
    "horse_df.info()"
   ]
  },
  {
   "cell_type": "code",
   "execution_count": 72,
   "id": "30906871",
   "metadata": {},
   "outputs": [
    {
     "data": {
      "text/html": [
       "<div>\n",
       "<style scoped>\n",
       "    .dataframe tbody tr th:only-of-type {\n",
       "        vertical-align: middle;\n",
       "    }\n",
       "\n",
       "    .dataframe tbody tr th {\n",
       "        vertical-align: top;\n",
       "    }\n",
       "\n",
       "    .dataframe thead th {\n",
       "        text-align: right;\n",
       "    }\n",
       "</style>\n",
       "<table border=\"1\" class=\"dataframe\">\n",
       "  <thead>\n",
       "    <tr style=\"text-align: right;\">\n",
       "      <th></th>\n",
       "      <th>frame_number</th>\n",
       "      <th>horse_number</th>\n",
       "      <th>horse_id</th>\n",
       "      <th>burden_weight</th>\n",
       "      <th>rider_id</th>\n",
       "      <th>tamer_id</th>\n",
       "      <th>horse_weight</th>\n",
       "      <th>horse_name</th>\n",
       "      <th>race_id</th>\n",
       "      <th>age</th>\n",
       "      <th>sex</th>\n",
       "      <th>horse_weight_dif</th>\n",
       "    </tr>\n",
       "  </thead>\n",
       "  <tbody>\n",
       "    <tr>\n",
       "      <th>0</th>\n",
       "      <td>1</td>\n",
       "      <td>1</td>\n",
       "      <td>2015104364</td>\n",
       "      <td>58</td>\n",
       "      <td>01091</td>\n",
       "      <td>01135</td>\n",
       "      <td>484</td>\n",
       "      <td>トゥラヴェスーラ</td>\n",
       "      <td>202307020611</td>\n",
       "      <td>8</td>\n",
       "      <td>0</td>\n",
       "      <td>-12</td>\n",
       "    </tr>\n",
       "    <tr>\n",
       "      <th>1</th>\n",
       "      <td>1</td>\n",
       "      <td>2</td>\n",
       "      <td>2019102788</td>\n",
       "      <td>56</td>\n",
       "      <td>01095</td>\n",
       "      <td>01160</td>\n",
       "      <td>470</td>\n",
       "      <td>ウォーターナビレラ</td>\n",
       "      <td>202307020611</td>\n",
       "      <td>4</td>\n",
       "      <td>1</td>\n",
       "      <td>-16</td>\n",
       "    </tr>\n",
       "    <tr>\n",
       "      <th>2</th>\n",
       "      <td>2</td>\n",
       "      <td>3</td>\n",
       "      <td>2015101028</td>\n",
       "      <td>58</td>\n",
       "      <td>01018</td>\n",
       "      <td>01027</td>\n",
       "      <td>502</td>\n",
       "      <td>キルロード</td>\n",
       "      <td>202307020611</td>\n",
       "      <td>8</td>\n",
       "      <td>2</td>\n",
       "      <td>-6</td>\n",
       "    </tr>\n",
       "    <tr>\n",
       "      <th>3</th>\n",
       "      <td>2</td>\n",
       "      <td>4</td>\n",
       "      <td>2018105610</td>\n",
       "      <td>58</td>\n",
       "      <td>01019</td>\n",
       "      <td>01120</td>\n",
       "      <td>512</td>\n",
       "      <td>ダディーズビビッド</td>\n",
       "      <td>202307020611</td>\n",
       "      <td>5</td>\n",
       "      <td>0</td>\n",
       "      <td>-2</td>\n",
       "    </tr>\n",
       "    <tr>\n",
       "      <th>4</th>\n",
       "      <td>3</td>\n",
       "      <td>5</td>\n",
       "      <td>2018105069</td>\n",
       "      <td>56</td>\n",
       "      <td>01032</td>\n",
       "      <td>01161</td>\n",
       "      <td>486</td>\n",
       "      <td>メイケイエール</td>\n",
       "      <td>202307020611</td>\n",
       "      <td>5</td>\n",
       "      <td>1</td>\n",
       "      <td>9</td>\n",
       "    </tr>\n",
       "    <tr>\n",
       "      <th>5</th>\n",
       "      <td>3</td>\n",
       "      <td>6</td>\n",
       "      <td>2016106453</td>\n",
       "      <td>58</td>\n",
       "      <td>01117</td>\n",
       "      <td>00420</td>\n",
       "      <td>492</td>\n",
       "      <td>ナランフレグ</td>\n",
       "      <td>202307020611</td>\n",
       "      <td>7</td>\n",
       "      <td>0</td>\n",
       "      <td>-6</td>\n",
       "    </tr>\n",
       "    <tr>\n",
       "      <th>6</th>\n",
       "      <td>4</td>\n",
       "      <td>7</td>\n",
       "      <td>2017100434</td>\n",
       "      <td>58</td>\n",
       "      <td>01171</td>\n",
       "      <td>01113</td>\n",
       "      <td>520</td>\n",
       "      <td>ヴェントヴォーチェ</td>\n",
       "      <td>202307020611</td>\n",
       "      <td>6</td>\n",
       "      <td>0</td>\n",
       "      <td>6</td>\n",
       "    </tr>\n",
       "    <tr>\n",
       "      <th>7</th>\n",
       "      <td>4</td>\n",
       "      <td>8</td>\n",
       "      <td>2017110144</td>\n",
       "      <td>56</td>\n",
       "      <td>05203</td>\n",
       "      <td>01183</td>\n",
       "      <td>484</td>\n",
       "      <td>ロータスランド</td>\n",
       "      <td>202307020611</td>\n",
       "      <td>6</td>\n",
       "      <td>1</td>\n",
       "      <td>6</td>\n",
       "    </tr>\n",
       "    <tr>\n",
       "      <th>8</th>\n",
       "      <td>5</td>\n",
       "      <td>9</td>\n",
       "      <td>2017100583</td>\n",
       "      <td>58</td>\n",
       "      <td>01191</td>\n",
       "      <td>00427</td>\n",
       "      <td>478</td>\n",
       "      <td>ディヴィナシオン</td>\n",
       "      <td>202307020611</td>\n",
       "      <td>6</td>\n",
       "      <td>0</td>\n",
       "      <td>6</td>\n",
       "    </tr>\n",
       "    <tr>\n",
       "      <th>9</th>\n",
       "      <td>5</td>\n",
       "      <td>10</td>\n",
       "      <td>2017100381</td>\n",
       "      <td>56</td>\n",
       "      <td>01169</td>\n",
       "      <td>01064</td>\n",
       "      <td>476</td>\n",
       "      <td>オパールシャルム</td>\n",
       "      <td>202307020611</td>\n",
       "      <td>6</td>\n",
       "      <td>1</td>\n",
       "      <td>-10</td>\n",
       "    </tr>\n",
       "    <tr>\n",
       "      <th>10</th>\n",
       "      <td>6</td>\n",
       "      <td>11</td>\n",
       "      <td>2018105204</td>\n",
       "      <td>58</td>\n",
       "      <td>05386</td>\n",
       "      <td>01002</td>\n",
       "      <td>530</td>\n",
       "      <td>ピクシーナイト</td>\n",
       "      <td>202307020611</td>\n",
       "      <td>5</td>\n",
       "      <td>0</td>\n",
       "      <td>2</td>\n",
       "    </tr>\n",
       "    <tr>\n",
       "      <th>11</th>\n",
       "      <td>6</td>\n",
       "      <td>12</td>\n",
       "      <td>2019105126</td>\n",
       "      <td>58</td>\n",
       "      <td>01140</td>\n",
       "      <td>00438</td>\n",
       "      <td>492</td>\n",
       "      <td>アグリ</td>\n",
       "      <td>202307020611</td>\n",
       "      <td>4</td>\n",
       "      <td>0</td>\n",
       "      <td>-4</td>\n",
       "    </tr>\n",
       "    <tr>\n",
       "      <th>12</th>\n",
       "      <td>7</td>\n",
       "      <td>13</td>\n",
       "      <td>2016102197</td>\n",
       "      <td>58</td>\n",
       "      <td>01180</td>\n",
       "      <td>01148</td>\n",
       "      <td>518</td>\n",
       "      <td>ファストフォース</td>\n",
       "      <td>202307020611</td>\n",
       "      <td>7</td>\n",
       "      <td>0</td>\n",
       "      <td>-8</td>\n",
       "    </tr>\n",
       "    <tr>\n",
       "      <th>13</th>\n",
       "      <td>7</td>\n",
       "      <td>14</td>\n",
       "      <td>2019106526</td>\n",
       "      <td>58</td>\n",
       "      <td>01157</td>\n",
       "      <td>01118</td>\n",
       "      <td>462</td>\n",
       "      <td>トウシンマカオ</td>\n",
       "      <td>202307020611</td>\n",
       "      <td>4</td>\n",
       "      <td>0</td>\n",
       "      <td>-4</td>\n",
       "    </tr>\n",
       "    <tr>\n",
       "      <th>14</th>\n",
       "      <td>7</td>\n",
       "      <td>15</td>\n",
       "      <td>2019103753</td>\n",
       "      <td>56</td>\n",
       "      <td>01115</td>\n",
       "      <td>01173</td>\n",
       "      <td>466</td>\n",
       "      <td>ナムラクレア</td>\n",
       "      <td>202307020611</td>\n",
       "      <td>4</td>\n",
       "      <td>1</td>\n",
       "      <td>-6</td>\n",
       "    </tr>\n",
       "    <tr>\n",
       "      <th>15</th>\n",
       "      <td>8</td>\n",
       "      <td>16</td>\n",
       "      <td>2018104934</td>\n",
       "      <td>58</td>\n",
       "      <td>01174</td>\n",
       "      <td>01137</td>\n",
       "      <td>468</td>\n",
       "      <td>グレナディアガーズ</td>\n",
       "      <td>202307020611</td>\n",
       "      <td>5</td>\n",
       "      <td>0</td>\n",
       "      <td>-6</td>\n",
       "    </tr>\n",
       "    <tr>\n",
       "      <th>16</th>\n",
       "      <td>8</td>\n",
       "      <td>17</td>\n",
       "      <td>2017101121</td>\n",
       "      <td>56</td>\n",
       "      <td>01128</td>\n",
       "      <td>01084</td>\n",
       "      <td>436</td>\n",
       "      <td>ボンボヤージ</td>\n",
       "      <td>202307020611</td>\n",
       "      <td>6</td>\n",
       "      <td>1</td>\n",
       "      <td>-10</td>\n",
       "    </tr>\n",
       "    <tr>\n",
       "      <th>17</th>\n",
       "      <td>8</td>\n",
       "      <td>18</td>\n",
       "      <td>2019100213</td>\n",
       "      <td>58</td>\n",
       "      <td>01126</td>\n",
       "      <td>01174</td>\n",
       "      <td>474</td>\n",
       "      <td>ウインマーベル</td>\n",
       "      <td>202307020611</td>\n",
       "      <td>4</td>\n",
       "      <td>0</td>\n",
       "      <td>-6</td>\n",
       "    </tr>\n",
       "  </tbody>\n",
       "</table>\n",
       "</div>"
      ],
      "text/plain": [
       "    frame_number  horse_number    horse_id  burden_weight rider_id tamer_id  \\\n",
       "0              1             1  2015104364             58    01091    01135   \n",
       "1              1             2  2019102788             56    01095    01160   \n",
       "2              2             3  2015101028             58    01018    01027   \n",
       "3              2             4  2018105610             58    01019    01120   \n",
       "4              3             5  2018105069             56    01032    01161   \n",
       "5              3             6  2016106453             58    01117    00420   \n",
       "6              4             7  2017100434             58    01171    01113   \n",
       "7              4             8  2017110144             56    05203    01183   \n",
       "8              5             9  2017100583             58    01191    00427   \n",
       "9              5            10  2017100381             56    01169    01064   \n",
       "10             6            11  2018105204             58    05386    01002   \n",
       "11             6            12  2019105126             58    01140    00438   \n",
       "12             7            13  2016102197             58    01180    01148   \n",
       "13             7            14  2019106526             58    01157    01118   \n",
       "14             7            15  2019103753             56    01115    01173   \n",
       "15             8            16  2018104934             58    01174    01137   \n",
       "16             8            17  2017101121             56    01128    01084   \n",
       "17             8            18  2019100213             58    01126    01174   \n",
       "\n",
       "    horse_weight horse_name       race_id  age  sex  horse_weight_dif  \n",
       "0            484   トゥラヴェスーラ  202307020611    8    0               -12  \n",
       "1            470  ウォーターナビレラ  202307020611    4    1               -16  \n",
       "2            502      キルロード  202307020611    8    2                -6  \n",
       "3            512  ダディーズビビッド  202307020611    5    0                -2  \n",
       "4            486    メイケイエール  202307020611    5    1                 9  \n",
       "5            492     ナランフレグ  202307020611    7    0                -6  \n",
       "6            520  ヴェントヴォーチェ  202307020611    6    0                 6  \n",
       "7            484    ロータスランド  202307020611    6    1                 6  \n",
       "8            478   ディヴィナシオン  202307020611    6    0                 6  \n",
       "9            476   オパールシャルム  202307020611    6    1               -10  \n",
       "10           530    ピクシーナイト  202307020611    5    0                 2  \n",
       "11           492        アグリ  202307020611    4    0                -4  \n",
       "12           518   ファストフォース  202307020611    7    0                -8  \n",
       "13           462    トウシンマカオ  202307020611    4    0                -4  \n",
       "14           466     ナムラクレア  202307020611    4    1                -6  \n",
       "15           468  グレナディアガーズ  202307020611    5    0                -6  \n",
       "16           436     ボンボヤージ  202307020611    6    1               -10  \n",
       "17           474    ウインマーベル  202307020611    4    0                -6  "
      ]
     },
     "execution_count": 72,
     "metadata": {},
     "output_type": "execute_result"
    }
   ],
   "source": [
    "horse_df"
   ]
  },
  {
   "cell_type": "code",
   "execution_count": 73,
   "id": "c7027bef",
   "metadata": {},
   "outputs": [],
   "source": [
    "#csvに書き出し\n",
    "horse_df.to_csv(\"../data/main/target_horse_data.csv\", index=False)"
   ]
  },
  {
   "cell_type": "code",
   "execution_count": 74,
   "id": "a019586b",
   "metadata": {},
   "outputs": [],
   "source": [
    "#保存場所の指定\n",
    "blob = bucket.blob(horse_file_upload)\n",
    "blob.upload_from_filename(horse_file_name)"
   ]
  }
 ],
 "metadata": {
  "kernelspec": {
   "display_name": "Python 3 (ipykernel)",
   "language": "python",
   "name": "python3"
  },
  "language_info": {
   "codemirror_mode": {
    "name": "ipython",
    "version": 3
   },
   "file_extension": ".py",
   "mimetype": "text/x-python",
   "name": "python",
   "nbconvert_exporter": "python",
   "pygments_lexer": "ipython3",
   "version": "3.8.0"
  }
 },
 "nbformat": 4,
 "nbformat_minor": 5
}
