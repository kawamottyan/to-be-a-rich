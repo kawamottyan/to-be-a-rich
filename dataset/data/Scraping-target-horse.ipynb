{
 "cells": [
  {
   "cell_type": "code",
   "execution_count": 1,
   "id": "bf5cd9ab",
   "metadata": {},
   "outputs": [],
   "source": [
    "#保存するディレクトリ\n",
    "dir = 'takamatsu/horsepage/2023'"
   ]
  },
  {
   "cell_type": "code",
   "execution_count": 2,
   "id": "a43b325d",
   "metadata": {},
   "outputs": [],
   "source": [
    "#horseのURL\n",
    "HORSE_URL = ['https://db.netkeiba.com/horse/2015104364',\n",
    "            'https://db.netkeiba.com/horse/2019102788',\n",
    "            'https://db.netkeiba.com/horse/2015101028',\n",
    "            'https://db.netkeiba.com/horse/2018105610',\n",
    "            'https://db.netkeiba.com/horse/2018105069',\n",
    "            'https://db.netkeiba.com/horse/2016106453',\n",
    "            'https://db.netkeiba.com/horse/2017100434',\n",
    "            'https://db.netkeiba.com/horse/2017110144',\n",
    "            'https://db.netkeiba.com/horse/2017100583',\n",
    "            'https://db.netkeiba.com/horse/2017100381',\n",
    "            'https://db.netkeiba.com/horse/2018105204',\n",
    "            'https://db.netkeiba.com/horse/2019105126',\n",
    "            'https://db.netkeiba.com/horse/2016102197',\n",
    "            'https://db.netkeiba.com/horse/2019106526',\n",
    "            'https://db.netkeiba.com/horse/2019103753',\n",
    "            'https://db.netkeiba.com/horse/2018104934',\n",
    "            'https://db.netkeiba.com/horse/2017101121',\n",
    "            'https://db.netkeiba.com/horse/2019100213'\n",
    "            ]"
   ]
  },
  {
   "cell_type": "markdown",
   "id": "6cd0edcb",
   "metadata": {},
   "source": [
    "予測したいレースに関連する馬をスクレイピングするコード"
   ]
  },
  {
   "cell_type": "code",
   "execution_count": 3,
   "id": "46db292a",
   "metadata": {},
   "outputs": [],
   "source": [
    "#インポート文\n",
    "import pandas as pd\n",
    "import numpy as np\n",
    "from bs4 import BeautifulSoup\n",
    "\n",
    "from selenium import webdriver\n",
    "from selenium.webdriver.support.ui import Select,WebDriverWait\n",
    "from selenium.webdriver.support import expected_conditions as EC\n",
    "from selenium.webdriver.chrome.options import Options\n",
    "from selenium.webdriver.common.by import By\n",
    "from webdriver_manager.chrome import ChromeDriverManager\n",
    "\n",
    "import os\n",
    "import time\n",
    "import requests\n",
    "\n",
    "import re"
   ]
  },
  {
   "cell_type": "code",
   "execution_count": 4,
   "id": "f197f076",
   "metadata": {},
   "outputs": [],
   "source": [
    "HTML_DIR = \"html/\"+dir\n",
    "if not os.path.isdir(HTML_DIR):\n",
    "    os.makedirs(HTML_DIR)\n",
    "        \n",
    "for url in HORSE_URL:\n",
    "    list = url.split(\"/\")\n",
    "    horse_id = list[-1]\n",
    "    save_file_path = HTML_DIR+\"/\"+horse_id+'.html'\n",
    "    response = requests.get(url)\n",
    "    response.encoding = response.apparent_encoding\n",
    "    html = response.text\n",
    "    time.sleep(5)\n",
    "    with open(save_file_path, 'w') as file:\n",
    "        file.write(html)"
   ]
  },
  {
   "cell_type": "code",
   "execution_count": 5,
   "id": "1ae7e5e2",
   "metadata": {},
   "outputs": [],
   "source": [
    "horse_data_info_columns=[\n",
    "    'horse_id',\n",
    "    'bday',\n",
    "    'tame_id',\n",
    "    'owner_id',\n",
    "    'producer_id',\n",
    "    'production area',\n",
    "    'auction price',\n",
    "    'winnings',\n",
    "    'lifetime record',\n",
    "    'wined race title',\n",
    "    'inbreeding-1',\n",
    "    'inbreeding-2',\n",
    "    'father',\n",
    "    'faths father',\n",
    "    'faths mother',\n",
    "    'mother',\n",
    "    'moths father',\n",
    "    'moths mother'\n",
    "]"
   ]
  },
  {
   "cell_type": "code",
   "execution_count": 6,
   "id": "3d04da2e",
   "metadata": {},
   "outputs": [],
   "source": [
    "horse_race_columns=[\"date\",\n",
    "                    \"whereracecourse\",\n",
    "                    \"weather\",\n",
    "                    \"race_round\",\n",
    "                    \"race_title\",\n",
    "                    \"race_id\",\n",
    "                    \"total_horse_number\",\n",
    "                    \"frame_number\",\n",
    "                    \"horse_number\",\n",
    "                    \"odds\",\n",
    "                    \"popular\",\n",
    "                    \"rank\",\n",
    "                    \"rider_id\",\n",
    "                    \"horse_wight\",\n",
    "                    \"distance\",\n",
    "                    \"groud_status\",\n",
    "                    'goal_time',\n",
    "                    'goal_time_dif',\n",
    "                    'half_way_rank',\n",
    "                    'pace',\n",
    "                    'last_time',\n",
    "                    'horse_weight',\n",
    "                    'runner-up-horse-id',\n",
    "                    'prize'\n",
    "                    ]"
   ]
  },
  {
   "cell_type": "code",
   "execution_count": 7,
   "id": "eda5a375",
   "metadata": {},
   "outputs": [],
   "source": [
    "def get_horse_data_by_html(horse_id, html):\n",
    "    horse_list = [horse_id]\n",
    "    horse_race_list = []\n",
    "    soup = BeautifulSoup(html, 'html.parser')\n",
    "    horse_tables = soup.find(\"table\", class_=\"db_prof_table\")\n",
    "    horse_table = horse_tables.findAll(\"td\")\n",
    "    #for i in range(10):\n",
    "    horse_list.append(horse_table[0].get_text())\n",
    "    horse_list.append(horse_table[1].find('a').get('href').split(\"/\")[-2])\n",
    "    horse_list.append(horse_table[2].find('a').get('href').split(\"/\")[-2])\n",
    "    horse_list.append(horse_table[3].find('a').get('href').split(\"/\")[-2])\n",
    "    horse_list.append(horse_table[4].get_text())\n",
    "    horse_list.append(horse_table[5].get_text())\n",
    "    horse_list.append(horse_table[6].get_text())\n",
    "    horse_list.append(horse_table[7].get_text())\n",
    "    horse_list.append(horse_table[8].find('a').get('href').split(\"/\")[-2])\n",
    "    \n",
    "    # horse_table[8]からすべてのリンクのURLの一部を取得する\n",
    "    url_parts = [link.get('href').split(\"/\")[-2] for link in horse_table[9].find_all('a')]\n",
    "\n",
    "    # url_partsの要素数が2未満の場合、残りの要素をNaNで埋める\n",
    "    while len(url_parts) < 2:\n",
    "        url_parts.append(np.nan)\n",
    "\n",
    "    # horse_listにurl_partsを追加する\n",
    "    horse_list.extend(url_parts)\n",
    "    \n",
    "    #horse_list.append(horse_table[9].get_text())\n",
    "    blood_tables = soup.find(\"table\", class_=\"blood_table\")\n",
    "    blood_table = blood_tables.findAll(\"td\")\n",
    "    #for i in range(6):\n",
    "    horse_list.append(blood_table[0].find('a').get('href').split(\"/\")[-2])\n",
    "    horse_list.append(blood_table[1].find('a').get('href').split(\"/\")[-2])\n",
    "    horse_list.append(blood_table[2].find('a').get('href').split(\"/\")[-2])\n",
    "    horse_list.append(blood_table[3].find('a').get('href').split(\"/\")[-2])\n",
    "    horse_list.append(blood_table[4].find('a').get('href').split(\"/\")[-2])\n",
    "    horse_list.append(blood_table[5].find('a').get('href').split(\"/\")[-2])    \n",
    "\n",
    "    \n",
    "    \n",
    "#horse_race\n",
    "    horse_tables = soup.find(\"table\", class_=\"db_h_race_results\")\n",
    "    horse_trs = horse_tables.findAll(\"tr\")\n",
    "    for index, horse_tr in enumerate(horse_trs):\n",
    "        if index == 0:\n",
    "            continue\n",
    "        horse_tds = horse_tr.findAll(\"td\")\n",
    "        if horse_tds[26].find('a') is not None:\n",
    "            horse_race_list.append([horse_tds[0].get_text(),\n",
    "                                    horse_tds[1].get_text(),\n",
    "                                    horse_tds[2].get_text(),\n",
    "                                    horse_tds[3].get_text(),\n",
    "                                    horse_tds[4].get_text(),\n",
    "                                    horse_tds[4].find('a').get('href').split(\"/\")[-2],\n",
    "                                    horse_tds[6].get_text(),\n",
    "                                    horse_tds[7].get_text(),\n",
    "                                    horse_tds[8].get_text(),\n",
    "                                    horse_tds[9].get_text(),\n",
    "                                    horse_tds[10].get_text(),\n",
    "                                    horse_tds[11].get_text(),\n",
    "                                    horse_tds[12].find('a').get('href').split(\"/\")[-2],\n",
    "                                    horse_tds[13].get_text(),\n",
    "                                    horse_tds[14].get_text(),\n",
    "                                    horse_tds[15].get_text(),\n",
    "                                    horse_tds[17].get_text(),\n",
    "                                    horse_tds[18].get_text(),\n",
    "                                    horse_tds[20].get_text(),\n",
    "                                    horse_tds[21].get_text(),\n",
    "                                    horse_tds[22].get_text(),\n",
    "                                    horse_tds[23].get_text(),\n",
    "                                    horse_tds[26].find('a').get('href').split(\"/\")[-2],\n",
    "                                    horse_tds[27].get_text(),\n",
    "                                   ])\n",
    "        else:\n",
    "            horse_race_list.append([horse_tds[0].get_text(),\n",
    "                                    horse_tds[1].get_text(),\n",
    "                                    horse_tds[2].get_text(),\n",
    "                                    horse_tds[3].get_text(),\n",
    "                                    horse_tds[4].get_text(),\n",
    "                                    horse_tds[4].find('a').get('href').split(\"/\")[-2],\n",
    "                                    horse_tds[6].get_text(),\n",
    "                                    horse_tds[7].get_text(),\n",
    "                                    horse_tds[8].get_text(),\n",
    "                                    horse_tds[9].get_text(),\n",
    "                                    horse_tds[10].get_text(),\n",
    "                                    horse_tds[11].get_text(),\n",
    "                                    horse_tds[12].find('a').get('href').split(\"/\")[-2],\n",
    "                                    horse_tds[13].get_text(),\n",
    "                                    horse_tds[14].get_text(),\n",
    "                                    horse_tds[15].get_text(),\n",
    "                                    horse_tds[17].get_text(),\n",
    "                                    horse_tds[18].get_text(),\n",
    "                                    horse_tds[20].get_text(),\n",
    "                                    horse_tds[21].get_text(),\n",
    "                                    horse_tds[22].get_text(),\n",
    "                                    horse_tds[23].get_text(),\n",
    "                                    None,\n",
    "                                    horse_tds[27].get_text(),\n",
    "                                   ])\n",
    "                                        \n",
    "    horse_race_tmp_df = pd.DataFrame(horse_race_list, columns=horse_race_columns)\n",
    "    horse_race_tmp_df.loc[:, 'horse_id'] = horse_id\n",
    "    \n",
    "    return horse_list , horse_race_tmp_df"
   ]
  },
  {
   "cell_type": "code",
   "execution_count": 8,
   "id": "df1fe610",
   "metadata": {},
   "outputs": [],
   "source": [
    "CSV_DIR = \"csv/\"+dir\n",
    "if not os.path.isdir(CSV_DIR):\n",
    "    os.makedirs(CSV_DIR)\n",
    "horse_info_csv = CSV_DIR+\"/horse-info.csv\"\n",
    "horse_race_csv = CSV_DIR+\"/horse-race.csv\"\n",
    "horse_info_df = pd.DataFrame(columns=horse_data_info_columns)\n",
    "horse_race_df = pd.DataFrame()\n",
    "if os.path.isdir(HTML_DIR):\n",
    "    file_list = os.listdir(HTML_DIR)\n",
    "    for file_name in file_list:\n",
    "        with open(HTML_DIR+\"/\"+file_name, \"r\") as f:\n",
    "            html = f.read()\n",
    "            list = file_name.split(\".\")\n",
    "            horse_id = list[-2]\n",
    "            horse_list , horse_race_tmp_df = get_horse_data_by_html(horse_id, html) \n",
    "            horse_se = pd.Series(horse_list, index=horse_info_df.columns)\n",
    "            horse_info_df = pd.concat([horse_info_df, horse_se.to_frame().T], ignore_index=True)\n",
    "            horse_race_df = pd.concat([horse_race_df, horse_race_tmp_df], axis=0, ignore_index=True)       "
   ]
  },
  {
   "cell_type": "markdown",
   "id": "0fa26811",
   "metadata": {},
   "source": [
    "### cleaning"
   ]
  },
  {
   "cell_type": "markdown",
   "id": "393b825d",
   "metadata": {},
   "source": [
    "##### horse_race"
   ]
  },
  {
   "cell_type": "code",
   "execution_count": 9,
   "id": "2c10481e",
   "metadata": {},
   "outputs": [
    {
     "data": {
      "text/html": [
       "<div>\n",
       "<style scoped>\n",
       "    .dataframe tbody tr th:only-of-type {\n",
       "        vertical-align: middle;\n",
       "    }\n",
       "\n",
       "    .dataframe tbody tr th {\n",
       "        vertical-align: top;\n",
       "    }\n",
       "\n",
       "    .dataframe thead th {\n",
       "        text-align: right;\n",
       "    }\n",
       "</style>\n",
       "<table border=\"1\" class=\"dataframe\">\n",
       "  <thead>\n",
       "    <tr style=\"text-align: right;\">\n",
       "      <th></th>\n",
       "      <th>horse_id</th>\n",
       "      <th>bday</th>\n",
       "      <th>tame_id</th>\n",
       "      <th>owner_id</th>\n",
       "      <th>producer_id</th>\n",
       "      <th>production area</th>\n",
       "      <th>auction price</th>\n",
       "      <th>winnings</th>\n",
       "      <th>lifetime record</th>\n",
       "      <th>wined race title</th>\n",
       "      <th>inbreeding-1</th>\n",
       "      <th>inbreeding-2</th>\n",
       "      <th>father</th>\n",
       "      <th>faths father</th>\n",
       "      <th>faths mother</th>\n",
       "      <th>mother</th>\n",
       "      <th>moths father</th>\n",
       "      <th>moths mother</th>\n",
       "    </tr>\n",
       "  </thead>\n",
       "  <tbody>\n",
       "    <tr>\n",
       "      <th>0</th>\n",
       "      <td>2015101028</td>\n",
       "      <td>2015年3月3日</td>\n",
       "      <td>01027</td>\n",
       "      <td>865800</td>\n",
       "      <td>103341</td>\n",
       "      <td>日高町</td>\n",
       "      <td>\\n-\\n</td>\n",
       "      <td>\\n\\n\\n1億7,113万円 (中央)\\n\\n</td>\n",
       "      <td>28戦6勝 [6-7-3-12]</td>\n",
       "      <td>202105030811</td>\n",
       "      <td>2011100025</td>\n",
       "      <td>2019101266</td>\n",
       "      <td>2008103552</td>\n",
       "      <td>2001103460</td>\n",
       "      <td>1996107173</td>\n",
       "      <td>2003105704</td>\n",
       "      <td>1989108341</td>\n",
       "      <td>000a00682c</td>\n",
       "    </tr>\n",
       "  </tbody>\n",
       "</table>\n",
       "</div>"
      ],
      "text/plain": [
       "     horse_id       bday tame_id owner_id producer_id production area  \\\n",
       "0  2015101028  2015年3月3日   01027   865800      103341             日高町   \n",
       "\n",
       "  auction price                  winnings   lifetime record wined race title  \\\n",
       "0         \\n-\\n  \\n\\n\\n1億7,113万円 (中央)\\n\\n  28戦6勝 [6-7-3-12]     202105030811   \n",
       "\n",
       "  inbreeding-1 inbreeding-2      father faths father faths mother      mother  \\\n",
       "0   2011100025   2019101266  2008103552   2001103460   1996107173  2003105704   \n",
       "\n",
       "  moths father moths mother  \n",
       "0   1989108341   000a00682c  "
      ]
     },
     "execution_count": 9,
     "metadata": {},
     "output_type": "execute_result"
    }
   ],
   "source": [
    "horse_info_df.head(1)"
   ]
  },
  {
   "cell_type": "markdown",
   "id": "441054c5",
   "metadata": {},
   "source": [
    "##### date"
   ]
  },
  {
   "cell_type": "code",
   "execution_count": 10,
   "id": "518a7943",
   "metadata": {},
   "outputs": [
    {
     "data": {
      "text/html": [
       "<div>\n",
       "<style scoped>\n",
       "    .dataframe tbody tr th:only-of-type {\n",
       "        vertical-align: middle;\n",
       "    }\n",
       "\n",
       "    .dataframe tbody tr th {\n",
       "        vertical-align: top;\n",
       "    }\n",
       "\n",
       "    .dataframe thead th {\n",
       "        text-align: right;\n",
       "    }\n",
       "</style>\n",
       "<table border=\"1\" class=\"dataframe\">\n",
       "  <thead>\n",
       "    <tr style=\"text-align: right;\">\n",
       "      <th></th>\n",
       "      <th>date</th>\n",
       "      <th>whereracecourse</th>\n",
       "      <th>weather</th>\n",
       "      <th>race_round</th>\n",
       "      <th>race_title</th>\n",
       "      <th>race_id</th>\n",
       "      <th>total_horse_number</th>\n",
       "      <th>frame_number</th>\n",
       "      <th>horse_number</th>\n",
       "      <th>odds</th>\n",
       "      <th>...</th>\n",
       "      <th>groud_status</th>\n",
       "      <th>goal_time</th>\n",
       "      <th>goal_time_dif</th>\n",
       "      <th>half_way_rank</th>\n",
       "      <th>pace</th>\n",
       "      <th>last_time</th>\n",
       "      <th>horse_weight</th>\n",
       "      <th>runner-up-horse-id</th>\n",
       "      <th>prize</th>\n",
       "      <th>horse_id</th>\n",
       "    </tr>\n",
       "  </thead>\n",
       "  <tbody>\n",
       "    <tr>\n",
       "      <th>0</th>\n",
       "      <td>2023/01/29</td>\n",
       "      <td>1中京10</td>\n",
       "      <td>晴</td>\n",
       "      <td>11</td>\n",
       "      <td>シルクロードS(G3)</td>\n",
       "      <td>202307011011</td>\n",
       "      <td>15</td>\n",
       "      <td>7</td>\n",
       "      <td>13</td>\n",
       "      <td>9.9</td>\n",
       "      <td>...</td>\n",
       "      <td>良</td>\n",
       "      <td>1:08.8</td>\n",
       "      <td>1.5</td>\n",
       "      <td>3-3</td>\n",
       "      <td>33.8-33.5</td>\n",
       "      <td>34.7</td>\n",
       "      <td>508(+2)</td>\n",
       "      <td>2019103753</td>\n",
       "      <td></td>\n",
       "      <td>2015101028</td>\n",
       "    </tr>\n",
       "  </tbody>\n",
       "</table>\n",
       "<p>1 rows × 25 columns</p>\n",
       "</div>"
      ],
      "text/plain": [
       "         date whereracecourse weather race_round   race_title       race_id  \\\n",
       "0  2023/01/29           1中京10       晴         11  シルクロードS(G3)  202307011011   \n",
       "\n",
       "  total_horse_number frame_number horse_number odds  ... groud_status  \\\n",
       "0                 15            7           13  9.9  ...            良   \n",
       "\n",
       "  goal_time goal_time_dif half_way_rank       pace last_time horse_weight  \\\n",
       "0    1:08.8           1.5           3-3  33.8-33.5      34.7      508(+2)   \n",
       "\n",
       "  runner-up-horse-id prize    horse_id  \n",
       "0         2019103753        2015101028  \n",
       "\n",
       "[1 rows x 25 columns]"
      ]
     },
     "execution_count": 10,
     "metadata": {},
     "output_type": "execute_result"
    }
   ],
   "source": [
    "horse_race_df.head(1)"
   ]
  },
  {
   "cell_type": "code",
   "execution_count": 11,
   "id": "be14e5e7",
   "metadata": {},
   "outputs": [],
   "source": [
    "horse_race_df['date'] = pd.to_datetime(horse_race_df['date'], format='%Y/%m/%d')"
   ]
  },
  {
   "cell_type": "markdown",
   "id": "8f9f986a",
   "metadata": {},
   "source": [
    "##### race_title"
   ]
  },
  {
   "cell_type": "code",
   "execution_count": 12,
   "id": "e7fe5b66",
   "metadata": {},
   "outputs": [],
   "source": [
    "# 'race_title' 列から () の中身を抽出する\n",
    "horse_race_df['race_type'] = horse_race_df['race_title'].str.extract('\\((.*?)\\)')\n",
    "\n",
    "# 'race_type' 列の欠損値を空文字列に置き換える\n",
    "horse_race_df['race_type'].fillna('', inplace=True)"
   ]
  },
  {
   "cell_type": "markdown",
   "id": "de0e311d",
   "metadata": {},
   "source": [
    "##### odds"
   ]
  },
  {
   "cell_type": "code",
   "execution_count": 13,
   "id": "79e201b8",
   "metadata": {},
   "outputs": [],
   "source": [
    "#数字以外の文字を削除\n",
    "horse_race_df['odds'] = horse_race_df['odds'].apply(lambda x: re.sub('[^0-9\\.]', '', x))\n",
    "#空白を削除\n",
    "horse_race_df['odds'] = horse_race_df['odds'].replace('', np.nan)\n",
    "#欠損値の行を削除\n",
    "horse_race_df = horse_race_df.dropna(subset=['odds'])"
   ]
  },
  {
   "cell_type": "code",
   "execution_count": 14,
   "id": "a94c9219",
   "metadata": {},
   "outputs": [],
   "source": [
    "horse_race_df['odds'] = horse_race_df['odds'].astype(float)"
   ]
  },
  {
   "cell_type": "markdown",
   "id": "813390e4",
   "metadata": {},
   "source": [
    "##### rank"
   ]
  },
  {
   "cell_type": "code",
   "execution_count": 15,
   "id": "66f16662",
   "metadata": {},
   "outputs": [],
   "source": [
    "#数字以外の文字を含む列を削除\n",
    "horse_race_df = horse_race_df[pd.to_numeric(horse_race_df['rank'], errors='coerce').notnull()]\n",
    "#数値に変換\n",
    "horse_race_df['rank'] = horse_race_df['rank'].astype(int)"
   ]
  },
  {
   "cell_type": "markdown",
   "id": "af713984",
   "metadata": {},
   "source": [
    "##### distance"
   ]
  },
  {
   "cell_type": "code",
   "execution_count": 16,
   "id": "8fae4a3e",
   "metadata": {},
   "outputs": [],
   "source": [
    "#文字と数値に分離させる\n",
    "horse_race_df[['surface', 'distance']] = horse_race_df['distance'].str.extract('(\\D+)(\\d+)')\n",
    "# 'distance' 列を整数値に変換する\n",
    "horse_race_df['distance'] = horse_race_df['distance'].astype(int)"
   ]
  },
  {
   "cell_type": "markdown",
   "id": "c7167ec8",
   "metadata": {},
   "source": [
    "##### goal_time"
   ]
  },
  {
   "cell_type": "code",
   "execution_count": 17,
   "id": "7266d3a5",
   "metadata": {},
   "outputs": [],
   "source": [
    "# 正規表現に一致する文字列を削除して、コロンだけを残す\n",
    "horse_race_df['goal_time'] = horse_race_df['goal_time'].apply(lambda x: re.sub(r\"[^0-9:]\", \"\", x))\n",
    "#空白を削除\n",
    "horse_race_df['goal_time'] = horse_race_df['goal_time'].replace('', np.nan)\n",
    "#欠損値の行を削除\n",
    "horse_race_df = horse_race_df.dropna(subset=['goal_time'])\n",
    "#数値に変換\n",
    "def to_seconds(time_str):\n",
    "    minutes, seconds = map(float, time_str.split(':'))\n",
    "    return minutes * 60 + seconds\n",
    "\n",
    "horse_race_df['goal_time'] = horse_race_df['goal_time'].apply(to_seconds)"
   ]
  },
  {
   "cell_type": "markdown",
   "id": "9020e7ab",
   "metadata": {},
   "source": [
    "##### goal_time_dif"
   ]
  },
  {
   "cell_type": "code",
   "execution_count": 18,
   "id": "35d6d029",
   "metadata": {},
   "outputs": [],
   "source": [
    "horse_race_df['goal_time_dif'] = horse_race_df['goal_time_dif'].astype(float)"
   ]
  },
  {
   "cell_type": "code",
   "execution_count": 19,
   "id": "a81cb890",
   "metadata": {},
   "outputs": [
    {
     "name": "stdout",
     "output_type": "stream",
     "text": [
      "<class 'pandas.core.frame.DataFrame'>\n",
      "Int64Index: 344 entries, 0 to 349\n",
      "Data columns (total 27 columns):\n",
      " #   Column              Non-Null Count  Dtype         \n",
      "---  ------              --------------  -----         \n",
      " 0   date                344 non-null    datetime64[ns]\n",
      " 1   whereracecourse     344 non-null    object        \n",
      " 2   weather             344 non-null    object        \n",
      " 3   race_round          344 non-null    object        \n",
      " 4   race_title          344 non-null    object        \n",
      " 5   race_id             344 non-null    object        \n",
      " 6   total_horse_number  344 non-null    object        \n",
      " 7   frame_number        344 non-null    object        \n",
      " 8   horse_number        344 non-null    object        \n",
      " 9   odds                344 non-null    float64       \n",
      " 10  popular             344 non-null    object        \n",
      " 11  rank                344 non-null    int32         \n",
      " 12  rider_id            344 non-null    object        \n",
      " 13  horse_wight         344 non-null    object        \n",
      " 14  distance            344 non-null    int32         \n",
      " 15  groud_status        344 non-null    object        \n",
      " 16  goal_time           344 non-null    float64       \n",
      " 17  goal_time_dif       344 non-null    float64       \n",
      " 18  half_way_rank       344 non-null    object        \n",
      " 19  pace                344 non-null    object        \n",
      " 20  last_time           344 non-null    object        \n",
      " 21  horse_weight        344 non-null    object        \n",
      " 22  runner-up-horse-id  344 non-null    object        \n",
      " 23  prize               344 non-null    object        \n",
      " 24  horse_id            344 non-null    object        \n",
      " 25  race_type           344 non-null    object        \n",
      " 26  surface             344 non-null    object        \n",
      "dtypes: datetime64[ns](1), float64(3), int32(2), object(21)\n",
      "memory usage: 72.6+ KB\n"
     ]
    }
   ],
   "source": [
    "horse_race_df.info()"
   ]
  },
  {
   "cell_type": "code",
   "execution_count": 20,
   "id": "e848ad16",
   "metadata": {},
   "outputs": [],
   "source": [
    "horse_info_df.to_csv(horse_info_csv, header=True, index=False)\n",
    "horse_race_df.to_csv(horse_race_csv, header=True, index=False)"
   ]
  },
  {
   "cell_type": "markdown",
   "id": "e994aa8d",
   "metadata": {},
   "source": [
    "##### 以下メモ"
   ]
  },
  {
   "cell_type": "code",
   "execution_count": 21,
   "id": "8017293c",
   "metadata": {
    "scrolled": true
   },
   "outputs": [],
   "source": [
    "# horse_info_df['horse_id'] = horse_info_df['horse_id']\n",
    "# horse_info_df['tame_id'] = horse_info_df['tame_id']\n",
    "# horse_info_df['owner_id'] = horse_info_df['owner_id']\n",
    "\n",
    "#以下文字列の可能性あり\n",
    "# horse_info_df['inbreeding-1'] = horse_info_df['inbreeding-1']\n",
    "# horse_info_df['inbreeding-2'] = horse_info_df['inbreeding-2']\n",
    "# horse_info_df['father'] = horse_info_df['father']\n",
    "# horse_info_df['mother'] = horse_info_df['mother']"
   ]
  },
  {
   "cell_type": "code",
   "execution_count": 22,
   "id": "22f7a651",
   "metadata": {},
   "outputs": [],
   "source": [
    "# # データを読み込む\n",
    "# data = pd.read_csv('data.csv')\n",
    "\n",
    "# # 日付でソートする\n",
    "# data = data.sort_values('date')\n",
    "\n",
    "# # 同じ ID を持つデータをグループ化する\n",
    "# grouped_data = data.groupby('ID')\n",
    "\n",
    "# # 各グループの最初のデータを選択する\n",
    "# latest_data = grouped_data.last()"
   ]
  },
  {
   "cell_type": "code",
   "execution_count": 23,
   "id": "a4d31a62",
   "metadata": {},
   "outputs": [],
   "source": [
    "# horse_list = [horse_id]\n",
    "# horse_race_list = []\n",
    "# soup = BeautifulSoup(html, 'html.parser')\n",
    "# horse_tables = soup.find(\"table\", class_=\"db_h_race_results\")\n",
    "# horse_trs = horse_tables.findAll(\"tr\")\n",
    "# for index, horse_tr in enumerate(horse_trs):\n",
    "#     if index == 0:\n",
    "#         continue\n",
    "#     horse_tds = horse_tr.findAll(\"td\")\n",
    "#     horse_race_list.append([horse_tds[0].get_text(),\n",
    "#                             horse_tds[1].get_text(),\n",
    "#                             horse_tds[2].get_text(),\n",
    "#                             horse_tds[3].get_text(),\n",
    "#                             horse_tds[4].find('a').get('href').split(\"/\")[-2],\n",
    "#                             horse_tds[6].get_text(),\n",
    "#                             horse_tds[7].get_text(),\n",
    "#                             horse_tds[8].get_text(),\n",
    "#                             horse_tds[9].get_text(),\n",
    "#                             horse_tds[10].get_text(),\n",
    "#                             horse_tds[11].get_text(),\n",
    "#                             horse_tds[12].find('a').get('href').split(\"/\")[-2],\n",
    "#                             horse_tds[13].get_text(),\n",
    "#                             horse_tds[14].get_text(),\n",
    "#                             horse_tds[15].get_text(),\n",
    "#                             horse_tds[17].get_text(),\n",
    "#                             horse_tds[18].get_text(),\n",
    "#                             horse_tds[20].get_text(),\n",
    "#                             horse_tds[21].get_text(),\n",
    "#                             horse_tds[22].get_text(),\n",
    "#                             horse_tds[23].get_text(),\n",
    "#                             horse_tds[26].find('a').get('href').split(\"/\")[-2],\n",
    "#                             horse_tds[27].get_text(),\n",
    "#                            ])\n",
    "\n",
    "# df = pd.DataFrame(horse_race_list, columns=horse_race_columns)\n",
    "# df.loc[:, 'horse_id'] = horse_id"
   ]
  }
 ],
 "metadata": {
  "kernelspec": {
   "display_name": "Python 3 (ipykernel)",
   "language": "python",
   "name": "python3"
  },
  "language_info": {
   "codemirror_mode": {
    "name": "ipython",
    "version": 3
   },
   "file_extension": ".py",
   "mimetype": "text/x-python",
   "name": "python",
   "nbconvert_exporter": "python",
   "pygments_lexer": "ipython3",
   "version": "3.8.0"
  }
 },
 "nbformat": 4,
 "nbformat_minor": 5
}
